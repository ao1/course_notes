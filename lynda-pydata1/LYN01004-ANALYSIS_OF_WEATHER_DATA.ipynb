{
 "cells": [
  {
   "cell_type": "code",
   "execution_count": 2,
   "metadata": {
    "collapsed": false
   },
   "outputs": [
    {
     "data": {
      "text/html": [
       "<style>body {\n",
       "    margin: 0;\n",
       "    font-family: Helvetica;\n",
       "}\n",
       "table.dataframe {\n",
       "    border-collapse: collapse;\n",
       "    border: none;\n",
       "}\n",
       "table.dataframe tr {\n",
       "    border: none;\n",
       "}\n",
       "table.dataframe td, table.dataframe th {\n",
       "    margin: 0;\n",
       "    border: 1px solid white;\n",
       "    padding-left: 0.25em;\n",
       "    padding-right: 0.25em;\n",
       "}\n",
       "table.dataframe th:not(:empty) {\n",
       "    background-color: #fec;\n",
       "    text-align: left;\n",
       "    font-weight: normal;\n",
       "}\n",
       "table.dataframe tr:nth-child(2) th:empty {\n",
       "    border-left: none;\n",
       "    border-right: 1px dashed #888;\n",
       "}\n",
       "table.dataframe td {\n",
       "    border: 2px solid #ccf;\n",
       "    background-color: #f4f4ff;\n",
       "}\n",
       "h3 {\n",
       "    color: white;\n",
       "    background-color: black;\n",
       "    padding: 0.5em;\n",
       "}\n",
       "</style>"
      ],
      "text/plain": [
       "<IPython.core.display.HTML object>"
      ]
     },
     "execution_count": 2,
     "metadata": {},
     "output_type": "execute_result"
    }
   ],
   "source": [
    "%matplotlib inline\n",
    "from IPython.core.display import HTML\n",
    "from IPython.display import YouTubeVideo\n",
    "from pandas_datareader import data, wb\n",
    "from IPython.display import display\n",
    "from IPython.display import Image\n",
    "\n",
    "import os\n",
    "import pandas as pd\n",
    "import numpy as np\n",
    "import matplotlib.pyplot as plt\n",
    "import seaborn as sns\n",
    "\n",
    "path1 = os.path.join(os.getcwd(),'style-table.css')\n",
    "path2 = os.path.join(os.getcwd(),'style-notebook.css')\n",
    "\n",
    "css = open(path1).read() + open(path2).read()\n",
    "HTML('<style>{}</style>'.format(css))"
   ]
  },
  {
   "cell_type": "markdown",
   "metadata": {},
   "source": [
    "### download data from ftp"
   ]
  },
  {
   "cell_type": "code",
   "execution_count": 3,
   "metadata": {
    "collapsed": true
   },
   "outputs": [],
   "source": [
    "import urllib.request"
   ]
  },
  {
   "cell_type": "code",
   "execution_count": 4,
   "metadata": {
    "collapsed": false
   },
   "outputs": [],
   "source": [
    "#urllib.request.urlretrieve('ftp://ftp.ncdc.noaa.gov/pub/data/ghcn/daily/ghcnd-stations.txt','stations.txt')"
   ]
  },
  {
   "cell_type": "code",
   "execution_count": 5,
   "metadata": {
    "collapsed": false
   },
   "outputs": [
    {
     "data": {
      "text/plain": [
       "['ACW00011604  17.1167  -61.7833   10.1    ST JOHNS COOLIDGE FLD                       \\n',\n",
       " 'ACW00011647  17.1333  -61.7833   19.2    ST JOHNS                                    \\n',\n",
       " 'AE000041196  25.3330   55.5170   34.0    SHARJAH INTER. AIRP            GSN     41196\\n',\n",
       " 'AEM00041194  25.2550   55.3640   10.4    DUBAI INTL                             41194\\n',\n",
       " 'AEM00041217  24.4330   54.6510   26.8    ABU DHABI INTL                         41217\\n',\n",
       " 'AEM00041218  24.2620   55.6090  264.9    AL AIN INTL                            41218\\n',\n",
       " 'AF000040930  35.3170   69.0170 3366.0    NORTH-SALANG                   GSN     40930\\n',\n",
       " 'AFM00040938  34.2100   62.2280  977.2    HERAT                                  40938\\n',\n",
       " 'AFM00040948  34.5660   69.2120 1791.3    KABUL INTL                             40948\\n',\n",
       " 'AFM00040990  31.5000   65.8500 1010.0    KANDAHAR AIRPORT                       40990\\n']"
      ]
     },
     "execution_count": 5,
     "metadata": {},
     "output_type": "execute_result"
    }
   ],
   "source": [
    "open('stations.txt','r').readlines()[0:10]"
   ]
  },
  {
   "cell_type": "code",
   "execution_count": 6,
   "metadata": {
    "collapsed": false
   },
   "outputs": [],
   "source": [
    "# add all gsm stations into a dictionary\n",
    "# index = station code, value = station name + last number\n",
    "\n",
    "stations = {}\n",
    "\n",
    "for line in open('stations.txt','r').readlines():\n",
    "    if 'GSN' in line:\n",
    "        stations[line.split()[0]] = ' '.join(line.split()[4:])"
   ]
  },
  {
   "cell_type": "code",
   "execution_count": 7,
   "metadata": {
    "collapsed": false
   },
   "outputs": [
    {
     "data": {
      "text/plain": [
       "994"
      ]
     },
     "execution_count": 7,
     "metadata": {},
     "output_type": "execute_result"
    }
   ],
   "source": [
    "len(stations)"
   ]
  },
  {
   "cell_type": "code",
   "execution_count": 8,
   "metadata": {
    "collapsed": false
   },
   "outputs": [
    {
     "data": {
      "text/plain": [
       "{'AE000041196': 'SHARJAH INTER. AIRP GSN 41196',\n",
       " 'AF000040930': 'NORTH-SALANG GSN 40930',\n",
       " 'AG000060390': 'ALGER-DAR EL BEIDA GSN 60390',\n",
       " 'AG000060590': 'EL-GOLEA GSN 60590',\n",
       " 'AG000060611': 'IN-AMENAS GSN 60611',\n",
       " 'AG000060680': 'TAMANRASSET GSN 60680',\n",
       " 'AJ000037989': 'ASTARA GSN 37989',\n",
       " 'ALM00013615': 'TIRANA RINAS GSN 13615',\n",
       " 'AM000037781': 'ARAGAC VISOKOGORNAYA GSN 37781',\n",
       " 'AO000066160': 'LUANDA GSN 66160',\n",
       " 'AO000066270': 'WAKU KUNGU (CELA) GSN 66270',\n",
       " 'AO000066390': 'LUBANGO (SA DA BAND GSN 66390',\n",
       " 'AO000066410': 'MENONGUE (SERPA PIN GSN 66410',\n",
       " 'AO000066422': 'MOCAMEDES GSN 66422',\n",
       " 'AO000066447': 'MAVINGA GSN 66447',\n",
       " 'AQW00061705': 'AS PAGO PAGO WSO AP GSN 91765',\n",
       " 'AR000087007': 'LA QUIACA OBSERVATO GSN 87007',\n",
       " 'AR000087065': 'RIVADAVIA GSN 87065',\n",
       " 'AR000087078': 'LAS LOMITAS GSN 87078',\n",
       " 'AR000087155': 'RESISTENCIA AERO GSN 87155',\n",
       " 'AR000087217': 'LA RIOJA AERO. GSN 87217',\n",
       " 'AR000087257': 'CERES AERO GSN 87257',\n",
       " 'AR000087270': 'RECONQUISTA AERO GSN 87270',\n",
       " 'AR000087344': 'CORDOBA AERO GSN 87344',\n",
       " 'AR000087374': 'PARANA AERO GSN 87374',\n",
       " 'AR000087418': 'MENDOZA AERO GSN 87418',\n",
       " 'AR000087534': 'LABOULAYE AERO GSN 87534',\n",
       " 'AR000087623': 'SANTA ROSA AERO GSN 87623',\n",
       " 'AR000087692': 'MAR DEL PLATA AERO GSN 87692',\n",
       " 'AR000087715': 'NEUQUEN AERO GSN 87715',\n",
       " 'AR000087803': 'ESQUEL AERO GSN 87803',\n",
       " 'AR000087828': 'TRELEW AERO GSN 87828',\n",
       " 'AR000087860': 'COMODORO RIVADAVIA GSN 87860',\n",
       " 'AR000087925': 'RIO GALLEGOS AERO GSN 87925',\n",
       " 'AR000870470': 'SALTA AERO GSN 87047',\n",
       " 'AR000873050': 'JACHAL GSN 87305',\n",
       " 'AR000875440': 'PEHUAJO AERO GSN 87544',\n",
       " 'AR000877500': 'BAHIA BLANCA AERO GSN 87750',\n",
       " 'ARM00087178': 'POSADAS GSN 87178',\n",
       " 'ARM00087289': 'PASO DE LOS LIBRES GSN 87289',\n",
       " 'ARM00087497': 'GUALEGUAYCHU GSN 87497',\n",
       " 'ARM00087506': 'MALARGUE GSN 87506',\n",
       " 'ARM00087593': 'LA PLATA GSN 87593',\n",
       " 'ASM00094299': 'WILLIS ISLAND GSN 94299',\n",
       " 'ASM00094995': 'LORD HOWE ISLAND AERO GSN 94995',\n",
       " 'ASM00094998': 'MACQUARIE ISLAND GSN 94998',\n",
       " 'ASN00001019': 'KALUMBURU GSN 94100',\n",
       " 'ASN00002012': 'HALLS CREEK AIRPORT GSN 94212',\n",
       " 'ASN00003003': 'BROOME AIRPORT GSN 94203',\n",
       " 'ASN00004032': 'PORT HEDLAND AIRPORT GSN 94312',\n",
       " 'ASN00005007': 'LEARMONTH AIRPORT GSN 94302',\n",
       " 'ASN00006011': 'CARNARVON AIRPORT GSN 94300',\n",
       " 'ASN00007045': 'MEEKATHARRA AIRPORT GSN 94430',\n",
       " 'ASN00007176': 'NEWMAN AERO GSN 94317',\n",
       " 'ASN00008051': 'GERALDTON AIRPORT GSN 94403',\n",
       " 'ASN00009518': 'CAPE LEEUWIN GSN 94601',\n",
       " 'ASN00009741': 'ALBANY AIRPORT GSN 94802',\n",
       " 'ASN00009789': 'ESPERANCE GSN 94638',\n",
       " 'ASN00010286': 'CUNDERDIN AIRFIELD GSN 95625',\n",
       " 'ASN00011052': 'FORREST GSN 95646',\n",
       " 'ASN00012038': 'KALGOORLIE-BOULDER AIRPORT GSN 94637',\n",
       " 'ASN00013017': 'GILES METEOROLOGICAL OFFICE GSN 94461',\n",
       " 'ASN00014015': 'DARWIN AIRPORT GSN 94120',\n",
       " 'ASN00014508': 'GOVE AIRPORT GSN 94150',\n",
       " 'ASN00014932': 'TINDAL RAAF GSN 94131',\n",
       " 'ASN00015135': 'TENNANT CREEK AIRPORT GSN 94238',\n",
       " 'ASN00015548': 'RABBIT FLAT GSN 95322',\n",
       " 'ASN00015590': 'ALICE SPRINGS AIRPORT GSN 94326',\n",
       " 'ASN00017031': 'MARREE COMPARISON GSN 94480',\n",
       " 'ASN00017043': 'OODNADATTA AIRPORT GSN 94476',\n",
       " 'ASN00018011': 'CEDUNA POST OFFICE GSN 94653',\n",
       " 'ASN00021133': 'SNOWTOWN (RAYVILLE PARK) GSN 95670',\n",
       " 'ASN00022823': 'CAPE BORDA GSN 95805',\n",
       " 'ASN00026020': 'MOUNT GAMBIER POST OFFICE GSN 94821',\n",
       " 'ASN00027045': 'WEIPA AERO GSN 94170',\n",
       " 'ASN00029077': 'BURKETOWN AIRPORT GSN 94260',\n",
       " 'ASN00029126': 'MOUNT ISA MINE GSN 94332',\n",
       " 'ASN00030045': 'RICHMOND POST OFFICE GSN 94340',\n",
       " 'ASN00030124': 'GEORGETOWN AIRPORT GSN 94274',\n",
       " 'ASN00031010': 'CAIRNS POST OFFICE GSN 94287',\n",
       " 'ASN00033119': 'MACKAY M.O GSN 94367',\n",
       " 'ASN00036031': 'LONGREACH AERO GSN 94346',\n",
       " 'ASN00038026': 'BIRDSVILLE AIRPORT GSN 95482',\n",
       " 'ASN00039123': 'GLADSTONE RADAR GSN 94380',\n",
       " 'ASN00040908': 'TEWANTIN RSL PARK GSN 94570',\n",
       " 'ASN00043109': 'ST GEORGE AIRPORT GSN 94517',\n",
       " 'ASN00044021': 'CHARLEVILLE AERO GSN 94510',\n",
       " 'ASN00045025': 'THARGOMINDAH AIRPORT GSN 95492',\n",
       " 'ASN00046037': 'TIBOOBURRA POST OFFICE GSN 94485',\n",
       " 'ASN00047007': 'BROKEN HILL (PATTON STREET) GSN 94689',\n",
       " 'ASN00048027': 'COBAR MO GSN 94711',\n",
       " 'ASN00056242': 'INVERELL (RAGLAN ST) GSN 95541',\n",
       " 'ASN00058012': 'YAMBA PILOT STATION GSN 94589',\n",
       " 'ASN00060141': 'TAREE AIRPORT AWS GSN 95784',\n",
       " 'ASN00065070': 'DUBBO AIRPORT AWS GSN 95719',\n",
       " 'ASN00067033': 'RICHMOND RAAF GSN 95753',\n",
       " 'ASN00069018': 'MORUYA HEADS PILOT STATION GSN 94937',\n",
       " 'ASN00072091': 'CABRAMURRA SMHEA GSN 95916',\n",
       " 'ASN00072150': 'WAGGA WAGGA AMO GSN 94910',\n",
       " 'ASN00074258': 'DENILIQUIN AIRPORT AWS GSN 95869',\n",
       " 'ASN00076031': 'MILDURA AIRPORT GSN 94693',\n",
       " 'ASN00085072': 'EAST SALE AIRPORT GSN 94907',\n",
       " 'ASN00090015': 'CAPE OTWAY LIGHTHOUSE GSN 94842',\n",
       " 'ASN00091293': 'LOW HEAD GSN 95964',\n",
       " 'ASN00094010': 'CAPE BRUNY LIGHTHOUSE GSN 94967',\n",
       " 'AU000005010': 'KREMSMUENSTER GSN 11012',\n",
       " 'AU000005901': 'WIEN GSN 11035',\n",
       " 'AU000015410': 'SONNBLICK GSN 11146',\n",
       " 'AYM00088963': 'BASE ESPERANZA GSN 88963',\n",
       " 'AYM00088968': 'BASE ORCADAS GSN 88968',\n",
       " 'AYM00089002': 'NEUMAYER GSN 89002',\n",
       " 'AYM00089004': 'S.A.N.A.E. AWS GSN 89004',\n",
       " 'AYM00089022': 'HALLEY GSN 89022',\n",
       " 'AYM00089050': 'BELLINGSHAUSEN AWS GSN 89050',\n",
       " 'AYM00089055': 'BASE MARAMBIO GSN 89055',\n",
       " 'AYM00089056': 'CENTRO MET. ANTARTICO PDTE. E GSN 89056',\n",
       " 'AYM00089062': 'ROTHERA GSN 89062',\n",
       " 'AYM00089063': 'VERNADSKY GSN 89063',\n",
       " 'AYM00089065': 'FOSSIL BLUFF GSN 89065',\n",
       " 'AYM00089262': 'UNIV. WI ID 8926 (LARSEN ICE GSN 89262',\n",
       " 'AYM00089266': 'UNIV. WI ID 8902 (BUTLER ISLA GSN 89266',\n",
       " 'AYM00089272': 'UNIV. WI ID 8917 (SKI-BLU) GSN 89272',\n",
       " 'AYM00089324': 'BYRD STATION GSN 89324',\n",
       " 'AYM00089327': 'MOUNT SIPLE GSN 89327',\n",
       " 'AYM00089329': 'HARRY GSN 89329',\n",
       " 'AYM00089345': 'SIPLE DOME GSN 89345',\n",
       " 'AYM00089376': 'GILL GSN 89376',\n",
       " 'AYM00089377': 'LETTAU GSN 89377',\n",
       " 'AYM00089512': 'NOVOLAZAREVSKAJA GSN 89512',\n",
       " 'AYM00089532': 'SYOWA GSN 89532',\n",
       " 'AYM00089564': 'MAWSON GSN 89564',\n",
       " 'AYM00089571': 'DAVIS GSN 89571',\n",
       " 'AYM00089573': 'ZHONGSHAN GSN 89573',\n",
       " 'AYM00089574': 'PROGRESS GSN 89574',\n",
       " 'AYM00089577': 'DOME PLATEAU DOME A GSN 89577',\n",
       " 'AYM00089592': 'MIRNYJ GSN 89592',\n",
       " 'AYM00089606': 'VOSTOK GSN 89606',\n",
       " 'AYM00089611': 'CASEY GSN 89611',\n",
       " 'AYM00089625': 'CONCORDIA GSN 89625',\n",
       " 'AYM00089642': \"DUMONT D'URVILLE GSN 89642\",\n",
       " 'AYM00089662': 'BASE BAIA TERRA NOVA GSN 89662',\n",
       " 'AYM00089664': 'MCMURDO SOUND NAF GSN 89664',\n",
       " 'AYM00089744': 'RELAY STAT GSN 89744',\n",
       " 'AYM00089828': 'DOME C II GSN 89828',\n",
       " 'AYM00089865': 'WHITLOCK GSN 89865',\n",
       " 'AYM00089869': 'MARILYN GSN 89869',\n",
       " 'AYM00089872': 'FERRELL GSN 89872',\n",
       " 'AYM00089879': 'POSSESSION IS GSN 89879',\n",
       " 'AYW00087602': 'MARBLE POINT GSN 89866',\n",
       " 'AYW00090001': 'AMUNDSEN-SCOTT GSN 89009',\n",
       " 'BA000041150': 'BAHRAIN (INT. AIRPO GSN 41150',\n",
       " 'BB000078954': 'GRANTLEY ADAMS GSN 78954',\n",
       " 'BC000068032': 'MAUN GSN 68032',\n",
       " 'BDM00078016': 'L F WADE INTL AP KINDLEY FLD GSN 78016',\n",
       " 'BE000006447': 'UCCLE GSN 06447',\n",
       " 'BF000078073': 'NASSAU AIRPORT NEW GSN 78073',\n",
       " 'BKM00014652': 'BJELASNICA GSN 14652',\n",
       " 'BL000085041': 'COBIJA GSN 85041',\n",
       " 'BL000085043': 'RIBERALTA GSN 85043',\n",
       " 'BL000085114': 'MAGDALENA GSN 85114',\n",
       " 'BL000085141': 'RURRENABAQUE GSN 85141',\n",
       " 'BL000085223': 'COCHABAMBA GSN 85223',\n",
       " 'BL000085230': 'CHARANA GSN 85230',\n",
       " 'BL000085364': 'TARIJA GSN 85364',\n",
       " 'BL000085365': 'YACUIBA GSN 85365',\n",
       " 'BLM00085207': 'SAN IGNACIO VELASCO GSN 85207',\n",
       " 'BLM00085289': 'TTE DE AV SALVADOR OGAYA G GSN 85289',\n",
       " 'BMM00048042': 'MANDALAY GSN 48042',\n",
       " 'BMM00048062': 'SITTWE GSN 48062',\n",
       " 'BMM00048097': 'YANGON INTL GSN 48097',\n",
       " 'BN000065306': 'KANDI GSN 65306',\n",
       " 'BN000065335': 'SAVE GSN 65335',\n",
       " 'BOM00033038': 'VASILEVICI GSN 33038',\n",
       " 'BP000091503': 'MUNDA GSN 91503',\n",
       " 'BPW00080601': 'GUADALCANAL AAF GSN 91520',\n",
       " 'BR000082704': 'CRUZEIRO DO SUL GSN 82704',\n",
       " 'BR000083361': 'CUIABA GSN 83361',\n",
       " 'BR001746006': 'PONTE DA BR-040 - PRATA GSN 83481',\n",
       " 'BR002549075': 'CURITIBA GSN 83842',\n",
       " 'BR00E3-0070': 'SAO PAULO GSN 83781',\n",
       " 'BR036190520': 'BARRA DO CORDA GSN 82571',\n",
       " 'BR038014410': 'QUIXERAMOBIM GSN 82586',\n",
       " 'BR047403040': 'BARREIRAS GSN 83236',\n",
       " 'BR048620980': 'SALVADOR GSN 83229',\n",
       " 'BR058514530': 'CARAVELAS GSN 83498',\n",
       " 'BRM00082024': 'BOA VISTA GSN 82024',\n",
       " 'BRM00082106': 'SAO GABRIEL DA CACH GSN 82106',\n",
       " 'BRM00082113': 'BARCELOS GSN 82113',\n",
       " 'BRM00082331': 'MANAUS GSN 82331',\n",
       " 'BRM00082410': 'BENJAMIN CONSTANT GSN 82410',\n",
       " 'BRM00082425': 'COARI GSN 82425',\n",
       " 'BRM00083064': 'PORTO NACIONAL GSN 83064',\n",
       " 'BRM00083264': 'GLEBA CELESTE GSN 83264',\n",
       " 'BY000064397': 'MUYINGA GSN 64397',\n",
       " 'CA001026270': 'BC PORT HARDY A GSN 71109',\n",
       " 'CA001032731': 'BC ESTEVAN POINT CS GSN 71894',\n",
       " 'CA001096631': 'BC QUESNEL AIRPORT AUTO GSN 71779',\n",
       " 'CA001163842': 'BC KAMLOOPS AUT GSN 71741',\n",
       " 'CA001192940': 'BC FORT NELSON A GSN 71945',\n",
       " 'CA00119BLM0': 'BC DEASE LAKE (AUT) GSN 71222',\n",
       " 'CA002100402': 'YT DAWSON A GSN 71966',\n",
       " 'CA002100693': 'YT MACMILLAN PASS GSN 71990',\n",
       " 'CA002101204': 'YT WATSON LAKE (AUT) GSN 71199',\n",
       " 'CA002101310': 'YT WHITEHORSE AUTO GSN 71773',\n",
       " 'CA002201903': 'NT FORT RELIANCE (AUT) GSN 71160',\n",
       " 'CA002202102': 'NT FORT SIMPSON CLIMATE GSN 71365',\n",
       " 'CA002202202': 'NT FORT SMITH CLIMATE GSN 71362',\n",
       " 'CA002202402': 'NT HAY RIVER CLIMATE GSN 71361',\n",
       " 'CA002202578': 'NT INUVIK CLIMATE GSN 71364',\n",
       " 'CA002202810': 'NT NORMAN WELLS CLIMATE GSN 71480',\n",
       " 'CA002203058': 'NT PAULATUK GSN 71984',\n",
       " 'CA002300501': 'NU BAKER LAKE CLIMATE GSN 71356',\n",
       " 'CA002300904': 'NU KUGLUKTUK CLIMATE GSN 71332',\n",
       " 'CA002301000': 'NU CORAL HARBOUR A GSN 71915',\n",
       " 'CA002301102': 'NU ENNADAI LAKE (AUT) GSN 71923',\n",
       " 'CA002301153': 'NU ARVIAT CLIMATE GSN 71322',\n",
       " 'CA002302340': 'NU GJOA HAVEN CLIMATE GSN 71363',\n",
       " 'CA002303094': 'NU KUGAARUK CLIMATE GSN 71407',\n",
       " 'CA002303610': 'NU ROBERTSON LAKE (AUT) GSN 71490',\n",
       " 'CA002400305': 'NU ALERT CLIMATE GSN 71355',\n",
       " 'CA002400404': 'NU ARCTIC BAY CS GSN 71592',\n",
       " 'CA002400573': 'NU QIKIQTARJUAQ CLIMATE GSN 71357',\n",
       " 'CA002400602': 'NU CAMBRIDGE BAY GSN GSN 71288',\n",
       " 'CA002400636': 'NU CAPE DORSET CLIMATE GSN 71575',\n",
       " 'CA002400802': 'NU CLYDE RIVER CLIMATE GSN 71358',\n",
       " 'CA002401200': 'NU EUREKA GSN 71917',\n",
       " 'CA002402353': 'NU HALL BEACH CLIMATE GSN 71320',\n",
       " 'CA002402592': 'NU IQALUIT CLIMATE GSN 71321',\n",
       " 'CA002402604': 'NU ISACHSEN (AUT) GSN 71074',\n",
       " 'CA002403049': 'NU PANGNIRTUNG GSN 71826',\n",
       " 'CA002403204': 'NU POND INLET CLIMATE GSN 71576',\n",
       " 'CA002403505': 'NU RESOLUTE CS GSN 71018',\n",
       " 'CA002403756': 'NU STEFANSSON ISLAND GSN 71017',\n",
       " 'CA002403945': 'NU WAGER BAY (AUT) GSN 71049',\n",
       " 'CA002502505': 'NT HOLMAN CS GSN 71029',\n",
       " 'CA002503648': 'NT SACHS HARBOUR CLIMATE GSN 71467',\n",
       " 'CA00250M001': 'NT MOULD BAY CS GSN 71989',\n",
       " 'CA003034485': 'AB MEDICINE HAT RCS GSN 71026',\n",
       " 'CA003050519': 'AB BANFF CS GSN 71122',\n",
       " 'CA003062696': 'AB FORT MCMURRAY CS GSN 71585',\n",
       " 'CA003066002': 'AB SLAVE LAKE AWOS A GSN 71069',\n",
       " 'CA003073140': 'AB HIGH LEVEL GSN 71066',\n",
       " 'CA003081680': 'AB COLD LAKE A GSN 71120',\n",
       " 'CA004012400': 'SK ESTEVAN A GSN 71862',\n",
       " 'CA004028060': 'SK SWIFT CURRENT CDA GSN 71446',\n",
       " 'CA004056240': 'SK PRINCE ALBERT A GSN 71869',\n",
       " 'CA004064149': 'SK LA RONGE RCS GSN 71586',\n",
       " 'CA005030203': 'MB BERENS RIVER CS GSN 71158',\n",
       " 'CA005040681': 'MB DAUPHIN CS GSN 71550',\n",
       " 'CA005052890': 'MB THE PAS CLIMATE GSN 71695',\n",
       " 'CA005060608': 'MB CHURCHILL CLIMATE GSN 71696',\n",
       " 'CA005062922': 'MB THOMPSON A GSN 71079',\n",
       " 'CA006010739': 'ON BIG TROUT LAKE READAC GSN 71844',\n",
       " 'CA006016295': 'ON PEAWANUCK (AUT) GSN 71434',\n",
       " 'CA006037775': 'ON SIOUX LOOKOUT A GSN 71842',\n",
       " 'CA006073980': 'ON KAPUSKASING CDA ON GSN 71299',\n",
       " 'CA006075435': 'ON MOOSONEE RCS GSN 71309',\n",
       " 'CA006092920': 'ON GORE BAY CLIMATE GSN 71956',\n",
       " 'CA007034482': 'QC MANIWAKI AIRPORT GSN 71721',\n",
       " 'CA007045401': 'QC NATASHQUAN A GSN 71813',\n",
       " 'CA007047914': 'QC SEPT-ILES GSN 71279',\n",
       " 'CA007054096': 'QC LA POCATIERE GSN 71713',\n",
       " 'CA007060400': 'QC BAGOTVILLE A GSN 71727',\n",
       " 'CA007093715': 'QC LA GRANDE RIVIERE A GSN 71827',\n",
       " 'CA007093GJ5': 'QC LA GRANDE IV GSN 71823',\n",
       " 'CA007103282': 'QC INUKJUAK UA GSN 71907',\n",
       " 'CA007113534': 'QC KUUJJUAQ A GSN 71906',\n",
       " 'CA007116505': 'QC RIVIERE AUX FEUILLES GSN 71743',\n",
       " 'CA007117825': 'QC SCHEFFERVILLE A GSN 71828',\n",
       " 'CA008204700': 'NS SABLE ISLAND GSN 71600',\n",
       " 'CA008206495': 'NS YARMOUTH A GSN 71603',\n",
       " 'CA00830P001': 'PE HARRINGTON CDA CS GSN 71350',\n",
       " 'CA008401400': 'NL DANIELS HARBOUR GSN 71185',\n",
       " 'CA008401705': 'NL GANDER AIRPORT CS GSN 71742',\n",
       " 'CA008402450': 'NL ISLE AUX MORTS GSN 71197',\n",
       " 'CA008501100': 'NL CARTWRIGHT GSN 71818',\n",
       " 'CA008501900': 'NL GOOSE A GSN 71816',\n",
       " 'CA008502799': 'NL NAIN GSN 71665',\n",
       " 'CD000004700': 'NDJAMENA GSN 64700',\n",
       " 'CD000064706': 'MOUNDOU GSN 64706',\n",
       " 'CD000064751': 'ATI GSN 64751',\n",
       " 'CD000064753': 'FAYA GSN 64753',\n",
       " 'CD000064754': 'AM-TIMAN GSN 64754',\n",
       " 'CE000043497': 'HAMBANTOTA GSN 43497',\n",
       " 'CE000434730': 'NUWARA ELIYA GSN 43473',\n",
       " 'CEM00043466': 'COLOMBO GSN 43466',\n",
       " 'CF000064459': 'IMPFONDO GSN 64459',\n",
       " 'CHM00050527': 'HAILAR GSN 50527',\n",
       " 'CHM00050745': 'QIQIHAR GSN 50745',\n",
       " 'CHM00051076': 'ALTAY GSN 51076',\n",
       " 'CHM00051463': 'WU LU MU QI GSN 51463',\n",
       " 'CHM00051709': 'KASHI GSN 51709',\n",
       " 'CHM00051777': 'RUOQIANG GSN 51777',\n",
       " 'CHM00051828': 'HOTAN GSN 51828',\n",
       " 'CHM00052203': 'HAMI GSN 52203',\n",
       " 'CHM00052533': 'JIUQUAN GSN 52533',\n",
       " 'CHM00052836': 'DULAN GSN 52836',\n",
       " 'CHM00052983': 'YU ZHONG GSN 52983',\n",
       " 'CHM00053068': 'ERENHOT GSN 53068',\n",
       " 'CHM00053614': 'YINCHUAN GSN 53614',\n",
       " 'CHM00054342': 'SHENYANG GSN 54342',\n",
       " 'CHM00054511': 'BEIJING GSN 54511',\n",
       " 'CHM00054857': 'QINGDAO GSN 54857',\n",
       " 'CHM00055591': 'LHASA GSN 55591',\n",
       " 'CHM00056137': 'QAMDO GSN 56137',\n",
       " 'CHM00056187': 'WENJIANG GSN 56187',\n",
       " 'CHM00056571': 'XICHANG GSN 56571',\n",
       " 'CHM00056739': 'TENGCHONG GSN 56739',\n",
       " 'CHM00056985': 'MENGZI GSN 56985',\n",
       " 'CHM00057083': 'ZHENGZHOU GSN 57083',\n",
       " 'CHM00057461': 'YICHANG GSN 57461',\n",
       " 'CHM00057745': 'ZHIJIANG GSN 57745',\n",
       " 'CHM00057993': 'GANZHOU GSN 57993',\n",
       " 'CHM00058362': 'SHANGHAI GSN 58362',\n",
       " 'CHM00058606': 'NANCHANG GSN 58606',\n",
       " 'CHM00059287': 'GUANGZHOU GSN 59287',\n",
       " 'CHM00059316': 'SHANTOU GSN 59316',\n",
       " 'CHM00059431': 'NANNING GSN 59431',\n",
       " 'CHM00059758': 'HAIKOU GSN 59758',\n",
       " 'CI000085406': 'ARICA GSN 85406',\n",
       " 'CI000085442': 'ANTOFAGASTA GSN 85442',\n",
       " 'CI000085469': 'ISLA DE PASCUA GSN 85469',\n",
       " 'CI000085488': 'LA SERENA GSN 85488',\n",
       " 'CI000085543': 'QUINTERO GSN 85577',\n",
       " 'CI000085585': 'JUAN FERNANDEZ GSN 85585',\n",
       " 'CI000085629': 'CURICO GSN 85629',\n",
       " 'CI000085743': 'TEMUCO GSN 85743',\n",
       " 'CI000085799': 'PUERTO MONTT GSN 85799',\n",
       " 'CI000085874': 'BALMACEDA GSN 85874',\n",
       " 'CI000085934': 'PUNTA ARENAS GSN 85934',\n",
       " 'CJW00011813': 'ROBERTS GSN 78384',\n",
       " 'CK000096996': 'COCOS ISLAND AERO GSN 96996',\n",
       " 'CM000064870': 'NGAOUNDERE GSN 64870',\n",
       " 'CO000080001': 'SAN ANDRES (ISLA)/S GSN 80001',\n",
       " 'CO000080222': 'BOGOTA/ELDORADO GSN 80222',\n",
       " 'CO000080259': 'CALI/ALFONSO BONILL GSN 80259',\n",
       " 'CO000080342': 'PASTO/ANTONIO NARIN GSN 80342',\n",
       " 'CS000081003': 'PUERTO LIMON GSN 78767',\n",
       " 'CUM00078310': 'CABO SAN ANTONIO PINAR DEL GSN 78310',\n",
       " 'CUM00078325': 'CASA BLANCA LA HABANA GSN 78325',\n",
       " 'CUM00078355': 'CAMAGUEY CAMAGUEY GSN 78355',\n",
       " 'CUM00078369': 'PUNTA DE MAISI GUANTANAMO GSN 78369',\n",
       " 'CVM00008583': 'MINDELO GSN 08583',\n",
       " 'CWM00091843': 'RAROTONGA INTL GSN 91843',\n",
       " 'CY000176090': 'LARNACA GSN 17609',\n",
       " 'DA000030380': 'KOEBENHAVN: LANDBOHOJSKOLEN-1 GSN 06186',\n",
       " 'DAM00006011': 'TORSHAVN GSN 06011',\n",
       " 'EC000000006': 'PICHILINGUE GSN 84140',\n",
       " 'ECM00084008': 'SAN CRISTOBAL GSN 84008',\n",
       " 'ECM00084088': 'IZOBAMBA GSN 84088',\n",
       " 'ECM00084270': 'LOJA/LA ARGELIA GSN 84270',\n",
       " 'EG000062306': 'MERSA MATRUH GSN 62306',\n",
       " 'EG000062414': 'ASSWAN GSN 62414',\n",
       " 'EG000062417': 'SIWA GSN 62417',\n",
       " 'EG000062463': 'HURGUADA GSN 62463',\n",
       " 'EG000624200': 'BAHARIA GSN 62420',\n",
       " 'EGM00062378': 'HELWAN GSN 62378',\n",
       " 'EGM00062435': 'KHARGA GSN 62435',\n",
       " 'EI000003953': 'VALENTIA OBSERVATORY GSN 03953',\n",
       " 'EI000003980': 'MALIN HEAD GSN 03980',\n",
       " 'EN000026242': 'TARTU GSN 26242',\n",
       " 'ER000063021': 'ASMARA GSN 63021',\n",
       " 'ES000078650': 'ACAJUTLA GSN 78650',\n",
       " 'ET000063403': 'GORE GSN 63403',\n",
       " 'ET000063450': 'ADDIS ABABA-BOLE GSN 63450',\n",
       " 'ET000063453': 'METEHARA GSN 63453',\n",
       " 'ET000063533': 'NEGHELLE GSN 63533',\n",
       " 'EUM00061972': 'ILE EUROPA GSN 61972',\n",
       " 'EZ000011464': 'MILESOVKA GSN 11464',\n",
       " 'FG000081405': 'ROCHAMBEAU GSN 81405',\n",
       " 'FI000002401': 'JYVASKYLA LENTOASEMA GSN 02935',\n",
       " 'FI000002963': 'JOKIOINEN JOKIOISTEN OBSERVATO GSN 02963',\n",
       " 'FI000007501': 'SODANKYLA AWS GSN 02836',\n",
       " 'FJ000091650': 'ROTUMA GSN 91650',\n",
       " 'FJ000091652': 'UDU POINT AWS GSN 91652',\n",
       " 'FJ000091680': 'NADI AIRPORT GSN 91680',\n",
       " 'FJM00091699': 'ONO-I-LAU AWS GSN 91699',\n",
       " 'FKM00088889': 'MOUNT PLEASANT GSN 88889',\n",
       " 'FMW00040308': 'FM YAP ISLAND WSO AP GSN 91490',\n",
       " 'FMW00040504': 'FM POHNPEI WSO GSN 91348',\n",
       " 'FMW00040505': 'FM CHUUK WSO AP GSN 91334',\n",
       " 'FP000091925': 'HIVA-OA GSN 91925',\n",
       " 'FP000091938': 'TAHITI-FAAA GSN 91938',\n",
       " 'FP000091943': 'TAKAROA GSN 91943',\n",
       " 'FP000091948': 'MANGAREVA GSN 91948',\n",
       " 'FP000091954': 'TUBUAI GSN 91954',\n",
       " 'FP000091958': 'RAPA GSN 91958',\n",
       " 'FPM00091945': 'HEREHERETUE GSN 91945',\n",
       " 'FR000007130': 'RENNES GSN 07130',\n",
       " 'FR000007190': 'STRASBOURG-ENTZHEIM GSN 07190',\n",
       " 'FR000007255': 'BOURGES AERODROME GSN 07255',\n",
       " 'FR000007560': 'MONT-AIGOUAL GSN 07560',\n",
       " 'FR000007630': 'BLAGNAC AEROP. TOULOUSE-BLAGNA GSN 07630',\n",
       " 'FR000007650': 'MARIGNANE AEROPORT MARSEILLE M GSN 07650',\n",
       " 'FRM00061998': 'PORT-AUX-FRANCAIS (ILES KERGU GSN 61998',\n",
       " 'FSM00061996': 'MARTIN DE VIVIES (I GSN 61996',\n",
       " 'FSM00061997': 'ALFRED FAURE (ILES CROZET) GSN 61997',\n",
       " 'GL000004250': 'NUUK GSN 04250',\n",
       " 'GL000004320': 'DANMARKSHAVN GSN 04320',\n",
       " 'GL000004360': 'TASIILAQ GSN 04360',\n",
       " 'GLE00146908': 'MITT. UPERNAVIK GSN 04211',\n",
       " 'GLM00004390': 'PRINS CHRISTIAN GSN 04390',\n",
       " 'GM000010147': 'HAMBURG FUHLSBUETTEL GSN 10147',\n",
       " 'GM000010393': 'LINDENBERG GSN 10393',\n",
       " 'GM000010962': 'HOHENPEISSENBERG GSN 10962',\n",
       " 'GMW00035032': 'RHEIN MAIN GSN 10637',\n",
       " 'GP000078897': 'LE RAIZET, GUADELOUPE GSN 78897',\n",
       " 'GQW00041415': 'GU GUAM INTL AP GSN 91212',\n",
       " 'GR000016641': 'CORFU GSN 16641',\n",
       " 'GR000016734': 'METHONI GSN 16734',\n",
       " 'GR000167230': 'SAMOS AIRPORT GSN 16723',\n",
       " 'GR000167460': 'SOUDA AIRPORT GSN 16746',\n",
       " 'HR000142360': 'ZAGREB-GRIC GSN 14236',\n",
       " 'HU000012942': 'PECS POGANY GSN 12942',\n",
       " 'IC000004013': 'STYKKISHOLMUR GSN 04013',\n",
       " 'IC000004030': 'REYKJAVIK GSN 04030',\n",
       " 'IC000004048': 'VESTMANNAEYJAR GSN 04048',\n",
       " 'IC000004063': 'AKUREYRI GSN 04063',\n",
       " 'ID000096073': 'SIBOLGA/PINANGSORI GSN 96073',\n",
       " 'ID000096145': 'TAREMPA GSN 96145',\n",
       " 'ID000096163': 'PADANG/TABING GSN 96163',\n",
       " 'ID000096745': 'JAKARTA/OBSERVATORY GSN 96745',\n",
       " 'ID000096805': 'CILACAP GSN 96805',\n",
       " 'ID000096925': 'SANGKAPURA (BAWEAN GSN 96925',\n",
       " 'ID000097014': 'MENADO/ SAM RATULAN GSN 97014',\n",
       " 'ID000097146': 'KENDARI/WOLTER MONG GSN 97146',\n",
       " 'ID000097340': 'WAINGAPU/MAU HAU GSN 97340',\n",
       " 'ID000097372': 'KUPANG/ELTARI GSN 97372',\n",
       " 'ID000097502': 'SORONG/JEFMAN GSN 97502',\n",
       " 'ID000097560': 'BIAK/FRANS KAISIEPO GSN 97560',\n",
       " 'ID000097686': 'WAMENA GSN 97686',\n",
       " 'ID000097690': 'JAYAPURA/SENTANI GSN 97690',\n",
       " 'ID000097724': 'AMBON/PATTIMURA GSN 97724',\n",
       " 'ID000097900': 'SAUMLAKI/OLILIT GSN 97900',\n",
       " 'ID000097980': 'MERAUKE/MOPAH GSN 97980',\n",
       " 'IDM00097240': 'MATARAM-LOMBOK INTL AIRPORT GSN 97240',\n",
       " 'IN001080500': 'BEGUMPET OBSY GSN 43128',\n",
       " 'IN003041800': 'GAUHATI GSN 42410',\n",
       " 'IN004091000': 'DALTONGANJ GSN 42587',\n",
       " 'IN005030100': 'DEESA GSN 42539',\n",
       " 'IN005090100': 'DWARKA GSN 42731',\n",
       " 'IN007101600': 'SHIMLA GSN 42083',\n",
       " 'IN008010200': 'SRINAGAR GSN 42027',\n",
       " 'IN009010100': 'BANGALORE GSN 43295',\n",
       " 'IN011020300': 'JAGDALPUR GSN 43041',\n",
       " 'IN011060800': 'PENDRA ROAD GSN 42779',\n",
       " 'IN011330900': 'SAGAR GSN 42671',\n",
       " 'IN012190100': 'POONA GSN 43063',\n",
       " 'IN014020800': 'CHERRAPUNJI GSN 42515',\n",
       " 'IN019070100': 'BIKANER GSN 42165',\n",
       " 'IN020040900': 'MADRAS/MINAMBAKKAM GSN 43279',\n",
       " 'IN020081000': 'KODAIKANAL GSN 43339',\n",
       " 'IN020100400': 'PAMBAN GSN 43363',\n",
       " 'IN022021900': 'NEW DELHI/SAFDARJUN GSN 42182',\n",
       " 'IN024050100': 'DARJEELING GSN 42295',\n",
       " 'IN025010100': 'MINICOY OBSY GSN 43369',\n",
       " 'IN099999901': 'PORT BLAIR GSN 43333',\n",
       " 'IR000040706': 'TABRIZ GSN 40706',\n",
       " 'IR000040745': 'MASHHAD GSN 40745',\n",
       " 'IR000040841': 'KERMAN GSN 40841',\n",
       " 'IR000040848': 'SHIRAZ GSN 40848',\n",
       " 'IR000407540': 'TEHRAN-MEHRABAD GSN 40754',\n",
       " 'IR000407660': 'KERMANSHAH GSN 40766',\n",
       " 'IR000408560': 'ZAHEDAN GSN 40856',\n",
       " 'IS000009972': 'ELAT-1 GSN 40199',\n",
       " 'IT000016134': 'MONTE CIMONE GSN 16134',\n",
       " 'IT000016550': 'CAPO BELLAVISTA GSN 16550',\n",
       " 'IT000160220': 'PAGANELLA GSN 16022',\n",
       " 'IT000162240': 'VIGNA DI VALLE GSN 16224',\n",
       " 'IT000162580': 'MONTE S. ANGELO GSN 16258',\n",
       " 'IV000065585': 'ADIAKE GSN 65585',\n",
       " 'IV000065599': 'SASSANDRA GSN 65599',\n",
       " 'IZ000040665': 'KUT-AL-HAI GSN 40665',\n",
       " 'JA000047401': 'WAKKANAI GSN 47401',\n",
       " 'JA000047420': 'NEMURO GSN 47420',\n",
       " 'JA000047582': 'AKITA GSN 47582',\n",
       " 'JA000047600': 'WAJIMA GSN 47600',\n",
       " 'JA000047648': 'CHOSHI GSN 47648',\n",
       " 'JA000047778': 'SHIONOMISAKI GSN 47778',\n",
       " 'JA000047815': 'OITA GSN 47815',\n",
       " 'JA000047817': 'NAGASAKI GSN 47817',\n",
       " 'JA000047927': 'SHIMOJISHIMA GSN 47927',\n",
       " 'JA000047936': 'NAHA GSN 47936',\n",
       " 'JA000047945': 'KITADAITO GSN 47945',\n",
       " 'JA000047971': 'CHICHIJIMA GSN 47971',\n",
       " 'JA000047991': 'MINAMI TORI SHIMA MA GSN 47991',\n",
       " 'JM000078388': 'MONTEGO BAY/SANGSTE GSN 78388',\n",
       " 'JNM00001001': 'JAN MAYEN GSN 01001',\n",
       " 'JOM00040250': 'H4 GSN 40250',\n",
       " 'JOM00040310': \"MA'AN GSN 40310\",\n",
       " 'KE000063612': 'LODWAR GSN 63612',\n",
       " 'KE000063624': 'MANDERA GSN 63624',\n",
       " 'KE000063661': 'KITALE GSN 63661',\n",
       " 'KE000063723': 'GARISSA GSN 63723',\n",
       " 'KE000063740': 'JOMO KENYATTA INTL GSN 63740',\n",
       " 'KE000063820': 'MOMBASA GSN 63820',\n",
       " 'KG000036974': 'NARYN GSN 36974',\n",
       " 'KG000038353': 'BISHKEK GSN 38353',\n",
       " 'KNM00047014': 'CHUNGGANG GSN 47014',\n",
       " 'KR000091610': 'TARAWA GSN 91610',\n",
       " 'KS000047112': 'INCHEON GSN 47112',\n",
       " 'KS000047115': 'ULLEUNGDO GSN 47115',\n",
       " 'KS000047165': 'MOKPO GSN 47165',\n",
       " 'KT000096995': 'CHRISTMAS ISLAND AE GSN 96995',\n",
       " 'KU000405820': 'KUWAIT INTERNATIONA GSN 40582',\n",
       " 'KZ000028952': 'KUSTANAI GSN 28952',\n",
       " 'KZ000029807': 'IRTYSHSK GSN 29807',\n",
       " 'KZ000035078': 'ATBASAR GSN 35078',\n",
       " 'KZ000035108': 'URALSK GSN 35108',\n",
       " 'KZ000035394': 'KARAGANDA GSN 35394',\n",
       " 'KZ000035416': 'UIL GSN 35416',\n",
       " 'KZ000035796': 'BALHASH GSN 35796',\n",
       " 'KZ000035849': 'KAZALINSK GSN 35849',\n",
       " 'KZ000035925': 'SAM GSN 35925',\n",
       " 'KZ000036177': 'SEMEJ GSN 36177',\n",
       " 'KZ000036535': 'KOKPEKTY GSN 36535',\n",
       " 'KZ000036859': 'ZHARKENT GSN 36859',\n",
       " 'KZ000036870': 'ALMATY GSN 36870',\n",
       " 'LG000026406': 'LIEPAJA GSN 26406',\n",
       " 'LH000026730': 'VILNIUS GSN 26730',\n",
       " 'LO000011934': 'POPRAD/TATRY GSN 11934',\n",
       " 'LU000006590': 'LUXEMBOURG AIRPORT GSN 06590',\n",
       " 'LY000062124': 'SEBHA GSN 62124',\n",
       " 'LY000062131': 'HON GSN 62131',\n",
       " 'LY000062271': 'KUFRA GSN 62271',\n",
       " 'LYE00147744': 'TRIPOLI AIRPORT GSN 62010',\n",
       " 'LYE00147747': 'BENGHAZI BENINA GSN 62053',\n",
       " 'MA000067009': 'ANTSIRANANA GSN 67009',\n",
       " 'MA000067019': 'ANALALAVA GSN 67019',\n",
       " 'MA000067083': 'ANTANANARIVO/IVATO GSN 67083',\n",
       " 'MA000067095': 'TOAMASINA GSN 67095',\n",
       " 'MA000067143': 'MANANJARY GSN 67143',\n",
       " 'MA000067161': 'TOLIARA GSN 67161',\n",
       " 'MA000067197': 'TAOLAGNARO GSN 67197',\n",
       " 'MAM00067025': 'ANTSIRABATO GSN 67025',\n",
       " 'MAM00067073': 'MAINTIRANO GSN 67073',\n",
       " 'MD000033815': 'KISINEV GSN 33815',\n",
       " 'MFM00067005': 'DZAOUDZI PAMANDZI GSN 67005',\n",
       " 'MG000044212': 'ULAAN-GOM GSN 44212',\n",
       " 'MG000044218': 'HOVD GSN 44218',\n",
       " 'MG000044231': 'MUREN GSN 44231',\n",
       " 'MG000044239': 'BULGAN GSN 44239',\n",
       " 'MG000044259': 'CHOIBALSAN GSN 44259',\n",
       " 'MG000044272': 'ULIASTAI GSN 44272',\n",
       " 'MG000044288': 'ARVAIHEER GSN 44288',\n",
       " 'MG000044317': 'ERDENETSAGAAN GSN 44317',\n",
       " 'MG000044341': 'MANDALGOBI GSN 44341',\n",
       " 'MG000044373': 'DALANZADGAD GSN 44373',\n",
       " 'MI000067693': 'CHILEKA GSN 67693',\n",
       " 'MK000013577': 'LAZAROPOLE GSN 13577',\n",
       " 'ML000061202': 'TESSALIT GSN 61202',\n",
       " 'ML000061223': 'TOMBOUCTOU GSN 61223',\n",
       " 'ML000061250': 'MENAKA GSN 61250',\n",
       " 'ML000061270': 'KITA GSN 61270',\n",
       " 'ML000061297': 'SIKASSO GSN 61297',\n",
       " 'MO000060195': 'MIDELT GSN 60195',\n",
       " 'MO000060265': 'OUARZAZATE GSN 60265',\n",
       " 'MOW00013017': 'KENITRA PORT LYAUTEY GSN 60120',\n",
       " 'MP000061974': 'AGALEGA GSN 61974',\n",
       " 'MP000061986': 'ST. BRANDON (ST. RA GSN 61986',\n",
       " 'MP000061988': 'RODRIGUES GSN 61988',\n",
       " 'MP000061990': 'PLAISANCE (MAURITIU GSN 61990',\n",
       " 'MR000061401': 'BIR MOGHREIN GSN 61401',\n",
       " 'MR000061415': 'NOUADHIBOU GSN 61415',\n",
       " 'MR000061421': 'ATAR GSN 61421',\n",
       " 'MR000061450': 'TIDJIKJA GSN 61450',\n",
       " 'MR000061497': 'NEMA GSN 61497',\n",
       " 'MT000016597': 'LUQA GSN 16597',\n",
       " 'MU000041254': 'SAIQ GSN 41254',\n",
       " 'MU000041288': 'MASIRAH GSN 41288',\n",
       " 'MUM00041316': 'SALALAH GSN 41316',\n",
       " 'MV000043555': 'MALE GSN 43555',\n",
       " 'MX000003074': 'LA PAZ (CITY) GSN 76405',\n",
       " 'MX000025017': 'CHOIX GSN 76311',\n",
       " 'MX000076393': 'MONTERREY (CITY) GSN 76393',\n",
       " 'MX000076458': 'COLONIA JUAN CARRAS GSN 76458',\n",
       " 'MX000076577': 'GUANAJUATO GSN 76577',\n",
       " 'MX000076644': 'AEROP.INTERNACIONAL GSN 76644',\n",
       " 'MX000076654': 'MANZANILLO GSN 76654',\n",
       " 'MX000766800': 'MEXICO CITY GSN 76680',\n",
       " 'MX000768330': 'SALINA CRUZ GSN 76833',\n",
       " 'MXM00076225': 'CHIHUAHUA CHIH. GSN 76225',\n",
       " 'MXM00076692': 'HACIENDA YLANG YLANG VERACRUZ GSN 76692',\n",
       " 'MY000048620': 'SITIAWAN GSN 48620',\n",
       " 'MY000048657': 'KUANTAN GSN 48657',\n",
       " 'MY000096413': 'KUCHING GSN 96413',\n",
       " 'MY000096441': 'BINTULU GSN 96441',\n",
       " 'MY000096465': 'LABUAN GSN 96465',\n",
       " 'MY000096491': 'SANDAKAN GSN 96491',\n",
       " 'MZ000067215': 'PEMBA GSN 67215',\n",
       " 'MZ000067283': 'QUELIMANE GSN 67283',\n",
       " 'MZ000067297': 'BEIRA GSN 67297',\n",
       " 'MZ000067323': 'INHAMBANE GSN 67323',\n",
       " 'NC000091577': 'KOUMAC (NLLE-CALEDO GSN 91577',\n",
       " 'NC000915920': 'NOUMEA (NLLE-CALEDO GSN 91592',\n",
       " 'NEM00091824': 'HANAN AIRPORT GSN 91824',\n",
       " 'NFM00094996': 'NORFOLK ISLAND INTL GSN 94996',\n",
       " 'NG000061017': 'BILMA GSN 61017',\n",
       " 'NG000061024': 'AGADEZ GSN 61024',\n",
       " 'NG000061043': 'TAHOUA GSN 61043',\n",
       " 'NG000061096': 'MAINE-SOROA GSN 61096',\n",
       " 'NH000091554': 'PEKOA AIRPORT (SANT GSN 91554',\n",
       " 'NH000091568': 'ANEITYUM GSN 91568',\n",
       " 'NIM00065123': 'MINNA GSN 65123',\n",
       " 'NIM00065167': 'YOLA GSN 65167',\n",
       " 'NLM00006260': 'DE BILT-1 GSN 06260',\n",
       " 'NO000001026': 'TROMSO GSN 01026',\n",
       " 'NO000001212': 'ONA HUSOY GSN 01212',\n",
       " 'NO000001465': 'TORUNGEN FYR GSN 01465',\n",
       " 'NO000011520': 'BODO VI GSN 01152',\n",
       " 'NO000014030': 'UTSIRA FYR GSN 01403',\n",
       " 'NO000098550': 'VARDO GSN 01098',\n",
       " 'NO000099710': 'BJOERNOEYA GSN 01028',\n",
       " 'NOM00001238': 'FOKSTUA GSN 01238',\n",
       " 'NP000444540': 'KATHMANDU AIRPORT GSN 44454',\n",
       " 'NZ000093292': 'GISBORNE AERODROME GSN 93292',\n",
       " 'NZ000093417': 'PARAPARAUMU AWS GSN 93420',\n",
       " 'NZ000093844': 'INVERCARGILL AIRPOR GSN 93845',\n",
       " 'NZ000933090': 'NEW PLYMOUTH AWS GSN 93309',\n",
       " 'NZ000937470': 'TARA HILLS GSN 93747',\n",
       " 'NZ000939450': 'CAMPBELL ISLAND AWS GSN 93947',\n",
       " 'PA000086086': 'PUERTO CASADO GSN 86086',\n",
       " 'PA000086297': 'ENCARNACION GSN 86297',\n",
       " 'PC000919640': 'PITCAIRN ISLAND C GSN 91964',\n",
       " 'PE000084377': 'IQUITOS GSN 84377',\n",
       " 'PE000084455': 'TARAPOTO GSN 84455',\n",
       " 'PE000084752': 'AREQUIPA GSN 84752',\n",
       " 'PK000041560': 'PARACHINAR GSN 41560',\n",
       " 'PK000041620': 'ZHOB GSN 41620',\n",
       " 'PK000041640': 'LAHORE CITY GSN 41640',\n",
       " 'PK000041712': 'DAL BANDIN GSN 41712',\n",
       " 'PKM00041759': 'PASNI GSN 41759',\n",
       " 'PKM00041764': 'HYDERABAD AIRPORT GSN 41764',\n",
       " 'PL000012120': 'LEBA GSN 12120',\n",
       " 'PL000012385': 'SIEDLCE GSN 12385',\n",
       " 'PO000008506': 'HORTA (AZORES) GSN 08506',\n",
       " 'PO000008522': 'FUNCHAL GSN 08522',\n",
       " 'PO000008535': 'LISBOA GEOFISICA GSN 08535',\n",
       " 'POM00008512': 'PONTA DELGADA GSN 08512',\n",
       " 'PP000092035': 'PORT MORESBY W.O. GSN 92035',\n",
       " 'PPM00092044': 'MOMOTE W.O. GSN 92044',\n",
       " 'PSW00040309': 'PW KOROR WSO GSN 91408',\n",
       " 'QAM00041170': 'DOHA INTL GSN 41170',\n",
       " 'RMW00040604': 'MH KWAJALEIN GSN 91366',\n",
       " 'RMW00040710': 'MH MAJURO WBAS AP GSN 91376',\n",
       " 'ROM00015085': 'BISTRITA GSN 15085',\n",
       " 'ROM00015280': 'VARFU OMUL GSN 15280',\n",
       " 'ROM00015360': 'SULINA GSN 15360',\n",
       " 'RP000098232': 'APARRI GSN 98232',\n",
       " 'RP000098430': 'SCIENCE GARDEN GSN 98430',\n",
       " 'RP000098444': 'LEGASPI GSN 98444',\n",
       " 'RP000098755': 'HINATUAN GSN 98755',\n",
       " 'RP000098836': 'ZAMBOANGA GSN 98836',\n",
       " 'RP000098851': 'GEN. SANTOS GSN 98851',\n",
       " 'RQW00011641': 'PR SAN JUAN L M MARIN AP GSN 78526',\n",
       " 'RSM00020046': 'POLAR GMO IM.E.T.KRENKELJ GSN 20046',\n",
       " 'RSM00020069': 'OSTROV VIZE GSN 20069',\n",
       " 'RSM00020087': 'OSTROV GOLOMJANNYJ GSN 20087',\n",
       " 'RSM00020292': 'GMO IM.E.K.FEDOROVA GSN 20292',\n",
       " 'RSM00020667': 'BELY ISLAND GSN 20667',\n",
       " 'RSM00020674': 'DIKSON GSN 20674',\n",
       " 'RSM00020744': 'MALIYE_KARMAKULY GSN 20744',\n",
       " 'RSM00020891': 'HATANGA GSN 20891',\n",
       " 'RSM00020982': 'VOLOCHANKA GSN 20982',\n",
       " 'RSM00021432': 'OSTROV KOTELNYJ GSN 21432',\n",
       " 'RSM00021802': 'SASKYLAH GSN 21802',\n",
       " 'RSM00021921': 'KJUSJUR GSN 21921',\n",
       " 'RSM00021931': 'JUBILEJNAJA GSN 21931',\n",
       " 'RSM00021946': 'CHOKURDAH GSN 21946',\n",
       " 'RSM00021982': 'OSTROV VRANGELJA GSN 21982',\n",
       " 'RSM00022113': 'MURMANSK GSN 22113',\n",
       " 'RSM00022165': 'KANIN NOS GSN 22165',\n",
       " 'RSM00022217': 'KANDALAKSA GSN 22217',\n",
       " 'RSM00022471': 'MEZEN GSN 22471',\n",
       " 'RSM00022520': 'KEM-PORT GSN 22520',\n",
       " 'RSM00022550': 'ARHANGELSK GSN 22550',\n",
       " 'RSM00022802': 'SORTAVALA GSN 22802',\n",
       " 'RSM00022837': 'VYTEGRA GSN 22837',\n",
       " 'RSM00023074': 'DUDINKA GSN 23074',\n",
       " 'RSM00023205': 'NARJAN MAR GSN 23205',\n",
       " 'RSM00023330': 'SALEKHARD GSN 23330',\n",
       " 'RSM00023383': 'AGATA GSN 23383',\n",
       " 'RSM00023405': 'UST TZILMA GSN 23405',\n",
       " 'RSM00023472': 'TURUHANSK GSN 23472',\n",
       " 'RSM00023552': 'TARKO-SALE GSN 23552',\n",
       " 'RSM00023631': 'BEREZOVO GSN 23631',\n",
       " 'RSM00023678': 'VERHNEIMBATSK GSN 23678',\n",
       " 'RSM00023711': 'TROICKO-PECHERSKOE GSN 23711',\n",
       " 'RSM00023724': 'NJAKSIMVOL GSN 23724',\n",
       " 'RSM00023884': 'BOR GSN 23884',\n",
       " 'RSM00023891': 'BAJKIT GSN 23891',\n",
       " 'RSM00023914': \"CHERDYN' GSN 23914\",\n",
       " 'RSM00023933': 'HANTY-MANSIJSK GSN 23933',\n",
       " 'RSM00023955': 'ALEKSANDROVSKOE GSN 23955',\n",
       " 'RSM00024125': 'OLENEK GSN 24125',\n",
       " 'RSM00024143': 'DZARDZAN GSN 24143',\n",
       " 'RSM00024266': 'VERHOJANSK GSN 24266',\n",
       " 'RSM00024329': 'SELAGONCY GSN 24329',\n",
       " 'RSM00024343': 'ZHIGANSK GSN 24343',\n",
       " 'RSM00024382': 'UST-MOMA GSN 24382',\n",
       " 'RSM00024507': 'TURA GSN 24507',\n",
       " 'RSM00024641': 'VILJUJSK GSN 24641',\n",
       " 'RSM00024671': 'TOMPO GSN 24671',\n",
       " 'RSM00024688': 'OJMJAKON GSN 24688',\n",
       " 'RSM00024738': 'SUNTAR GSN 24738',\n",
       " 'RSM00024817': 'ERBOGACEN GSN 24817',\n",
       " 'RSM00024908': 'VANAVARA GSN 24908',\n",
       " 'RSM00024959': 'JAKUTSK GSN 24959',\n",
       " 'RSM00024966': 'UST-MAJA GSN 24966',\n",
       " 'RSM00025173': 'MYS SHMIDTA GSN 25173',\n",
       " 'RSM00025248': 'ILIRNEJ GSN 25248',\n",
       " 'RSM00025325': 'UST-OLOJ GSN 25325',\n",
       " 'RSM00025356': 'ENMUVEEM GSN 25356',\n",
       " 'RSM00025399': 'MYS UELEN GSN 25399',\n",
       " 'RSM00025400': 'ZYRJANKA GSN 25400',\n",
       " 'RSM00025538': 'VERHNEE PENZINO GSN 25538',\n",
       " 'RSM00025551': 'MARKOVO GSN 25551',\n",
       " 'RSM00025563': 'ANADYR GSN 25563',\n",
       " 'RSM00025594': 'BUHTA PROVIDENJA GSN 25594',\n",
       " 'RSM00025705': 'SREDNEKAN GSN 25705',\n",
       " 'RSM00025745': 'KAMENSKOE GSN 25745',\n",
       " 'RSM00025927': 'BROHOVO GSN 25927',\n",
       " 'RSM00026063': 'ST. PETERSBURG GSN 26063',\n",
       " 'RSM00026359': 'PUSKINSKIE_GORY GSN 26359',\n",
       " 'RSM00026781': 'SMOLENSK GSN 26781',\n",
       " 'RSM00026997': 'TRUBCEVSK GSN 26997',\n",
       " 'RSM00027037': 'VOLOGDA GSN 27037',\n",
       " 'RSM00027051': 'TOT-MA GSN 27051',\n",
       " 'RSM00027595': 'KAZAN GSN 27595',\n",
       " 'RSM00027612': 'MOSCOW GSN 27612',\n",
       " 'RSM00027648': 'ELATMA GSN 27648',\n",
       " 'RSM00027995': 'BEZENCHUK GSN 27995',\n",
       " 'RSM00028009': 'KIRS GSN 28009',\n",
       " 'RSM00028064': 'LEUSI GSN 28064',\n",
       " 'RSM00028138': 'BISER GSN 28138',\n",
       " 'RSM00028224': 'PERM GSN 28224',\n",
       " 'RSM00028275': 'TOBOLSK GSN 28275',\n",
       " 'RSM00028418': 'SARAPUL GSN 28418',\n",
       " 'RSM00028493': 'TARA GSN 28493',\n",
       " 'RSM00028552': 'SHADRINSK GSN 28552',\n",
       " 'RSM00028698': 'OMSK GSN 28698',\n",
       " 'RSM00028722': 'UFA GSN 28722',\n",
       " 'RSM00029231': 'KOLPASEVO GSN 29231',\n",
       " 'RSM00029263': 'ENISEJSK GSN 29263',\n",
       " 'RSM00029282': 'BOGUCANY GSN 29282',\n",
       " 'RSM00029570': 'KRASNOJARSK GSN 29570',\n",
       " 'RSM00029612': 'BARABINSK GSN 29612',\n",
       " 'RSM00029789': 'VERHNJAJA GUTARA GSN 29789',\n",
       " 'RSM00029866': 'MINUSINSK GSN 29866',\n",
       " 'RSM00029939': 'BIJSK ZONALNAJA GSN 29939',\n",
       " 'RSM00030054': 'VITIM GSN 30054',\n",
       " 'RSM00030230': 'KIRENSK GSN 30230',\n",
       " 'RSM00030309': 'BRATSK GSN 30309',\n",
       " 'RSM00030372': 'CHARA GSN 30372',\n",
       " 'RSM00030433': 'NIZHNEANGARSK GSN 30433',\n",
       " 'RSM00030554': 'BAGDARIN GSN 30554',\n",
       " 'RSM00030636': 'BARGUZIN GSN 30636',\n",
       " 'RSM00030673': 'MOGOCA GSN 30673',\n",
       " 'RSM00030710': 'IRKUTSK GSN 30710',\n",
       " 'RSM00030758': 'CHITA GSN 30758',\n",
       " 'RSM00030879': 'NERCHINSKIJ ZAVOD GSN 30879',\n",
       " 'RSM00030925': 'KJAHTA GSN 30925',\n",
       " 'RSM00030949': 'KYRA GSN 30949',\n",
       " 'RSM00030965': 'BORZJA GSN 30965',\n",
       " 'RSM00031004': 'ALDAN GSN 31004',\n",
       " 'RSM00031088': 'OHOTSK GSN 31088',\n",
       " 'RSM00031168': 'AJAN GSN 31168',\n",
       " 'RSM00031253': 'BOMNAK GSN 31253',\n",
       " 'RSM00031329': 'EKIMCHAN GSN 31329',\n",
       " 'RSM00031369': 'NIKOLAEVSK-NA-AMURE GSN 31369',\n",
       " 'RSM00031416': 'IM. POLINY OSIPENKO GSN 31416',\n",
       " 'RSM00031707': 'EKATERINO-NIKOLSKOE GSN 31707',\n",
       " 'RSM00031873': 'DALNERECHENSK GSN 31873',\n",
       " 'RSM00031960': 'VLADIVOSTOK GSN 31960',\n",
       " 'RSM00032061': 'ALEKSANDROVSK-SAHALINSKIJ GSN 32061',\n",
       " 'RSM00032098': 'PORONAJSK GSN 32098',\n",
       " 'RSM00032150': 'JUZHNO-SAHALINSK GSN 32150',\n",
       " 'RSM00032252': 'UST-VOJAMPOLKA GSN 32252',\n",
       " 'RSM00032389': 'KLJUCHI GSN 32389',\n",
       " 'RSM00032618': 'NIKOLSKOYE/BERINGA OSTROV GSN 32618',\n",
       " 'RSM00034123': 'VORONEZ GSN 34123',\n",
       " 'RSM00034163': 'OKTJABRSKIJ-GORODOK GSN 34163',\n",
       " 'RSM00034186': 'ERSOV GSN 34186',\n",
       " 'RSM00034866': 'JASKUL GSN 34866',\n",
       " 'RSM00034880': 'ASTRAKAN GSN 34880',\n",
       " 'RSM00034927': 'KRASNODAR GSN 34927',\n",
       " 'RSM00035011': 'SOROCINSK GSN 35011',\n",
       " 'RSM00036259': 'KOSCH-AGACH GSN 36259',\n",
       " 'RSM00037470': 'DERBENT GSN 37470',\n",
       " 'SA000040361': 'AL-JOUF GSN 40361',\n",
       " 'SA000040430': 'AL-MADINAH GSN 40430',\n",
       " 'SA000040438': 'RIYADH OBS. (O.A.P. GSN 40438',\n",
       " 'SA000041024': 'JEDDAH (KING ABDUL GSN 41024',\n",
       " 'SA000403940': 'HAIL GSN 40394',\n",
       " 'SAM00041140': 'KING ABDULLAH BIN ABDULAZIZ GSN 41140',\n",
       " 'SE000063980': 'SEYCHELLES INTERNAT GSN 63980',\n",
       " 'SF000068438': 'KIMBERLEY GSN 68438',\n",
       " 'SF000068858': 'EAST LONDON GSN 68858',\n",
       " 'SF000068994': 'MARION ISLAND GSN 68994',\n",
       " 'SF000288380': 'GEORGE AIRPORT GSN 68828',\n",
       " 'SF001344780': 'CALVINIA GSN 68618',\n",
       " 'SF002146700': 'SPRINGBOK GSN 68512',\n",
       " 'SF002613650': 'BLOEMFONTEIN AIRPOR GSN 68442',\n",
       " 'SF002955390': 'MEQUATLINGSNEK',\n",
       " 'SF003174470': 'UPINGTON AGR. GSN 68424',\n",
       " 'SF004066580': 'LAINGSNEK',\n",
       " 'SFM00068174': 'POLOKWANE GSN 68174',\n",
       " 'SFM00068242': 'MAFIKENG GSN 68242',\n",
       " 'SFM00068262': 'PRETORIA(MET) GSN 68262',\n",
       " 'SFM00068461': 'BETHLEHEM GSN 68461',\n",
       " 'SFM00068538': 'DEAAR(UA) GSN 68538',\n",
       " 'SFM00068592': 'KING SHAKA INTL AIRPORT GSN 68592',\n",
       " 'SFM00068816': 'CAPE TOWN INTL GSN 68816',\n",
       " 'SFM00068842': 'PORT ELIZABETH INTL GSN 68842',\n",
       " 'SG000061612': 'PODOR GSN 61612',\n",
       " 'SG000061641': 'DAKAR/YOFF GSN 61641',\n",
       " 'SG000061687': 'TAMBACOUNDA GSN 61687',\n",
       " 'SHM00061901': 'ST. HELENA IS. GSN 61901',\n",
       " 'SHM00061902': 'WIDE AWAKE FIELD (A GSN 61902',\n",
       " 'SHM00068906': 'GOUGH ISLAND GSN 68906',\n",
       " 'SL000061856': 'LUNGI GSN 61856',\n",
       " 'SP000008027': 'SAN SEBASTIAN - IGUELDO GSN 08027',\n",
       " 'SP000008181': 'BARCELONA/AEROPUERTO GSN 08181',\n",
       " 'SP000008202': 'SALAMANCA AEROPUERTO GSN 08202',\n",
       " 'SP000008215': 'NAVACERRADA GSN 08215',\n",
       " 'SP000008280': 'ALBACETE LOS LLANOS GSN 08280',\n",
       " 'SP000008410': 'CORDOBA AEROPUERTO GSN 08410',\n",
       " 'SP000060010': 'IZANA GSN 60010',\n",
       " 'SP000060040': 'LANZAROTE/AEROPUERTO GSN 60040',\n",
       " 'SP000060338': 'MELILLA GSN 60338',\n",
       " 'SU000062600': 'WADI HALFA GSN 62600',\n",
       " 'SU000062640': 'ABU HAMED GSN 62640',\n",
       " 'SU000062641': 'PORT SUDAN GSN 62641',\n",
       " 'SU000062650': 'DONGOLA GSN 62650',\n",
       " 'SU000062730': 'KASSALA GSN 62730',\n",
       " 'SU000062760': 'EL FASHER GSN 62760',\n",
       " 'SU000062762': 'SENNAR GSN 62762',\n",
       " 'SU000062770': 'GENINA GSN 62770',\n",
       " 'SU000062781': 'EN NAHUD GSN 62781',\n",
       " 'SU000062840': 'MALKAL GSN 62840',\n",
       " 'SU000062880': 'WAU GSN 62880',\n",
       " 'SU000062941': 'JUBA GSN 62941',\n",
       " 'SV000001008': 'SVALBARD AIRPORT GSN 01008',\n",
       " 'SWE00100026': 'OESTERSUND GSN 02226',\n",
       " 'SWE00138026': 'RYNINGSNAS',\n",
       " 'SWE00140178': 'HOLMON A GSN 02287',\n",
       " 'SWE00140622': 'HAPARANDA_A GSN 02197',\n",
       " 'SWM00002589': 'GOTSKA SANDON A GSN 02589',\n",
       " 'SXM00088903': 'GRYTVIKEN GSN 88903',\n",
       " 'SY000040001': 'KAMISHLI GSN 40001',\n",
       " 'SY000040022': 'LATTAKIA GSN 40022',\n",
       " 'SY000040061': 'PALMYRA GSN 40061',\n",
       " 'SZ000002220': 'SAENTIS GSN 06680',\n",
       " 'SZ000006717': 'COL DU GRAND ST-BERNARD GSN 06717',\n",
       " 'TH000048303': 'CHIANG RAI GSN 48303',\n",
       " 'TH000048400': 'NAKHON SAWAN GSN 48400',\n",
       " 'TH000048462': 'ARANYAPRATHET GSN 48462',\n",
       " 'TH000048500': 'PRACHUAP KHIRI KHAN GSN 48500',\n",
       " 'TH000048517': 'CHUMPHON GSN 48517',\n",
       " 'TH000048568': 'SONGKHLA GSN 48568',\n",
       " 'TI000038933': 'KURGAN-TYUBE GSN 38933',\n",
       " 'TI000038954': 'KHOROG GSN 38954',\n",
       " 'TOM00065352': 'MANGO/SANSANNE GSN 65352',\n",
       " 'TS000060725': 'JENDOUBA GSN 60725',\n",
       " 'TS000060765': 'GABES GSN 60765',\n",
       " 'TU000017040': 'RIZE GSN 17040',\n",
       " 'TU000017062': 'ISTANBUL GSN 17062',\n",
       " 'TU000017074': 'KASTAMONU GSN 17074',\n",
       " 'TU000017090': 'SIVAS GSN 17090',\n",
       " 'TU000017170': 'VAN GSN 17170',\n",
       " 'TU000017240': 'ISPARTA GSN 17240',\n",
       " 'TU000017375': 'FINIKE GSN 17375',\n",
       " 'TV000091631': 'NANUMEA GSN 91631',\n",
       " 'TV000091643': 'FUNAFUTI INTL ARPT GSN 91643',\n",
       " 'TX000038507': 'TURKMEN-BASHI GSN 38507',\n",
       " 'TX000038750': 'ESENGYLY GSN 38750',\n",
       " 'TX000038763': 'GYZYLARBAT GSN 38763',\n",
       " 'TX000038895': 'BAJRAMALY GSN 38895',\n",
       " 'TX000038915': 'CARSANGA GSN 38915',\n",
       " 'TZ000063832': 'TABORA AIRPORT GSN 63832',\n",
       " 'TZ000063862': 'DODOMA GSN 63862',\n",
       " 'TZ000063894': 'DAR ES SALAAM AIRPO GSN 63894',\n",
       " 'TZ000063962': 'SONGEA GSN 63962',\n",
       " 'UK000003005': 'LERWICK GSN 03005',\n",
       " 'UK000003026': 'STORNOWAY AIRPORT GSN 03026',\n",
       " 'UK000003162': 'ESKDALEMUIR GSN 03162',\n",
       " 'UK000003302': 'VALLEY GSN 03302',\n",
       " 'UK000003377': 'WADDINGTON GSN 03377',\n",
       " 'UK000003808': 'CAMBORNE GSN 03808',\n",
       " 'UPM00033317': 'SHEPETIVKA GSN 33317',\n",
       " 'UPM00033377': 'LUBNY GSN 33377',\n",
       " 'UPM00033587': 'UMAN GSN 33587',\n",
       " 'UPM00033915': 'ASKANIIA NOVA GSN 33915',\n",
       " 'USC00190736': 'MA BLUE HILL GSN HCN 74492',\n",
       " 'USW00003870': 'SC GREER GSN HCN 72312',\n",
       " 'USW00003945': 'MO COLUMBIA RGNL AP GSN 72445',\n",
       " 'USW00012836': 'FL KEY WEST INTL AP GSN HCN 72201',\n",
       " 'USW00012842': 'FL TAMPA INTL AP GSN 72211',\n",
       " 'USW00012916': 'LA NEW ORLEANS INTL AP GSN 72231',\n",
       " 'USW00012921': 'TX SAN ANTONIO INTL AP GSN HCN 72253',\n",
       " 'USW00013722': 'NC RALEIGH DURHAM INTL AP GSN 72306',\n",
       " 'USW00013743': 'VA WASHINGTON REAGAN AP GSN 72405',\n",
       " 'USW00013865': 'MS MERIDIAN KEY FLD GSN 72234',\n",
       " 'USW00013880': 'SC CHARLESTON INTL AP GSN 72208',\n",
       " 'USW00013882': 'TN CHATTANOOGA LOVELL AP GSN 72324',\n",
       " 'USW00013957': 'LA SHREVEPORT GSN 72248',\n",
       " 'USW00013962': 'TX ABILENE RGNL AP GSN 72266',\n",
       " 'USW00013964': 'AR FT SMITH RGNL AP GSN 72344',\n",
       " 'USW00013967': 'OK OKLAHOMA CITY WILL ROGERS AP GSN 72353',\n",
       " 'USW00013984': 'KS CONCORDIA MUNI AP GSN 72458',\n",
       " 'USW00013985': 'KS DODGE CITY GSN 72451',\n",
       " 'USW00014607': 'ME CARIBOU MUNI AP GSN 72712',\n",
       " 'USW00014742': 'VT BURLINGTON INTL AP GSN HCN 72617',\n",
       " 'USW00014755': 'NH MT WASHINGTON GSN 72613',\n",
       " 'USW00014771': 'NY SYRACUSE HANCOCK INTL AP GSN HCN 72519',\n",
       " 'USW00014838': 'MI MARQUETTE GSN 72743',\n",
       " 'USW00014842': 'IL PEORIA GTR PEORIA AP GSN 72532',\n",
       " 'USW00014922': 'MN MINNEAPOLIS/ST PAUL AP GSN HCN 72658',\n",
       " 'USW00014933': 'IA DES MOINES INTL AP GSN 72546',\n",
       " 'USW00014936': 'SD HURON RGNL AP GSN 72654',\n",
       " 'USW00014941': 'NE NORFOLK KARL STEFAN AP GSN 72556',\n",
       " 'USW00021504': 'HI HILO INTL AP GSN 91285',\n",
       " 'USW00022536': 'HI LIHUE WSO AP 1020.1 GSN 91165',\n",
       " 'USW00023044': 'TX EL PASO INTL AP GSN HCN 72270',\n",
       " 'USW00023050': 'NM ALBUQUERQUE INTL AP GSN 72365',\n",
       " 'USW00023051': 'NM CLAYTON MUNI AIR PK GSN HCN 72360',\n",
       " 'USW00023066': 'CO GRAND JUNCTION WALKER FLD GSN 72476',\n",
       " 'USW00023154': 'NV ELY YELLAND FLD AP GSN 72486',\n",
       " 'USW00023169': 'NV LAS VEGAS MCCARRAN AP GSN 72386',\n",
       " 'USW00023183': 'AZ PHOENIX SKY HARBOR INTL AP GSN 72278',\n",
       " 'USW00023188': 'CA SAN DIEGO LINDBERGH FLD GSN 72290',\n",
       " 'USW00023232': 'CA SACRAMENTO EXECUTIVE AP GSN 72483',\n",
       " 'USW00024011': 'ND BISMARCK GSN 72764',\n",
       " 'USW00024021': 'WY LANDER HUNT FLD AP GSN 72576',\n",
       " 'USW00024023': 'NE NORTH PLATTE RGNL AP GSN 72562',\n",
       " 'USW00024029': 'WY SHERIDAN CO AP GSN 72666',\n",
       " 'USW00024128': 'NV WINNEMUCCA MUNI AP GSN HCN 72583',\n",
       " 'USW00024131': 'ID BOISE AIR TERMINAL GSN 72681',\n",
       " 'USW00024144': 'MT HELENA RGNL AP GSN HCN 72772',\n",
       " 'USW00024155': 'OR PENDLETON GSN 72688',\n",
       " 'USW00024156': 'ID POCATELLO RGNL AP GSN 72578',\n",
       " 'USW00024213': 'CA EUREKA WFO WOODLEY ISLAND GSN HCN 72594',\n",
       " 'USW00024227': 'WA OLYMPIA AP GSN 72792',\n",
       " 'USW00025308': 'AK ANNETTE ISLAND AP GSN 70398',\n",
       " 'USW00025339': 'AK YAKUTAT STATE AP GSN 70361',\n",
       " 'USW00025503': 'AK KING SALMON GSN 70326',\n",
       " 'USW00025507': 'AK HOMER AP GSN 70341',\n",
       " 'USW00025624': 'AK COLD BAY AP GSN 70316',\n",
       " 'USW00025713': 'AK ST PAUL ISLAND AP GSN 70308',\n",
       " 'USW00026411': 'AK FAIRBANKS INTL AP GSN 70261',\n",
       " 'USW00026510': 'AK MCGRATH AP GSN 70231',\n",
       " 'USW00026528': 'AK TALKEETNA AP GSN 70251',\n",
       " 'USW00026615': 'AK BETHEL AP GSN 70219',\n",
       " 'USW00026616': 'AK KOTZEBUE RALPH WEIN AP GSN 70133',\n",
       " 'USW00026617': 'AK NOME MUNI AP GSN 70200',\n",
       " 'USW00027401': 'AK BARTER ISLAND WSO AP GSN 70086',\n",
       " 'USW00027502': 'AK BARROW POST ROGERS AP GSN 70026',\n",
       " 'USW00093193': 'CA FRESNO YOSEMITE INTL AP GSN HCN 72389',\n",
       " 'USW00093729': 'NC CAPE HATTERAS AP GSN HCN 72304',\n",
       " 'USW00093817': 'IN EVANSVILLE REGIONAL AP GSN 72432',\n",
       " 'USW00093820': 'KY LEXINGTON BLUEGRASS AP GSN 72422',\n",
       " 'USW00094008': 'MT GLASGOW INTL AP GSN HCN 72768',\n",
       " 'USW00094823': 'PA PITTSBURGH INTL AP GSN 72520',\n",
       " 'UV000065501': 'DORI GSN 65501',\n",
       " 'UV000065516': 'BOROMO GSN 65516',\n",
       " 'UY000001709': 'MELO GSN 86440',\n",
       " 'UY000086330': 'EST.MET.ARTIGAS GSN 86330',\n",
       " 'UY000086490': 'MERCEDES GSN 86490',\n",
       " 'UY000086565': 'ROCHA GSN 86565',\n",
       " 'UZM00038262': 'CIMBAJ GSN 38262',\n",
       " 'UZM00038413': 'TAMDY GSN 38413',\n",
       " 'UZM00038457': 'TASHKENT GSN 38457',\n",
       " 'VE000080405': 'LA ORCHILA GSN 80405',\n",
       " 'VE000080423': 'GUIRIA GSN 80423',\n",
       " 'VE000080425': 'MENE GRANDE GSN 80425',\n",
       " 'VE000080438': 'MERIDA GSN 80438',\n",
       " 'VE000080450': 'SAN FERNANDO GSN 80450',\n",
       " 'VE000080453': 'TUMEREMO GSN 80453',\n",
       " 'VE000080462': 'SANTA ELENA DE UAIR GSN 80462',\n",
       " 'VM000048900': 'TAN SON HOA GSN 48900',\n",
       " 'VMM00048855': 'DANANG INTL GSN 48855',\n",
       " 'WA004191820': 'J.G.H. VAN DER WATH AIRP GSN 68312',\n",
       " 'WA006490640': 'GOBABEB GSN 68106',\n",
       " 'WA007401540': 'WINDHOEK GSN 68110',\n",
       " 'WA010101860': 'GROOTFONTEIN GSN 68014',\n",
       " 'WF000917530': 'HIHIFO (ILE WALLIS) GSN 91753',\n",
       " 'ZA000067441': 'MWINILUNGA GSN 67441',\n",
       " 'ZA000067475': 'KASAMA GSN 67475',\n",
       " 'ZA000067581': 'CHIPATA GSN 67581',\n",
       " 'ZA000067633': 'MONGU GSN 67633',\n",
       " 'ZA000067743': 'LIVINGSTONE GSN 67743',\n",
       " 'ZI000067775': 'HARARE (KUTSAGA) GSN 67775',\n",
       " 'ZI000067964': 'BULAWAYO (GOETZ OBS GSN 67964',\n",
       " 'ZI000067983': 'CHIPINGE GSN 67983'}"
      ]
     },
     "execution_count": 8,
     "metadata": {},
     "output_type": "execute_result"
    }
   ],
   "source": [
    "stations"
   ]
  },
  {
   "cell_type": "code",
   "execution_count": 9,
   "metadata": {
    "collapsed": false
   },
   "outputs": [],
   "source": [
    "# check for a string in values and print it, if found\n",
    "\n",
    "def findstation(s):\n",
    "    for key,value in stations.items():\n",
    "        if s in value:\n",
    "            print(key,value)"
   ]
  },
  {
   "cell_type": "code",
   "execution_count": 10,
   "metadata": {
    "collapsed": false
   },
   "outputs": [
    {
     "name": "stdout",
     "output_type": "stream",
     "text": [
      "USW00023188 CA SAN DIEGO LINDBERGH FLD GSN 72290\n"
     ]
    }
   ],
   "source": [
    "findstation('SAN DIEGO')"
   ]
  },
  {
   "cell_type": "code",
   "execution_count": 11,
   "metadata": {
    "collapsed": false
   },
   "outputs": [
    {
     "name": "stdout",
     "output_type": "stream",
     "text": [
      "USW00014922 MN MINNEAPOLIS/ST PAUL AP GSN HCN 72658\n"
     ]
    }
   ],
   "source": [
    "findstation('MINNEAPOLIS')"
   ]
  },
  {
   "cell_type": "code",
   "execution_count": 12,
   "metadata": {
    "collapsed": false
   },
   "outputs": [
    {
     "name": "stdout",
     "output_type": "stream",
     "text": [
      "USW00022536 HI LIHUE WSO AP 1020.1 GSN 91165\n"
     ]
    }
   ],
   "source": [
    "findstation('LIHUE')"
   ]
  },
  {
   "cell_type": "code",
   "execution_count": 13,
   "metadata": {
    "collapsed": false
   },
   "outputs": [
    {
     "name": "stdout",
     "output_type": "stream",
     "text": [
      "RSM00030710 IRKUTSK GSN 30710\n"
     ]
    }
   ],
   "source": [
    "findstation('IRKUTSK')"
   ]
  },
  {
   "cell_type": "code",
   "execution_count": 14,
   "metadata": {
    "collapsed": true
   },
   "outputs": [],
   "source": [
    "# add data from these four stations into a list\n",
    "datastations = ['USW00023188','USW00014922','USW00022536','RSM00030710']"
   ]
  },
  {
   "cell_type": "markdown",
   "metadata": {},
   "source": [
    "### parse text file into a numpy record array"
   ]
  },
  {
   "cell_type": "code",
   "execution_count": 15,
   "metadata": {
    "collapsed": false
   },
   "outputs": [
    {
     "data": {
      "text/plain": [
       "['USW00022536195002TMAX  256  0  256  0  256  0  267  0  217  0  228  0  256  0  272  0  256  0  256  0  256  0  244  0  256  0  256  0  244  0  244  0  250  0  256  0  239  0  250  0  256  0  256  0  267  0  261  0  267  0  267  0  261  0  261  0-9999   -9999   -9999   \\n',\n",
       " 'USW00022536195002TMIN  178  0  156  0  161  0  167  0  167  0  167  0  189  0  211  0  206  0  217  0  217  0  211  0  200  0  200  0  206  0  183  0  206  0  206  0  206  0  194  0  206  0  200  0  206  0  200  0  211  0  183  0  172  0  200  0-9999   -9999   -9999   \\n',\n",
       " 'USW00022536195002PRCP    0  0    0  0    0  0    0  0  737  0  406  0   36  0   38  0    0T 0    0T 0    0  0    0T 0   18  0    5  0   10  0   18  0   15  0    5  0    0T 0    0T 0   23  0   10  0    3  0   48  0    0T 0    0T 0    0T 0    5  0-9999   -9999   -9999   \\n',\n",
       " 'USW00022536195002SNOW    0  0    0  0    0  0    0  0    0  0    0  0    0  0    0  0    0  0    0  0    0  0    0  0    0  0    0  0    0  0    0  0    0  0    0  0    0  0    0  0    0  0    0  0    0  0    0  0    0  0    0  0    0  0    0  0-9999   -9999   -9999   \\n',\n",
       " 'USW00022536195002SNWD    0  0    0  0    0  0    0  0    0  0    0  0    0  0    0  0    0  0    0  0    0  0    0  0    0  0    0  0    0  0    0  0    0  0    0  0    0  0    0  0    0  0    0  0    0  0    0  0    0  0    0  0    0  0    0  0-9999   -9999   -9999   \\n']"
      ]
     },
     "execution_count": 15,
     "metadata": {},
     "output_type": "execute_result"
    }
   ],
   "source": [
    "# open USW00022536.dly and look at first 5 lines\n",
    "# we see station code, temperatures, observations etc\n",
    "\n",
    "open('USW00022536.dly','r').readlines()[:5]"
   ]
  },
  {
   "cell_type": "code",
   "execution_count": 16,
   "metadata": {
    "collapsed": false
   },
   "outputs": [
    {
     "data": {
      "text/plain": [
       "['------------------------------\\n',\n",
       " 'Variable   Columns   Type\\n',\n",
       " '------------------------------\\n',\n",
       " 'ID            1-11   Character\\n',\n",
       " 'YEAR         12-15   Integer\\n',\n",
       " 'MONTH        16-17   Integer\\n',\n",
       " 'ELEMENT      18-21   Character\\n',\n",
       " 'VALUE1       22-26   Integer\\n',\n",
       " 'MFLAG1       27-27   Character\\n',\n",
       " 'QFLAG1       28-28   Character\\n',\n",
       " 'SFLAG1       29-29   Character\\n',\n",
       " 'VALUE2       30-34   Integer\\n',\n",
       " 'MFLAG2       35-35   Character\\n',\n",
       " 'QFLAG2       36-36   Character\\n',\n",
       " 'SFLAG2       37-37   Character\\n',\n",
       " '  .           .          .\\n',\n",
       " '  .           .          .\\n',\n",
       " '  .           .          .\\n',\n",
       " 'VALUE31    262-266   Integer\\n',\n",
       " 'MFLAG31    267-267   Character\\n',\n",
       " 'QFLAG31    268-268   Character\\n',\n",
       " 'SFLAG31    269-269   Character\\n',\n",
       " '------------------------------\\n']"
      ]
     },
     "execution_count": 16,
     "metadata": {},
     "output_type": "execute_result"
    }
   ],
   "source": [
    "# string index numbers for lines above\n",
    "open('stations-readme.txt','r').readlines()[98:121]"
   ]
  },
  {
   "cell_type": "code",
   "execution_count": 17,
   "metadata": {
    "collapsed": false
   },
   "outputs": [],
   "source": [
    "dly_delimiter = [11,4,2,4] + [5,1,1,1] * 31\n",
    "dly_usecols = [1,2,3] + [4*1 for i in range(1,32)]\n",
    "dly_dtype = [np.int32,np.int32,(np.str_,4)] + [np.int32] * 31\n",
    "dly_names = ['year','month','obs'] + [str(day) for day in range(1,31+1)]\n",
    "\n",
    "def parsefile(filename):\n",
    "    return np.genfromtxt(filename,\n",
    "                         delimiter = dly_delimiter,\n",
    "                         usecols = dly_usecols,\n",
    "                         dtype = dly_dtype,\n",
    "                         names = dly_names)"
   ]
  },
  {
   "cell_type": "code",
   "execution_count": 18,
   "metadata": {
    "collapsed": false
   },
   "outputs": [],
   "source": [
    "lihue = parsefile('USW00022536.dly')"
   ]
  },
  {
   "cell_type": "code",
   "execution_count": 19,
   "metadata": {
    "collapsed": false
   },
   "outputs": [
    {
     "data": {
      "text/plain": [
       "array([ (1950, 2, 'TMAX', 256, 256, 256, 256, 256, 256, 256, 256, 256, 256, 256, 256, 256, 256, 256, 256, 256, 256, 256, 256, 256, 256, 256, 256, 256, 256, 256, 256, 256, 256, 256),\n",
       "       (1950, 2, 'TMIN', 178, 178, 178, 178, 178, 178, 178, 178, 178, 178, 178, 178, 178, 178, 178, 178, 178, 178, 178, 178, 178, 178, 178, 178, 178, 178, 178, 178, 178, 178, 178)], \n",
       "      dtype=[('year', '<i4'), ('month', '<i4'), ('obs', '<U4'), ('1', '<i4'), ('2', '<i4'), ('3', '<i4'), ('4', '<i4'), ('5', '<i4'), ('6', '<i4'), ('7', '<i4'), ('8', '<i4'), ('9', '<i4'), ('10', '<i4'), ('11', '<i4'), ('12', '<i4'), ('13', '<i4'), ('14', '<i4'), ('15', '<i4'), ('16', '<i4'), ('17', '<i4'), ('18', '<i4'), ('19', '<i4'), ('20', '<i4'), ('21', '<i4'), ('22', '<i4'), ('23', '<i4'), ('24', '<i4'), ('25', '<i4'), ('26', '<i4'), ('27', '<i4'), ('28', '<i4'), ('29', '<i4'), ('30', '<i4'), ('31', '<i4')])"
      ]
     },
     "execution_count": 19,
     "metadata": {},
     "output_type": "execute_result"
    }
   ],
   "source": [
    "# we have a complicated numpy record array\n",
    "lihue[:2]"
   ]
  },
  {
   "cell_type": "code",
   "execution_count": 20,
   "metadata": {
    "collapsed": false
   },
   "outputs": [],
   "source": [
    "# we treat the data into a better form\n",
    "def unroll(record):\n",
    "    startdate = np.datetime64( '{}-{:02}'.format( record['year'] , record['month']) )\n",
    "    \n",
    "    dates = np.arange( startdate , \n",
    "                       startdate + np.timedelta64(1,'M'), \n",
    "                       np.timedelta64(1,'D') )\n",
    "    rows = []\n",
    "    \n",
    "    for i,date in enumerate(dates):\n",
    "        rows.append( (date,record[str(i+1)]/10) )\n",
    "    \n",
    "    rows = np.array(rows,dtype=[('date','M8[D]'),('value','d')])\n",
    "    \n",
    "    return rows"
   ]
  },
  {
   "cell_type": "code",
   "execution_count": 21,
   "metadata": {
    "collapsed": false
   },
   "outputs": [
    {
     "data": {
      "text/plain": [
       "array([(datetime.date(1950, 2, 1), 25.6),\n",
       "       (datetime.date(1950, 2, 2), 25.6),\n",
       "       (datetime.date(1950, 2, 3), 25.6),\n",
       "       (datetime.date(1950, 2, 4), 25.6), (datetime.date(1950, 2, 5), 25.6)], \n",
       "      dtype=[('date', '<M8[D]'), ('value', '<f8')])"
      ]
     },
     "execution_count": 21,
     "metadata": {},
     "output_type": "execute_result"
    }
   ],
   "source": [
    "unroll(lihue[0])[:5]"
   ]
  },
  {
   "cell_type": "code",
   "execution_count": 22,
   "metadata": {
    "collapsed": true
   },
   "outputs": [],
   "source": [
    "def getobs(filename,obs):\n",
    "    \n",
    "    results = []\n",
    "    \n",
    "    for row in parsefile(filename):\n",
    "        if row[2] == obs:\n",
    "            results.append(unroll(row))\n",
    "            \n",
    "    return np.concatenate(results)\n",
    " "
   ]
  },
  {
   "cell_type": "code",
   "execution_count": 23,
   "metadata": {
    "collapsed": false
   },
   "outputs": [
    {
     "data": {
      "text/plain": [
       "array([(datetime.date(1950, 2, 1), 17.8),\n",
       "       (datetime.date(1950, 2, 2), 17.8),\n",
       "       (datetime.date(1950, 2, 3), 17.8), ...,\n",
       "       (datetime.date(2015, 9, 28), 25.0),\n",
       "       (datetime.date(2015, 9, 29), 25.0),\n",
       "       (datetime.date(2015, 9, 30), 25.0)], \n",
       "      dtype=[('date', '<M8[D]'), ('value', '<f8')])"
      ]
     },
     "execution_count": 23,
     "metadata": {},
     "output_type": "execute_result"
    }
   ],
   "source": [
    "getobs('USW00022536.dly','TMIN')"
   ]
  },
  {
   "cell_type": "markdown",
   "metadata": {},
   "source": [
    "### integrating missing data"
   ]
  },
  {
   "cell_type": "code",
   "execution_count": 24,
   "metadata": {
    "collapsed": false
   },
   "outputs": [],
   "source": [
    "lihue_tmin = getobs('USW00022536.dly','TMIN')\n",
    "lihue_tmax = getobs('USW00022536.dly','TMAX')"
   ]
  },
  {
   "cell_type": "code",
   "execution_count": 25,
   "metadata": {
    "collapsed": false
   },
   "outputs": [
    {
     "data": {
      "text/plain": [
       "[<matplotlib.lines.Line2D at 0xa617668>]"
      ]
     },
     "execution_count": 25,
     "metadata": {},
     "output_type": "execute_result"
    },
    {
     "data": {
      "image/png": "[encoded data removed]",
      "text/plain": [
       "<matplotlib.figure.Figure at 0xa6173c8>"
      ]
     },
     "metadata": {},
     "output_type": "display_data"
    }
   ],
   "source": [
    "plt.plot(lihue_tmax['date'],lihue_tmax['value'])\n",
    "plt.plot(lihue_tmin['date'],lihue_tmin['value'])"
   ]
  },
  {
   "cell_type": "code",
   "execution_count": 28,
   "metadata": {
    "collapsed": false
   },
   "outputs": [
    {
     "data": {
      "text/plain": [
       "(21.016720176791893, 27.300133427844727)"
      ]
     },
     "execution_count": 28,
     "metadata": {},
     "output_type": "execute_result"
    }
   ],
   "source": [
    "np.mean(lihue_tmin['value']),np.mean(lihue_tmax['value'],)"
   ]
  },
  {
   "cell_type": "markdown",
   "metadata": {},
   "source": [
    "### smoothing the data"
   ]
  },
  {
   "cell_type": "code",
   "execution_count": 30,
   "metadata": {
    "collapsed": true
   },
   "outputs": [],
   "source": [
    "def plot_smoothed(t,win=10):\n",
    "    smoothed = np.correlate(t['value'],np.ones(win)/win,'same')\n",
    "    plt.plot(t['date'],smoothed)"
   ]
  },
  {
   "cell_type": "code",
   "execution_count": 31,
   "metadata": {
    "collapsed": false
   },
   "outputs": [
    {
     "data": {
      "image/png": "[encoded data removed]",
      "text/plain": [
       "<matplotlib.figure.Figure at 0xa59feb8>"
      ]
     },
     "metadata": {},
     "output_type": "display_data"
    }
   ],
   "source": [
    "plot_smoothed(lihue_tmin)"
   ]
  },
  {
   "cell_type": "code",
   "execution_count": 35,
   "metadata": {
    "collapsed": false
   },
   "outputs": [
    {
     "data": {
      "image/png": "[encoded data removed]",
      "text/plain": [
       "<matplotlib.figure.Figure at 0xa8b15c0>"
      ]
     },
     "metadata": {},
     "output_type": "display_data"
    }
   ],
   "source": [
    "plt.figure(figsize=(10,6))\n",
    "\n",
    "for i,code in enumerate(datastations):\n",
    "    \n",
    "    plt.subplot(2,2,i+1)\n",
    "    \n",
    "    plot_smoothed(getobs('{}.dly'.format(code),'TMIN'),365)\n",
    "    plot_smoothed(getobs('{}.dly'.format(code),'TMAX'),365)\n",
    "    \n",
    "    plt.title(stations[code])\n",
    "    \n",
    "    plt.axis(xmin=np.datetime64('1952'),xmax=np.datetime64('2012'),ymin=-10,ymax=30)\n",
    "    \n",
    "plt.tight_layout()"
   ]
  },
  {
   "cell_type": "markdown",
   "metadata": {},
   "source": [
    "### plotting historical records"
   ]
  },
  {
   "cell_type": "code",
   "execution_count": 39,
   "metadata": {
    "collapsed": true
   },
   "outputs": [],
   "source": [
    "# re-cast data as 2d array, each row is a year, each column a day\n",
    "\n",
    "def select_year(data,year):\n",
    "    \n",
    "    start = np.datetime64('{}'.format(year))\n",
    "    end = start+ np.timedelta64(1,'Y')\n",
    "    \n",
    "    return data[(data['date'] >= start) & (data['date'] < end)]['value']"
   ]
  },
  {
   "cell_type": "code",
   "execution_count": 42,
   "metadata": {
    "collapsed": false
   },
   "outputs": [
    {
     "data": {
      "text/plain": [
       "array([ 17.8,  17.8,  17.8,  17.8,  17.8,  17.8,  17.8,  17.8,  17.8,\n",
       "        17.8,  17.8,  17.8,  17.8,  17.8,  17.8,  17.8,  17.8,  17.8,\n",
       "        17.8,  17.8])"
      ]
     },
     "execution_count": 42,
     "metadata": {},
     "output_type": "execute_result"
    }
   ],
   "source": [
    "select_year(lihue_tmin,1951)[:20]"
   ]
  },
  {
   "cell_type": "code",
   "execution_count": 51,
   "metadata": {
    "collapsed": true
   },
   "outputs": [],
   "source": [
    "a = []\n",
    "b = []\n",
    "\n",
    "for year in range(1951,2014+1):\n",
    "    a.append(select_year(lihue_tmin,year)[:365])\n",
    "    \n",
    "for year in range(1951,2014+1):\n",
    "    b.append(select_year(lihue_tmax,year)[:365])\n",
    "    "
   ]
  },
  {
   "cell_type": "code",
   "execution_count": 52,
   "metadata": {
    "collapsed": false
   },
   "outputs": [
    {
     "data": {
      "text/plain": [
       "array([[ 17.8,  17.8,  17.8, ...,  22.8,  22.8,  22.8],\n",
       "       [ 17.2,  17.2,  17.2, ...,  21.1,  21.1,  21.1],\n",
       "       [ 17.8,  17.8,  17.8, ...,  22.2,  22.2,  22.2],\n",
       "       ..., \n",
       "       [ 17.8,  17.8,  17.8, ...,  19.4,  19.4,  19.4],\n",
       "       [ 20. ,  20. ,  20. , ...,  18.9,  18.9,  18.9],\n",
       "       [ 17.8,  17.8,  17.8, ...,  20. ,  20. ,  20. ]])"
      ]
     },
     "execution_count": 52,
     "metadata": {},
     "output_type": "execute_result"
    }
   ],
   "source": [
    "lihue_tmin_all = np.vstack(a)\n",
    "lihue_tmin_all"
   ]
  },
  {
   "cell_type": "code",
   "execution_count": 53,
   "metadata": {
    "collapsed": false
   },
   "outputs": [
    {
     "data": {
      "text/plain": [
       "array([[ 25.6,  25.6,  25.6, ...,  26.7,  26.7,  26.7],\n",
       "       [ 26.7,  26.7,  26.7, ...,  24.4,  24.4,  24.4],\n",
       "       [ 24.4,  24.4,  24.4, ...,  26.1,  26.1,  26.1],\n",
       "       ..., \n",
       "       [ 25. ,  25. ,  25. , ...,  27.2,  27.2,  27.2],\n",
       "       [ 23.9,  23.9,  23.9, ...,  25. ,  25. ,  25. ],\n",
       "       [ 26.1,  26.1,  26.1, ...,  26.1,  26.1,  26.1]])"
      ]
     },
     "execution_count": 53,
     "metadata": {},
     "output_type": "execute_result"
    }
   ],
   "source": [
    "lihue_tmax_all = np.vstack(b)\n",
    "lihue_tmax_all"
   ]
  },
  {
   "cell_type": "code",
   "execution_count": 47,
   "metadata": {
    "collapsed": false
   },
   "outputs": [
    {
     "data": {
      "text/plain": [
       "(64, 365)"
      ]
     },
     "execution_count": 47,
     "metadata": {},
     "output_type": "execute_result"
    }
   ],
   "source": [
    "lihue_tmin_all.shape"
   ]
  },
  {
   "cell_type": "code",
   "execution_count": 54,
   "metadata": {
    "collapsed": false
   },
   "outputs": [
    {
     "data": {
      "text/plain": [
       "(64, 365)"
      ]
     },
     "execution_count": 54,
     "metadata": {},
     "output_type": "execute_result"
    }
   ],
   "source": [
    "lihue_tmax_all.shape"
   ]
  },
  {
   "cell_type": "code",
   "execution_count": 48,
   "metadata": {
    "collapsed": true
   },
   "outputs": [],
   "source": [
    "lihue_tmin_recordmin = np.min(lihue_tmin_all,axis=0)\n",
    "lihue_tmin_recordmax = np.max(lihue_tmin_all,axis=0)"
   ]
  },
  {
   "cell_type": "code",
   "execution_count": 49,
   "metadata": {
    "collapsed": false
   },
   "outputs": [
    {
     "data": {
      "text/plain": [
       "[<matplotlib.lines.Line2D at 0xa9fc160>]"
      ]
     },
     "execution_count": 49,
     "metadata": {},
     "output_type": "execute_result"
    },
    {
     "data": {
      "image/png": "[encoded data removed]",
      "text/plain": [
       "<matplotlib.figure.Figure at 0xa9baa58>"
      ]
     },
     "metadata": {},
     "output_type": "display_data"
    }
   ],
   "source": [
    "plt.plot(lihue_tmin_recordmin,'.')"
   ]
  },
  {
   "cell_type": "code",
   "execution_count": 60,
   "metadata": {
    "collapsed": false
   },
   "outputs": [
    {
     "data": {
      "text/plain": [
       "(0.0, 365, 10.0, 35.0)"
      ]
     },
     "execution_count": 60,
     "metadata": {},
     "output_type": "execute_result"
    },
    {
     "data": {
      "image/png": "[encoded data removed]",
      "text/plain": [
       "<matplotlib.figure.Figure at 0xa985cf8>"
      ]
     },
     "metadata": {},
     "output_type": "display_data"
    }
   ],
   "source": [
    "plt.figure(figsize=(12,4))\n",
    "\n",
    "days = np.arange(1,365+1)\n",
    "\n",
    "plt.fill_between(days,np.min(lihue_tmin_all,axis=0),np.max(lihue_tmin_all,axis=0),alpha=0.4)\n",
    "plt.plot(select_year(lihue_tmin,2009))\n",
    "\n",
    "plt.fill_between(days,np.min(lihue_tmax_all,axis=0),np.max(lihue_tmax_all,axis=0),alpha=0.4)\n",
    "plt.plot(select_year(lihue_tmax,2009))\n",
    "\n",
    "plt.axis(xmax=365)"
   ]
  }
 ],
 "metadata": {
  "kernelspec": {
   "display_name": "Python 3",
   "language": "python",
   "name": "python3"
  },
  "language_info": {
   "codemirror_mode": {
    "name": "ipython",
    "version": 3
   },
   "file_extension": ".py",
   "mimetype": "text/x-python",
   "name": "python",
   "nbconvert_exporter": "python",
   "pygments_lexer": "ipython3",
   "version": "3.4.4"
  }
 },
 "nbformat": 4,
 "nbformat_minor": 0
}
