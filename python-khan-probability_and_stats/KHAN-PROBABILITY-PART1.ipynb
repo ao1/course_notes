{
 "cells": [
  {
   "cell_type": "code",
   "execution_count": 1,
   "metadata": {
    "collapsed": false
   },
   "outputs": [],
   "source": [
    "%matplotlib inline\n",
    "\n",
    "import random\n",
    "import pandas as pd\n",
    "import numpy as np\n",
    "import itertools\n",
    "import scipy.special as ss"
   ]
  },
  {
   "cell_type": "markdown",
   "metadata": {},
   "source": [
    "# Probability of equally likely independent events\n",
    "\n",
    "1.\n",
    "\n",
    "P(A) = events that satisfy A  / all equally likely events\n",
    "\n",
    "Note that each coin flip is <b>independnent</b> from the others. What happens in one flip does not affect the\n",
    "probability in the next flip.\n",
    "\n",
    "2.\n",
    "\n",
    "A true random series will cotain an even distribution of every kind of sequence.\n",
    "Humans favor certain sequences, resulting in patterns.\n",
    "\n",
    "    Example of true randomness:\n",
    "    000 = 5, 010 = 5, 001 = 5, 110 = 5\n",
    "\n",
    "3.\n",
    "\n",
    "If the data is -- by the nature of the problem -- fixed in length, use a tuple.\n",
    "\n",
    "    Examples:\n",
    "    ( r, g, b ) - three elements, fixed by the definition of the problem.\n",
    "    ( latitude, longitude ) - two elements, fixed by the problem definition\n",
    "\n",
    "If the data is -- by the nature of the problem -- variable, use a list.\n",
    "\n",
    "4.\n",
    "\n",
    "P(Yellow or Cube) = P(Yellow) + P(Cube) - P(Yellow and Cube)\n",
    "\n",
    "This can be generalized as the rule: \n",
    "P(A OR B) = P(A) + P(B) - P(A and B)"
   ]
  },
  {
   "cell_type": "markdown",
   "metadata": {},
   "source": [
    "## Coin flips (using a list)"
   ]
  },
  {
   "cell_type": "code",
   "execution_count": 6,
   "metadata": {
    "collapsed": false
   },
   "outputs": [],
   "source": [
    "# simulation of flipping a coin\n",
    "\n",
    "def flip_sim(num_of_flips):\n",
    "\n",
    "    results = []\n",
    "    \n",
    "    for i in range(0,num_of_flips):\n",
    "        results.append(random.choice(['heads','tails']))\n",
    "\n",
    "    results = pd.Series(results) \n",
    "    \n",
    "    return results.value_counts(normalize='True')"
   ]
  },
  {
   "cell_type": "code",
   "execution_count": 7,
   "metadata": {
    "collapsed": false
   },
   "outputs": [
    {
     "data": {
      "text/plain": [
       "0.5"
      ]
     },
     "execution_count": 7,
     "metadata": {},
     "output_type": "execute_result"
    }
   ],
   "source": [
    "1/2"
   ]
  },
  {
   "cell_type": "code",
   "execution_count": 10,
   "metadata": {
    "collapsed": false
   },
   "outputs": [
    {
     "data": {
      "text/plain": [
       "heads    0.505\n",
       "tails    0.495\n",
       "dtype: float64"
      ]
     },
     "execution_count": 10,
     "metadata": {},
     "output_type": "execute_result"
    }
   ],
   "source": [
    "# the more flips, the closer to 0.5 the results\n",
    "\n",
    "flip_sim(1000)"
   ]
  },
  {
   "cell_type": "markdown",
   "metadata": {},
   "source": [
    "## Die rolls (using a list)"
   ]
  },
  {
   "cell_type": "code",
   "execution_count": 156,
   "metadata": {
    "collapsed": true
   },
   "outputs": [],
   "source": [
    "# simulation of rolling a die\n",
    "\n",
    "def die_sim(num_of_flips):\n",
    "\n",
    "    results = []\n",
    "    \n",
    "    for i in range(0,num_of_flips):\n",
    "        results.append(random.randint(1,6))\n",
    "\n",
    "    results = pd.Series(results) \n",
    "    \n",
    "    return results.value_counts(normalize='True')"
   ]
  },
  {
   "cell_type": "code",
   "execution_count": 157,
   "metadata": {
    "collapsed": false
   },
   "outputs": [
    {
     "data": {
      "text/plain": [
       "0.16666666666666666"
      ]
     },
     "execution_count": 157,
     "metadata": {},
     "output_type": "execute_result"
    }
   ],
   "source": [
    "1/6"
   ]
  },
  {
   "cell_type": "code",
   "execution_count": 158,
   "metadata": {
    "collapsed": false
   },
   "outputs": [
    {
     "data": {
      "text/plain": [
       "6    0.1738\n",
       "4    0.1695\n",
       "2    0.1666\n",
       "3    0.1650\n",
       "1    0.1642\n",
       "5    0.1609\n",
       "dtype: float64"
      ]
     },
     "execution_count": 158,
     "metadata": {},
     "output_type": "execute_result"
    }
   ],
   "source": [
    "# the more rolls, the closer to 0.166 the results\n",
    "\n",
    "die_sim(10000)"
   ]
  },
  {
   "cell_type": "code",
   "execution_count": 159,
   "metadata": {
    "collapsed": false
   },
   "outputs": [
    {
     "data": {
      "text/plain": [
       "0.3333333333333333"
      ]
     },
     "execution_count": 159,
     "metadata": {},
     "output_type": "execute_result"
    }
   ],
   "source": [
    "# probability of getting a 1 or a 6\n",
    "\n",
    "1/6 + 1/6"
   ]
  },
  {
   "cell_type": "markdown",
   "metadata": {
    "collapsed": true
   },
   "source": [
    "## Bag of marbles - Part 1 (using a tuple)"
   ]
  },
  {
   "cell_type": "code",
   "execution_count": 160,
   "metadata": {
    "collapsed": true
   },
   "outputs": [],
   "source": [
    "# simple example, use a tuple\n",
    "\n",
    "marble_bag = ('yellow','yellow','yellow',\n",
    "              'red','red',           \n",
    "              'green','green')"
   ]
  },
  {
   "cell_type": "code",
   "execution_count": 161,
   "metadata": {
    "collapsed": false
   },
   "outputs": [
    {
     "data": {
      "text/plain": [
       "('yellow', 'yellow', 'yellow', 'red', 'red', 'green', 'green')"
      ]
     },
     "execution_count": 161,
     "metadata": {},
     "output_type": "execute_result"
    }
   ],
   "source": [
    "# all possible outcomes, aka the sample space\n",
    "\n",
    "marble_bag"
   ]
  },
  {
   "cell_type": "code",
   "execution_count": 141,
   "metadata": {
    "collapsed": false
   },
   "outputs": [
    {
     "data": {
      "text/plain": [
       "0.42857142857142855"
      ]
     },
     "execution_count": 141,
     "metadata": {},
     "output_type": "execute_result"
    }
   ],
   "source": [
    "# probability of picking a yellow marble is 3/8\n",
    "\n",
    "marble_bag.count('yellow') / len(marble_bag)"
   ]
  },
  {
   "cell_type": "markdown",
   "metadata": {
    "collapsed": true
   },
   "source": [
    "## Bag of marbles - Part 2 (using a pandas series)"
   ]
  },
  {
   "cell_type": "code",
   "execution_count": 94,
   "metadata": {
    "collapsed": true
   },
   "outputs": [],
   "source": [
    "marble_bag2 = pd.Series(['red','red','red','red','red',\n",
    "                         'red','red','red','red',\n",
    "                         'blue','blue',\n",
    "                         'green','green','green'],name='Bag of Marbles 2')"
   ]
  },
  {
   "cell_type": "code",
   "execution_count": 95,
   "metadata": {
    "collapsed": false
   },
   "outputs": [
    {
     "data": {
      "text/plain": [
       "14"
      ]
     },
     "execution_count": 95,
     "metadata": {},
     "output_type": "execute_result"
    }
   ],
   "source": [
    "marble_bag2.count()"
   ]
  },
  {
   "cell_type": "code",
   "execution_count": 96,
   "metadata": {
    "collapsed": false
   },
   "outputs": [
    {
     "data": {
      "text/plain": [
       "red      9\n",
       "green    3\n",
       "blue     2\n",
       "Name: Bag of Marbles, dtype: int64"
      ]
     },
     "execution_count": 96,
     "metadata": {},
     "output_type": "execute_result"
    }
   ],
   "source": [
    "marble_bag2.value_counts()"
   ]
  },
  {
   "cell_type": "code",
   "execution_count": 97,
   "metadata": {
    "collapsed": false
   },
   "outputs": [
    {
     "data": {
      "text/plain": [
       "0.8571428571428571"
      ]
     },
     "execution_count": 97,
     "metadata": {},
     "output_type": "execute_result"
    }
   ],
   "source": [
    "# probability of picking a non-blue marble\n",
    "\n",
    "counts = marble_bag2.value_counts()\n",
    "\n",
    "(counts['red'] + counts['green']) / marble_bag2.count() #12/14"
   ]
  },
  {
   "cell_type": "markdown",
   "metadata": {
    "collapsed": true
   },
   "source": [
    "## Choosing multiples of 5 (using a list)"
   ]
  },
  {
   "cell_type": "code",
   "execution_count": 214,
   "metadata": {
    "collapsed": false
   },
   "outputs": [
    {
     "name": "stdout",
     "output_type": "stream",
     "text": [
      "7 multiples of 5 found\n"
     ]
    },
    {
     "data": {
      "text/plain": [
       "0.5833333333333334"
      ]
     },
     "execution_count": 214,
     "metadata": {},
     "output_type": "execute_result"
    }
   ],
   "source": [
    "# if a random number is chosen from the following list,\n",
    "# what is the chance the number is a multiple of 5?\n",
    "\n",
    "nums = [32,49,55,30,56,28,50,40,40,45,3,25]\n",
    "results = []\n",
    "\n",
    "for i in nums:\n",
    "    if i%5 == 0:\n",
    "        results.append(iv)\n",
    "\n",
    "print(len(results),'multiples of 5 found')\n",
    "        \n",
    "len(results)/len(nums) # 7/12"
   ]
  },
  {
   "cell_type": "markdown",
   "metadata": {
    "collapsed": true
   },
   "source": [
    "## Choosing multiples of 5 (in less lines)"
   ]
  },
  {
   "cell_type": "code",
   "execution_count": 235,
   "metadata": {
    "collapsed": false
   },
   "outputs": [
    {
     "data": {
      "text/plain": [
       "0.5833333333333334"
      ]
     },
     "execution_count": 235,
     "metadata": {},
     "output_type": "execute_result"
    }
   ],
   "source": [
    "nums = [32,49,55,30,56,28,50,40,40,45,3,25]\n",
    "\n",
    "[i%5 for i in nums].count(0) / len(nums)"
   ]
  },
  {
   "cell_type": "markdown",
   "metadata": {},
   "source": [
    "## Playing cards (using tuples)"
   ]
  },
  {
   "cell_type": "code",
   "execution_count": 76,
   "metadata": {
    "collapsed": false
   },
   "outputs": [],
   "source": [
    "# create a deck of cards \n",
    "# 4 suits and 13 types of cards, no jokers\n",
    "\n",
    "def create_deck():\n",
    "\n",
    "    suits = ('Diamond','Club','Spade','Heart')\n",
    "    types = ('2','3','4','5','6','7','8','9','10',\n",
    "             'Jack','Queen','King','Ace')\n",
    "    deck = []\n",
    "\n",
    "    for suit in suits:\n",
    "        for type_ in types:\n",
    "            deck.append(tuple([type_,suit]))\n",
    "    \n",
    "    return tuple(deck)"
   ]
  },
  {
   "cell_type": "code",
   "execution_count": 83,
   "metadata": {
    "collapsed": false
   },
   "outputs": [
    {
     "data": {
      "text/plain": [
       "('Queen', 'Heart')"
      ]
     },
     "execution_count": 83,
     "metadata": {},
     "output_type": "execute_result"
    }
   ],
   "source": [
    "# create a deck of cards\n",
    "deck = create_deck()\n",
    "\n",
    "# pick a random card\n",
    "random.choice(deck)"
   ]
  },
  {
   "cell_type": "code",
   "execution_count": 169,
   "metadata": {
    "collapsed": false
   },
   "outputs": [
    {
     "data": {
      "text/plain": [
       "0.07692307692307693"
      ]
     },
     "execution_count": 169,
     "metadata": {},
     "output_type": "execute_result"
    }
   ],
   "source": [
    "# probability of picking a jack\n",
    "\n",
    "len([1 for type_,suit in deck  if type_ == 'Jack']) / len(deck) #4/52"
   ]
  },
  {
   "cell_type": "code",
   "execution_count": 170,
   "metadata": {
    "collapsed": false
   },
   "outputs": [
    {
     "data": {
      "text/plain": [
       "0.25"
      ]
     },
     "execution_count": 170,
     "metadata": {},
     "output_type": "execute_result"
    }
   ],
   "source": [
    "# probability of picking a heart card\n",
    "\n",
    "len([1 for type_,suit in deck  if suit == 'Heart']) / len(deck) #13/52"
   ]
  },
  {
   "cell_type": "code",
   "execution_count": 80,
   "metadata": {
    "collapsed": false
   },
   "outputs": [
    {
     "data": {
      "text/plain": [
       "0.019230769230769232"
      ]
     },
     "execution_count": 80,
     "metadata": {},
     "output_type": "execute_result"
    }
   ],
   "source": [
    "# probability of picking a jack of hearts\n",
    "\n",
    "len([(type_,suit)  for type_,suit in deck  if type_ == 'Jack' and suit == 'Heart']) / len(deck) # 1/52"
   ]
  },
  {
   "cell_type": "code",
   "execution_count": 90,
   "metadata": {
    "collapsed": false
   },
   "outputs": [
    {
     "data": {
      "text/plain": [
       "0.3076923076923077"
      ]
     },
     "execution_count": 90,
     "metadata": {},
     "output_type": "execute_result"
    }
   ],
   "source": [
    "# probability of picking a jack or a heart\n",
    "\n",
    "len([(type_,suit)  for type_,suit in deck  if type_ == 'Jack' or suit == 'Heart']) / len(deck) # 16/52"
   ]
  },
  {
   "cell_type": "code",
   "execution_count": 91,
   "metadata": {
    "collapsed": false
   },
   "outputs": [
    {
     "data": {
      "text/plain": [
       "[('Jack', 'Diamond'),\n",
       " ('Jack', 'Club'),\n",
       " ('Jack', 'Spade'),\n",
       " ('2', 'Heart'),\n",
       " ('3', 'Heart'),\n",
       " ('4', 'Heart'),\n",
       " ('5', 'Heart'),\n",
       " ('6', 'Heart'),\n",
       " ('7', 'Heart'),\n",
       " ('8', 'Heart'),\n",
       " ('9', 'Heart'),\n",
       " ('10', 'Heart'),\n",
       " ('Jack', 'Heart'),\n",
       " ('Queen', 'Heart'),\n",
       " ('King', 'Heart'),\n",
       " ('Ace', 'Heart')]"
      ]
     },
     "execution_count": 91,
     "metadata": {},
     "output_type": "execute_result"
    }
   ],
   "source": [
    "# show all 16 \"jack or heart\" options\n",
    "# note that the jack of hearts counts as 1, not 2\n",
    "\n",
    "[(type_,suit)  for type_,suit in deck  if type_ == 'Jack' or suit == 'Heart']"
   ]
  },
  {
   "cell_type": "markdown",
   "metadata": {},
   "source": [
    "## Bag of shapes (using tuples)"
   ]
  },
  {
   "cell_type": "code",
   "execution_count": 150,
   "metadata": {
    "collapsed": false
   },
   "outputs": [
    {
     "data": {
      "text/plain": [
       "(('Green', 'Cube'),\n",
       " ('Green', 'Cube'),\n",
       " ('Green', 'Cube'),\n",
       " ('Green', 'Cube'),\n",
       " ('Green', 'Cube'))"
      ]
     },
     "execution_count": 150,
     "metadata": {},
     "output_type": "execute_result"
    }
   ],
   "source": [
    "# make a bag with: 8 green cubes, 9 green spheres\n",
    "#                  5 yellow cubes, 7 yellow spheres\n",
    "\n",
    "# using a list of tuples\n",
    "\n",
    "shape_bag = tuple(8*[('Green','Cube')]+9*[('Green','Sphere')]\n",
    "                  +5*[('Yellow','Cube')]+7*[('Yellow','Sphere')])\n",
    "\n",
    "# check first five shapes\n",
    "shape_bag[:5]"
   ]
  },
  {
   "cell_type": "code",
   "execution_count": 155,
   "metadata": {
    "collapsed": false
   },
   "outputs": [
    {
     "data": {
      "text/plain": [
       "29"
      ]
     },
     "execution_count": 155,
     "metadata": {},
     "output_type": "execute_result"
    }
   ],
   "source": [
    "len(shape_bag)"
   ]
  },
  {
   "cell_type": "code",
   "execution_count": 177,
   "metadata": {
    "collapsed": false
   },
   "outputs": [
    {
     "data": {
      "text/plain": [
       "0.4482758620689655"
      ]
     },
     "execution_count": 177,
     "metadata": {},
     "output_type": "execute_result"
    }
   ],
   "source": [
    "# probability of picking a cube out of the bag\n",
    "\n",
    "len([1 for color,shape in shape_bag if shape == 'Cube']) / len(shape_bag) \n",
    "# 13/29"
   ]
  },
  {
   "cell_type": "code",
   "execution_count": 178,
   "metadata": {
    "collapsed": false
   },
   "outputs": [
    {
     "data": {
      "text/plain": [
       "0.41379310344827586"
      ]
     },
     "execution_count": 178,
     "metadata": {},
     "output_type": "execute_result"
    }
   ],
   "source": [
    "# probability of picking a yellow shape out of the bag\n",
    "\n",
    "len([1 for color,shape in shape_bag if color == 'Yellow']) / len(shape_bag) \n",
    "# 12/29"
   ]
  },
  {
   "cell_type": "code",
   "execution_count": 179,
   "metadata": {
    "collapsed": false
   },
   "outputs": [
    {
     "data": {
      "text/plain": [
       "0.1724137931034483"
      ]
     },
     "execution_count": 179,
     "metadata": {},
     "output_type": "execute_result"
    }
   ],
   "source": [
    "# probability of picking a yellow cube\n",
    "\n",
    "len([1 for color,shape in shape_bag if color == 'Yellow' \n",
    "     and shape == 'Cube']) / len(shape_bag) \n",
    "# 5/29"
   ]
  },
  {
   "cell_type": "code",
   "execution_count": 185,
   "metadata": {
    "collapsed": false
   },
   "outputs": [
    {
     "data": {
      "text/plain": [
       "0.6896551724137931"
      ]
     },
     "execution_count": 185,
     "metadata": {},
     "output_type": "execute_result"
    }
   ],
   "source": [
    "# probability of picking a yellow or a cube\n",
    "\n",
    "len([1 for color,shape in shape_bag if color == 'Yellow' \n",
    "     or shape == 'Cube']) / len(shape_bag) \n",
    "# 20/29"
   ]
  },
  {
   "cell_type": "code",
   "execution_count": 186,
   "metadata": {
    "collapsed": false
   },
   "outputs": [
    {
     "data": {
      "text/plain": [
       "[('Green', 'Cube'),\n",
       " ('Green', 'Cube'),\n",
       " ('Green', 'Cube'),\n",
       " ('Green', 'Cube'),\n",
       " ('Green', 'Cube'),\n",
       " ('Green', 'Cube'),\n",
       " ('Green', 'Cube'),\n",
       " ('Green', 'Cube'),\n",
       " ('Yellow', 'Cube'),\n",
       " ('Yellow', 'Cube'),\n",
       " ('Yellow', 'Cube'),\n",
       " ('Yellow', 'Cube'),\n",
       " ('Yellow', 'Cube'),\n",
       " ('Yellow', 'Sphere'),\n",
       " ('Yellow', 'Sphere'),\n",
       " ('Yellow', 'Sphere'),\n",
       " ('Yellow', 'Sphere'),\n",
       " ('Yellow', 'Sphere'),\n",
       " ('Yellow', 'Sphere'),\n",
       " ('Yellow', 'Sphere')]"
      ]
     },
     "execution_count": 186,
     "metadata": {},
     "output_type": "execute_result"
    }
   ],
   "source": [
    "# show all yellows or cubes\n",
    "\n",
    "[(color,shape) for color,shape in shape_bag \n",
    " if color == 'Yellow' or shape == 'Cube']"
   ]
  },
  {
   "cell_type": "markdown",
   "metadata": {
    "collapsed": true
   },
   "source": [
    "## Bag of marbles - Part 3 (using a pandas series)"
   ]
  },
  {
   "cell_type": "code",
   "execution_count": 193,
   "metadata": {
    "collapsed": false
   },
   "outputs": [
    {
     "data": {
      "text/plain": [
       "0       red\n",
       "1       red\n",
       "2       red\n",
       "3       red\n",
       "4       red\n",
       "5       red\n",
       "6       red\n",
       "7       red\n",
       "8       red\n",
       "9      blue\n",
       "10     blue\n",
       "11    green\n",
       "12    green\n",
       "13    green\n",
       "Name: Bag of Marbles 3, dtype: object"
      ]
     },
     "execution_count": 193,
     "metadata": {},
     "output_type": "execute_result"
    }
   ],
   "source": [
    "marble_bag3 = pd.Series(9*['red']+2*['blue']+3*['green'],\n",
    "                        name='Bag of Marbles 3')\n",
    "marble_bag3"
   ]
  },
  {
   "cell_type": "code",
   "execution_count": 203,
   "metadata": {
    "collapsed": false
   },
   "outputs": [
    {
     "data": {
      "text/plain": [
       "red      9\n",
       "green    3\n",
       "blue     2\n",
       "Name: Bag of Marbles 3, dtype: int64"
      ]
     },
     "execution_count": 203,
     "metadata": {},
     "output_type": "execute_result"
    }
   ],
   "source": [
    "counts = marble_bag3.value_counts()\n",
    "counts"
   ]
  },
  {
   "cell_type": "code",
   "execution_count": 212,
   "metadata": {
    "collapsed": false
   },
   "outputs": [
    {
     "data": {
      "text/plain": [
       "0.8571428571428571"
      ]
     },
     "execution_count": 212,
     "metadata": {},
     "output_type": "execute_result"
    }
   ],
   "source": [
    "# What is the probability of selecting a non-blue marble?\n",
    "\n",
    "(counts.sum()-counts['blue']) / counts.sum()"
   ]
  },
  {
   "cell_type": "markdown",
   "metadata": {},
   "source": [
    "## Coin flips - Part 2 (using a list of tuples)"
   ]
  },
  {
   "cell_type": "code",
   "execution_count": 68,
   "metadata": {
    "collapsed": false
   },
   "outputs": [
    {
     "data": {
      "text/plain": [
       "[('H', 'H'), ('H', 'T'), ('T', 'H'), ('T', 'T')]"
      ]
     },
     "execution_count": 68,
     "metadata": {},
     "output_type": "execute_result"
    }
   ],
   "source": [
    "# What is the probability of getting heads twice in a row?\n",
    "# P(HH) ?\n",
    "\n",
    "# generate cartesian product (sample set) of results, for 2 flips\n",
    "\n",
    "cart = list(itertools.product('HT',repeat=2))\n",
    "cart"
   ]
  },
  {
   "cell_type": "code",
   "execution_count": 36,
   "metadata": {
    "collapsed": false
   },
   "outputs": [
    {
     "data": {
      "text/plain": [
       "0.25"
      ]
     },
     "execution_count": 36,
     "metadata": {},
     "output_type": "execute_result"
    }
   ],
   "source": [
    "# How many of the above meet P(HH)?\n",
    "\n",
    "len([1 for i,j in cart if i == 'H' and j == 'H']) / len(cart)\n",
    "# 1/4"
   ]
  },
  {
   "cell_type": "code",
   "execution_count": 51,
   "metadata": {
    "collapsed": false
   },
   "outputs": [
    {
     "data": {
      "text/plain": [
       "[('H', 'H', 'H'),\n",
       " ('H', 'H', 'T'),\n",
       " ('H', 'T', 'H'),\n",
       " ('H', 'T', 'T'),\n",
       " ('T', 'H', 'H'),\n",
       " ('T', 'H', 'T'),\n",
       " ('T', 'T', 'H'),\n",
       " ('T', 'T', 'T')]"
      ]
     },
     "execution_count": 51,
     "metadata": {},
     "output_type": "execute_result"
    }
   ],
   "source": [
    "# What is the probability of getting heads 3 times in a row?\n",
    "\n",
    "cart3 = list(itertools.product('HT',repeat=3))\n",
    "cart3"
   ]
  },
  {
   "cell_type": "code",
   "execution_count": 52,
   "metadata": {
    "collapsed": false
   },
   "outputs": [
    {
     "data": {
      "text/plain": [
       "0.125"
      ]
     },
     "execution_count": 52,
     "metadata": {},
     "output_type": "execute_result"
    }
   ],
   "source": [
    "# What is the probability of getting heads 3 times in 3 flips?\n",
    "\n",
    "cart3.count(('H', 'H', 'H')) / len(cart2)\n",
    "# 1/8"
   ]
  },
  {
   "cell_type": "code",
   "execution_count": 54,
   "metadata": {
    "collapsed": false
   },
   "outputs": [
    {
     "data": {
      "text/plain": [
       "0.25"
      ]
     },
     "execution_count": 54,
     "metadata": {},
     "output_type": "execute_result"
    }
   ],
   "source": [
    "# What is the probability of getting heads on flip 1 and 2\n",
    "# out of 3?\n",
    "\n",
    "len([1 for i,j,k in cart3 if i == 'H' and j == 'H']) / len(cart3)\n",
    "\n",
    "#('H', 'H', 'H')\n",
    "#('H', 'H', 'T')\n",
    "\n",
    "# 1/4 or.. P(H)*P(H) aka (1/2)*(1/2)"
   ]
  },
  {
   "cell_type": "code",
   "execution_count": 55,
   "metadata": {
    "collapsed": false
   },
   "outputs": [
    {
     "data": {
      "text/plain": [
       "[('H', 'H', 'H'),\n",
       " ('H', 'H', 'T'),\n",
       " ('H', 'T', 'H'),\n",
       " ('H', 'T', 'T'),\n",
       " ('T', 'H', 'H'),\n",
       " ('T', 'H', 'T'),\n",
       " ('T', 'T', 'H'),\n",
       " ('T', 'T', 'T')]"
      ]
     },
     "execution_count": 55,
     "metadata": {},
     "output_type": "execute_result"
    }
   ],
   "source": [
    "# What is P(THT)?\n",
    "cart3"
   ]
  },
  {
   "cell_type": "code",
   "execution_count": 45,
   "metadata": {
    "collapsed": false
   },
   "outputs": [
    {
     "data": {
      "text/plain": [
       "0.125"
      ]
     },
     "execution_count": 45,
     "metadata": {},
     "output_type": "execute_result"
    }
   ],
   "source": [
    "# P(T)*P(H)*P(T)\n",
    "\n",
    "(1/2)*(1/2)*(1/2)\n",
    "# We can do this because we know the events are independent"
   ]
  },
  {
   "cell_type": "code",
   "execution_count": 56,
   "metadata": {
    "collapsed": false
   },
   "outputs": [
    {
     "data": {
      "text/plain": [
       "0.125"
      ]
     },
     "execution_count": 56,
     "metadata": {},
     "output_type": "execute_result"
    }
   ],
   "source": [
    "#another way of looking it up\n",
    "cart3.count(('T', 'H', 'T')) / len(cart2)"
   ]
  },
  {
   "cell_type": "code",
   "execution_count": 15,
   "metadata": {
    "collapsed": false
   },
   "outputs": [
    {
     "data": {
      "text/plain": [
       "[('H', 'H', 'H'),\n",
       " ('H', 'H', 'T'),\n",
       " ('H', 'T', 'H'),\n",
       " ('H', 'T', 'T'),\n",
       " ('T', 'H', 'H'),\n",
       " ('T', 'H', 'T'),\n",
       " ('T', 'T', 'H'),\n",
       " ('T', 'T', 'T')]"
      ]
     },
     "execution_count": 15,
     "metadata": {},
     "output_type": "execute_result"
    }
   ],
   "source": [
    "# What is the probability of getting at least one head\n",
    "# out of 3 flips?\n",
    "\n",
    "cart3 = list(itertools.product('HT',repeat=3))\n",
    "cart3"
   ]
  },
  {
   "cell_type": "code",
   "execution_count": 16,
   "metadata": {
    "collapsed": false
   },
   "outputs": [
    {
     "data": {
      "text/plain": [
       "0.875"
      ]
     },
     "execution_count": 16,
     "metadata": {},
     "output_type": "execute_result"
    }
   ],
   "source": [
    "# What is the probability of getting at least one head\n",
    "# out of 3 flips?\n",
    "# (This is the same as the probability of not getting all tails)\n",
    "\n",
    "result = 0\n",
    "\n",
    "for element in cart3:\n",
    "    counter = 0\n",
    "    for letter in element:\n",
    "        if letter == 'H':\n",
    "            counter += 1\n",
    "    if counter >= 1:\n",
    "        result += 1\n",
    "        \n",
    "result / len(cart3) #7/8"
   ]
  },
  {
   "cell_type": "code",
   "execution_count": 70,
   "metadata": {
    "collapsed": false
   },
   "outputs": [
    {
     "data": {
      "text/plain": [
       "0.875"
      ]
     },
     "execution_count": 70,
     "metadata": {},
     "output_type": "execute_result"
    }
   ],
   "source": [
    "# What is the probability of getting at least one head\n",
    "# out of 3 flips?\n",
    "# (This is the same as the probability of not getting all tails)\n",
    "\n",
    "7*(1/8)"
   ]
  },
  {
   "cell_type": "code",
   "execution_count": 74,
   "metadata": {
    "collapsed": false
   },
   "outputs": [
    {
     "data": {
      "text/plain": [
       "0.875"
      ]
     },
     "execution_count": 74,
     "metadata": {},
     "output_type": "execute_result"
    }
   ],
   "source": [
    "# What is the probability of not getting all tails?\n",
    "\n",
    "result = 0\n",
    "\n",
    "for element in cart3:\n",
    "    counter = 0\n",
    "    for letter in element:\n",
    "        if letter == 'T':\n",
    "            counter += 1\n",
    "    if counter < 3:\n",
    "        result += 1\n",
    "        \n",
    "result / len(cart3) # 7/8"
   ]
  },
  {
   "cell_type": "code",
   "execution_count": 78,
   "metadata": {
    "collapsed": false
   },
   "outputs": [
    {
     "data": {
      "text/plain": [
       "0.875"
      ]
     },
     "execution_count": 78,
     "metadata": {},
     "output_type": "execute_result"
    }
   ],
   "source": [
    "# What is the probability of not getting all tails?\n",
    "\n",
    "1 - (cart3.count(('T', 'T', 'T')) / len(cart3))"
   ]
  },
  {
   "cell_type": "code",
   "execution_count": 5,
   "metadata": {
    "collapsed": false
   },
   "outputs": [
    {
     "data": {
      "text/plain": [
       "0.9990234375"
      ]
     },
     "execution_count": 5,
     "metadata": {},
     "output_type": "execute_result"
    }
   ],
   "source": [
    "# What is the probability of getting at least one head in 10 flips?\n",
    "\n",
    "cart10 = list(itertools.product('HT',repeat=10))\n",
    "\n",
    "result = 0\n",
    "\n",
    "for element in cart10:\n",
    "    counter = 0\n",
    "    for letter in element:\n",
    "        if letter == 'H':\n",
    "            counter += 1\n",
    "    if counter >= 1: # at least one\n",
    "        result += 1\n",
    "        \n",
    "result / len(cart10) # 1023 / 1024"
   ]
  },
  {
   "cell_type": "code",
   "execution_count": 10,
   "metadata": {
    "collapsed": false
   },
   "outputs": [
    {
     "data": {
      "text/plain": [
       "[('H', 'H', 'H', 'H'),\n",
       " ('H', 'H', 'H', 'T'),\n",
       " ('H', 'H', 'T', 'H'),\n",
       " ('H', 'H', 'T', 'T'),\n",
       " ('H', 'T', 'H', 'H'),\n",
       " ('H', 'T', 'H', 'T'),\n",
       " ('H', 'T', 'T', 'H'),\n",
       " ('H', 'T', 'T', 'T'),\n",
       " ('T', 'H', 'H', 'H'),\n",
       " ('T', 'H', 'H', 'T'),\n",
       " ('T', 'H', 'T', 'H'),\n",
       " ('T', 'H', 'T', 'T'),\n",
       " ('T', 'T', 'H', 'H'),\n",
       " ('T', 'T', 'H', 'T'),\n",
       " ('T', 'T', 'T', 'H'),\n",
       " ('T', 'T', 'T', 'T')]"
      ]
     },
     "execution_count": 10,
     "metadata": {},
     "output_type": "execute_result"
    }
   ],
   "source": [
    "# What is the probability of getting a total of 1 heads in 4 flips?\n",
    "\n",
    "cart4 = list(itertools.product('HT',repeat=4))\n",
    "cart4"
   ]
  },
  {
   "cell_type": "code",
   "execution_count": 14,
   "metadata": {
    "collapsed": false
   },
   "outputs": [
    {
     "data": {
      "text/plain": [
       "0.25"
      ]
     },
     "execution_count": 14,
     "metadata": {},
     "output_type": "execute_result"
    }
   ],
   "source": [
    "# What is the probability of getting a total of 1 heads in 4 flips?\n",
    "\n",
    "len([1 for i in cart4  if i.count('H') == 1]) / len(cart4) \n",
    "# 4/16"
   ]
  },
  {
   "cell_type": "code",
   "execution_count": 18,
   "metadata": {
    "collapsed": false
   },
   "outputs": [
    {
     "data": {
      "text/plain": [
       "6"
      ]
     },
     "execution_count": 18,
     "metadata": {},
     "output_type": "execute_result"
    }
   ],
   "source": [
    "# What is the probability of getting a total of 2 heads in 4 flips?\n",
    "len([1 for i in cart4  if i.count('H') == 2]) / len(cart4) \n",
    "#6/16"
   ]
  },
  {
   "cell_type": "code",
   "execution_count": 31,
   "metadata": {
    "collapsed": false
   },
   "outputs": [
    {
     "data": {
      "text/plain": [
       "32"
      ]
     },
     "execution_count": 31,
     "metadata": {},
     "output_type": "execute_result"
    }
   ],
   "source": [
    "# What is the probability of getting a total of 3 heads in 5 flips?\n",
    "cart5 = list(itertools.product('HT',repeat=5))\n",
    "len(cart5) #or 2**5"
   ]
  },
  {
   "cell_type": "code",
   "execution_count": 33,
   "metadata": {
    "collapsed": false
   },
   "outputs": [
    {
     "data": {
      "text/plain": [
       "0.3125"
      ]
     },
     "execution_count": 33,
     "metadata": {},
     "output_type": "execute_result"
    }
   ],
   "source": [
    "# What is the probability of getting a total of 3 heads in 5 flips?\n",
    "len([1 for i in cart5 if i.count('H') == 3]) / len(cart5) # 10/32"
   ]
  },
  {
   "cell_type": "code",
   "execution_count": 34,
   "metadata": {
    "collapsed": false
   },
   "outputs": [
    {
     "data": {
      "text/plain": [
       "10.0"
      ]
     },
     "execution_count": 34,
     "metadata": {},
     "output_type": "execute_result"
    }
   ],
   "source": [
    "# What is the probability of getting a total of 3 heads in 5 flips?\n",
    "(5*4*3) / (3*2*1)"
   ]
  }
 ],
 "metadata": {
  "kernelspec": {
   "display_name": "Python 3",
   "language": "python",
   "name": "python3"
  },
  "language_info": {
   "codemirror_mode": {
    "name": "ipython",
    "version": 3
   },
   "file_extension": ".py",
   "mimetype": "text/x-python",
   "name": "python",
   "nbconvert_exporter": "python",
   "pygments_lexer": "ipython3",
   "version": "3.4.4"
  }
 },
 "nbformat": 4,
 "nbformat_minor": 0
}
