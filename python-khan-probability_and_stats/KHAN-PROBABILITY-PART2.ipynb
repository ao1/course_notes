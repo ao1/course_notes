{
 "cells": [
  {
   "cell_type": "code",
   "execution_count": 1,
   "metadata": {
    "collapsed": false
   },
   "outputs": [],
   "source": [
    "%matplotlib inline\n",
    "\n",
    "import random\n",
    "import pandas as pd\n",
    "import numpy as np\n",
    "import itertools\n",
    "import scipy.special as ss\n",
    "import math"
   ]
  },
  {
   "cell_type": "markdown",
   "metadata": {},
   "source": [
    "# Probability of equally likely independent events\n",
    " \n",
    "P(HH) = P(H) x P(H) = 1/2 x 1/2 = 1/4\n",
    "\n",
    "P(HH) = HH occurs only once in ['HH','HT','TH','TT'] = 1/4\n",
    "\n",
    "P(1 H and 1 T) = P(TH) + P(HT) = 1/4 + 1/4 = 1/2"
   ]
  },
  {
   "cell_type": "markdown",
   "metadata": {},
   "source": [
    "## n choose k"
   ]
  },
  {
   "cell_type": "code",
   "execution_count": 40,
   "metadata": {
    "collapsed": true
   },
   "outputs": [],
   "source": [
    "# What is the probability of getting a total of k heads in n flips of the fair coin?\n",
    "# This is n choose k\n",
    "# iterating through all possibilities leads to slower performance\n",
    "\n",
    "def heads_in_flips(k,n):\n",
    "    \n",
    "    cart_n = tuple(itertools.product('HT',repeat=n))\n",
    "    matches = len([1 for i in cart_n if i.count('H') == k])\n",
    "    result = matches / len(cart_n)\n",
    "    \n",
    "    print('Probability of {0} heads in {1} flips :::: {2}/{3} :: {4:3.1f}% :: {5}'\n",
    "          .format( k , n , matches , len(cart_n) , result*100 ,result ))\n",
    "    return result"
   ]
  },
  {
   "cell_type": "code",
   "execution_count": 41,
   "metadata": {
    "collapsed": false
   },
   "outputs": [
    {
     "name": "stdout",
     "output_type": "stream",
     "text": [
      "Probability of 0 heads in 5 flips :::: 1/32 :: 3.1% :: 0.03125\n",
      "Probability of 1 heads in 5 flips :::: 5/32 :: 15.6% :: 0.15625\n",
      "Probability of 2 heads in 5 flips :::: 10/32 :: 31.2% :: 0.3125\n",
      "Probability of 3 heads in 5 flips :::: 10/32 :: 31.2% :: 0.3125\n",
      "Probability of 4 heads in 5 flips :::: 5/32 :: 15.6% :: 0.15625\n",
      "Probability of 5 heads in 5 flips :::: 1/32 :: 3.1% :: 0.03125\n"
     ]
    }
   ],
   "source": [
    "for i in range(5+1):\n",
    "    heads_in_flips(i,5)"
   ]
  },
  {
   "cell_type": "code",
   "execution_count": 38,
   "metadata": {
    "collapsed": true
   },
   "outputs": [],
   "source": [
    "# using scipy.special.comb \n",
    "\n",
    "def heads_in_flips2(k,n):\n",
    "    \n",
    "    cart_n = 2**n\n",
    "    matches = int(ss.comb(n,k)) \n",
    "    result = matches / cart_n\n",
    "    \n",
    "    print('Probability of {0} heads in {1} flips :::: {2}/{3} :: {4:3.1f}% :: {5}'\n",
    "          .format(k , n , matches , cart_n , result*100 ,result ))\n",
    "    return result"
   ]
  },
  {
   "cell_type": "code",
   "execution_count": 39,
   "metadata": {
    "collapsed": false
   },
   "outputs": [
    {
     "name": "stdout",
     "output_type": "stream",
     "text": [
      "Probability of 0 heads in 5 flips :::: 1/32 :: 3.1% :: 0.03125\n",
      "Probability of 1 heads in 5 flips :::: 5/32 :: 15.6% :: 0.15625\n",
      "Probability of 2 heads in 5 flips :::: 10/32 :: 31.2% :: 0.3125\n",
      "Probability of 3 heads in 5 flips :::: 10/32 :: 31.2% :: 0.3125\n",
      "Probability of 4 heads in 5 flips :::: 5/32 :: 15.6% :: 0.15625\n",
      "Probability of 5 heads in 5 flips :::: 1/32 :: 3.1% :: 0.03125\n"
     ]
    }
   ],
   "source": [
    "for i in range(5+1):\n",
    "    heads_in_flips2(i,5)"
   ]
  },
  {
   "cell_type": "code",
   "execution_count": 47,
   "metadata": {
    "collapsed": true
   },
   "outputs": [],
   "source": [
    "# using the math formula\n",
    "\n",
    "def heads_in_flips3(k,n):\n",
    "    \n",
    "    cart_n = 2**n\n",
    "    matches = int(math.factorial(n) / (math.factorial(k) * math.factorial(n-k)))\n",
    "    result = matches / cart_n\n",
    "    \n",
    "    print('Probability of {0} heads in {1} flips :::: {2}/{3} :: {4:3.1f}% :: {5}'\n",
    "          .format(k , n , matches , cart_n , result*100 ,result ))\n",
    "    return result"
   ]
  },
  {
   "cell_type": "code",
   "execution_count": 48,
   "metadata": {
    "collapsed": false
   },
   "outputs": [
    {
     "name": "stdout",
     "output_type": "stream",
     "text": [
      "Probability of 0 heads in 5 flips :::: 1/32 :: 3.1% :: 0.03125\n",
      "Probability of 1 heads in 5 flips :::: 5/32 :: 15.6% :: 0.15625\n",
      "Probability of 2 heads in 5 flips :::: 10/32 :: 31.2% :: 0.3125\n",
      "Probability of 3 heads in 5 flips :::: 10/32 :: 31.2% :: 0.3125\n",
      "Probability of 4 heads in 5 flips :::: 5/32 :: 15.6% :: 0.15625\n",
      "Probability of 5 heads in 5 flips :::: 1/32 :: 3.1% :: 0.03125\n"
     ]
    }
   ],
   "source": [
    "for i in range(5+1):\n",
    "    heads_in_flips3(i,5)"
   ]
  },
  {
   "cell_type": "code",
   "execution_count": 44,
   "metadata": {
    "collapsed": false
   },
   "outputs": [
    {
     "name": "stdout",
     "output_type": "stream",
     "text": [
      "Probability of 10 heads in 19 flips :::: 92378/524288 :: 17.6% :: 0.17619705200195312\n",
      "Wall time: 642 ms\n",
      "Probability of 10 heads in 19 flips :::: 92378/524288 :: 17.6% :: 0.17619705200195312\n",
      "Wall time: 0 ns\n",
      "Probability of 10 heads in 19 flips :::: 92378/524288 :: 17.6% :: 0.17619705200195312\n",
      "Wall time: 0 ns\n"
     ]
    },
    {
     "data": {
      "text/plain": [
       "0.17619705200195312"
      ]
     },
     "execution_count": 44,
     "metadata": {},
     "output_type": "execute_result"
    }
   ],
   "source": [
    "%time heads_in_flips(10,19) # iterating through all possibilities means slower performance\n",
    "%time heads_in_flips2(10,19)\n",
    "%time heads_in_flips3(10,19)"
   ]
  },
  {
   "cell_type": "code",
   "execution_count": 22,
   "metadata": {
    "collapsed": false
   },
   "outputs": [
    {
     "data": {
      "text/plain": [
       "0.5"
      ]
     },
     "execution_count": 22,
     "metadata": {},
     "output_type": "execute_result"
    }
   ],
   "source": [
    "# What is the probability of 1 head and 1 tail in 2 flips?\n",
    "\n",
    "counter = 0\n",
    "cart2 = tuple(itertools.product('HT',repeat=2))\n",
    "\n",
    "for i in cart2:\n",
    "    if i.count('H') == 1 and i.count('T') == 1:\n",
    "        counter += 1\n",
    "        \n",
    "counter / len(cart2)"
   ]
  },
  {
   "cell_type": "code",
   "execution_count": 35,
   "metadata": {
    "collapsed": false
   },
   "outputs": [
    {
     "data": {
      "text/plain": [
       "0.03125"
      ]
     },
     "execution_count": 35,
     "metadata": {},
     "output_type": "execute_result"
    }
   ],
   "source": [
    "# What is the probability of getting 5 heads in a row?\n",
    "\n",
    "f = math.factorial\n",
    "n = 5\n",
    "k = 5 \n",
    "\n",
    "prob = f(n) / (f(k) * f(n-k))\n",
    "cart_product = 2**n\n",
    "\n",
    "prob / cart_product"
   ]
  },
  {
   "cell_type": "code",
   "execution_count": 33,
   "metadata": {
    "collapsed": false
   },
   "outputs": [
    {
     "name": "stdout",
     "output_type": "stream",
     "text": [
      "Probability of 5 heads in 5 flips :: 0.03125\n"
     ]
    },
    {
     "data": {
      "text/plain": [
       "0.03125"
      ]
     },
     "execution_count": 33,
     "metadata": {},
     "output_type": "execute_result"
    }
   ],
   "source": [
    "# What is the probability of getting 5 heads in a row?\n",
    "\n",
    "heads_in_flips3(5,5)"
   ]
  },
  {
   "cell_type": "code",
   "execution_count": 48,
   "metadata": {
    "collapsed": false
   },
   "outputs": [
    {
     "data": {
      "text/plain": [
       "0.0078125"
      ]
     },
     "execution_count": 48,
     "metadata": {},
     "output_type": "execute_result"
    }
   ],
   "source": [
    "# What is the probability of getting 0 heads in 7 flips?\n",
    "# (or the probability of getting 7 tails out of 7 flips)\n",
    "\n",
    "f = math.factorial\n",
    "n = 7\n",
    "k = 7 \n",
    "\n",
    "(f(n) / ( f(k) * f(n-k) )) / 2**7 # 1/128"
   ]
  },
  {
   "cell_type": "code",
   "execution_count": 47,
   "metadata": {
    "collapsed": false
   },
   "outputs": [
    {
     "name": "stdout",
     "output_type": "stream",
     "text": [
      "Probability of 0 heads in 7 flips :: 0.0078125\n",
      "Probability of 7 heads in 7 flips :: 0.0078125\n"
     ]
    },
    {
     "data": {
      "text/plain": [
       "0.0078125"
      ]
     },
     "execution_count": 47,
     "metadata": {},
     "output_type": "execute_result"
    }
   ],
   "source": [
    "# What is the probability of getting 0 heads in 7 flips?\n",
    "# (or the probability of getting 7 tails out of 7 flips)\n",
    "\n",
    "heads_in_flips3(0,7)\n",
    "heads_in_flips3(7,7)"
   ]
  },
  {
   "cell_type": "markdown",
   "metadata": {
    "collapsed": true
   },
   "source": [
    "# Probability of non-equally likely independent events"
   ]
  },
  {
   "cell_type": "markdown",
   "metadata": {
    "collapsed": true
   },
   "source": [
    "## Uneven coin"
   ]
  },
  {
   "cell_type": "code",
   "execution_count": 10,
   "metadata": {
    "collapsed": false
   },
   "outputs": [
    {
     "data": {
      "text/plain": [
       "H    600092\n",
       "T    399908\n",
       "dtype: int64"
      ]
     },
     "execution_count": 10,
     "metadata": {},
     "output_type": "execute_result"
    }
   ],
   "source": [
    "# simulate 1000000 uneven (60%/40%) coin flips\n",
    "\n",
    "pd.Series(np.random.choice(['H','T'], 1000000, p=[0.6, 0.4])).value_counts()"
   ]
  },
  {
   "cell_type": "code",
   "execution_count": 11,
   "metadata": {
    "collapsed": false
   },
   "outputs": [],
   "source": [
    "# If getting heads is 60%, now there are no\n",
    "# longer 2 equally likely events.\n",
    "\n",
    "Prob_H = 0.6\n",
    "Prob_T = 1 - Prob_H"
   ]
  },
  {
   "cell_type": "code",
   "execution_count": 12,
   "metadata": {
    "collapsed": false
   },
   "outputs": [
    {
     "data": {
      "text/plain": [
       "0.36"
      ]
     },
     "execution_count": 12,
     "metadata": {},
     "output_type": "execute_result"
    }
   ],
   "source": [
    "# What is the P(HH) in 2 flips?\n",
    "\n",
    "Prob_H*Prob_H"
   ]
  },
  {
   "cell_type": "code",
   "execution_count": 13,
   "metadata": {
    "collapsed": false
   },
   "outputs": [
    {
     "data": {
      "text/plain": [
       "0.096"
      ]
     },
     "execution_count": 13,
     "metadata": {},
     "output_type": "execute_result"
    }
   ],
   "source": [
    "# What is the P(THT) in 3 flips?\n",
    "\n",
    "Prob_T*Prob_H*Prob_T"
   ]
  },
  {
   "cell_type": "code",
   "execution_count": null,
   "metadata": {
    "collapsed": true
   },
   "outputs": [],
   "source": []
  },
  {
   "cell_type": "code",
   "execution_count": null,
   "metadata": {
    "collapsed": true
   },
   "outputs": [],
   "source": []
  },
  {
   "cell_type": "code",
   "execution_count": null,
   "metadata": {
    "collapsed": true
   },
   "outputs": [],
   "source": []
  },
  {
   "cell_type": "code",
   "execution_count": null,
   "metadata": {
    "collapsed": true
   },
   "outputs": [],
   "source": []
  },
  {
   "cell_type": "code",
   "execution_count": null,
   "metadata": {
    "collapsed": true
   },
   "outputs": [],
   "source": []
  },
  {
   "cell_type": "code",
   "execution_count": null,
   "metadata": {
    "collapsed": true
   },
   "outputs": [],
   "source": []
  },
  {
   "cell_type": "code",
   "execution_count": null,
   "metadata": {
    "collapsed": true
   },
   "outputs": [],
   "source": []
  }
 ],
 "metadata": {
  "kernelspec": {
   "display_name": "Python 3",
   "language": "python",
   "name": "python3"
  },
  "language_info": {
   "codemirror_mode": {
    "name": "ipython",
    "version": 3
   },
   "file_extension": ".py",
   "mimetype": "text/x-python",
   "name": "python",
   "nbconvert_exporter": "python",
   "pygments_lexer": "ipython3",
   "version": "3.4.4"
  }
 },
 "nbformat": 4,
 "nbformat_minor": 0
}
