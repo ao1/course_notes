{
 "cells": [
  {
   "cell_type": "code",
   "execution_count": 1,
   "metadata": {
    "collapsed": false
   },
   "outputs": [
    {
     "name": "stderr",
     "output_type": "stream",
     "text": [
      "C:\\Anaconda3\\lib\\site-packages\\matplotlib\\__init__.py:872: UserWarning: axes.color_cycle is deprecated and replaced with axes.prop_cycle; please use the latter.\n",
      "  warnings.warn(self.msg_depr % (key, alt_key))\n"
     ]
    }
   ],
   "source": [
    "%matplotlib inline\n",
    "import pandas as pd\n",
    "import os\n",
    "import matplotlib as plt\n",
    "import seaborn as sns\n",
    "import numpy as np"
   ]
  },
  {
   "cell_type": "code",
   "execution_count": 2,
   "metadata": {
    "collapsed": false
   },
   "outputs": [
    {
     "data": {
      "text/html": [
       "<style>body {\n",
       "    margin: 0;\n",
       "    font-family: Helvetica;\n",
       "}\n",
       "table.dataframe {\n",
       "    border-collapse: collapse;\n",
       "    border: none;\n",
       "}\n",
       "table.dataframe tr {\n",
       "    border: none;\n",
       "}\n",
       "table.dataframe td, table.dataframe th {\n",
       "    margin: 0;\n",
       "    border: 1px solid white;\n",
       "    padding-left: 0.25em;\n",
       "    padding-right: 0.25em;\n",
       "}\n",
       "table.dataframe th:not(:empty) {\n",
       "    background-color: #fec;\n",
       "    text-align: left;\n",
       "    font-weight: normal;\n",
       "}\n",
       "table.dataframe tr:nth-child(2) th:empty {\n",
       "    border-left: none;\n",
       "    border-right: 1px dashed #888;\n",
       "}\n",
       "table.dataframe td {\n",
       "    border: 2px solid #ccf;\n",
       "    background-color: #f4f4ff;\n",
       "}\n",
       "h3 {\n",
       "    color: white;\n",
       "    background-color: black;\n",
       "    padding: 0.5em;\n",
       "}\n",
       "</style>"
      ],
      "text/plain": [
       "<IPython.core.display.HTML object>"
      ]
     },
     "execution_count": 2,
     "metadata": {},
     "output_type": "execute_result"
    }
   ],
   "source": [
    "#custom style HTML output\n",
    "\n",
    "from IPython.core.display import HTML\n",
    "\n",
    "csspath1 = r'C:\\COURSERA\\PYCON2015_TUTORIALS\\Brandon Rhodes - Pandas From The Ground Up - PyCon 2015\\style-table.css'\n",
    "csspath2 = r'C:\\COURSERA\\PYCON2015_TUTORIALS\\Brandon Rhodes - Pandas From The Ground Up - PyCon 2015\\style-notebook.css'\n",
    "\n",
    "css = open(csspath1).read() + open(csspath2).read()\n",
    "HTML('<style>{}</style>'.format(css))"
   ]
  },
  {
   "cell_type": "raw",
   "metadata": {},
   "source": [
    "In the wake of the Great Recession of 2009, there has been a good deal of focus on employment statistics, one of the most important metrics policymakers use to gauge the overall strength of the economy. In the United States, the government measures unemployment using the Current Population Survey (CPS), which collects demographic and employment information from a wide range of Americans each month. In this exercise, we will employ the topics reviewed in the lectures as well as a few new techniques using the September 2013 version of this rich, nationally representative dataset (available online).\n",
    "\n",
    "The observations in the dataset represent people surveyed in the September 2013 CPS who actually completed a survey. While the full dataset has 385 variables, in this exercise we will use a more compact version of the dataset, CPSData.csv, which has the following variables:\n",
    "\n",
    "PeopleInHousehold: The number of people in the interviewee's household.\n",
    "\n",
    "Region: The census region where the interviewee lives.\n",
    "\n",
    "State: The state where the interviewee lives.\n",
    "\n",
    "MetroAreaCode: A code that identifies the metropolitan area in which the interviewee lives (missing if the interviewee does not live in a metropolitan area). The mapping from codes to names of metropolitan areas is provided in the file MetroAreaCodes.csv.\n",
    "\n",
    "Age: The age, in years, of the interviewee. 80 represents people aged 80-84, and 85 represents people aged 85 and higher.\n",
    "\n",
    "Married: The marriage status of the interviewee.\n",
    "\n",
    "Sex: The sex of the interviewee.\n",
    "\n",
    "Education: The maximum level of education obtained by the interviewee.\n",
    "\n",
    "Race: The race of the interviewee.\n",
    "\n",
    "Hispanic: Whether the interviewee is of Hispanic ethnicity.\n",
    "\n",
    "CountryOfBirthCode: A code identifying the country of birth of the interviewee. The mapping from codes to names of countries is provided in the file CountryCodes.csv.\n",
    "\n",
    "Citizenship: The United States citizenship status of the interviewee.\n",
    "\n",
    "EmploymentStatus: The status of employment of the interviewee.\n",
    "\n",
    "Industry: The industry of employment of the interviewee (only available if they are employed)."
   ]
  },
  {
   "cell_type": "code",
   "execution_count": 3,
   "metadata": {
    "collapsed": false
   },
   "outputs": [],
   "source": [
    "# Read in data\n",
    "\n",
    "CPS = pd.read_csv('DATA\\CPSData.csv')"
   ]
  },
  {
   "cell_type": "code",
   "execution_count": 4,
   "metadata": {
    "collapsed": false
   },
   "outputs": [
    {
     "data": {
      "text/plain": [
       "131302"
      ]
     },
     "execution_count": 4,
     "metadata": {},
     "output_type": "execute_result"
    }
   ],
   "source": [
    "# How many interviewees are in the dataset?\n",
    "\n",
    "len(CPS)"
   ]
  },
  {
   "cell_type": "code",
   "execution_count": 5,
   "metadata": {
    "collapsed": false
   },
   "outputs": [
    {
     "data": {
      "text/html": [
       "<div>\n",
       "<table border=\"1\" class=\"dataframe\">\n",
       "  <thead>\n",
       "    <tr style=\"text-align: right;\">\n",
       "      <th></th>\n",
       "      <th>PeopleInHousehold</th>\n",
       "      <th>Region</th>\n",
       "      <th>State</th>\n",
       "      <th>MetroAreaCode</th>\n",
       "      <th>Age</th>\n",
       "      <th>Married</th>\n",
       "      <th>Sex</th>\n",
       "      <th>Education</th>\n",
       "      <th>Race</th>\n",
       "      <th>Hispanic</th>\n",
       "      <th>CountryOfBirthCode</th>\n",
       "      <th>Citizenship</th>\n",
       "      <th>EmploymentStatus</th>\n",
       "      <th>Industry</th>\n",
       "    </tr>\n",
       "  </thead>\n",
       "  <tbody>\n",
       "    <tr>\n",
       "      <th>0</th>\n",
       "      <td>1</td>\n",
       "      <td>South</td>\n",
       "      <td>Alabama</td>\n",
       "      <td>26620.0</td>\n",
       "      <td>85</td>\n",
       "      <td>Widowed</td>\n",
       "      <td>Female</td>\n",
       "      <td>Associate degree</td>\n",
       "      <td>White</td>\n",
       "      <td>0</td>\n",
       "      <td>57</td>\n",
       "      <td>Citizen, Native</td>\n",
       "      <td>Retired</td>\n",
       "      <td>NaN</td>\n",
       "    </tr>\n",
       "  </tbody>\n",
       "</table>\n",
       "</div>"
      ],
      "text/plain": [
       "   PeopleInHousehold Region    State  MetroAreaCode  Age  Married     Sex  \\\n",
       "0                  1  South  Alabama        26620.0   85  Widowed  Female   \n",
       "\n",
       "          Education   Race  Hispanic  CountryOfBirthCode      Citizenship  \\\n",
       "0  Associate degree  White         0                  57  Citizen, Native   \n",
       "\n",
       "  EmploymentStatus Industry  \n",
       "0          Retired      NaN  "
      ]
     },
     "execution_count": 5,
     "metadata": {},
     "output_type": "execute_result"
    }
   ],
   "source": [
    "CPS.head(1)"
   ]
  },
  {
   "cell_type": "code",
   "execution_count": 6,
   "metadata": {
    "collapsed": false
   },
   "outputs": [
    {
     "data": {
      "text/plain": [
       "Educational and health services       15017\n",
       "Trade                                  8933\n",
       "Professional and business services     7519\n",
       "Manufacturing                          6791\n",
       "Leisure and hospitality                6364\n",
       "Name: Industry, dtype: int64"
      ]
     },
     "execution_count": 6,
     "metadata": {},
     "output_type": "execute_result"
    }
   ],
   "source": [
    "# Among the interviewees with a value reported \n",
    "# for the Industry variable, what is the most common \n",
    "# industry of employment? Please enter the name exactly \n",
    "# how you see it.\n",
    "\n",
    "CPS.Industry[CPS.Industry.notnull()].value_counts().head()"
   ]
  },
  {
   "cell_type": "code",
   "execution_count": 7,
   "metadata": {
    "collapsed": false
   },
   "outputs": [
    {
     "data": {
      "text/plain": [
       "California    11570\n",
       "Texas          7077\n",
       "New York       5595\n",
       "Name: State, dtype: int64"
      ]
     },
     "execution_count": 7,
     "metadata": {},
     "output_type": "execute_result"
    }
   ],
   "source": [
    "# Which state has the largest number of interviewees?\n",
    "\n",
    "CPS.State.value_counts().head(3)"
   ]
  },
  {
   "cell_type": "code",
   "execution_count": 8,
   "metadata": {
    "collapsed": false
   },
   "outputs": [
    {
     "data": {
      "text/plain": [
       "Mississippi    1230\n",
       "Montana        1214\n",
       "New Mexico     1102\n",
       "Name: State, dtype: int64"
      ]
     },
     "execution_count": 8,
     "metadata": {},
     "output_type": "execute_result"
    }
   ],
   "source": [
    "# Which state has the fewest interviewees?\n",
    "\n",
    "CPS.State.value_counts().tail(3)"
   ]
  },
  {
   "cell_type": "code",
   "execution_count": 9,
   "metadata": {
    "collapsed": false
   },
   "outputs": [
    {
     "data": {
      "text/plain": [
       "California    11570\n",
       "New Mexico     1102\n",
       "Name: State, dtype: int64"
      ]
     },
     "execution_count": 9,
     "metadata": {},
     "output_type": "execute_result"
    }
   ],
   "source": [
    "# Which state has the fewest interviewees?\n",
    "# Which state has the largest number of interviewees?\n",
    "# (One line solution)\n",
    "\n",
    "CPS.State.value_counts().iloc[[0,-1]]"
   ]
  },
  {
   "cell_type": "code",
   "execution_count": 10,
   "metadata": {
    "collapsed": false
   },
   "outputs": [
    {
     "data": {
      "text/plain": [
       "Citizen, Native         0.888326\n",
       "Non-Citizen             0.057806\n",
       "Citizen, Naturalized    0.053868\n",
       "Name: Citizenship, dtype: float64"
      ]
     },
     "execution_count": 10,
     "metadata": {},
     "output_type": "execute_result"
    }
   ],
   "source": [
    "# What proportion of interviewees are citizens of the United States?\n",
    "# (get normalized proportion instead of real count)\n",
    "\n",
    "CPS.Citizenship.value_counts(normalize=True)"
   ]
  },
  {
   "cell_type": "code",
   "execution_count": 11,
   "metadata": {
    "collapsed": false
   },
   "outputs": [
    {
     "data": {
      "text/plain": [
       "0.9421943306271039"
      ]
     },
     "execution_count": 11,
     "metadata": {},
     "output_type": "execute_result"
    }
   ],
   "source": [
    "# What proportion of interviewees are citizens of the United States?\n",
    "# (add native and naturalized citizen proportions)\n",
    "\n",
    "CPS.Citizenship.value_counts(normalize=True).iloc[[0,2]].sum()"
   ]
  },
  {
   "cell_type": "code",
   "execution_count": 12,
   "metadata": {
    "collapsed": false
   },
   "outputs": [
    {
     "data": {
      "text/plain": [
       "0    113008\n",
       "1     18294\n",
       "Name: Hispanic, dtype: int64"
      ]
     },
     "execution_count": 12,
     "metadata": {},
     "output_type": "execute_result"
    }
   ],
   "source": [
    "# For which races are there at least 250 interviewees \n",
    "# in the CPS dataset of Hispanic ethnicity?\n",
    "# (1 means Hispanic)\n",
    "\n",
    "CPS.Hispanic.value_counts()"
   ]
  },
  {
   "cell_type": "code",
   "execution_count": 13,
   "metadata": {
    "collapsed": false
   },
   "outputs": [
    {
     "data": {
      "text/plain": [
       "White                True\n",
       "Black                True\n",
       "Multiracial          True\n",
       "American Indian      True\n",
       "Asian               False\n",
       "Pacific Islander    False\n",
       "Name: Race, dtype: bool"
      ]
     },
     "execution_count": 13,
     "metadata": {},
     "output_type": "execute_result"
    }
   ],
   "source": [
    "# For which races are there at least 250 interviewees \n",
    "# in the CPS dataset of Hispanic ethnicity?\n",
    "\n",
    "CPS[CPS.Hispanic == 1].Race.value_counts() > 250"
   ]
  },
  {
   "cell_type": "code",
   "execution_count": 14,
   "metadata": {
    "collapsed": false
   },
   "outputs": [
    {
     "data": {
      "text/plain": [
       "Industry               True\n",
       "EmploymentStatus       True\n",
       "Education              True\n",
       "Married                True\n",
       "MetroAreaCode          True\n",
       "Citizenship           False\n",
       "CountryOfBirthCode    False\n",
       "Hispanic              False\n",
       "Race                  False\n",
       "Sex                   False\n",
       "Age                   False\n",
       "State                 False\n",
       "Region                False\n",
       "PeopleInHousehold     False\n",
       "dtype: bool"
      ]
     },
     "execution_count": 14,
     "metadata": {},
     "output_type": "execute_result"
    }
   ],
   "source": [
    "# Which variables have at least one interviewee \n",
    "# with a missing (NA) value?\n",
    "\n",
    "CPS.isnull().any().sort_values(ascending=False)"
   ]
  },
  {
   "cell_type": "code",
   "execution_count": 15,
   "metadata": {
    "collapsed": true
   },
   "outputs": [],
   "source": [
    "# replace nulls with 'NA' strings\n",
    "\n",
    "CPS.replace(np.nan,'NA',inplace=True)"
   ]
  },
  {
   "cell_type": "code",
   "execution_count": 16,
   "metadata": {
    "collapsed": false
   },
   "outputs": [
    {
     "data": {
      "text/html": [
       "<div>\n",
       "<table border=\"1\" class=\"dataframe\">\n",
       "  <thead>\n",
       "    <tr style=\"text-align: right;\">\n",
       "      <th>Region</th>\n",
       "      <th>Midwest</th>\n",
       "      <th>Northeast</th>\n",
       "      <th>South</th>\n",
       "      <th>West</th>\n",
       "    </tr>\n",
       "    <tr>\n",
       "      <th>Married</th>\n",
       "      <th></th>\n",
       "      <th></th>\n",
       "      <th></th>\n",
       "      <th></th>\n",
       "    </tr>\n",
       "  </thead>\n",
       "  <tbody>\n",
       "    <tr>\n",
       "      <th>False</th>\n",
       "      <td>0.802014</td>\n",
       "      <td>0.826246</td>\n",
       "      <td>0.808033</td>\n",
       "      <td>0.79537</td>\n",
       "    </tr>\n",
       "    <tr>\n",
       "      <th>True</th>\n",
       "      <td>0.197986</td>\n",
       "      <td>0.173754</td>\n",
       "      <td>0.191967</td>\n",
       "      <td>0.20463</td>\n",
       "    </tr>\n",
       "  </tbody>\n",
       "</table>\n",
       "</div>"
      ],
      "text/plain": [
       "Region    Midwest  Northeast     South     West\n",
       "Married                                        \n",
       "False    0.802014   0.826246  0.808033  0.79537\n",
       "True     0.197986   0.173754  0.191967  0.20463"
      ]
     },
     "execution_count": 16,
     "metadata": {},
     "output_type": "execute_result"
    }
   ],
   "source": [
    "# == TO SOLVE ==\n",
    "\n",
    "# Determine if there is a pattern in the missing values of the Married variable\n",
    "# Compare against the Region, Sex and Citizenship variables.\n",
    "\n",
    "pd.crosstab( CPS.Married == 'NA', CPS.Region ).apply(lambda r: r/r.sum(), axis=0) # True is 'NA'"
   ]
  },
  {
   "cell_type": "code",
   "execution_count": 17,
   "metadata": {
    "collapsed": false
   },
   "outputs": [
    {
     "data": {
      "text/html": [
       "<div>\n",
       "<table border=\"1\" class=\"dataframe\">\n",
       "  <thead>\n",
       "    <tr style=\"text-align: right;\">\n",
       "      <th>Sex</th>\n",
       "      <th>Female</th>\n",
       "      <th>Male</th>\n",
       "    </tr>\n",
       "    <tr>\n",
       "      <th>Married</th>\n",
       "      <th></th>\n",
       "      <th></th>\n",
       "    </tr>\n",
       "  </thead>\n",
       "  <tbody>\n",
       "    <tr>\n",
       "      <th>False</th>\n",
       "      <td>0.818956</td>\n",
       "      <td>0.794409</td>\n",
       "    </tr>\n",
       "    <tr>\n",
       "      <th>True</th>\n",
       "      <td>0.181044</td>\n",
       "      <td>0.205591</td>\n",
       "    </tr>\n",
       "  </tbody>\n",
       "</table>\n",
       "</div>"
      ],
      "text/plain": [
       "Sex        Female      Male\n",
       "Married                    \n",
       "False    0.818956  0.794409\n",
       "True     0.181044  0.205591"
      ]
     },
     "execution_count": 17,
     "metadata": {},
     "output_type": "execute_result"
    }
   ],
   "source": [
    "pd.crosstab( CPS.Married == 'NA', CPS.Sex ).apply(lambda r: r/r.sum(), axis=0) # True is 'NA'"
   ]
  },
  {
   "cell_type": "code",
   "execution_count": 18,
   "metadata": {
    "collapsed": false
   },
   "outputs": [
    {
     "data": {
      "text/html": [
       "<div>\n",
       "<table border=\"1\" class=\"dataframe\">\n",
       "  <thead>\n",
       "    <tr style=\"text-align: right;\">\n",
       "      <th>Citizenship</th>\n",
       "      <th>Citizen, Native</th>\n",
       "      <th>Citizen, Naturalized</th>\n",
       "      <th>Non-Citizen</th>\n",
       "    </tr>\n",
       "    <tr>\n",
       "      <th>Married</th>\n",
       "      <th></th>\n",
       "      <th></th>\n",
       "      <th></th>\n",
       "    </tr>\n",
       "  </thead>\n",
       "  <tbody>\n",
       "    <tr>\n",
       "      <th>False</th>\n",
       "      <td>0.788381</td>\n",
       "      <td>0.976955</td>\n",
       "      <td>0.935178</td>\n",
       "    </tr>\n",
       "    <tr>\n",
       "      <th>True</th>\n",
       "      <td>0.211619</td>\n",
       "      <td>0.023045</td>\n",
       "      <td>0.064822</td>\n",
       "    </tr>\n",
       "  </tbody>\n",
       "</table>\n",
       "</div>"
      ],
      "text/plain": [
       "Citizenship  Citizen, Native  Citizen, Naturalized  Non-Citizen\n",
       "Married                                                        \n",
       "False               0.788381              0.976955     0.935178\n",
       "True                0.211619              0.023045     0.064822"
      ]
     },
     "execution_count": 18,
     "metadata": {},
     "output_type": "execute_result"
    }
   ],
   "source": [
    "pd.crosstab( CPS.Married == 'NA', CPS.Citizenship ).apply(lambda r: r/r.sum(), axis=0) # True is 'NA'"
   ]
  },
  {
   "cell_type": "code",
   "execution_count": 19,
   "metadata": {
    "collapsed": false
   },
   "outputs": [
    {
     "data": {
      "text/plain": [
       "2"
      ]
     },
     "execution_count": 19,
     "metadata": {},
     "output_type": "execute_result"
    }
   ],
   "source": [
    "# How many states had all interviewees living in a \n",
    "# non-metropolitan (null) area? Treat the District of \n",
    "# Columbia as a state\n",
    "\n",
    "ct = pd.crosstab( CPS.MetroAreaCode == 'NA' , CPS.State ).transpose()\n",
    "ct['all_metropolitan'] = ct[0]+ct[1] == ct[1]\n",
    "ct.all_metropolitan.sum()"
   ]
  },
  {
   "cell_type": "code",
   "execution_count": 20,
   "metadata": {
    "collapsed": false
   },
   "outputs": [
    {
     "data": {
      "text/plain": [
       "3"
      ]
     },
     "execution_count": 20,
     "metadata": {},
     "output_type": "execute_result"
    }
   ],
   "source": [
    "# How many states had all interviewees living in a \n",
    "# metropolitan (non-null) area? Treat the District of \n",
    "# Columbia as a state\n",
    "\n",
    "ct = pd.crosstab( CPS.MetroAreaCode != 'NA' , CPS.State ).transpose()\n",
    "ct['all_metropolitan'] = ct[0]+ct[1] == ct[1]\n",
    "ct.all_metropolitan.sum()"
   ]
  },
  {
   "cell_type": "code",
   "execution_count": 21,
   "metadata": {
    "collapsed": false
   },
   "outputs": [
    {
     "data": {
      "text/plain": [
       "<matplotlib.axes._subplots.AxesSubplot at 0xaf33b00>"
      ]
     },
     "execution_count": 21,
     "metadata": {},
     "output_type": "execute_result"
    },
    {
     "data": {
      "image/png": "[encoded data removed]",
      "text/plain": [
       "<matplotlib.figure.Figure at 0xaf33208>"
      ]
     },
     "metadata": {},
     "output_type": "display_data"
    }
   ],
   "source": [
    "# Which state has the largest proportion of non-metropolitan interviewees, \n",
    "# ignoring states where all interviewees were non-metropolitan?\n",
    "\n",
    "ct = pd.crosstab( CPS.MetroAreaCode == 'NA' , CPS.State ).transpose()\n",
    "ct['non_metro_proportion'] = ct[1]/(ct[0]+ct[1])\n",
    "ct.non_metro_proportion.sort_values(ascending=False).head().plot(kind='bar')"
   ]
  },
  {
   "cell_type": "code",
   "execution_count": 22,
   "metadata": {
    "collapsed": false
   },
   "outputs": [
    {
     "data": {
      "text/plain": [
       "<matplotlib.axes._subplots.AxesSubplot at 0xac3b588>"
      ]
     },
     "execution_count": 22,
     "metadata": {},
     "output_type": "execute_result"
    },
    {
     "data": {
      "image/png": "[encoded data removed]",
      "text/plain": [
       "<matplotlib.figure.Figure at 0xa5b0cc0>"
      ]
     },
     "metadata": {},
     "output_type": "display_data"
    }
   ],
   "source": [
    "# Which state has a proportion of interviewees \n",
    "# living in a non-metropolitan area closest to 30%?\n",
    "\n",
    "ct = pd.crosstab( CPS.MetroAreaCode == 'NA' , CPS.State ).transpose()\n",
    "ct['non_metro_proportion'] = ct[1]/(ct[0]+ct[1])\n",
    "ct.non_metro_proportion[(ct.non_metro_proportion < 0.35) & (ct.non_metro_proportion > 0.25)].sort_values(ascending=True).plot(kind='bar')"
   ]
  },
  {
   "cell_type": "code",
   "execution_count": 23,
   "metadata": {
    "collapsed": false
   },
   "outputs": [],
   "source": [
    "# Read two dictionaries into data frames called MetroAreaMap and CountryMap.\n",
    "\n",
    "MetroAreaMap = pd.Series.from_csv('DATA\\MetroAreaCodes.csv')\n",
    "CountryMap = pd.Series.from_csv('DATA\\CountryCodes.csv')"
   ]
  },
  {
   "cell_type": "code",
   "execution_count": 24,
   "metadata": {
    "collapsed": false
   },
   "outputs": [],
   "source": [
    "# map the metro area codes to the dataframe\n",
    "\n",
    "def return_metro_area(x):\n",
    "    if x == 'NA':\n",
    "        return np.nan\n",
    "    else:    \n",
    "        return MetroAreaMap[str(int(x))]\n",
    "    \n",
    "CPS.MetroAreaCode = CPS.MetroAreaCode.apply(return_metro_area)"
   ]
  },
  {
   "cell_type": "code",
   "execution_count": 25,
   "metadata": {
    "collapsed": false
   },
   "outputs": [],
   "source": [
    "# map the country codes of the dataframe\n",
    "\n",
    "def return_country(x):\n",
    "    \n",
    "    country_codes = CountryMap.index.unique()[1:-1]\n",
    "    x = str(int(x))\n",
    "    \n",
    "    if str(x) in country_codes:\n",
    "        return CountryMap[x]\n",
    "    else:\n",
    "        return\n",
    "\n",
    "CPS.CountryOfBirthCode = CPS.CountryOfBirthCode.apply(return_country)"
   ]
  },
  {
   "cell_type": "code",
   "execution_count": 26,
   "metadata": {
    "collapsed": false
   },
   "outputs": [
    {
     "data": {
      "text/plain": [
       "257"
      ]
     },
     "execution_count": 26,
     "metadata": {},
     "output_type": "execute_result"
    }
   ],
   "source": [
    "CPS.CountryOfBirthCode.isnull().sum()"
   ]
  },
  {
   "cell_type": "code",
   "execution_count": 30,
   "metadata": {
    "collapsed": false
   },
   "outputs": [
    {
     "data": {
      "text/plain": [
       "34238"
      ]
     },
     "execution_count": 30,
     "metadata": {},
     "output_type": "execute_result"
    }
   ],
   "source": [
    "# How many interviewees have a missing value for the new metropolitan area variable?\n",
    "\n",
    "CPS.MetroAreaCode.isnull().sum()"
   ]
  },
  {
   "cell_type": "code",
   "execution_count": 37,
   "metadata": {
    "collapsed": false
   },
   "outputs": [
    {
     "data": {
      "text/plain": [
       "New York-Northern New Jersey-Long Island, NY-NJ-PA    5409\n",
       "Name: MetroAreaCode, dtype: int64"
      ]
     },
     "execution_count": 37,
     "metadata": {},
     "output_type": "execute_result"
    }
   ],
   "source": [
    "# Which metropolitan area has the largest number of interviewees?\n",
    "\n",
    "CPS.MetroAreaCode.value_counts().head(1)"
   ]
  },
  {
   "cell_type": "code",
   "execution_count": 113,
   "metadata": {
    "collapsed": false
   },
   "outputs": [
    {
     "data": {
      "text/plain": [
       "MetroAreaCode\n",
       "Laredo, TX                    0.966292\n",
       "McAllen-Edinburg-Pharr, TX    0.948718\n",
       "Brownsville-Harlingen, TX     0.797468\n",
       "El Paso, TX                   0.790984\n",
       "El Centro, CA                 0.686869\n",
       "Name: hispanic%, dtype: float64"
      ]
     },
     "execution_count": 113,
     "metadata": {},
     "output_type": "execute_result"
    }
   ],
   "source": [
    "# Which metropolitan area has the highest \n",
    "# proportion of interviewees of Hispanic ethnicity?\n",
    "\n",
    "gb = CPS.groupby(['MetroAreaCode','Hispanic'])['MetroAreaCode'].count().unstack()\n",
    "gb['hispanic%'] = gb[1]/(gb[0]+gb[1])\n",
    "gb['hispanic%'].sort_values(ascending=False).head()"
   ]
  },
  {
   "cell_type": "code",
   "execution_count": 126,
   "metadata": {
    "collapsed": false
   },
   "outputs": [
    {
     "data": {
      "text/plain": [
       "4"
      ]
     },
     "execution_count": 126,
     "metadata": {},
     "output_type": "execute_result"
    }
   ],
   "source": [
    "# Determine the number of metropolitan areas in the United States \n",
    "# from which at least 20% of interviewees are Asian.\n",
    "\n",
    "ct = pd.crosstab(CPS.MetroAreaCode,CPS.Race == 'Asian')\n",
    "ct['asian%'] = ct[1]/(ct[0]+ct[1])\n",
    "len(ct[ct['asian%'] >= 0.2])"
   ]
  },
  {
   "cell_type": "code",
   "execution_count": 139,
   "metadata": {
    "collapsed": false
   },
   "outputs": [
    {
     "data": {
      "text/plain": [
       "MetroAreaCode\n",
       "Iowa City, IA               0.022901\n",
       "Bowling Green, KY           0.034483\n",
       "Kalamazoo-Portage, MI       0.039370\n",
       "Champaign-Urbana, IL        0.040984\n",
       "Bremerton-Silverdale, WA    0.045977\n",
       "Name: no_high_school, dtype: float64"
      ]
     },
     "execution_count": 139,
     "metadata": {},
     "output_type": "execute_result"
    }
   ],
   "source": [
    "# Determine which metropolitan area has the smallest \n",
    "# proportion of interviewees who have received no high school diploma.\n",
    "\n",
    "ct = pd.crosstab(CPS.MetroAreaCode,CPS.Education == 'No high school diploma')\n",
    "ct['no_high_school'] = ct[1]/(ct[0]+ct[1])\n",
    "ct['no_high_school'].sort_values().head()"
   ]
  },
  {
   "cell_type": "code",
   "execution_count": 141,
   "metadata": {
    "collapsed": false
   },
   "outputs": [
    {
     "data": {
      "text/plain": [
       "257"
      ]
     },
     "execution_count": 141,
     "metadata": {},
     "output_type": "execute_result"
    }
   ],
   "source": [
    "# How many interviewees have a missing value for the new country of birth variable?\n",
    "\n",
    "CPS.CountryOfBirthCode.isnull().sum()"
   ]
  },
  {
   "cell_type": "code",
   "execution_count": 148,
   "metadata": {
    "collapsed": false
   },
   "outputs": [
    {
     "data": {
      "text/plain": [
       "Philippines    839\n",
       "India          770\n",
       "China          581\n",
       "Puerto Rico    518\n",
       "El Salvador    477\n",
       "Name: CountryOfBirthCode, dtype: int64"
      ]
     },
     "execution_count": 148,
     "metadata": {},
     "output_type": "execute_result"
    }
   ],
   "source": [
    "# Among all interviewees born outside of North America, \n",
    "# which country was the most common place of birth?\n",
    "\n",
    "CPS.CountryOfBirthCode[~CPS.CountryOfBirthCode.isin(['United States','Mexico','Canada'])].value_counts().head()"
   ]
  },
  {
   "cell_type": "code",
   "execution_count": 186,
   "metadata": {
    "collapsed": false
   },
   "outputs": [
    {
     "data": {
      "text/plain": [
       "0.3063497957668028"
      ]
     },
     "execution_count": 186,
     "metadata": {},
     "output_type": "execute_result"
    }
   ],
   "source": [
    "# What proportion of the interviewees from the \n",
    "# \"New York-Northern New Jersey-Long Island, NY-NJ-PA\" \n",
    "# metropolitan area have a country of birth that is not \n",
    "# the United States?\n",
    "\n",
    "to_check = \"New York-Northern New Jersey-Long Island, NY-NJ-PA\"\n",
    "\n",
    "gb = CPS[CPS.MetroAreaCode == to_check].groupby('CountryOfBirthCode')['CountryOfBirthCode'].count().sort_values(ascending=False)\n",
    "gb[1:].sum() / gb.sum()"
   ]
  },
  {
   "cell_type": "code",
   "execution_count": 198,
   "metadata": {
    "collapsed": false
   },
   "outputs": [
    {
     "data": {
      "text/plain": [
       "MetroAreaCode\n",
       "New York-Northern New Jersey-Long Island, NY-NJ-PA    96\n",
       "Washington-Arlington-Alexandria, DC-VA-MD-WV          50\n",
       "Philadelphia-Camden-Wilmington, PA-NJ-DE              32\n",
       "Chicago-Naperville-Joliet, IN-IN-WI                   31\n",
       "Detroit-Warren-Livonia, MI                            30\n",
       "Name: MetroAreaCode, dtype: int64"
      ]
     },
     "execution_count": 198,
     "metadata": {},
     "output_type": "execute_result"
    }
   ],
   "source": [
    "# Which metropolitan area has the largest number (note -- not proportion) \n",
    "# of interviewees with a country of birth in India?\n",
    "\n",
    "CPS.groupby(['CountryOfBirthCode','MetroAreaCode'])['MetroAreaCode'].count()['India'].sort_values(ascending=False).head()"
   ]
  },
  {
   "cell_type": "code",
   "execution_count": 200,
   "metadata": {
    "collapsed": false
   },
   "outputs": [
    {
     "data": {
      "text/plain": [
       "Married        Region   \n",
       "Divorced       Midwest       2630\n",
       "               Northeast     2122\n",
       "               South         3586\n",
       "               West          2813\n",
       "Married        Midwest      13272\n",
       "               Northeast    11078\n",
       "               South        17301\n",
       "               West         13858\n",
       "NA             Midwest       6075\n",
       "               Northeast     4507\n",
       "               South         7967\n",
       "               West          6789\n",
       "Never Married  Midwest       6869\n",
       "               Northeast     6508\n",
       "               South         9606\n",
       "               West          7789\n",
       "Separated      Midwest        333\n",
       "               Northeast      392\n",
       "               South          821\n",
       "               West           481\n",
       "Widowed        Midwest       1505\n",
       "               Northeast     1332\n",
       "               South         2221\n",
       "               West          1447\n",
       "Name: Region, dtype: int64"
      ]
     },
     "execution_count": 200,
     "metadata": {},
     "output_type": "execute_result"
    }
   ],
   "source": [
    "CPS.groupby(['Married','Region'])['Region'].count()"
   ]
  },
  {
   "cell_type": "code",
   "execution_count": null,
   "metadata": {
    "collapsed": true
   },
   "outputs": [],
   "source": []
  }
 ],
 "metadata": {
  "kernelspec": {
   "display_name": "Python 3",
   "language": "python",
   "name": "python3"
  },
  "language_info": {
   "codemirror_mode": {
    "name": "ipython",
    "version": 3
   },
   "file_extension": ".py",
   "mimetype": "text/x-python",
   "name": "python",
   "nbconvert_exporter": "python",
   "pygments_lexer": "ipython3",
   "version": "3.4.4"
  }
 },
 "nbformat": 4,
 "nbformat_minor": 0
}
