{
 "cells": [
  {
   "cell_type": "code",
   "execution_count": 1,
   "metadata": {
    "collapsed": false
   },
   "outputs": [
    {
     "name": "stderr",
     "output_type": "stream",
     "text": [
      "C:\\Anaconda3\\lib\\site-packages\\matplotlib\\__init__.py:872: UserWarning: axes.color_cycle is deprecated and replaced with axes.prop_cycle; please use the latter.\n",
      "  warnings.warn(self.msg_depr % (key, alt_key))\n"
     ]
    }
   ],
   "source": [
    "%matplotlib inline\n",
    "import pandas as pd\n",
    "import os\n",
    "import matplotlib as plt\n",
    "import seaborn as sns\n",
    "import numpy as np\n",
    "import statsmodels.formula.api as sm"
   ]
  },
  {
   "cell_type": "code",
   "execution_count": 2,
   "metadata": {
    "collapsed": false
   },
   "outputs": [
    {
     "data": {
      "text/html": [
       "<style>body {\n",
       "    margin: 0;\n",
       "    font-family: Helvetica;\n",
       "}\n",
       "table.dataframe {\n",
       "    border-collapse: collapse;\n",
       "    border: none;\n",
       "}\n",
       "table.dataframe tr {\n",
       "    border: none;\n",
       "}\n",
       "table.dataframe td, table.dataframe th {\n",
       "    margin: 0;\n",
       "    border: 1px solid white;\n",
       "    padding-left: 0.25em;\n",
       "    padding-right: 0.25em;\n",
       "}\n",
       "table.dataframe th:not(:empty) {\n",
       "    background-color: #fec;\n",
       "    text-align: left;\n",
       "    font-weight: normal;\n",
       "}\n",
       "table.dataframe tr:nth-child(2) th:empty {\n",
       "    border-left: none;\n",
       "    border-right: 1px dashed #888;\n",
       "}\n",
       "table.dataframe td {\n",
       "    border: 2px solid #ccf;\n",
       "    background-color: #f4f4ff;\n",
       "}\n",
       "h3 {\n",
       "    color: white;\n",
       "    background-color: black;\n",
       "    padding: 0.5em;\n",
       "}\n",
       "</style>"
      ],
      "text/plain": [
       "<IPython.core.display.HTML object>"
      ]
     },
     "execution_count": 2,
     "metadata": {},
     "output_type": "execute_result"
    }
   ],
   "source": [
    "#custom style HTML output\n",
    "\n",
    "from IPython.core.display import HTML\n",
    "\n",
    "csspath1 = r'C:\\COURSERA\\PYCON2015_TUTORIALS\\Brandon Rhodes - Pandas From The Ground Up - PyCon 2015\\style-table.css'\n",
    "csspath2 = r'C:\\COURSERA\\PYCON2015_TUTORIALS\\Brandon Rhodes - Pandas From The Ground Up - PyCon 2015\\style-notebook.css'\n",
    "\n",
    "css = open(csspath1).read() + open(csspath2).read()\n",
    "HTML('<style>{}</style>'.format(css))"
   ]
  },
  {
   "cell_type": "raw",
   "metadata": {},
   "source": [
    "There have been many studies documenting that the average global temperature has been increasing over the last century. The consequences of a continued rise in global temperature will be dire. Rising sea levels and an increased frequency of extreme weather events will affect billions of people.\n",
    "\n",
    "In this problem, we will attempt to study the relationship between average global temperature and several other factors.\n",
    "\n",
    "The file climate_change.csv contains climate data from May 1983 to December 2008. The available variables include:\n",
    "\n",
    "Year: the observation year.\n",
    "Month: the observation month.\n",
    "Temp: the difference in degrees Celsius between the average global temperature in that period and a reference value. This data comes from the Climatic Research Unit at the University of East Anglia.\n",
    "CO2, N2O, CH4, CFC.11, CFC.12: atmospheric concentrations of carbon dioxide (CO2), nitrous oxide (N2O), methane  (CH4), trichlorofluoromethane (CCl3F; commonly referred to as CFC-11) and dichlorodifluoromethane (CCl2F2; commonly referred to as CFC-12), respectively. This data comes from the ESRL/NOAA Global Monitoring Division.\n",
    "CO2, N2O and CH4 are expressed in ppmv (parts per million by volume  -- i.e., 397 ppmv of CO2 means that CO2 constitutes 397 millionths of the total volume of the atmosphere)\n",
    "CFC.11 and CFC.12 are expressed in ppbv (parts per billion by volume). \n",
    "Aerosols: the mean stratospheric aerosol optical depth at 550 nm. This variable is linked to volcanoes, as volcanic eruptions result in new particles being added to the atmosphere, which affect how much of the sun's energy is reflected back into space. This data is from the Godard Institute for Space Studies at NASA.\n",
    "TSI: the total solar irradiance (TSI) in W/m2 (the rate at which the sun's energy is deposited per unit area). Due to sunspots and other solar phenomena, the amount of energy that is given off by the sun varies substantially with time. This data is from the SOLARIS-HEPPA project website.\n",
    "MEI: multivariate El Nino Southern Oscillation index (MEI), a measure of the strength of the El Nino/La Nina-Southern Oscillation (a weather effect in the Pacific Ocean that affects global temperatures). This data comes from the ESRL/NOAA Physical Sciences Division."
   ]
  },
  {
   "cell_type": "code",
   "execution_count": 13,
   "metadata": {
    "collapsed": false
   },
   "outputs": [
    {
     "data": {
      "text/plain": [
       "(308, 11)"
      ]
     },
     "execution_count": 13,
     "metadata": {},
     "output_type": "execute_result"
    }
   ],
   "source": [
    "# Read in data\n",
    "\n",
    "cc = pd.read_csv('DATA\\climate_change.csv')\n",
    "cc.shape"
   ]
  },
  {
   "cell_type": "code",
   "execution_count": 14,
   "metadata": {
    "collapsed": false
   },
   "outputs": [
    {
     "data": {
      "text/html": [
       "<div>\n",
       "<table border=\"1\" class=\"dataframe\">\n",
       "  <thead>\n",
       "    <tr style=\"text-align: right;\">\n",
       "      <th></th>\n",
       "      <th>Year</th>\n",
       "      <th>Month</th>\n",
       "      <th>MEI</th>\n",
       "      <th>CO2</th>\n",
       "      <th>CH4</th>\n",
       "      <th>N2O</th>\n",
       "      <th>CFC-11</th>\n",
       "      <th>CFC-12</th>\n",
       "      <th>TSI</th>\n",
       "      <th>Aerosols</th>\n",
       "      <th>Temp</th>\n",
       "    </tr>\n",
       "  </thead>\n",
       "  <tbody>\n",
       "    <tr>\n",
       "      <th>0</th>\n",
       "      <td>1983</td>\n",
       "      <td>5</td>\n",
       "      <td>2.556</td>\n",
       "      <td>345.96</td>\n",
       "      <td>1638.59</td>\n",
       "      <td>303.677</td>\n",
       "      <td>191.324</td>\n",
       "      <td>350.113</td>\n",
       "      <td>1366.1024</td>\n",
       "      <td>0.0863</td>\n",
       "      <td>0.109</td>\n",
       "    </tr>\n",
       "  </tbody>\n",
       "</table>\n",
       "</div>"
      ],
      "text/plain": [
       "   Year  Month    MEI     CO2      CH4      N2O   CFC-11   CFC-12        TSI  \\\n",
       "0  1983      5  2.556  345.96  1638.59  303.677  191.324  350.113  1366.1024   \n",
       "\n",
       "   Aerosols   Temp  \n",
       "0    0.0863  0.109  "
      ]
     },
     "execution_count": 14,
     "metadata": {},
     "output_type": "execute_result"
    }
   ],
   "source": [
    "cc.head(1)"
   ]
  },
  {
   "cell_type": "code",
   "execution_count": 15,
   "metadata": {
    "collapsed": false
   },
   "outputs": [],
   "source": [
    "# Rename CFC-11 and CFC-12 column names because it confuses statsmodels\n",
    "\n",
    "cc.rename(columns={'CFC-11':'CFC11','CFC-12':'CFC12'},inplace=True)"
   ]
  },
  {
   "cell_type": "code",
   "execution_count": 16,
   "metadata": {
    "collapsed": false
   },
   "outputs": [
    {
     "data": {
      "text/plain": [
       "((284, 11), (24, 11))"
      ]
     },
     "execution_count": 16,
     "metadata": {},
     "output_type": "execute_result"
    }
   ],
   "source": [
    "# split the data into a training set, consisting of all \n",
    "# the observations up to and including 2006, and a testing \n",
    "# set consisting of the remaining years\n",
    "\n",
    "train = cc[cc.Year <= 2006]\n",
    "test = cc[~(cc.Year <= 2006)]\n",
    "\n",
    "train.shape , test.shape"
   ]
  },
  {
   "cell_type": "code",
   "execution_count": 17,
   "metadata": {
    "collapsed": false
   },
   "outputs": [
    {
     "name": "stdout",
     "output_type": "stream",
     "text": [
      "                 Results: Ordinary least squares\n",
      "==================================================================\n",
      "Model:              OLS              Adj. R-squared:     0.744    \n",
      "Dependent Variable: Temp             AIC:                -542.2023\n",
      "Date:               2016-04-30 10:17 BIC:                -509.3615\n",
      "No. Observations:   284              Log-Likelihood:     280.10   \n",
      "Df Model:           8                F-statistic:        103.6    \n",
      "Df Residuals:       275              Prob (F-statistic): 1.94e-78 \n",
      "R-squared:          0.751            Scale:              0.0084110\n",
      "------------------------------------------------------------------\n",
      "                Coef.   Std.Err.    t    P>|t|    [0.025   0.975] \n",
      "------------------------------------------------------------------\n",
      "Intercept     -124.5943  19.8868 -6.2652 0.0000 -163.7440 -85.4446\n",
      "MEI              0.0642   0.0065  9.9232 0.0000    0.0515   0.0769\n",
      "CO2              0.0065   0.0023  2.8264 0.0051    0.0020   0.0110\n",
      "CH4              0.0001   0.0005  0.2405 0.8101   -0.0009   0.0011\n",
      "N2O             -0.0165   0.0086 -1.9297 0.0547   -0.0334   0.0003\n",
      "CFC11           -0.0066   0.0016 -4.0778 0.0001   -0.0098  -0.0034\n",
      "CFC12            0.0038   0.0010  3.7573 0.0002    0.0018   0.0058\n",
      "TSI              0.0931   0.0148  6.3126 0.0000    0.0641   0.1222\n",
      "Aerosols        -1.5376   0.2133 -7.2103 0.0000   -1.9574  -1.1178\n",
      "------------------------------------------------------------------\n",
      "Omnibus:               8.740       Durbin-Watson:          0.956  \n",
      "Prob(Omnibus):         0.013       Jarque-Bera (JB):       10.327 \n",
      "Skew:                  0.289       Prob(JB):               0.006  \n",
      "Kurtosis:              3.733       Condition No.:          8532933\n",
      "==================================================================\n",
      "* The condition number is large (9e+06). This might indicate\n",
      "strong multicollinearity or other numerical problems.\n"
     ]
    }
   ],
   "source": [
    "# build a linear regression model to predict the \n",
    "# dependent variable Temp, using MEI, CO2, CH4, N2O, CFC.11, \n",
    "# CFC.12, TSI, and Aerosols as independent variables \n",
    "# (Year and Month should NOT be used in the model). \n",
    "# Use the training set to build the model.\n",
    "\n",
    "linreg1 = sm.ols(formula=\"Temp ~ MEI + CO2 + CH4 + N2O + CFC11 + CFC12 + TSI + Aerosols\", \n",
    "                 data=train).fit()\n",
    "\n",
    "print(linreg1.summary2())"
   ]
  },
  {
   "cell_type": "code",
   "execution_count": 18,
   "metadata": {
    "collapsed": false
   },
   "outputs": [
    {
     "data": {
      "text/plain": [
       "CH4          False\n",
       "N2O          False\n",
       "Intercept     True\n",
       "MEI           True\n",
       "CO2           True\n",
       "CFC11         True\n",
       "CFC12         True\n",
       "TSI           True\n",
       "Aerosols      True\n",
       "dtype: bool"
      ]
     },
     "execution_count": 18,
     "metadata": {},
     "output_type": "execute_result"
    }
   ],
   "source": [
    "# Which variables are significant in the model? \n",
    "# We will consider a variable signficant only if the p-value is below 0.05\n",
    "\n",
    "(linreg1.pvalues < 0.05).sort_values()"
   ]
  },
  {
   "cell_type": "code",
   "execution_count": 19,
   "metadata": {
    "collapsed": false
   },
   "outputs": [
    {
     "data": {
      "text/html": [
       "<div>\n",
       "<table border=\"1\" class=\"dataframe\">\n",
       "  <thead>\n",
       "    <tr style=\"text-align: right;\">\n",
       "      <th></th>\n",
       "      <th>Year</th>\n",
       "      <th>Month</th>\n",
       "      <th>MEI</th>\n",
       "      <th>CO2</th>\n",
       "      <th>CH4</th>\n",
       "      <th>N2O</th>\n",
       "      <th>CFC11</th>\n",
       "      <th>CFC12</th>\n",
       "      <th>TSI</th>\n",
       "      <th>Aerosols</th>\n",
       "      <th>Temp</th>\n",
       "    </tr>\n",
       "  </thead>\n",
       "  <tbody>\n",
       "    <tr>\n",
       "      <th>Year</th>\n",
       "      <td>1.000000</td>\n",
       "      <td>-0.027942</td>\n",
       "      <td>-0.036988</td>\n",
       "      <td>0.982749</td>\n",
       "      <td>0.915659</td>\n",
       "      <td>0.993845</td>\n",
       "      <td>0.569106</td>\n",
       "      <td>0.897012</td>\n",
       "      <td>0.170302</td>\n",
       "      <td>-0.345247</td>\n",
       "      <td>0.786797</td>\n",
       "    </tr>\n",
       "    <tr>\n",
       "      <th>Month</th>\n",
       "      <td>-0.027942</td>\n",
       "      <td>1.000000</td>\n",
       "      <td>0.000885</td>\n",
       "      <td>-0.106732</td>\n",
       "      <td>0.018569</td>\n",
       "      <td>0.013632</td>\n",
       "      <td>-0.013111</td>\n",
       "      <td>0.000675</td>\n",
       "      <td>-0.034606</td>\n",
       "      <td>0.014890</td>\n",
       "      <td>-0.099857</td>\n",
       "    </tr>\n",
       "    <tr>\n",
       "      <th>MEI</th>\n",
       "      <td>-0.036988</td>\n",
       "      <td>0.000885</td>\n",
       "      <td>1.000000</td>\n",
       "      <td>-0.041147</td>\n",
       "      <td>-0.033419</td>\n",
       "      <td>-0.050820</td>\n",
       "      <td>0.069000</td>\n",
       "      <td>0.008286</td>\n",
       "      <td>-0.154492</td>\n",
       "      <td>0.340238</td>\n",
       "      <td>0.172471</td>\n",
       "    </tr>\n",
       "    <tr>\n",
       "      <th>CO2</th>\n",
       "      <td>0.982749</td>\n",
       "      <td>-0.106732</td>\n",
       "      <td>-0.041147</td>\n",
       "      <td>1.000000</td>\n",
       "      <td>0.877280</td>\n",
       "      <td>0.976720</td>\n",
       "      <td>0.514060</td>\n",
       "      <td>0.852690</td>\n",
       "      <td>0.177429</td>\n",
       "      <td>-0.356155</td>\n",
       "      <td>0.788529</td>\n",
       "    </tr>\n",
       "    <tr>\n",
       "      <th>CH4</th>\n",
       "      <td>0.915659</td>\n",
       "      <td>0.018569</td>\n",
       "      <td>-0.033419</td>\n",
       "      <td>0.877280</td>\n",
       "      <td>1.000000</td>\n",
       "      <td>0.899839</td>\n",
       "      <td>0.779904</td>\n",
       "      <td>0.963616</td>\n",
       "      <td>0.245528</td>\n",
       "      <td>-0.267809</td>\n",
       "      <td>0.703255</td>\n",
       "    </tr>\n",
       "    <tr>\n",
       "      <th>N2O</th>\n",
       "      <td>0.993845</td>\n",
       "      <td>0.013632</td>\n",
       "      <td>-0.050820</td>\n",
       "      <td>0.976720</td>\n",
       "      <td>0.899839</td>\n",
       "      <td>1.000000</td>\n",
       "      <td>0.522477</td>\n",
       "      <td>0.867931</td>\n",
       "      <td>0.199757</td>\n",
       "      <td>-0.337055</td>\n",
       "      <td>0.778639</td>\n",
       "    </tr>\n",
       "    <tr>\n",
       "      <th>CFC11</th>\n",
       "      <td>0.569106</td>\n",
       "      <td>-0.013111</td>\n",
       "      <td>0.069000</td>\n",
       "      <td>0.514060</td>\n",
       "      <td>0.779904</td>\n",
       "      <td>0.522477</td>\n",
       "      <td>1.000000</td>\n",
       "      <td>0.868985</td>\n",
       "      <td>0.272046</td>\n",
       "      <td>-0.043921</td>\n",
       "      <td>0.407710</td>\n",
       "    </tr>\n",
       "    <tr>\n",
       "      <th>CFC12</th>\n",
       "      <td>0.897012</td>\n",
       "      <td>0.000675</td>\n",
       "      <td>0.008286</td>\n",
       "      <td>0.852690</td>\n",
       "      <td>0.963616</td>\n",
       "      <td>0.867931</td>\n",
       "      <td>0.868985</td>\n",
       "      <td>1.000000</td>\n",
       "      <td>0.255303</td>\n",
       "      <td>-0.225131</td>\n",
       "      <td>0.687558</td>\n",
       "    </tr>\n",
       "    <tr>\n",
       "      <th>TSI</th>\n",
       "      <td>0.170302</td>\n",
       "      <td>-0.034606</td>\n",
       "      <td>-0.154492</td>\n",
       "      <td>0.177429</td>\n",
       "      <td>0.245528</td>\n",
       "      <td>0.199757</td>\n",
       "      <td>0.272046</td>\n",
       "      <td>0.255303</td>\n",
       "      <td>1.000000</td>\n",
       "      <td>0.052117</td>\n",
       "      <td>0.243383</td>\n",
       "    </tr>\n",
       "    <tr>\n",
       "      <th>Aerosols</th>\n",
       "      <td>-0.345247</td>\n",
       "      <td>0.014890</td>\n",
       "      <td>0.340238</td>\n",
       "      <td>-0.356155</td>\n",
       "      <td>-0.267809</td>\n",
       "      <td>-0.337055</td>\n",
       "      <td>-0.043921</td>\n",
       "      <td>-0.225131</td>\n",
       "      <td>0.052117</td>\n",
       "      <td>1.000000</td>\n",
       "      <td>-0.384914</td>\n",
       "    </tr>\n",
       "    <tr>\n",
       "      <th>Temp</th>\n",
       "      <td>0.786797</td>\n",
       "      <td>-0.099857</td>\n",
       "      <td>0.172471</td>\n",
       "      <td>0.788529</td>\n",
       "      <td>0.703255</td>\n",
       "      <td>0.778639</td>\n",
       "      <td>0.407710</td>\n",
       "      <td>0.687558</td>\n",
       "      <td>0.243383</td>\n",
       "      <td>-0.384914</td>\n",
       "      <td>1.000000</td>\n",
       "    </tr>\n",
       "  </tbody>\n",
       "</table>\n",
       "</div>"
      ],
      "text/plain": [
       "              Year     Month       MEI       CO2       CH4       N2O  \\\n",
       "Year      1.000000 -0.027942 -0.036988  0.982749  0.915659  0.993845   \n",
       "Month    -0.027942  1.000000  0.000885 -0.106732  0.018569  0.013632   \n",
       "MEI      -0.036988  0.000885  1.000000 -0.041147 -0.033419 -0.050820   \n",
       "CO2       0.982749 -0.106732 -0.041147  1.000000  0.877280  0.976720   \n",
       "CH4       0.915659  0.018569 -0.033419  0.877280  1.000000  0.899839   \n",
       "N2O       0.993845  0.013632 -0.050820  0.976720  0.899839  1.000000   \n",
       "CFC11     0.569106 -0.013111  0.069000  0.514060  0.779904  0.522477   \n",
       "CFC12     0.897012  0.000675  0.008286  0.852690  0.963616  0.867931   \n",
       "TSI       0.170302 -0.034606 -0.154492  0.177429  0.245528  0.199757   \n",
       "Aerosols -0.345247  0.014890  0.340238 -0.356155 -0.267809 -0.337055   \n",
       "Temp      0.786797 -0.099857  0.172471  0.788529  0.703255  0.778639   \n",
       "\n",
       "             CFC11     CFC12       TSI  Aerosols      Temp  \n",
       "Year      0.569106  0.897012  0.170302 -0.345247  0.786797  \n",
       "Month    -0.013111  0.000675 -0.034606  0.014890 -0.099857  \n",
       "MEI       0.069000  0.008286 -0.154492  0.340238  0.172471  \n",
       "CO2       0.514060  0.852690  0.177429 -0.356155  0.788529  \n",
       "CH4       0.779904  0.963616  0.245528 -0.267809  0.703255  \n",
       "N2O       0.522477  0.867931  0.199757 -0.337055  0.778639  \n",
       "CFC11     1.000000  0.868985  0.272046 -0.043921  0.407710  \n",
       "CFC12     0.868985  1.000000  0.255303 -0.225131  0.687558  \n",
       "TSI       0.272046  0.255303  1.000000  0.052117  0.243383  \n",
       "Aerosols -0.043921 -0.225131  0.052117  1.000000 -0.384914  \n",
       "Temp      0.407710  0.687558  0.243383 -0.384914  1.000000  "
      ]
     },
     "execution_count": 19,
     "metadata": {},
     "output_type": "execute_result"
    }
   ],
   "source": [
    "# Compute the correlations between all the variables in the training set. \n",
    "\n",
    "train.corr()"
   ]
  },
  {
   "cell_type": "code",
   "execution_count": 20,
   "metadata": {
    "collapsed": false
   },
   "outputs": [
    {
     "name": "stdout",
     "output_type": "stream",
     "text": [
      "N2O with MEI ::: -0.05081977547232952 ::: FALSE\n",
      "N2O with CO2 ::: 0.9767198182174774 ::: TRUE\n",
      "N2O with CH4 ::: 0.8998386437662852 ::: TRUE\n",
      "N2O with CFC11 ::: 0.5224773187940129 ::: FALSE\n",
      "N2O with CFC12 ::: 0.8679307757085132 ::: TRUE\n",
      "N2O with TSI ::: 0.1997566794275066 ::: FALSE\n",
      "N2O with Aerosols ::: -0.33705457070654865 ::: FALSE\n"
     ]
    }
   ],
   "source": [
    "# Which independent variables is N2O highly correlated with (absolute correlation greater than 0.7)?\n",
    "\n",
    "def high_cor(var,df,limit):\n",
    "    for variable in df.columns:\n",
    "        if variable not in ['Year','Month',var,'Temp']:\n",
    "            cor = np.corrcoef( df[var] , df[variable] )[0][1]\n",
    "            print('{0} with {1} ::: {2} ::: {3}'.format(var,\n",
    "                                                        variable,\n",
    "                                                        cor,\n",
    "                                                        str(abs(cor) > limit).upper()))\n",
    "            \n",
    "high_cor('N2O',train,0.7)"
   ]
  },
  {
   "cell_type": "code",
   "execution_count": 21,
   "metadata": {
    "collapsed": false
   },
   "outputs": [
    {
     "name": "stdout",
     "output_type": "stream",
     "text": [
      "CFC11 with MEI ::: 0.06900043872431204 ::: FALSE\n",
      "CFC11 with CO2 ::: 0.514059748009346 ::: FALSE\n",
      "CFC11 with CH4 ::: 0.7799040200233145 ::: TRUE\n",
      "CFC11 with N2O ::: 0.5224773187940129 ::: FALSE\n",
      "CFC11 with CFC12 ::: 0.8689851827830869 ::: TRUE\n",
      "CFC11 with TSI ::: 0.2720459602966328 ::: FALSE\n",
      "CFC11 with Aerosols ::: -0.04392119814776429 ::: FALSE\n"
     ]
    }
   ],
   "source": [
    "# Which independent variables is CFC.11 highly correlated with? \n",
    "\n",
    "high_cor('CFC11',train,0.7)"
   ]
  },
  {
   "cell_type": "code",
   "execution_count": 22,
   "metadata": {
    "collapsed": false
   },
   "outputs": [
    {
     "name": "stdout",
     "output_type": "stream",
     "text": [
      "                 Results: Ordinary least squares\n",
      "==================================================================\n",
      "Model:              OLS              Adj. R-squared:     0.722    \n",
      "Dependent Variable: Temp             AIC:                -523.2892\n",
      "Date:               2016-04-30 10:19 BIC:                -505.0444\n",
      "No. Observations:   284              Log-Likelihood:     266.64   \n",
      "Df Model:           4                F-statistic:        184.9    \n",
      "Df Residuals:       279              Prob (F-statistic): 3.52e-77 \n",
      "R-squared:          0.726            Scale:              0.0091145\n",
      "------------------------------------------------------------------\n",
      "                Coef.   Std.Err.    t    P>|t|    [0.025   0.975] \n",
      "------------------------------------------------------------------\n",
      "Intercept     -116.2269  20.2230 -5.7473 0.0000 -156.0360 -76.4178\n",
      "MEI              0.0642   0.0067  9.6494 0.0000    0.0511   0.0773\n",
      "N2O              0.0253   0.0013 19.3069 0.0000    0.0227   0.0279\n",
      "TSI              0.0795   0.0149  5.3437 0.0000    0.0502   0.1088\n",
      "Aerosols        -1.7017   0.2180 -7.8063 0.0000   -2.1309  -1.2726\n",
      "------------------------------------------------------------------\n",
      "Omnibus:              10.908       Durbin-Watson:          0.842  \n",
      "Prob(Omnibus):        0.004        Jarque-Bera (JB):       15.097 \n",
      "Skew:                 0.289        Prob(JB):               0.001  \n",
      "Kurtosis:             3.971        Condition No.:          5001976\n",
      "==================================================================\n",
      "* The condition number is large (5e+06). This might indicate\n",
      "strong multicollinearity or other numerical problems.\n"
     ]
    }
   ],
   "source": [
    "# Given that the correlations are so high, let us focus on the \n",
    "# N2O variable and build a model with only MEI, TSI, Aerosols \n",
    "# and N2O as independent variables. Remember to use the training \n",
    "# set to build the model.\n",
    "\n",
    "# Find the coefficient of N2O in this reduced model.\n",
    "\n",
    "linreg2 = sm.ols(formula=\"Temp ~ MEI + N2O + TSI + Aerosols\", \n",
    "                 data=train).fit()\n",
    "\n",
    "print(linreg2.summary2())"
   ]
  },
  {
   "cell_type": "raw",
   "metadata": {},
   "source": [
    "We have observed that, for this problem, when we remove \n",
    "many variables the sign of N2O flips. The model has not lost a \n",
    "lot of explanatory power (the model R2 is 0.7261 compared to \n",
    "0.7509 previously) despite removing many variables. As \n",
    "discussed in lecture, this type of behavior is typical when \n",
    "building a model where many of the independent variables\n",
    "are highly correlated with each other. In this particular \n",
    "problem many of the variables (CO2, CH4, N2O, CFC.11 and\n",
    "CFC.12) are highly correlated, since they are all driven\n",
    "by human industrial development."
   ]
  },
  {
   "cell_type": "code",
   "execution_count": null,
   "metadata": {
    "collapsed": true
   },
   "outputs": [],
   "source": []
  },
  {
   "cell_type": "code",
   "execution_count": null,
   "metadata": {
    "collapsed": true
   },
   "outputs": [],
   "source": []
  },
  {
   "cell_type": "code",
   "execution_count": null,
   "metadata": {
    "collapsed": true
   },
   "outputs": [],
   "source": []
  },
  {
   "cell_type": "code",
   "execution_count": null,
   "metadata": {
    "collapsed": true
   },
   "outputs": [],
   "source": []
  }
 ],
 "metadata": {
  "kernelspec": {
   "display_name": "Python 3",
   "language": "python",
   "name": "python3"
  },
  "language_info": {
   "codemirror_mode": {
    "name": "ipython",
    "version": 3
   },
   "file_extension": ".py",
   "mimetype": "text/x-python",
   "name": "python",
   "nbconvert_exporter": "python",
   "pygments_lexer": "ipython3",
   "version": "3.4.4"
  }
 },
 "nbformat": 4,
 "nbformat_minor": 0
}
