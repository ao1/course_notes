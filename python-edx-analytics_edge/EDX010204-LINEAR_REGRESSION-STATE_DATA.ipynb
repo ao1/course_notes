{
 "cells": [
  {
   "cell_type": "code",
   "execution_count": 1,
   "metadata": {
    "collapsed": false
   },
   "outputs": [],
   "source": [
    "%matplotlib inline\n",
    "import pandas as pd\n",
    "import os\n",
    "import matplotlib as plt\n",
    "import seaborn as sns\n",
    "import numpy as np\n",
    "import statsmodels.formula.api as sm"
   ]
  },
  {
   "cell_type": "code",
   "execution_count": 2,
   "metadata": {
    "collapsed": false
   },
   "outputs": [
    {
     "data": {
      "text/html": [
       "<style>body {\n",
       "    margin: 0;\n",
       "    font-family: Helvetica;\n",
       "}\n",
       "table.dataframe {\n",
       "    border-collapse: collapse;\n",
       "    border: none;\n",
       "}\n",
       "table.dataframe tr {\n",
       "    border: none;\n",
       "}\n",
       "table.dataframe td, table.dataframe th {\n",
       "    margin: 0;\n",
       "    border: 1px solid white;\n",
       "    padding-left: 0.25em;\n",
       "    padding-right: 0.25em;\n",
       "}\n",
       "table.dataframe th:not(:empty) {\n",
       "    background-color: #fec;\n",
       "    text-align: left;\n",
       "    font-weight: normal;\n",
       "}\n",
       "table.dataframe tr:nth-child(2) th:empty {\n",
       "    border-left: none;\n",
       "    border-right: 1px dashed #888;\n",
       "}\n",
       "table.dataframe td {\n",
       "    border: 2px solid #ccf;\n",
       "    background-color: #f4f4ff;\n",
       "}\n",
       "h3 {\n",
       "    color: white;\n",
       "    background-color: black;\n",
       "    padding: 0.5em;\n",
       "}\n",
       "</style>"
      ],
      "text/plain": [
       "<IPython.core.display.HTML object>"
      ]
     },
     "execution_count": 2,
     "metadata": {},
     "output_type": "execute_result"
    }
   ],
   "source": [
    "#custom style HTML output\n",
    "\n",
    "from IPython.core.display import HTML\n",
    "\n",
    "csspath1 = r'C:\\COURSERA\\PYCON2015_TUTORIALS\\Brandon Rhodes - Pandas From The Ground Up - PyCon 2015\\style-table.css'\n",
    "csspath2 = r'C:\\COURSERA\\PYCON2015_TUTORIALS\\Brandon Rhodes - Pandas From The Ground Up - PyCon 2015\\style-notebook.css'\n",
    "\n",
    "css = open(csspath1).read() + open(csspath2).read()\n",
    "HTML('<style>{}</style>'.format(css))"
   ]
  },
  {
   "cell_type": "raw",
   "metadata": {},
   "source": [
    "We often take data for granted. However, one of the hardest parts about analyzing a problem you're interested in can be to find good data to answer the questions you want to ask. As you're learning R, though, there are many datasets that R has built in that you can take advantage of.\n",
    "\n",
    "In this problem, we will be examining the \"state\" dataset, which has data from the 1970s on all fifty US states. For each state, the dataset includes the population, per capita income, illiteracy rate, murder rate, high school graduation rate, average number of frost days, area, latitude and longitude, division the state belongs to,  region the state belongs to, and two-letter abbreviation.\n",
    "\n",
    "\n",
    "This dataset has 50 observations (one for each US state) and the following 15 variables:\n",
    "\n",
    "Population - the population estimate of the state in 1975\n",
    "\n",
    "Income - per capita income in 1974\n",
    "\n",
    "Illiteracy - illiteracy rates in 1970, as a percent of the population\n",
    "\n",
    "Life.Exp - the life expectancy in years of residents of the state in 1970\n",
    "\n",
    "Murder - the murder and non-negligent manslaughter rate per 100,000 population in 1976\n",
    "\n",
    "HS.Grad - percent of high-school graduates in 1970\n",
    "\n",
    "Frost - the mean number of days with minimum temperature below freezing from 1931–1960 in the capital or a large city of the state\n",
    "\n",
    "Area - the land area (in square miles) of the state\n",
    "\n",
    "state.abb - a 2-letter abreviation for each state\n",
    "\n",
    "state.area - the area of each state, in square miles\n",
    "\n",
    "x - the longitude of the center of the state\n",
    "\n",
    "y - the latitude of the center of the state\n",
    "\n",
    "state.division - the division each state belongs to (New England, Middle Atlantic, South Atlantic, East South Central, West South Central, East North Central, West North Central, Mountain, or Pacific)\n",
    "\n",
    "state.name - the full names of each state\n",
    "\n",
    "state.region - the region each state belong to (Northeast, South, North Central, or West)"
   ]
  },
  {
   "cell_type": "code",
   "execution_count": 3,
   "metadata": {
    "collapsed": true
   },
   "outputs": [],
   "source": [
    "statedata = pd.read_csv('DATA/statedata.csv',)"
   ]
  },
  {
   "cell_type": "code",
   "execution_count": 4,
   "metadata": {
    "collapsed": false
   },
   "outputs": [
    {
     "data": {
      "text/plain": [
       "(50, 15)"
      ]
     },
     "execution_count": 4,
     "metadata": {},
     "output_type": "execute_result"
    }
   ],
   "source": [
    "statedata.shape"
   ]
  },
  {
   "cell_type": "code",
   "execution_count": 5,
   "metadata": {
    "collapsed": false
   },
   "outputs": [],
   "source": [
    "statedata.rename(columns={'Life.Exp': 'LifeExp',\n",
    "                          'HS.Grad': 'HSGrad',\n",
    "                         'state.abb':'stateabb',\n",
    "                         'state.division':'statediv',\n",
    "                         'state.name':'statename',\n",
    "                         'state.region':'stateregion',\n",
    "                         'state.area':'statearea'}, inplace=True)"
   ]
  },
  {
   "cell_type": "code",
   "execution_count": 6,
   "metadata": {
    "collapsed": false
   },
   "outputs": [
    {
     "data": {
      "text/plain": [
       "Population       int64\n",
       "Income           int64\n",
       "Illiteracy     float64\n",
       "LifeExp        float64\n",
       "Murder         float64\n",
       "HSGrad         float64\n",
       "Frost            int64\n",
       "Area             int64\n",
       "stateabb        object\n",
       "statearea        int64\n",
       "x              float64\n",
       "y              float64\n",
       "statediv        object\n",
       "statename       object\n",
       "stateregion     object\n",
       "dtype: object"
      ]
     },
     "execution_count": 6,
     "metadata": {},
     "output_type": "execute_result"
    }
   ],
   "source": [
    "statedata.dtypes"
   ]
  },
  {
   "cell_type": "code",
   "execution_count": 7,
   "metadata": {
    "collapsed": false
   },
   "outputs": [
    {
     "data": {
      "text/plain": [
       "<matplotlib.axes._subplots.AxesSubplot at 0xa4281d0>"
      ]
     },
     "execution_count": 7,
     "metadata": {},
     "output_type": "execute_result"
    },
    {
     "data": {
      "image/png": "[encoded data removed]",
      "text/plain": [
       "<matplotlib.figure.Figure at 0xa400d30>"
      ]
     },
     "metadata": {},
     "output_type": "display_data"
    }
   ],
   "source": [
    "# We begin by exploring the data. Plot all of the states' \n",
    "# centers with latitude on the y axis (the \"y\" variable in \n",
    "# our dataset) and longitude on the x axis (the \"x\" variable \n",
    "# in our dataset). The shape of the plot should look like \n",
    "# the outline of the United States! Note that Alaska and \n",
    "# Hawaii have had their coordinates adjusted to appear \n",
    "# just off of the west coast.\n",
    "\n",
    "sns.regplot(statedata.x,statedata.y,scatter_kws={\"s\": 60})"
   ]
  },
  {
   "cell_type": "code",
   "execution_count": 8,
   "metadata": {
    "collapsed": false
   },
   "outputs": [
    {
     "data": {
      "text/plain": [
       "stateregion\n",
       "West             62.000000\n",
       "North Central    54.516667\n",
       "Northeast        53.966667\n",
       "South            44.343750\n",
       "Name: HSGrad, dtype: float64"
      ]
     },
     "execution_count": 8,
     "metadata": {},
     "output_type": "execute_result"
    }
   ],
   "source": [
    "# Determine which region of the US (West, North Central, South, \n",
    "# or Northeast) has the highest average high school graduation \n",
    "# rate of all the states in the region.\n",
    "\n",
    "statedata.groupby(['stateregion'])['HSGrad'].mean().sort_values(ascending=False)"
   ]
  },
  {
   "cell_type": "code",
   "execution_count": 9,
   "metadata": {
    "collapsed": false
   },
   "outputs": [
    {
     "data": {
      "text/plain": [
       "stateregion\n",
       "South            10.85\n",
       "West              6.80\n",
       "North Central     3.75\n",
       "Northeast         3.30\n",
       "Name: Murder, dtype: float64"
      ]
     },
     "execution_count": 9,
     "metadata": {},
     "output_type": "execute_result"
    }
   ],
   "source": [
    "# Which region has the highest median murder rate?\n",
    "\n",
    "statedata.groupby(['stateregion'])['Murder'].median().sort_values(ascending=False)"
   ]
  },
  {
   "cell_type": "code",
   "execution_count": 10,
   "metadata": {
    "collapsed": false
   },
   "outputs": [
    {
     "data": {
      "text/plain": [
       "'0.7.0'"
      ]
     },
     "execution_count": 10,
     "metadata": {},
     "output_type": "execute_result"
    },
    {
     "data": {
      "image/png": "[encoded data removed]",
      "text/plain": [
       "<matplotlib.figure.Figure at 0xa5b40f0>"
      ]
     },
     "metadata": {},
     "output_type": "display_data"
    }
   ],
   "source": [
    "# Now, make a boxplot of the murder rate by region\n",
    "\n",
    "sns.boxplot(x='stateregion',y='Murder',data=statedata)\n",
    "sns.__version__ # need a recent version (0.7.0) of seaborn for this"
   ]
  },
  {
   "cell_type": "code",
   "execution_count": 11,
   "metadata": {
    "collapsed": false
   },
   "outputs": [
    {
     "data": {
      "text/html": [
       "<div>\n",
       "<table border=\"1\" class=\"dataframe\">\n",
       "  <thead>\n",
       "    <tr style=\"text-align: right;\">\n",
       "      <th></th>\n",
       "      <th>Murder</th>\n",
       "      <th>stateabb</th>\n",
       "    </tr>\n",
       "  </thead>\n",
       "  <tbody>\n",
       "    <tr>\n",
       "      <th>31</th>\n",
       "      <td>10.9</td>\n",
       "      <td>NY</td>\n",
       "    </tr>\n",
       "    <tr>\n",
       "      <th>37</th>\n",
       "      <td>6.1</td>\n",
       "      <td>PA</td>\n",
       "    </tr>\n",
       "    <tr>\n",
       "      <th>44</th>\n",
       "      <td>5.5</td>\n",
       "      <td>VT</td>\n",
       "    </tr>\n",
       "    <tr>\n",
       "      <th>29</th>\n",
       "      <td>5.2</td>\n",
       "      <td>NJ</td>\n",
       "    </tr>\n",
       "    <tr>\n",
       "      <th>20</th>\n",
       "      <td>3.3</td>\n",
       "      <td>MA</td>\n",
       "    </tr>\n",
       "    <tr>\n",
       "      <th>28</th>\n",
       "      <td>3.3</td>\n",
       "      <td>NH</td>\n",
       "    </tr>\n",
       "    <tr>\n",
       "      <th>6</th>\n",
       "      <td>3.1</td>\n",
       "      <td>CT</td>\n",
       "    </tr>\n",
       "    <tr>\n",
       "      <th>18</th>\n",
       "      <td>2.7</td>\n",
       "      <td>ME</td>\n",
       "    </tr>\n",
       "    <tr>\n",
       "      <th>38</th>\n",
       "      <td>2.4</td>\n",
       "      <td>RI</td>\n",
       "    </tr>\n",
       "  </tbody>\n",
       "</table>\n",
       "</div>"
      ],
      "text/plain": [
       "    Murder stateabb\n",
       "31    10.9       NY\n",
       "37     6.1       PA\n",
       "44     5.5       VT\n",
       "29     5.2       NJ\n",
       "20     3.3       MA\n",
       "28     3.3       NH\n",
       "6      3.1       CT\n",
       "18     2.7       ME\n",
       "38     2.4       RI"
      ]
     },
     "execution_count": 11,
     "metadata": {},
     "output_type": "execute_result"
    }
   ],
   "source": [
    "# You should see that there is an outlier in the Northeast \n",
    "# region of the boxplot you just generated. Which state \n",
    "# does this correspond to? (Hint: There are many ways \n",
    "# to find the answer to this question, but one way is \n",
    "# to use the subset command to only look at the Northeast data.)\n",
    "\n",
    "df1 = statedata[statedata['stateregion'] == 'Northeast']\n",
    "\n",
    "df1[['Murder','stateabb']].sort_values('Murder',ascending=False)"
   ]
  },
  {
   "cell_type": "code",
   "execution_count": 12,
   "metadata": {
    "collapsed": false
   },
   "outputs": [
    {
     "data": {
      "text/plain": [
       "Index(['Population', 'Income', 'Illiteracy', 'LifeExp', 'Murder', 'HSGrad',\n",
       "       'Frost', 'Area', 'stateabb', 'statearea', 'x', 'y', 'statediv',\n",
       "       'statename', 'stateregion'],\n",
       "      dtype='object')"
      ]
     },
     "execution_count": 12,
     "metadata": {},
     "output_type": "execute_result"
    }
   ],
   "source": [
    "statedata.columns"
   ]
  },
  {
   "cell_type": "code",
   "execution_count": 13,
   "metadata": {
    "collapsed": false
   },
   "outputs": [
    {
     "name": "stdout",
     "output_type": "stream",
     "text": [
      "                 Results: Ordinary least squares\n",
      "=================================================================\n",
      "Model:              OLS              Adj. R-squared:     0.692   \n",
      "Dependent Variable: LifeExp          AIC:                119.7092\n",
      "Date:               2016-05-02 22:35 BIC:                135.0054\n",
      "No. Observations:   50               Log-Likelihood:     -51.855 \n",
      "Df Model:           7                F-statistic:        16.74   \n",
      "Df Residuals:       42               Prob (F-statistic): 2.53e-10\n",
      "R-squared:          0.736            Scale:              0.55469 \n",
      "------------------------------------------------------------------\n",
      "               Coef.   Std.Err.     t     P>|t|    [0.025   0.975]\n",
      "------------------------------------------------------------------\n",
      "Intercept     70.9432    1.7480  40.5859  0.0000  67.4157  74.4708\n",
      "Population     0.0001    0.0000   1.7748  0.0832  -0.0000   0.0001\n",
      "Income        -0.0000    0.0002  -0.0892  0.9293  -0.0005   0.0005\n",
      "Illiteracy     0.0338    0.3663   0.0923  0.9269  -0.7054   0.7730\n",
      "Murder        -0.3011    0.0466  -6.4590  0.0000  -0.3952  -0.2070\n",
      "HSGrad         0.0489    0.0233   2.0979  0.0420   0.0019   0.0960\n",
      "Frost         -0.0057    0.0031  -1.8246  0.0752  -0.0121   0.0006\n",
      "Area          -0.0000    0.0000  -0.0443  0.9649  -0.0000   0.0000\n",
      "-----------------------------------------------------------------\n",
      "Omnibus:             2.385        Durbin-Watson:          1.929  \n",
      "Prob(Omnibus):       0.303        Jarque-Bera (JB):       1.420  \n",
      "Skew:                -0.081       Prob(JB):               0.492  \n",
      "Kurtosis:            2.190        Condition No.:          1849749\n",
      "=================================================================\n",
      "* The condition number is large (2e+06). This might indicate\n",
      "strong multicollinearity or other numerical problems.\n"
     ]
    }
   ],
   "source": [
    "# We would like to build a model to predict life expectancy \n",
    "# by state using the state statistics we have in our dataset.\n",
    "\n",
    "# Build the model with all potential variables included \n",
    "# (Population, Income, Illiteracy, Murder, HS.Grad, Frost, \n",
    "#  and Area). Note that you should use the variable \"Area\" \n",
    "# in your model, NOT the variable \"state.area\".\n",
    "\n",
    "formula = 'LifeExp ~ Population + Income + Illiteracy + Murder + HSGrad + Frost + Area'\n",
    "\n",
    "linreg_model1 = sm.ols(formula=formula,data=statedata).fit()\n",
    "print(linreg_model1.summary2())"
   ]
  },
  {
   "cell_type": "code",
   "execution_count": 14,
   "metadata": {
    "collapsed": false
   },
   "outputs": [
    {
     "data": {
      "text/plain": [
       "-2.1804237825235467e-05"
      ]
     },
     "execution_count": 14,
     "metadata": {},
     "output_type": "execute_result"
    }
   ],
   "source": [
    "# What is the coefficient for \"Income\" in your linear regression model?\n",
    "\n",
    "linreg_model1.params.Income"
   ]
  },
  {
   "cell_type": "code",
   "execution_count": 15,
   "metadata": {
    "collapsed": false
   },
   "outputs": [
    {
     "data": {
      "text/plain": [
       "<matplotlib.axes._subplots.AxesSubplot at 0xae459e8>"
      ]
     },
     "execution_count": 15,
     "metadata": {},
     "output_type": "execute_result"
    },
    {
     "data": {
      "image/png": "[encoded data removed]",
      "text/plain": [
       "<matplotlib.figure.Figure at 0xad8a4e0>"
      ]
     },
     "metadata": {},
     "output_type": "display_data"
    }
   ],
   "source": [
    "# Plot a graph of life expectancy vs. income\n",
    "\n",
    "sns.regplot(x='Income',y='LifeExp',data=statedata)"
   ]
  },
  {
   "cell_type": "raw",
   "metadata": {},
   "source": [
    "Recall that we discussed the principle of simplicity: that is, a model with fewer variables is preferable to a model with many unnnecessary variables. Experiment with removing independent variables from the original model. Remember to use the significance of the coefficients to decide which variables to remove (remove the one with the largest \"p-value\" first, or the one with the \"t value\" closest to zero), and to remove them one at a time (this is called \"backwards variable selection\"). This is important due to multicollinearity issues - removing one insignificant variable may make another previously insignificant variable become significant."
   ]
  },
  {
   "cell_type": "code",
   "execution_count": 16,
   "metadata": {
    "collapsed": false
   },
   "outputs": [
    {
     "name": "stdout",
     "output_type": "stream",
     "text": [
      "======== Variable with highest p-value --> Population <--- ======== \n",
      "\n",
      "                 Results: Ordinary least squares\n",
      "=================================================================\n",
      "Model:              OLS              Adj. R-squared:     0.713   \n",
      "Dependent Variable: LifeExp          AIC:                113.7326\n",
      "Date:               2016-05-02 22:35 BIC:                123.2927\n",
      "No. Observations:   50               Log-Likelihood:     -51.866 \n",
      "Df Model:           4                F-statistic:        31.37   \n",
      "Df Residuals:       45               Prob (F-statistic): 1.70e-12\n",
      "R-squared:          0.736            Scale:              0.51796 \n",
      "------------------------------------------------------------------\n",
      "               Coef.   Std.Err.     t     P>|t|    [0.025   0.975]\n",
      "------------------------------------------------------------------\n",
      "Intercept     71.0271    0.9529  74.5415  0.0000  69.1080  72.9463\n",
      "Frost         -0.0059    0.0024  -2.4550  0.0180  -0.0108  -0.0011\n",
      "HSGrad         0.0466    0.0148   3.1417  0.0030   0.0167   0.0764\n",
      "Murder        -0.3001    0.0366  -8.1987  0.0000  -0.3739  -0.2264\n",
      "Population     0.0001    0.0000   1.9960  0.0520  -0.0000   0.0001\n",
      "-----------------------------------------------------------------\n",
      "Omnibus:               2.444        Durbin-Watson:          1.914\n",
      "Prob(Omnibus):         0.295        Jarque-Bera (JB):       1.426\n",
      "Skew:                  -0.065       Prob(JB):               0.490\n",
      "Kurtosis:              2.183        Condition No.:          57408\n",
      "=================================================================\n",
      "* The condition number is large (6e+04). This might indicate\n",
      "strong multicollinearity or other numerical problems.\n"
     ]
    }
   ],
   "source": [
    "# You should be able to find a good model with only 4 independent \n",
    "# variables, instead of the original 7. Which variables does this \n",
    "# model contain?\n",
    "\n",
    "def lm(df,formula):\n",
    "    linreg_model = sm.ols(formula=formula,data=df).fit()\n",
    "    top_pvalue_var = linreg_model.pvalues[1:].sort_values(ascending=False).index[0]\n",
    "    print(\"======== Variable with highest p-value --> {} <--- ======== \\n\".format(top_pvalue_var))\n",
    "    print(linreg_model.summary2())\n",
    "    return linreg_model\n",
    "\n",
    "linreg_model2 = lm(statedata,'LifeExp ~ Frost + HSGrad + Murder + Population')"
   ]
  },
  {
   "cell_type": "raw",
   "metadata": {},
   "source": [
    "This model with 4 variables is a good model. However, we can see \n",
    "that the variable \"Population\" is not quite significant. In \n",
    "practice, it would be up to you whether or not to keep the \n",
    "variable \"Population\" or eliminate it for a 3-variable model. \n",
    "Population does not add much statistical significance in the \n",
    "presence of murder, high school graduation rate, and frost days. \n",
    "However, for the remainder of this question, we will analyze \n",
    "the 4-variable model."
   ]
  },
  {
   "cell_type": "code",
   "execution_count": 143,
   "metadata": {
    "collapsed": false
   },
   "outputs": [
    {
     "data": {
      "text/html": [
       "<div>\n",
       "<table border=\"1\" class=\"dataframe\">\n",
       "  <thead>\n",
       "    <tr style=\"text-align: right;\">\n",
       "      <th></th>\n",
       "      <th>state</th>\n",
       "      <th>life_exp_pred</th>\n",
       "    </tr>\n",
       "  </thead>\n",
       "  <tbody>\n",
       "    <tr>\n",
       "      <th>0</th>\n",
       "      <td>AL</td>\n",
       "      <td>68.4811</td>\n",
       "    </tr>\n",
       "  </tbody>\n",
       "</table>\n",
       "</div>"
      ],
      "text/plain": [
       "  state life_exp_pred\n",
       "0    AL       68.4811"
      ]
     },
     "execution_count": 143,
     "metadata": {},
     "output_type": "execute_result"
    }
   ],
   "source": [
    "# Using the simplified 4 variable model that we created, we'll now \n",
    "# take a look at how our predictions compare to the actual values.\n",
    "\n",
    "# Take a look at the vector of predictions by using the predict \n",
    "# function (since we are just looking at predictions on the \n",
    "# training set, you don't need to pass a \"data\" argument \n",
    "# to the predict function).\n",
    "\n",
    "# Which state do we predict to have the lowest life expectancy? \n",
    "\n",
    "pred = pd.DataFrame([statedata.stateabb.values,linreg_model2.fittedvalues],\n",
    "                   index=['state','life_exp_pred']).transpose() \n",
    "                   #note: using index= instead of column= because we use transpose\n",
    "    \n",
    "pred.sort_values('life_exp_pred',ascending=False).tail(1)"
   ]
  },
  {
   "cell_type": "code",
   "execution_count": 139,
   "metadata": {
    "collapsed": false
   },
   "outputs": [
    {
     "data": {
      "text/html": [
       "<div>\n",
       "<table border=\"1\" class=\"dataframe\">\n",
       "  <thead>\n",
       "    <tr style=\"text-align: right;\">\n",
       "      <th></th>\n",
       "      <th>state</th>\n",
       "      <th>life_exp_real</th>\n",
       "    </tr>\n",
       "  </thead>\n",
       "  <tbody>\n",
       "    <tr>\n",
       "      <th>39</th>\n",
       "      <td>SC</td>\n",
       "      <td>67.96</td>\n",
       "    </tr>\n",
       "  </tbody>\n",
       "</table>\n",
       "</div>"
      ],
      "text/plain": [
       "   state life_exp_real\n",
       "39    SC         67.96"
      ]
     },
     "execution_count": 139,
     "metadata": {},
     "output_type": "execute_result"
    }
   ],
   "source": [
    "# Which state actually has the lowest life expectancy?\n",
    "\n",
    "real = pd.DataFrame([statedata.stateabb.values,statedata.LifeExp.values],\n",
    "                   index=['state','life_exp_real']).transpose() \n",
    "                   #note: using index= instead of column= because we use transpose\n",
    "\n",
    "real.sort_values('life_exp_real',ascending=False).tail(1)"
   ]
  },
  {
   "cell_type": "code",
   "execution_count": 146,
   "metadata": {
    "collapsed": false
   },
   "outputs": [
    {
     "data": {
      "text/html": [
       "<div>\n",
       "<table border=\"1\" class=\"dataframe\">\n",
       "  <thead>\n",
       "    <tr style=\"text-align: right;\">\n",
       "      <th></th>\n",
       "      <th>state</th>\n",
       "      <th>life_exp_pred</th>\n",
       "    </tr>\n",
       "  </thead>\n",
       "  <tbody>\n",
       "    <tr>\n",
       "      <th>46</th>\n",
       "      <td>WA</td>\n",
       "      <td>72.6827</td>\n",
       "    </tr>\n",
       "  </tbody>\n",
       "</table>\n",
       "</div>"
      ],
      "text/plain": [
       "   state life_exp_pred\n",
       "46    WA       72.6827"
      ]
     },
     "execution_count": 146,
     "metadata": {},
     "output_type": "execute_result"
    }
   ],
   "source": [
    "# Which state do we predict to have the highest life expectancy?\n",
    "\n",
    "pred.sort_values('life_exp_pred',ascending=False).head(1)"
   ]
  },
  {
   "cell_type": "code",
   "execution_count": 147,
   "metadata": {
    "collapsed": false
   },
   "outputs": [
    {
     "data": {
      "text/html": [
       "<div>\n",
       "<table border=\"1\" class=\"dataframe\">\n",
       "  <thead>\n",
       "    <tr style=\"text-align: right;\">\n",
       "      <th></th>\n",
       "      <th>state</th>\n",
       "      <th>life_exp_real</th>\n",
       "    </tr>\n",
       "  </thead>\n",
       "  <tbody>\n",
       "    <tr>\n",
       "      <th>10</th>\n",
       "      <td>HI</td>\n",
       "      <td>73.6</td>\n",
       "    </tr>\n",
       "  </tbody>\n",
       "</table>\n",
       "</div>"
      ],
      "text/plain": [
       "   state life_exp_real\n",
       "10    HI          73.6"
      ]
     },
     "execution_count": 147,
     "metadata": {},
     "output_type": "execute_result"
    }
   ],
   "source": [
    "# Which state actually has the highest life expectancy?\n",
    "\n",
    "real.sort_values('life_exp_real',ascending=False).head(1)"
   ]
  },
  {
   "cell_type": "code",
   "execution_count": 137,
   "metadata": {
    "collapsed": false
   },
   "outputs": [
    {
     "data": {
      "text/html": [
       "<div>\n",
       "<table border=\"1\" class=\"dataframe\">\n",
       "  <thead>\n",
       "    <tr style=\"text-align: right;\">\n",
       "      <th></th>\n",
       "      <th>state</th>\n",
       "      <th>residuals</th>\n",
       "    </tr>\n",
       "  </thead>\n",
       "  <tbody>\n",
       "    <tr>\n",
       "      <th>13</th>\n",
       "      <td>IN</td>\n",
       "      <td>0.0215853</td>\n",
       "    </tr>\n",
       "  </tbody>\n",
       "</table>\n",
       "</div>"
      ],
      "text/plain": [
       "   state  residuals\n",
       "13    IN  0.0215853"
      ]
     },
     "execution_count": 137,
     "metadata": {},
     "output_type": "execute_result"
    }
   ],
   "source": [
    "# Take a look at the vector of residuals (the difference \n",
    "# between the predicted and actual values).\n",
    "\n",
    "# For which state do we make the smallest absolute error? (Note the absolute term here)\n",
    "\n",
    "resid = pd.DataFrame([statedata.stateabb.values,abs(linreg_model2.resid)],\n",
    "                      index=['state','residuals']).transpose()\n",
    "                      #note: using index= instead of column= because we use transpose\n",
    "\n",
    "resid.sort_values('residuals',ascending=False).tail(1)"
   ]
  },
  {
   "cell_type": "code",
   "execution_count": 138,
   "metadata": {
    "collapsed": false
   },
   "outputs": [
    {
     "data": {
      "text/html": [
       "<div>\n",
       "<table border=\"1\" class=\"dataframe\">\n",
       "  <thead>\n",
       "    <tr style=\"text-align: right;\">\n",
       "      <th></th>\n",
       "      <th>state</th>\n",
       "      <th>residuals</th>\n",
       "    </tr>\n",
       "  </thead>\n",
       "  <tbody>\n",
       "    <tr>\n",
       "      <th>10</th>\n",
       "      <td>HI</td>\n",
       "      <td>1.50683</td>\n",
       "    </tr>\n",
       "  </tbody>\n",
       "</table>\n",
       "</div>"
      ],
      "text/plain": [
       "   state residuals\n",
       "10    HI   1.50683"
      ]
     },
     "execution_count": 138,
     "metadata": {},
     "output_type": "execute_result"
    }
   ],
   "source": [
    "# For which state do we make the largest absolute error? (Note the absolute term here)\n",
    "\n",
    "resid.sort_values('residuals',ascending=False).head(1)"
   ]
  },
  {
   "cell_type": "code",
   "execution_count": null,
   "metadata": {
    "collapsed": true
   },
   "outputs": [],
   "source": []
  }
 ],
 "metadata": {
  "kernelspec": {
   "display_name": "Python 3",
   "language": "python",
   "name": "python3"
  },
  "language_info": {
   "codemirror_mode": {
    "name": "ipython",
    "version": 3
   },
   "file_extension": ".py",
   "mimetype": "text/x-python",
   "name": "python",
   "nbconvert_exporter": "python",
   "pygments_lexer": "ipython3",
   "version": "3.4.4"
  }
 },
 "nbformat": 4,
 "nbformat_minor": 0
}
