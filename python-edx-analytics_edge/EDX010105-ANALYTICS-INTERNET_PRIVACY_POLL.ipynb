{
 "cells": [
  {
   "cell_type": "code",
   "execution_count": 1,
   "metadata": {
    "collapsed": false
   },
   "outputs": [
    {
     "name": "stderr",
     "output_type": "stream",
     "text": [
      "C:\\Anaconda3\\lib\\site-packages\\matplotlib\\__init__.py:872: UserWarning: axes.color_cycle is deprecated and replaced with axes.prop_cycle; please use the latter.\n",
      "  warnings.warn(self.msg_depr % (key, alt_key))\n"
     ]
    }
   ],
   "source": [
    "%matplotlib inline\n",
    "import pandas as pd\n",
    "import os\n",
    "import matplotlib as plt\n",
    "import seaborn as sns\n",
    "import numpy as np"
   ]
  },
  {
   "cell_type": "code",
   "execution_count": 2,
   "metadata": {
    "collapsed": false
   },
   "outputs": [
    {
     "data": {
      "text/html": [
       "<style>body {\n",
       "    margin: 0;\n",
       "    font-family: Helvetica;\n",
       "}\n",
       "table.dataframe {\n",
       "    border-collapse: collapse;\n",
       "    border: none;\n",
       "}\n",
       "table.dataframe tr {\n",
       "    border: none;\n",
       "}\n",
       "table.dataframe td, table.dataframe th {\n",
       "    margin: 0;\n",
       "    border: 1px solid white;\n",
       "    padding-left: 0.25em;\n",
       "    padding-right: 0.25em;\n",
       "}\n",
       "table.dataframe th:not(:empty) {\n",
       "    background-color: #fec;\n",
       "    text-align: left;\n",
       "    font-weight: normal;\n",
       "}\n",
       "table.dataframe tr:nth-child(2) th:empty {\n",
       "    border-left: none;\n",
       "    border-right: 1px dashed #888;\n",
       "}\n",
       "table.dataframe td {\n",
       "    border: 2px solid #ccf;\n",
       "    background-color: #f4f4ff;\n",
       "}\n",
       "h3 {\n",
       "    color: white;\n",
       "    background-color: black;\n",
       "    padding: 0.5em;\n",
       "}\n",
       "</style>"
      ],
      "text/plain": [
       "<IPython.core.display.HTML object>"
      ]
     },
     "execution_count": 2,
     "metadata": {},
     "output_type": "execute_result"
    }
   ],
   "source": [
    "#custom style HTML output\n",
    "\n",
    "from IPython.core.display import HTML\n",
    "\n",
    "csspath1 = r'C:\\COURSERA\\PYCON2015_TUTORIALS\\Brandon Rhodes - Pandas From The Ground Up - PyCon 2015\\style-table.css'\n",
    "csspath2 = r'C:\\COURSERA\\PYCON2015_TUTORIALS\\Brandon Rhodes - Pandas From The Ground Up - PyCon 2015\\style-notebook.css'\n",
    "\n",
    "css = open(csspath1).read() + open(csspath2).read()\n",
    "HTML('<style>{}</style>'.format(css))"
   ]
  },
  {
   "cell_type": "raw",
   "metadata": {},
   "source": [
    "Internet privacy has gained widespread attention in recent years. To measure the degree to which people are concerned about hot-button issues like Internet privacy, social scientists conduct polls in which they interview a large number of people about the topic. In this assignment, we will analyze data from a July 2013 Pew Internet and American Life Project poll on Internet anonymity and privacy, which involved interviews across the United States. While the full polling data can be found here, we will use a more limited version of the results, available in AnonymityPoll.csv. \n",
    "\n",
    "\n",
    "The dataset has the following fields (all Internet use-related fields were only collected from interviewees who either use the Internet or have a smartphone):\n",
    "\n",
    "Internet.Use: A binary variable indicating if the interviewee uses the Internet, at least occasionally (equals 1 if the interviewee uses the Internet, and equals 0 if the interviewee does not use the Internet).\n",
    "\n",
    "Smartphone: A binary variable indicating if the interviewee has a smartphone (equals 1 if they do have a smartphone, and equals 0 if they don't have a smartphone).\n",
    "\n",
    "Sex: Male or Female.\n",
    "\n",
    "Age: Age in years.\n",
    "\n",
    "State: State of residence of the interviewee.\n",
    "\n",
    "Region: Census region of the interviewee (Midwest, Northeast, South, or West).\n",
    "\n",
    "Conservativeness: Self-described level of conservativeness of interviewee, from 1 (very liberal) to 5 (very conservative).\n",
    "\n",
    "Info.On.Internet: Number of the following items this interviewee believes to be available on the Internet for others to see: (1) Their email address; (2) Their home address; (3) Their home phone number; (4) Their cell phone number; (5) The employer/company they work for; (6) Their political party or political affiliation; (7) Things they've written that have their name on it; (8) A photo of them; (9) A video of them; (10) Which groups or organizations they belong to; and (11) Their birth date.\n",
    "Worry.About.Info: A binary variable indicating if the interviewee worries about how much information is available about them on the Internet (equals 1 if they worry, and equals 0 if they don't worry).\n",
    "Privacy.Importance: A score from 0 (privacy is not too important) to 100 (privacy is very important), which combines the degree to which they find privacy important in the following: (1) The websites they browse; (2) Knowledge of the place they are located when they use the Internet; (3) The content and files they download; (4) The times of day they are online; (5) The applications or programs they use; (6) The searches they perform; (7) The content of their email; (8) The people they exchange email with; and (9) The content of their online chats or hangouts with others.\n",
    "\n",
    "Anonymity.Possible: A binary variable indicating if the interviewee thinks it's possible to use the Internet anonymously, meaning in such a way that online activities can't be traced back to them (equals 1 if he/she believes you can, and equals 0 if he/she believes you can't).\n",
    "\n",
    "Tried.Masking.Identity: A binary variable indicating if the interviewee has ever tried to mask his/her identity when using the Internet (equals 1 if he/she has tried to mask his/her identity, and equals 0 if he/she has not tried to mask his/her identity).\n",
    "\n",
    "Privacy.Laws.Effective: A binary variable indicating if the interviewee believes United States law provides reasonable privacy protection for Internet users (equals 1 if he/she believes it does, and equals 0 if he/she believes it doesn't)."
   ]
  },
  {
   "cell_type": "code",
   "execution_count": 3,
   "metadata": {
    "collapsed": false
   },
   "outputs": [],
   "source": [
    "# Read in data\n",
    "\n",
    "poll = pd.read_csv('DATA\\AnonymityPoll.csv')"
   ]
  },
  {
   "cell_type": "code",
   "execution_count": 4,
   "metadata": {
    "collapsed": false
   },
   "outputs": [
    {
     "data": {
      "text/plain": [
       "(1002, 13)"
      ]
     },
     "execution_count": 4,
     "metadata": {},
     "output_type": "execute_result"
    }
   ],
   "source": [
    "# How many people participated in the poll?\n",
    "\n",
    "poll.shape"
   ]
  },
  {
   "cell_type": "code",
   "execution_count": 5,
   "metadata": {
    "collapsed": false
   },
   "outputs": [
    {
     "data": {
      "text/plain": [
       "487"
      ]
     },
     "execution_count": 5,
     "metadata": {},
     "output_type": "execute_result"
    }
   ],
   "source": [
    "# How many interviewees responded that they use a smartphone?\n",
    "\n",
    "poll.Smartphone[poll.Smartphone == 1].count()"
   ]
  },
  {
   "cell_type": "code",
   "execution_count": 6,
   "metadata": {
    "collapsed": false
   },
   "outputs": [
    {
     "data": {
      "text/plain": [
       "472"
      ]
     },
     "execution_count": 6,
     "metadata": {},
     "output_type": "execute_result"
    }
   ],
   "source": [
    "# How many interviewees responded that they don't use a smartphone?\n",
    "\n",
    "poll.Smartphone[poll.Smartphone == 0].count()"
   ]
  },
  {
   "cell_type": "code",
   "execution_count": 7,
   "metadata": {
    "collapsed": false
   },
   "outputs": [
    {
     "data": {
      "text/plain": [
       "43"
      ]
     },
     "execution_count": 7,
     "metadata": {},
     "output_type": "execute_result"
    }
   ],
   "source": [
    "# How many interviewees did not respond to the question, \n",
    "# resulting in a missing value, or NA, in the summary() output?\n",
    "\n",
    "poll.Smartphone.isnull().sum()"
   ]
  },
  {
   "cell_type": "code",
   "execution_count": 8,
   "metadata": {
    "collapsed": false
   },
   "outputs": [
    {
     "data": {
      "text/plain": [
       "Region     State               \n",
       "Midwest    Illinois                 32\n",
       "           Indiana                  27\n",
       "           Iowa                     14\n",
       "           Kansas                   14\n",
       "           Michigan                 31\n",
       "           Minnesota                15\n",
       "           Missouri                 26\n",
       "           Nebraska                 11\n",
       "           North Dakota              5\n",
       "           Ohio                     38\n",
       "           South Dakota              3\n",
       "           Wisconsin                23\n",
       "Northeast  Connecticut               8\n",
       "           Maine                     4\n",
       "           Massachusetts            19\n",
       "           New Hampshire             7\n",
       "           New Jersey               16\n",
       "           New York                 60\n",
       "           Pennsylvania             45\n",
       "           Rhode Island              4\n",
       "           Vermont                   3\n",
       "South      Alabama                  11\n",
       "           Arkansas                 10\n",
       "           Delaware                  6\n",
       "           District of Columbia      2\n",
       "           Florida                  42\n",
       "           Georgia                  34\n",
       "           Kentucky                 25\n",
       "           Louisiana                17\n",
       "           Maryland                 18\n",
       "           Mississippi              11\n",
       "           North Carolina           32\n",
       "           Oklahoma                 14\n",
       "           South Carolina           12\n",
       "           Tennessee                17\n",
       "           Texas                    72\n",
       "           Virginia                 31\n",
       "           West Virginia             5\n",
       "West       Arizona                  24\n",
       "           California              103\n",
       "           Colorado                 19\n",
       "           Idaho                     8\n",
       "           Montana                   5\n",
       "           Nevada                    8\n",
       "           New Mexico                5\n",
       "           Oregon                   20\n",
       "           Utah                     11\n",
       "           Washington               28\n",
       "           Wyoming                   7\n",
       "Name: State, dtype: int64"
      ]
     },
     "execution_count": 8,
     "metadata": {},
     "output_type": "execute_result"
    }
   ],
   "source": [
    "# What are the states in the Midwest census region?\n",
    "\n",
    "poll.groupby(['Region','State'])['State'].count()"
   ]
  },
  {
   "cell_type": "code",
   "execution_count": 9,
   "metadata": {
    "collapsed": false
   },
   "outputs": [
    {
     "data": {
      "text/plain": [
       "State\n",
       "Illinois        32\n",
       "Indiana         27\n",
       "Iowa            14\n",
       "Kansas          14\n",
       "Michigan        31\n",
       "Minnesota       15\n",
       "Missouri        26\n",
       "Nebraska        11\n",
       "North Dakota     5\n",
       "Ohio            38\n",
       "South Dakota     3\n",
       "Wisconsin       23\n",
       "Name: State, dtype: int64"
      ]
     },
     "execution_count": 9,
     "metadata": {},
     "output_type": "execute_result"
    }
   ],
   "source": [
    "# What are the states in the Midwest census region?\n",
    "# (more detailed response)\n",
    "\n",
    "poll.groupby(['Region','State'])['State'].count()['Midwest'].sort_index()"
   ]
  },
  {
   "cell_type": "code",
   "execution_count": 10,
   "metadata": {
    "collapsed": false
   },
   "outputs": [
    {
     "data": {
      "text/plain": [
       "State\n",
       "Texas                   72\n",
       "Florida                 42\n",
       "Georgia                 34\n",
       "North Carolina          32\n",
       "Virginia                31\n",
       "Kentucky                25\n",
       "Maryland                18\n",
       "Tennessee               17\n",
       "Louisiana               17\n",
       "Oklahoma                14\n",
       "South Carolina          12\n",
       "Alabama                 11\n",
       "Mississippi             11\n",
       "Arkansas                10\n",
       "Delaware                 6\n",
       "West Virginia            5\n",
       "District of Columbia     2\n",
       "Name: State, dtype: int64"
      ]
     },
     "execution_count": 10,
     "metadata": {},
     "output_type": "execute_result"
    }
   ],
   "source": [
    "# Which was the state in the South census region \n",
    "# with the largest number of interviewees?\n",
    "\n",
    "poll.groupby(['Region','State'])['State'].count()['South'].sort_values(ascending=False)"
   ]
  },
  {
   "cell_type": "code",
   "execution_count": 11,
   "metadata": {
    "collapsed": false
   },
   "outputs": [
    {
     "data": {
      "text/plain": [
       "Internet.Use  Smartphone\n",
       "0.0           0.0           186\n",
       "              1.0            17\n",
       "1.0           0.0           285\n",
       "              1.0           470\n",
       "Name: Internet.Use, dtype: int64"
      ]
     },
     "execution_count": 11,
     "metadata": {},
     "output_type": "execute_result"
    }
   ],
   "source": [
    "# How many interviewees reported not having \n",
    "# used the Internet and not having used a smartphone?\n",
    "\n",
    "poll.groupby(['Internet.Use','Smartphone'])['Internet.Use'].count()"
   ]
  },
  {
   "cell_type": "code",
   "execution_count": 12,
   "metadata": {
    "collapsed": false
   },
   "outputs": [
    {
     "data": {
      "text/plain": [
       "1"
      ]
     },
     "execution_count": 12,
     "metadata": {},
     "output_type": "execute_result"
    }
   ],
   "source": [
    "# How many interviewees have a missing value for their Internet use?\n",
    "\n",
    "poll['Internet.Use'].isnull().sum()"
   ]
  },
  {
   "cell_type": "code",
   "execution_count": 13,
   "metadata": {
    "collapsed": false
   },
   "outputs": [
    {
     "data": {
      "text/plain": [
       "43"
      ]
     },
     "execution_count": 13,
     "metadata": {},
     "output_type": "execute_result"
    }
   ],
   "source": [
    "# How many interviewees have a missing value for their smartphone use?\n",
    "\n",
    "poll['Smartphone'].isnull().sum()"
   ]
  },
  {
   "cell_type": "code",
   "execution_count": 14,
   "metadata": {
    "collapsed": false
   },
   "outputs": [],
   "source": [
    "# Create a data frame called \"limited\", which is limited to interviewees \n",
    "# who reported Internet use or who reported smartphone use.\n",
    "\n",
    "limited = poll[(poll.Smartphone == 1.0) | (poll['Internet.Use'] == 1.0)]"
   ]
  },
  {
   "cell_type": "code",
   "execution_count": 15,
   "metadata": {
    "collapsed": false
   },
   "outputs": [
    {
     "data": {
      "text/plain": [
       "((1002, 13), (792, 13))"
      ]
     },
     "execution_count": 15,
     "metadata": {},
     "output_type": "execute_result"
    }
   ],
   "source": [
    "# compare diemnsions of the original and limited dataframe\n",
    "\n",
    "poll.shape , limited.shape"
   ]
  },
  {
   "cell_type": "code",
   "execution_count": 16,
   "metadata": {
    "collapsed": true
   },
   "outputs": [],
   "source": [
    "# For all remaining questions please use the limited data frame"
   ]
  },
  {
   "cell_type": "code",
   "execution_count": 17,
   "metadata": {
    "collapsed": false
   },
   "outputs": [
    {
     "data": {
      "text/plain": [
       "Privacy.Laws.Effective    65\n",
       "Conservativeness          45\n",
       "Anonymity.Possible        39\n",
       "Age                       22\n",
       "Smartphone                20\n",
       "Tried.Masking.Identity     8\n",
       "Privacy.Importance         5\n",
       "Worry.About.Info           2\n",
       "Info.On.Internet           0\n",
       "Region                     0\n",
       "State                      0\n",
       "Sex                        0\n",
       "Internet.Use               0\n",
       "dtype: int64"
      ]
     },
     "execution_count": 17,
     "metadata": {},
     "output_type": "execute_result"
    }
   ],
   "source": [
    "# Which variables have missing values in the limited data frame?\n",
    "\n",
    "limited.isnull().sum().sort_values(ascending=False)"
   ]
  },
  {
   "cell_type": "code",
   "execution_count": 18,
   "metadata": {
    "collapsed": false
   },
   "outputs": [
    {
     "data": {
      "text/plain": [
       "Privacy.Laws.Effective     True\n",
       "Tried.Masking.Identity     True\n",
       "Anonymity.Possible         True\n",
       "Privacy.Importance         True\n",
       "Worry.About.Info           True\n",
       "Conservativeness           True\n",
       "Age                        True\n",
       "Smartphone                 True\n",
       "Info.On.Internet          False\n",
       "Region                    False\n",
       "State                     False\n",
       "Sex                       False\n",
       "Internet.Use              False\n",
       "dtype: bool"
      ]
     },
     "execution_count": 18,
     "metadata": {},
     "output_type": "execute_result"
    }
   ],
   "source": [
    "# Which variables have missing values in the limited data frame?\n",
    "\n",
    "(limited.isnull().sum() != 0).sort_values(ascending=False)"
   ]
  },
  {
   "cell_type": "code",
   "execution_count": 19,
   "metadata": {
    "collapsed": false
   },
   "outputs": [
    {
     "data": {
      "text/plain": [
       "3.7954545454545454"
      ]
     },
     "execution_count": 19,
     "metadata": {},
     "output_type": "execute_result"
    }
   ],
   "source": [
    "# What is the average number of pieces of personal \n",
    "# information on the Internet, according to the \n",
    "# Info.On.Internet variable?\n",
    "\n",
    "limited['Info.On.Internet'].mean()"
   ]
  },
  {
   "cell_type": "code",
   "execution_count": 20,
   "metadata": {
    "collapsed": false
   },
   "outputs": [
    {
     "data": {
      "text/plain": [
       "105"
      ]
     },
     "execution_count": 20,
     "metadata": {},
     "output_type": "execute_result"
    }
   ],
   "source": [
    "# How many interviewees reported a value of 0 for Info.On.Internet?\n",
    "\n",
    "(limited['Info.On.Internet'] == 0).sum()"
   ]
  },
  {
   "cell_type": "code",
   "execution_count": 21,
   "metadata": {
    "collapsed": false
   },
   "outputs": [
    {
     "data": {
      "text/plain": [
       "8"
      ]
     },
     "execution_count": 21,
     "metadata": {},
     "output_type": "execute_result"
    }
   ],
   "source": [
    "# How many interviewees reported the maximum value of 11 for Info.On.Internet?\n",
    "\n",
    "(limited['Info.On.Internet'] == 11).sum()"
   ]
  },
  {
   "cell_type": "code",
   "execution_count": 30,
   "metadata": {
    "collapsed": false
   },
   "outputs": [
    {
     "data": {
      "text/plain": [
       "0.48860759493670886"
      ]
     },
     "execution_count": 30,
     "metadata": {},
     "output_type": "execute_result"
    }
   ],
   "source": [
    "# What proportion of interviewees who answered the Worry.About.Info \n",
    "# question worry about how much information is available about them \n",
    "# on the Internet?\n",
    "\n",
    "# (do it manually because value_vounts() is broken with normalize an dropna)\n",
    "\n",
    "no,yes = poll['Worry.About.Info'].value_counts(dropna=True)\n",
    "yes / (yes+no)"
   ]
  },
  {
   "cell_type": "code",
   "execution_count": 35,
   "metadata": {
    "collapsed": false
   },
   "outputs": [
    {
     "data": {
      "text/plain": [
       "0.36918990703851262"
      ]
     },
     "execution_count": 35,
     "metadata": {},
     "output_type": "execute_result"
    }
   ],
   "source": [
    "# What proportion of interviewees who answered the Anonymity.Possible \n",
    "# question think it is possible to be completely anonymous on the Internet?\n",
    "\n",
    "no,yes = poll['Anonymity.Possible'].value_counts(dropna=True)\n",
    "yes / (yes+no)"
   ]
  },
  {
   "cell_type": "code",
   "execution_count": 38,
   "metadata": {
    "collapsed": false
   },
   "outputs": [
    {
     "data": {
      "text/plain": [
       "0.16326530612244897"
      ]
     },
     "execution_count": 38,
     "metadata": {},
     "output_type": "execute_result"
    }
   ],
   "source": [
    "# What proportion of interviewees who answered the Tried.Masking.\n",
    "# Identity question have tried masking their identity on the Internet?\n",
    "\n",
    "no,yes = poll['Tried.Masking.Identity'].value_counts(dropna=True)\n",
    "yes/(yes+no)"
   ]
  },
  {
   "cell_type": "code",
   "execution_count": 41,
   "metadata": {
    "collapsed": false
   },
   "outputs": [
    {
     "data": {
      "text/plain": [
       "0.0    660\n",
       "1.0    234\n",
       "Name: Privacy.Laws.Effective, dtype: int64"
      ]
     },
     "execution_count": 41,
     "metadata": {},
     "output_type": "execute_result"
    }
   ],
   "source": [
    "# What proportion of interviewees who answered the Privacy.Laws.Effective\n",
    "# question find United States privacy laws effective?\n",
    "\n",
    "poll['Privacy.Laws.Effective'].value_counts(dropna=True)\n"
   ]
  },
  {
   "cell_type": "code",
   "execution_count": null,
   "metadata": {
    "collapsed": true
   },
   "outputs": [],
   "source": []
  }
 ],
 "metadata": {
  "kernelspec": {
   "display_name": "Python 3",
   "language": "python",
   "name": "python3"
  },
  "language_info": {
   "codemirror_mode": {
    "name": "ipython",
    "version": 3
   },
   "file_extension": ".py",
   "mimetype": "text/x-python",
   "name": "python",
   "nbconvert_exporter": "python",
   "pygments_lexer": "ipython3",
   "version": "3.4.4"
  }
 },
 "nbformat": 4,
 "nbformat_minor": 0
}
