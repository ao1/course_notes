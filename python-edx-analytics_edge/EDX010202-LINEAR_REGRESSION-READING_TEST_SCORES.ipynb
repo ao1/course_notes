{
 "cells": [
  {
   "cell_type": "code",
   "execution_count": 3,
   "metadata": {
    "collapsed": false
   },
   "outputs": [],
   "source": [
    "%matplotlib inline\n",
    "import pandas as pd\n",
    "import os\n",
    "import matplotlib as plt\n",
    "import seaborn as sns\n",
    "import numpy as np\n",
    "import statsmodels.formula.api as sm"
   ]
  },
  {
   "cell_type": "code",
   "execution_count": 4,
   "metadata": {
    "collapsed": false
   },
   "outputs": [
    {
     "data": {
      "text/html": [
       "<style>body {\n",
       "    margin: 0;\n",
       "    font-family: Helvetica;\n",
       "}\n",
       "table.dataframe {\n",
       "    border-collapse: collapse;\n",
       "    border: none;\n",
       "}\n",
       "table.dataframe tr {\n",
       "    border: none;\n",
       "}\n",
       "table.dataframe td, table.dataframe th {\n",
       "    margin: 0;\n",
       "    border: 1px solid white;\n",
       "    padding-left: 0.25em;\n",
       "    padding-right: 0.25em;\n",
       "}\n",
       "table.dataframe th:not(:empty) {\n",
       "    background-color: #fec;\n",
       "    text-align: left;\n",
       "    font-weight: normal;\n",
       "}\n",
       "table.dataframe tr:nth-child(2) th:empty {\n",
       "    border-left: none;\n",
       "    border-right: 1px dashed #888;\n",
       "}\n",
       "table.dataframe td {\n",
       "    border: 2px solid #ccf;\n",
       "    background-color: #f4f4ff;\n",
       "}\n",
       "h3 {\n",
       "    color: white;\n",
       "    background-color: black;\n",
       "    padding: 0.5em;\n",
       "}\n",
       "</style>"
      ],
      "text/plain": [
       "<IPython.core.display.HTML object>"
      ]
     },
     "execution_count": 4,
     "metadata": {},
     "output_type": "execute_result"
    }
   ],
   "source": [
    "#custom style HTML output\n",
    "\n",
    "from IPython.core.display import HTML\n",
    "\n",
    "csspath1 = r'C:\\COURSERA\\PYCON2015_TUTORIALS\\Brandon Rhodes - Pandas From The Ground Up - PyCon 2015\\style-table.css'\n",
    "csspath2 = r'C:\\COURSERA\\PYCON2015_TUTORIALS\\Brandon Rhodes - Pandas From The Ground Up - PyCon 2015\\style-notebook.css'\n",
    "\n",
    "css = open(csspath1).read() + open(csspath2).read()\n",
    "HTML('<style>{}</style>'.format(css))"
   ]
  },
  {
   "cell_type": "raw",
   "metadata": {},
   "source": [
    "The Programme for International Student Assessment (PISA) is a test given every three years to 15-year-old students from around the world to evaluate their performance in mathematics, reading, and science. This test provides a quantitative way to compare the performance of students from different parts of the world. In this homework assignment, we will predict the reading scores of students from the United States of America on the 2009 PISA exam.\n",
    "\n",
    "The datasets pisa2009train.csv and pisa2009test.csv contain information about the demographics and schools for American students taking the exam, derived from 2009 PISA Public-Use Data Files distributed by the United States National Center for Education Statistics (NCES). While the datasets are not supposed to contain identifying information about students taking the test, by using the data you are bound by the NCES data use agreement, which prohibits any attempt to determine the identity of any student in the datasets.\n",
    "\n",
    "Each row in the datasets pisa2009train.csv and pisa2009test.csv represents one student taking the exam. The datasets have the following variables:\n",
    "\n",
    "grade: The grade in school of the student (most 15-year-olds in America are in 10th grade)\n",
    "\n",
    "male: Whether the student is male (1/0)\n",
    "\n",
    "raceeth: The race/ethnicity composite of the student\n",
    "\n",
    "preschool: Whether the student attended preschool (1/0)\n",
    "\n",
    "expectBachelors: Whether the student expects to obtain a bachelor's degree (1/0)\n",
    "\n",
    "motherHS: Whether the student's mother completed high school (1/0)\n",
    "\n",
    "motherBachelors: Whether the student's mother obtained a bachelor's degree (1/0)\n",
    "\n",
    "motherWork: Whether the student's mother has part-time or full-time work (1/0)\n",
    "\n",
    "fatherHS: Whether the student's father completed high school (1/0)\n",
    "\n",
    "fatherBachelors: Whether the student's father obtained a bachelor's degree (1/0)\n",
    "\n",
    "fatherWork: Whether the student's father has part-time or full-time work (1/0)\n",
    "\n",
    "selfBornUS: Whether the student was born in the United States of America (1/0)\n",
    "\n",
    "motherBornUS: Whether the student's mother was born in the United States of America (1/0)\n",
    "\n",
    "fatherBornUS: Whether the student's father was born in the United States of America (1/0)\n",
    "\n",
    "englishAtHome: Whether the student speaks English at home (1/0)\n",
    "\n",
    "computerForSchoolwork: Whether the student has access to a computer for schoolwork (1/0)\n",
    "\n",
    "read30MinsADay: Whether the student reads for pleasure for 30 minutes/day (1/0)\n",
    "\n",
    "minutesPerWeekEnglish: The number of minutes per week the student spend in English class\n",
    "\n",
    "studentsInEnglish: The number of students in this student's English class at school\n",
    "\n",
    "schoolHasLibrary: Whether this student's school has a library (1/0)\n",
    "\n",
    "publicSchool: Whether this student attends a public school (1/0)\n",
    "\n",
    "urban: Whether this student's school is in an urban area (1/0)\n",
    "\n",
    "schoolSize: The number of students in this student's school\n",
    "\n",
    "readingScore: The student's reading score, on a 1000-point scale"
   ]
  },
  {
   "cell_type": "code",
   "execution_count": 5,
   "metadata": {
    "collapsed": false
   },
   "outputs": [],
   "source": [
    "# Load the training and testing sets and \n",
    "# save them as variables with the names pisaTrain and pisaTest.\n",
    "\n",
    "pisaTest = pd.read_csv('DATA\\pisa2009test.csv')\n",
    "pisaTrain = pd.read_csv('DATA\\pisa2009train.csv')"
   ]
  },
  {
   "cell_type": "code",
   "execution_count": 6,
   "metadata": {
    "collapsed": false
   },
   "outputs": [
    {
     "data": {
      "text/plain": [
       "((3663, 24), (1570, 24))"
      ]
     },
     "execution_count": 6,
     "metadata": {},
     "output_type": "execute_result"
    }
   ],
   "source": [
    "# How many students are there in the training set?\n",
    "\n",
    "pisaTrain.shape , pisaTest.shape"
   ]
  },
  {
   "cell_type": "code",
   "execution_count": 7,
   "metadata": {
    "collapsed": false
   },
   "outputs": [
    {
     "data": {
      "text/plain": [
       "male\n",
       "0    512.940631\n",
       "1    483.532479\n",
       "Name: readingScore, dtype: float64"
      ]
     },
     "execution_count": 7,
     "metadata": {},
     "output_type": "execute_result"
    }
   ],
   "source": [
    "# What is the average reading test score of males in the train set?\n",
    "\n",
    "pisaTrain.groupby('male')['readingScore'].mean()"
   ]
  },
  {
   "cell_type": "code",
   "execution_count": 8,
   "metadata": {
    "collapsed": false
   },
   "outputs": [
    {
     "data": {
      "text/plain": [
       "grade                    False\n",
       "urban                    False\n",
       "publicSchool             False\n",
       "readingScore             False\n",
       "male                     False\n",
       "expectBachelors           True\n",
       "raceeth                   True\n",
       "schoolHasLibrary          True\n",
       "studentsInEnglish         True\n",
       "minutesPerWeekEnglish     True\n",
       "read30MinsADay            True\n",
       "computerForSchoolwork     True\n",
       "englishAtHome             True\n",
       "fatherBornUS              True\n",
       "motherBornUS              True\n",
       "schoolSize                True\n",
       "fatherWork                True\n",
       "fatherBachelors           True\n",
       "fatherHS                  True\n",
       "motherWork                True\n",
       "motherBachelors           True\n",
       "motherHS                  True\n",
       "preschool                 True\n",
       "selfBornUS                True\n",
       "dtype: bool"
      ]
     },
     "execution_count": 8,
     "metadata": {},
     "output_type": "execute_result"
    }
   ],
   "source": [
    "# Which variables are missing data in at least one observation in the training set? \n",
    "\n",
    "pisaTrain.isnull().any().sort_values()"
   ]
  },
  {
   "cell_type": "code",
   "execution_count": 9,
   "metadata": {
    "collapsed": false
   },
   "outputs": [
    {
     "data": {
      "text/plain": [
       "((2414, 24), (990, 24))"
      ]
     },
     "execution_count": 9,
     "metadata": {},
     "output_type": "execute_result"
    }
   ],
   "source": [
    "# Linear regression discards observations with missing data, \n",
    "# so we want to remove all null observations from the \n",
    "# training and testing sets.\n",
    "\n",
    "pisaTrain = pisaTrain.dropna(how='any')\n",
    "pisaTest = pisaTest.dropna(how='any')\n",
    "\n",
    "pisaTrain.shape , pisaTest.shape"
   ]
  },
  {
   "cell_type": "code",
   "execution_count": 10,
   "metadata": {
    "collapsed": false
   },
   "outputs": [
    {
     "name": "stdout",
     "output_type": "stream",
     "text": [
      "grade :: [11 10  9 12  8]\n",
      "male :: [1 0]\n",
      "raceeth :: ['White' 'Black' 'Hispanic' 'More than one race'\n",
      " 'American Indian/Alaska Native']\n",
      "preschool :: [ 0.  1.]\n",
      "expectBachelors :: [ 0.  1.]\n",
      "motherHS :: [ 1.  0.]\n",
      "motherBachelors :: [ 1.  0.]\n",
      "motherWork :: [ 1.  0.]\n",
      "fatherHS :: [ 1.  0.]\n",
      "fatherBachelors :: [ 0.  1.]\n",
      "fatherWork :: [ 1.  0.]\n",
      "selfBornUS :: [ 1.  0.]\n",
      "motherBornUS :: [ 1.  0.]\n",
      "fatherBornUS :: [ 1.  0.]\n",
      "englishAtHome :: [ 1.  0.]\n",
      "computerForSchoolwork :: [ 1.  0.]\n",
      "read30MinsADay :: [ 1.  0.]\n",
      "minutesPerWeekEnglish :: [ 450.  200.  250.  300.  294.]\n",
      "studentsInEnglish :: [ 25.  23.  35.  30.  24.]\n",
      "schoolHasLibrary :: [ 1.  0.]\n",
      "publicSchool :: [1 0]\n",
      "urban :: [0 1]\n",
      "schoolSize :: [ 1173.  2640.  1095.  1913.   899.]\n",
      "readingScore :: [ 575.01  458.11  613.89  439.36  465.9 ]\n"
     ]
    }
   ],
   "source": [
    "# Examine the first 5 unique values for each variable\n",
    "# to get a sense of the type of variables in the dataframe\n",
    "\n",
    "for var in pisaTrain:\n",
    "    print(\"{} :: {}\".format( var , pisaTrain[var].unique()[:5]) )"
   ]
  },
  {
   "cell_type": "code",
   "execution_count": 11,
   "metadata": {
    "collapsed": false
   },
   "outputs": [
    {
     "name": "stdout",
     "output_type": "stream",
     "text": [
      "grade :: [11 10  9 12  8]\n",
      "raceeth :: ['White' 'Black' 'Hispanic' 'More than one race'\n",
      " 'American Indian/Alaska Native' 'Asian'\n",
      " 'Native Hawaiian/Other Pacific Islander']\n",
      "male :: [1 0]\n"
     ]
    }
   ],
   "source": [
    "# Factor variables are variables that take on a \n",
    "# discrete set of values, like the \"Region\" variable\n",
    "# in the WHO dataset from the second lecture of Unit 1.\n",
    "# This is an unordered factor because there isn't\n",
    "# any natural ordering between the levels. An ordered\n",
    "# factor has a natural ordering between the \n",
    "# levels (an example would be the\n",
    "# classifications \"large,\" \"medium,\" and \"small\").\n",
    "\n",
    "# Which of the following variables is an unordered \n",
    "# factor with at least 3 levels? (Select all that apply.)\n",
    "\n",
    "# Which of the following variables is an ordered \n",
    "# factor with at least 3 levels? (Select all that apply.)\n",
    "\n",
    "variables = ['grade','raceeth','male']\n",
    "\n",
    "for var in variables:\n",
    "    print(\"{} :: {}\".format(var,pisaTrain[var].unique()))"
   ]
  },
  {
   "cell_type": "code",
   "execution_count": null,
   "metadata": {
    "collapsed": true
   },
   "outputs": [],
   "source": [
    "# To include unordered factors in a linear regression model, \n",
    "# we define one level as the \"reference level\" and add a binary \n",
    "# variable for each of the remaining levels. In this way, a \n",
    "# factor with n levels is replaced by n-1 binary variables. \n",
    "# The reference level is typically selected to be the most \n",
    "# frequently occurring level in the dataset."
   ]
  },
  {
   "cell_type": "code",
   "execution_count": 12,
   "metadata": {
    "collapsed": false
   },
   "outputs": [],
   "source": [
    "# Convert some variables to categorical type:\n",
    "\n",
    "pisaTrain.raceeth = pisaTrain.raceeth.astype('category',ordered=False)\n",
    "pisaTest.raceeth = pisaTest.raceeth.astype('category',ordered=False)"
   ]
  },
  {
   "cell_type": "code",
   "execution_count": 13,
   "metadata": {
    "collapsed": false
   },
   "outputs": [],
   "source": [
    "# Set 'White to be the first unordered level. \n",
    "# This makes statsmodels take it as the reference level during regression.\n",
    "\n",
    "reordered = ['White', 'Black', 'Hispanic', \n",
    "             'More than one race', 'American Indian/Alaska Native', \n",
    "             'Asian', 'Native Hawaiian/Other Pacific Islander']\n",
    "\n",
    "pisaTrain.raceeth = pisaTrain.raceeth.cat.reorder_categories(reordered)\n",
    "pisaTest.raceeth = pisaTest.raceeth.cat.reorder_categories(reordered)"
   ]
  },
  {
   "cell_type": "code",
   "execution_count": 14,
   "metadata": {
    "collapsed": false
   },
   "outputs": [
    {
     "name": "stdout",
     "output_type": "stream",
     "text": [
      "                                   Results: Ordinary least squares\n",
      "======================================================================================================\n",
      "Model:                           OLS                         Adj. R-squared:                0.317     \n",
      "Dependent Variable:              readingScore                AIC:                           27647.0896\n",
      "Date:                            2016-04-30 23:52            BIC:                           27814.9717\n",
      "No. Observations:                2414                        Log-Likelihood:                -13795.   \n",
      "Df Model:                        28                          F-statistic:                   41.04     \n",
      "Df Residuals:                    2385                        Prob (F-statistic):            1.72e-180 \n",
      "R-squared:                       0.325                       Scale:                         5448.0    \n",
      "------------------------------------------------------------------------------------------------------\n",
      "                                                   Coef.   Std.Err.    t     P>|t|    [0.025   0.975] \n",
      "------------------------------------------------------------------------------------------------------\n",
      "Intercept                                         143.7663  33.8412   4.2483 0.0000   77.4051 210.1276\n",
      "raceeth[T.Black]                                  -67.0123   5.4609 -12.2713 0.0000  -77.7209 -56.3038\n",
      "raceeth[T.Hispanic]                               -38.9755   5.1777  -7.5275 0.0000  -49.1288 -28.8221\n",
      "raceeth[T.More than one race]                     -16.9225   8.4963  -1.9918 0.0465  -33.5834  -0.2617\n",
      "raceeth[T.American Indian/Alaska Native]          -67.2773  16.7869  -4.0077 0.0001 -100.1958 -34.3588\n",
      "raceeth[T.Asian]                                   -4.1103   9.2201  -0.4458 0.6558  -22.1905  13.9699\n",
      "raceeth[T.Native Hawaiian/Other Pacific Islander]  -5.1016  17.0057  -0.3000 0.7642  -38.4491  28.2459\n",
      "computerForSchoolwork                              22.5002   5.7026   3.9456 0.0001   11.3177  33.6827\n",
      "englishAtHome                                       8.0357   6.8595   1.1715 0.2415   -5.4155  21.4869\n",
      "expectBachelors                                    55.2671   4.2939  12.8711 0.0000   46.8469  63.6872\n",
      "fatherBachelors                                    16.9298   3.9953   4.2375 0.0000    9.0952  24.7643\n",
      "fatherBornUS                                        4.3070   6.2639   0.6876 0.4918   -7.9762  16.5902\n",
      "fatherHS                                            4.0182   5.5793   0.7202 0.4715   -6.9225  14.9589\n",
      "fatherWork                                          5.8428   4.3960   1.3291 0.1839   -2.7775  14.4631\n",
      "grade                                              29.5427   2.9374  10.0574 0.0000   23.7826  35.3028\n",
      "male                                              -14.5217   3.1559  -4.6014 0.0000  -20.7103  -8.3330\n",
      "minutesPerWeekEnglish                               0.0128   0.0107   1.1939 0.2326   -0.0082   0.0338\n",
      "motherBachelors                                    12.6381   3.8615   3.2729 0.0011    5.0659  20.2102\n",
      "motherBornUS                                       -8.7982   6.5876  -1.3356 0.1818  -21.7162   4.1199\n",
      "motherHS                                            6.0588   6.0914   0.9946 0.3200   -5.8863  18.0038\n",
      "motherWork                                         -2.8091   3.5218  -0.7976 0.4252   -9.7153   4.0971\n",
      "preschool                                          -4.4637   3.4861  -1.2804 0.2005  -11.2997   2.3723\n",
      "publicSchool                                      -16.8575   6.7256  -2.5065 0.0123  -30.0461  -3.6688\n",
      "read30MinsADay                                     34.8719   3.4084  10.2310 0.0000   28.1881  41.5557\n",
      "schoolHasLibrary                                   12.2151   9.2649   1.3184 0.1875   -5.9530  30.3831\n",
      "schoolSize                                          0.0065   0.0022   2.9769 0.0029    0.0022   0.0108\n",
      "selfBornUS                                         -3.8063   7.3237  -0.5197 0.6033  -18.1678  10.5552\n",
      "studentsInEnglish                                  -0.2866   0.2278  -1.2582 0.2085   -0.7334   0.1601\n",
      "urban                                              -0.1101   3.9627  -0.0278 0.9778   -7.8809   7.6606\n",
      "------------------------------------------------------------------------------------------------------\n",
      "Omnibus:                          8.273                     Durbin-Watson:                       1.998\n",
      "Prob(Omnibus):                    0.016                     Jarque-Bera (JB):                    8.362\n",
      "Skew:                             -0.141                    Prob(JB):                            0.015\n",
      "Kurtosis:                         2.943                     Condition No.:                       37016\n",
      "======================================================================================================\n",
      "* The condition number is large (4e+04). This might indicate             strong multicollinearity or\n",
      "other numerical problems.\n"
     ]
    }
   ],
   "source": [
    "# Build a linear regression model (call it lmScore) using \n",
    "# the training set to predict readingScore using all the \n",
    "# remaining variables.\n",
    "\n",
    "formula = \"readingScore ~ {}\".format(\n",
    "          ' + '.join(pisaTrain.columns.difference(['readingScore'])))\n",
    "\n",
    "lmScore = sm.ols(formula=formula, data=pisaTrain).fit()\n",
    "print(lmScore.summary2())"
   ]
  },
  {
   "cell_type": "code",
   "execution_count": 15,
   "metadata": {
    "collapsed": false
   },
   "outputs": [
    {
     "data": {
      "text/plain": [
       "0.32514335592135679"
      ]
     },
     "execution_count": 15,
     "metadata": {},
     "output_type": "execute_result"
    }
   ],
   "source": [
    "# What is the Multiple R-squared value of lmScore on the training set?\n",
    "\n",
    "lmScore.rsquared"
   ]
  },
  {
   "cell_type": "raw",
   "metadata": {},
   "source": [
    "Note that this R-squared is lower than the ones for the models \n",
    "we saw in the lectures and recitation. This does not necessarily \n",
    "imply that the model is of poor quality. More often than not, it \n",
    "simply means that the prediction problem at hand (predicting a \n",
    "student's test score based on demographic and school-related \n",
    "variables) is more difficult than other prediction problems \n",
    "(like predicting a team's number of wins from their runs scored \n",
    "and allowed, or predicting the quality of wine from weather \n",
    "conditions)."
   ]
  },
  {
   "cell_type": "code",
   "execution_count": 16,
   "metadata": {
    "collapsed": false
   },
   "outputs": [
    {
     "data": {
      "text/plain": [
       "73.365551432984489"
      ]
     },
     "execution_count": 16,
     "metadata": {},
     "output_type": "execute_result"
    }
   ],
   "source": [
    "# What is the training-set root-mean squared error (RMSE) of lmScore?\n",
    "# The RMSE is the square root of the mean/average of the square of the residuals.\n",
    "\n",
    "np.sqrt(np.mean(lmScore.resid**2))"
   ]
  },
  {
   "cell_type": "code",
   "execution_count": 17,
   "metadata": {
    "collapsed": false
   },
   "outputs": [
    {
     "data": {
      "text/plain": [
       "73.365551432984489"
      ]
     },
     "execution_count": 17,
     "metadata": {},
     "output_type": "execute_result"
    }
   ],
   "source": [
    "# The RMSE can be computed by first computing the SSE (sum of squared errors)\n",
    "# and then dividing by the number of observations and taking the square root\n",
    "\n",
    "residuals = pisaTrain.readingScore - lmScore.fittedvalues\n",
    "\n",
    "SSE = sum((residuals)**2)\n",
    "\n",
    "np.sqrt(SSE / len(pisaTrain))"
   ]
  },
  {
   "cell_type": "code",
   "execution_count": 18,
   "metadata": {
    "collapsed": false
   },
   "outputs": [
    {
     "data": {
      "text/plain": [
       "59.085414183537857"
      ]
     },
     "execution_count": 18,
     "metadata": {},
     "output_type": "execute_result"
    }
   ],
   "source": [
    "# Consider two students A and B. They have all variable \n",
    "# values the same, except that: \n",
    "\n",
    "# student A is in grade 11 \n",
    "# student B is in grade 9\n",
    "\n",
    "# What is the predicted reading score of student A \n",
    "# minus the predicted reading score of student B?\n",
    "\n",
    "lmScore.params.grade*2"
   ]
  },
  {
   "cell_type": "code",
   "execution_count": 19,
   "metadata": {
    "collapsed": false
   },
   "outputs": [
    {
     "data": {
      "text/plain": [
       "urban                                                 True\n",
       "englishAtHome                                         True\n",
       "raceeth[T.Native Hawaiian/Other Pacific Islander]     True\n",
       "fatherBornUS                                          True\n",
       "fatherHS                                              True\n",
       "fatherWork                                            True\n",
       "studentsInEnglish                                     True\n",
       "raceeth[T.Asian]                                      True\n",
       "minutesPerWeekEnglish                                 True\n",
       "motherBornUS                                          True\n",
       "motherHS                                              True\n",
       "motherWork                                            True\n",
       "preschool                                             True\n",
       "schoolHasLibrary                                      True\n",
       "selfBornUS                                            True\n",
       "raceeth[T.American Indian/Alaska Native]             False\n",
       "raceeth[T.More than one race]                        False\n",
       "raceeth[T.Hispanic]                                  False\n",
       "raceeth[T.Black]                                     False\n",
       "computerForSchoolwork                                False\n",
       "grade                                                False\n",
       "expectBachelors                                      False\n",
       "fatherBachelors                                      False\n",
       "male                                                 False\n",
       "motherBachelors                                      False\n",
       "publicSchool                                         False\n",
       "read30MinsADay                                       False\n",
       "schoolSize                                           False\n",
       "Intercept                                            False\n",
       "dtype: bool"
      ]
     },
     "execution_count": 19,
     "metadata": {},
     "output_type": "execute_result"
    }
   ],
   "source": [
    "# Based on the significance codes, which variables are candidates \n",
    "# for removal from the model (ha a p-value of over 0.1)?\n",
    "\n",
    "(lmScore.pvalues > 0.1).sort_values(ascending=False)"
   ]
  },
  {
   "cell_type": "code",
   "execution_count": 20,
   "metadata": {
    "collapsed": false
   },
   "outputs": [],
   "source": [
    "# Use the lmScore model to predict the reading scores of students in pisaTest.\n",
    "# Call this vector of predictions \"predictions\". \n",
    "# Do not change the variables in the model\n",
    "\n",
    "predictions = lmScore.predict(pisaTest)"
   ]
  },
  {
   "cell_type": "code",
   "execution_count": 32,
   "metadata": {
    "collapsed": false
   },
   "outputs": [
    {
     "data": {
      "text/plain": [
       "array([ 471.98671346,  540.19737943,  429.75234341,  499.01386793,\n",
       "        564.0212217 ,  517.90643536,  530.59309175,  408.55455704,\n",
       "        538.93975137,  536.27439872,  477.83398767,  403.2319115 ,\n",
       "        460.33383127,  496.92554017,  519.09527878,  557.28988482,\n",
       "        488.29472309,  498.29986405,  566.97619025,  538.20018708,\n",
       "        469.2967337 ,  539.90457871,  535.55697514,  476.15578855,\n",
       "        534.80173938,  547.55445453,  530.70667433,  530.39919138,\n",
       "        556.29853323,  426.51490202,  521.81992341,  483.05400117,\n",
       "        480.24115336,  467.72531559,  486.95967332,  536.98298324,\n",
       "        564.17064087,  495.00575631,  429.48959834,  492.95823492,\n",
       "        519.98624465,  570.2958081 ,  547.74989888,  592.41829094,\n",
       "        486.24367309,  587.08907378,  523.39199575,  559.24048414,\n",
       "        541.30700228,  522.20525584,  511.34136692,  505.33886352,\n",
       "        528.27494246,  471.01430153,  504.87825532,  414.94188636,\n",
       "        519.77491862,  528.36160264,  541.81857274,  522.9690356 ,\n",
       "        383.08963243,  468.33178236,  484.87209682,  448.03336113,\n",
       "        473.13619281,  590.48822177,  458.21754416,  439.50115355,\n",
       "        551.97230923,  459.13201647,  508.47611265,  361.18699496,\n",
       "        476.61722653,  547.18446782,  559.02880432,  487.24259134,\n",
       "        547.76515603,  474.73391077,  454.74777399,  489.49282686,\n",
       "        540.25980955,  567.41394729,  458.47966416,  549.90527653,\n",
       "        489.41579548,  506.50647413,  570.11645396,  573.94049509,\n",
       "        466.86652153,  504.45218475,  574.56301895,  541.92182471,\n",
       "        426.03073228,  529.60346821,  568.43401535,  569.02900461,\n",
       "        487.5220224 ,  544.91144956,  565.73907772,  493.08131678,\n",
       "        526.40348315,  562.92614343,  511.70110522,  573.47174131,\n",
       "        540.84001484,  500.69927278,  543.932436  ,  418.59683826,\n",
       "        547.13983362,  554.90725005,  554.45965425,  497.27644636,\n",
       "        594.60147165,  630.90654977,  580.25139392,  558.89934733,\n",
       "        568.49833384,  434.16833738,  502.93795289,  439.88933761,\n",
       "        519.03589528,  424.67074135,  583.57225714,  563.68530677,\n",
       "        513.8629736 ,  574.99658821,  595.06022819,  602.14607548,\n",
       "        637.69143491,  568.69982625,  607.15361469,  574.10361537,\n",
       "        567.57644605,  557.05949205,  509.35181362,  606.51923082,\n",
       "        494.93093578,  527.78970949,  507.47251925,  525.89765946,\n",
       "        493.26835827,  552.65547838,  594.19480387,  516.74039986,\n",
       "        576.35856841,  494.10375042,  506.85909587,  542.5062917 ,\n",
       "        546.59386434,  594.55140751,  493.68864853,  553.20122096,\n",
       "        540.19674173,  432.66978   ,  454.75549706,  584.65262915,\n",
       "        486.27634431,  434.34471979,  562.28919779,  455.81236068,\n",
       "        535.00900713,  470.99546924,  489.02832551,  571.1957741 ,\n",
       "        510.27757114,  556.11991229,  552.93389326,  517.20356114,\n",
       "        504.93738967,  539.84539363,  473.20208354,  469.62475865,\n",
       "        436.78898199,  553.94677806,  470.67528302,  506.56494427,\n",
       "        450.36328878,  384.53505211,  412.16329613,  531.67223427,\n",
       "        492.09570888,  412.44114613,  578.93671782,  440.33109387,\n",
       "        579.2266984 ,  476.87574104,  551.37291421,  474.37335025,\n",
       "        577.35525066,  612.53719172,  514.81206706,  547.47073461,\n",
       "        535.78705638,  513.01728282,  432.51910869,  551.09979555,\n",
       "        525.12188332,  504.12092668,  519.3912507 ,  576.54117238,\n",
       "        524.87173345,  488.05245321,  447.68884197,  536.58856238,\n",
       "        563.13903214,  552.88819643,  603.56175763,  535.63873045,\n",
       "        538.1107739 ,  412.84125358,  494.03869663,  400.40559389,\n",
       "        572.45587051,  523.36953134,  585.13388715,  507.43892941,\n",
       "        528.67702079,  555.63501922,  553.34197303,  539.10695031,\n",
       "        480.30163985,  451.99846239,  506.81470302,  529.0873325 ,\n",
       "        456.13670648,  503.80221953,  499.75175087,  572.56131756,\n",
       "        524.05040063,  503.68724919,  561.19272318,  454.10651248,\n",
       "        500.87922467,  508.27854591,  580.25258807,  510.22247663,\n",
       "        588.4533582 ,  540.57422243,  541.55311367,  513.41450114,\n",
       "        438.54660005,  539.82992357,  576.53346243,  532.05949153,\n",
       "        539.74811975,  557.80566329,  559.77998697,  588.06328679,\n",
       "        556.17562784,  526.63292075,  542.12952158,  478.7301245 ,\n",
       "        515.42342767,  543.40401577,  593.08522609,  509.93613732,\n",
       "        589.47307164,  476.43253204,  468.0420226 ,  524.58289307,\n",
       "        559.52381438,  540.93938622,  483.31546169,  571.9700554 ,\n",
       "        545.4376215 ,  576.9962297 ,  551.38228804,  535.03273328,\n",
       "        521.15333839,  538.29378841,  509.58585824,  535.88568721,\n",
       "        521.81446555,  542.53604288,  527.48987389,  380.38776443,\n",
       "        497.88514898,  520.28783672,  476.76435884,  456.16941292,\n",
       "        569.81168928,  551.17053029,  554.88825957,  564.08392183,\n",
       "        502.74669529,  588.29146462,  495.98165663,  576.78144914,\n",
       "        561.51786016,  501.20339975,  496.86981678,  500.67331952,\n",
       "        555.2005987 ,  499.67218226,  527.27693485,  598.95122467,\n",
       "        398.9084284 ,  595.88301348,  520.87488367,  586.77634328,\n",
       "        527.40927422,  524.57851143,  541.10618055,  458.08453851,\n",
       "        578.00717264,  452.47471157,  418.29556415,  458.89355803,\n",
       "        454.09805307,  582.78417513,  583.10149994,  545.14262059,\n",
       "        574.8639045 ,  460.1749711 ,  491.81597247,  537.1922607 ,\n",
       "        563.11521526,  509.80278329,  476.97737217,  525.96677103,\n",
       "        590.19513289,  567.41150106,  588.98892943,  530.00122956,\n",
       "        448.91899599,  418.32833581,  475.44060611,  445.37507609,\n",
       "        542.36989103,  362.75299127,  473.2376632 ,  437.40916676,\n",
       "        458.70175504,  477.71570943,  508.08271611,  513.64478692,\n",
       "        578.48823317,  529.93807887,  579.28250291,  426.21212748,\n",
       "        524.33452072,  493.62025004,  501.0163813 ,  536.20029204,\n",
       "        522.80338919,  580.4187748 ,  567.54457675,  531.21480506,\n",
       "        529.94116723,  519.91952467,  518.3915668 ,  527.16522596,\n",
       "        522.75595944,  547.13184316,  564.00900066,  526.92279332,\n",
       "        568.31071908,  554.44465024,  557.48373152,  487.65709917,\n",
       "        510.15675768,  583.69610902,  422.73762656,  543.82888284,\n",
       "        456.74701329,  458.17894759,  519.57449491,  443.36551941,\n",
       "        584.65948896,  500.91015244,  505.67389107,  541.08451191,\n",
       "        457.68276316,  590.16634348,  511.51668942,  622.02721217,\n",
       "        422.96835906,  544.46687406,  420.8002976 ,  562.34120226,\n",
       "        547.43176793,  506.85875019,  508.86708104,  550.2655451 ,\n",
       "        574.32574291,  612.977816  ,  571.46666786,  557.24912019,\n",
       "        557.24912019,  556.73758213,  597.99596683,  474.82016593,\n",
       "        511.74743765,  565.47189699,  526.93097982,  509.93120293,\n",
       "        450.04525343,  561.17730753,  353.22312311,  489.62959893,\n",
       "        545.45180802,  503.04001772,  473.53544119,  548.47078897,\n",
       "        407.72435958,  480.31464235,  474.89748028,  393.30457169,\n",
       "        511.44477432,  512.16616366,  582.76424997,  541.73398615,\n",
       "        450.37520132,  570.67480482,  526.48316088,  491.4512965 ,\n",
       "        573.64294209,  489.77203251,  510.78968049,  524.64880194,\n",
       "        495.22824508,  501.48579005,  527.35506668,  575.04478401,\n",
       "        425.31479863,  490.20796728,  482.22042971,  492.99499959,\n",
       "        471.52985663,  464.06786941,  377.36379559,  460.1903796 ,\n",
       "        544.69308972,  469.01059996,  490.71177132,  510.91008239,\n",
       "        495.83763194,  498.46783323,  525.34646237,  517.66448675,\n",
       "        536.07490883,  542.22742205,  443.57596314,  476.77249462,\n",
       "        535.69989609,  515.77754485,  523.92995369,  476.11939249,\n",
       "        563.10398392,  556.24922337,  511.11346697,  556.20507005,\n",
       "        510.46634967,  555.91484669,  414.92906655,  496.73153906,\n",
       "        477.03011213,  468.31714519,  536.80649376,  515.1485288 ,\n",
       "        438.66269626,  495.67942097,  570.24825282,  611.92536439,\n",
       "        502.37649058,  554.1023714 ,  483.06966819,  510.32009228,\n",
       "        569.02265197,  583.88803111,  542.71869773,  540.934573  ,\n",
       "        489.1174306 ,  561.52695933,  523.33788785,  504.89369117,\n",
       "        501.64508232,  535.61409379,  507.15365685,  538.41713736,\n",
       "        472.66394068,  552.81538002,  512.9932739 ,  514.59982128,\n",
       "        499.92937978,  535.03801592,  540.6858062 ,  554.21221386,\n",
       "        587.79882873,  576.79557608,  597.33354632,  566.79699744,\n",
       "        517.37193497,  535.82113648,  534.4625356 ,  520.32453565,\n",
       "        491.36902082,  468.3653692 ,  420.83654026,  422.14593971,\n",
       "        525.53981637,  563.18575745,  520.7725408 ,  512.59814333,\n",
       "        542.39498181,  512.41623297,  557.97146003,  409.23011893,\n",
       "        566.61129736,  469.92158041,  448.97839459,  482.07094357,\n",
       "        442.94496333,  436.96863073,  426.76309037,  561.4690395 ,\n",
       "        558.82121408,  543.18716705,  399.2512086 ,  547.64934534,\n",
       "        463.53812572,  535.50333481,  520.38782927,  516.23327965,\n",
       "        527.76618735,  525.0910124 ,  563.88307804,  593.68280728,\n",
       "        584.55024014,  546.26569317,  547.69884704,  545.58411173,\n",
       "        555.70868057,  530.57963146,  409.18618487,  566.88470958,\n",
       "        548.55888648,  438.39538152,  502.97890541,  550.92990221,\n",
       "        464.3345915 ,  474.21618466,  566.87111307,  499.00122048,\n",
       "        562.08579492,  462.08981624,  548.08019584,  553.18795447,\n",
       "        536.67893879,  562.02858779,  479.12901646,  513.35420093,\n",
       "        565.44251065,  406.92865735,  466.53347852,  426.98071861,\n",
       "        527.36993134,  452.45472094,  540.05266343,  543.68448139,\n",
       "        547.99067812,  594.86178604,  572.60281418,  558.8433387 ,\n",
       "        594.54649222,  510.86853088,  561.49285131,  587.81278424,\n",
       "        609.99854862,  543.74842365,  594.25544398,  558.88517363,\n",
       "        584.07060415,  454.39419806,  526.04114079,  570.34584351,\n",
       "        453.90443833,  540.90935593,  535.47336433,  548.47371962,\n",
       "        514.83202527,  463.8446947 ,  464.43869906,  501.68772077,\n",
       "        563.59944691,  562.83435859,  514.77913071,  531.45776869,\n",
       "        511.35061117,  502.53713171,  465.94251335,  553.91567652,\n",
       "        494.93410485,  557.94613916,  525.65429953,  570.20499095,\n",
       "        502.52543991,  540.67371548,  588.7928068 ,  510.90750871,\n",
       "        509.67273912,  562.03059348,  518.95120121,  575.26312459,\n",
       "        540.78402924,  579.33470937,  563.21198501,  581.42752526,\n",
       "        559.00467806,  590.63185887,  481.45503622,  547.58410724,\n",
       "        518.49506713,  542.17605862,  459.09670276,  442.57082824,\n",
       "        444.68885504,  500.28337911,  481.50921333,  551.3744643 ,\n",
       "        568.99619485,  566.50192141,  600.05192477,  624.33219154,\n",
       "        592.87973689,  499.68849568,  503.92168599,  547.6621769 ,\n",
       "        615.01895252,  547.17420798,  459.25692797,  481.84543726,\n",
       "        588.15619117,  587.29629885,  551.09644049,  524.64195933,\n",
       "        461.00865496,  551.82599765,  443.14688545,  519.12780041,\n",
       "        519.6141289 ,  580.47136597,  472.53256813,  483.45885143,\n",
       "        562.25427374,  566.65781948,  473.46125092,  531.39161197,\n",
       "        619.03275997,  564.61515562,  591.50652678,  569.49203548,\n",
       "        535.61721867,  510.00944813,  546.00786417,  529.70197077,\n",
       "        495.49452582,  534.39904181,  596.79888497,  515.83106932,\n",
       "        565.27718846,  505.40440896,  515.03910629,  430.16567995,\n",
       "        402.75474683,  509.4866445 ,  457.72981104,  457.60192653,\n",
       "        491.83433579,  390.01848334,  492.3903557 ,  434.48347717,\n",
       "        484.95351195,  492.15121128,  482.0170163 ,  584.94077035,\n",
       "        544.6508474 ,  616.16237326,  580.35828569,  510.06749712,\n",
       "        528.81734725,  571.1706949 ,  580.18501274,  526.5424083 ,\n",
       "        457.97753961,  436.38824171,  524.48470736,  427.03938915,\n",
       "        462.53507759,  549.2559096 ,  503.69871478,  551.12717412,\n",
       "        541.4714174 ,  578.6532031 ,  587.94387919,  569.22817882,\n",
       "        609.72258419,  560.7841579 ,  551.65290832,  606.20943726,\n",
       "        558.03624406,  555.67845802,  532.38631879,  564.42966178,\n",
       "        588.38163634,  571.39719338,  513.11199115,  556.53411091,\n",
       "        454.45313   ,  558.60993104,  573.88684839,  557.80892618,\n",
       "        423.92810853,  471.14540763,  586.29083706,  585.58470798,\n",
       "        590.14975717,  584.82054001,  567.31752376,  542.77611713,\n",
       "        556.36714887,  553.84467905,  524.92784675,  558.57052965,\n",
       "        589.06279448,  589.00323407,  555.27783292,  558.08693352,\n",
       "        558.08693352,  578.11784934,  553.84467905,  499.87898424,\n",
       "        479.8136704 ,  492.42553291,  518.15062868,  619.0745294 ,\n",
       "        510.03394795,  489.11411728,  463.2255613 ,  539.97110815,\n",
       "        375.85349437,  484.62803944,  460.76838947,  554.48167165,\n",
       "        577.51405659,  473.81249496,  555.34156397,  477.5584997 ,\n",
       "        403.71822066,  521.27380936,  564.92322949,  550.70849883,\n",
       "        447.55323541,  549.314677  ,  419.97839079,  456.15852683,\n",
       "        446.26995272,  433.57956387,  465.82236316,  486.67274183,\n",
       "        459.50636237,  576.99650871,  549.43219726,  576.12285991,\n",
       "        528.87638326,  503.35523677,  515.39124877,  506.19822269,\n",
       "        452.56476695,  454.28455159,  465.62753677,  472.15643034,\n",
       "        522.32777076,  520.08979175,  488.30122585,  556.35926358,\n",
       "        562.25815056,  447.37430052,  393.87323633,  484.33368372,\n",
       "        467.85233778,  491.57529812,  470.07218705,  561.88998787,\n",
       "        490.53390033,  394.29189105,  501.1445858 ,  588.04922144,\n",
       "        524.03046078,  531.21291643,  396.06981764,  527.51192171,\n",
       "        547.17604245,  537.11665167,  485.327912  ,  538.11009604,\n",
       "        523.70142355,  438.10803911,  617.31754293,  565.12910331,\n",
       "        550.39673756,  521.87772385,  472.99647986,  434.15654768,\n",
       "        504.74935092,  571.91051356,  535.09235754,  429.31417976,\n",
       "        483.35823752,  553.44377855,  552.86156311,  357.28505817,\n",
       "        538.33144853,  543.31458072,  510.06038711,  380.1008759 ,\n",
       "        421.8053761 ,  418.12529061,  458.66570104,  475.26204156,\n",
       "        459.37619187,  420.20681328,  578.05684148,  539.99162463,\n",
       "        586.86760831,  435.71557735,  449.3552928 ,  518.60494901,\n",
       "        520.54009618,  420.11316461,  523.29471838,  560.05022834,\n",
       "        518.7571894 ,  557.4594344 ,  571.20033404,  488.68459335,\n",
       "        428.28549559,  499.87458698,  423.64804328,  509.8102539 ,\n",
       "        446.47760859,  489.76851494,  573.32332818,  552.28662784,\n",
       "        588.8211296 ,  569.42719281,  525.73841694,  553.00128867,\n",
       "        463.05332774,  470.24500318,  581.74877244,  494.0291887 ,\n",
       "        597.2818081 ,  547.65279295,  525.70734284,  517.54504113,\n",
       "        425.53712629,  474.34238979,  458.30547719,  435.06417081,\n",
       "        386.58511349,  476.48869167,  369.48019409,  489.75433461,\n",
       "        593.80865042,  563.66756638,  558.65009539,  502.20741396,\n",
       "        548.71356402,  481.98293676,  534.20313051,  517.80878753,\n",
       "        552.52066878,  521.70363384,  480.44205952,  435.208378  ,\n",
       "        483.80948822,  393.20021069,  529.73092846,  482.48549244,\n",
       "        510.62693233,  571.46290107,  554.67408967,  432.08730576,\n",
       "        546.72622223,  524.20564526,  449.33833528,  519.45534417,\n",
       "        554.49262708,  511.75546314,  581.93072197,  553.167625  ,\n",
       "        452.27396846,  483.80640721,  526.28586959,  465.90333006,\n",
       "        561.21943756,  459.83163067,  463.59093382,  450.43190728,\n",
       "        461.18339511,  518.71582361,  498.60778932,  525.24791105,\n",
       "        516.85228402,  585.25706799,  494.00549212,  536.69030205,\n",
       "        519.35108686,  482.95527826,  408.98632381,  475.27145755,\n",
       "        361.74484095,  519.65173931,  551.64571744,  515.8847774 ,\n",
       "        541.07922994,  469.20454479,  571.76222786,  588.32845067,\n",
       "        555.18860726,  472.48869736,  540.39384528,  540.82915052,\n",
       "        526.59372014,  510.83747467,  551.6062231 ,  527.63934485,\n",
       "        486.38581528,  591.30044471,  556.30629046,  509.46152793,\n",
       "        526.83665966,  451.38098848,  357.23444085,  453.71069724,\n",
       "        541.28849675,  541.28849675,  527.93002067,  572.02457005,\n",
       "        525.55975159,  462.01208909,  514.4487568 ,  456.34306676,\n",
       "        476.9064251 ,  377.48270041,  495.9121352 ,  552.51490113,\n",
       "        585.64315572,  555.97255107,  412.4582525 ,  495.30366543,\n",
       "        479.51271711,  491.80554215,  546.21785558,  521.23050366,\n",
       "        466.32559678,  533.47103558,  434.79914928,  525.5889234 ,\n",
       "        469.99333667,  486.08688493,  487.64493476,  484.33831298,\n",
       "        626.93749127,  534.3881913 ,  552.17561955,  528.52485528,\n",
       "        474.6873175 ,  518.43338393,  518.85636671,  431.06090219,\n",
       "        533.28488666,  447.45750183,  446.25155996,  507.71577323,\n",
       "        500.60281034,  540.97061011,  529.96930487,  467.72774463,\n",
       "        488.67968404,  542.55456042,  600.4923371 ,  584.98011498,\n",
       "        560.32284991,  566.0629981 ,  548.72322798,  477.18029312,\n",
       "        591.62088171,  544.11088966])"
      ]
     },
     "execution_count": 32,
     "metadata": {},
     "output_type": "execute_result"
    }
   ],
   "source": [
    "predictions"
   ]
  },
  {
   "cell_type": "code",
   "execution_count": 21,
   "metadata": {
    "collapsed": false
   },
   "outputs": [
    {
     "data": {
      "text/plain": [
       "284.46831179513026"
      ]
     },
     "execution_count": 21,
     "metadata": {},
     "output_type": "execute_result"
    }
   ],
   "source": [
    "# What is the range between the maximum and minimum predicted reading score on the test set?\n",
    "\n",
    "predictions.max() - predictions.min()"
   ]
  },
  {
   "cell_type": "code",
   "execution_count": 22,
   "metadata": {
    "collapsed": false
   },
   "outputs": [
    {
     "data": {
      "text/plain": [
       "5762082.3711444354"
      ]
     },
     "execution_count": 22,
     "metadata": {},
     "output_type": "execute_result"
    }
   ],
   "source": [
    "# What is the sum of squared errors (SSE) of lmScore on the testing set?\n",
    "\n",
    "residuals = pisaTest.readingScore - predictions\n",
    "\n",
    "SSE = sum(residuals**2)\n",
    "SSE"
   ]
  },
  {
   "cell_type": "code",
   "execution_count": 23,
   "metadata": {
    "collapsed": false
   },
   "outputs": [
    {
     "data": {
      "text/plain": [
       "76.290793831092216"
      ]
     },
     "execution_count": 23,
     "metadata": {},
     "output_type": "execute_result"
    }
   ],
   "source": [
    "# What is the root-mean squared error (RMSE) of lmScore on the testing set?\n",
    "\n",
    "# The RMSE can be computed by first computing the SSE (sum of squared errors)\n",
    "# and then dividing by the number of observations and taking the square root\n",
    "\n",
    "np.sqrt(np.mean(SSE / len(pisaTest)))"
   ]
  },
  {
   "cell_type": "code",
   "execution_count": 24,
   "metadata": {
    "collapsed": false
   },
   "outputs": [
    {
     "data": {
      "text/plain": [
       "Intercept    517.962887\n",
       "dtype: float64"
      ]
     },
     "execution_count": 24,
     "metadata": {},
     "output_type": "execute_result"
    }
   ],
   "source": [
    "# What is the predicted test score used in the baseline model? \n",
    "# Remember to compute this value using the training set and not the test set.\n",
    "\n",
    "formula = \"readingScore ~ 1\"\n",
    "\n",
    "lmScore_baseline = sm.ols(formula=formula, data=pisaTrain).fit()\n",
    "lmScore_baseline.params"
   ]
  },
  {
   "cell_type": "code",
   "execution_count": 25,
   "metadata": {
    "collapsed": false
   },
   "outputs": [
    {
     "data": {
      "text/plain": [
       "517.9628873239429"
      ]
     },
     "execution_count": 25,
     "metadata": {},
     "output_type": "execute_result"
    }
   ],
   "source": [
    "# Another way:\n",
    "\n",
    "np.mean(pisaTrain.readingScore)"
   ]
  },
  {
   "cell_type": "code",
   "execution_count": 26,
   "metadata": {
    "collapsed": false
   },
   "outputs": [
    {
     "data": {
      "text/plain": [
       "7802354.0776138371"
      ]
     },
     "execution_count": 26,
     "metadata": {},
     "output_type": "execute_result"
    }
   ],
   "source": [
    "# What is the sum of squared errors of the baseline model \n",
    "# on the testing set? HINT: We call the sum of squared errors \n",
    "# for the baseline model the total sum of squares (SST).\n",
    "\n",
    "predictions_baseline = lmScore_baseline.predict(pisaTest)\n",
    "\n",
    "SST = sum((pisaTest.readingScore - predictions_baseline)**2)\n",
    "SST"
   ]
  },
  {
   "cell_type": "code",
   "execution_count": 59,
   "metadata": {
    "collapsed": false
   },
   "outputs": [
    {
     "data": {
      "text/plain": [
       "7802354.0776138389"
      ]
     },
     "execution_count": 59,
     "metadata": {},
     "output_type": "execute_result"
    }
   ],
   "source": [
    "# Another way:\n",
    "\n",
    "sum( (pisaTest.readingScore - np.mean(pisaTrain.readingScore))**2)"
   ]
  },
  {
   "cell_type": "code",
   "execution_count": 60,
   "metadata": {
    "collapsed": false
   },
   "outputs": [
    {
     "data": {
      "text/plain": [
       "(5762082.3711444354, 7802354.0776138389, 0.2614943754376976)"
      ]
     },
     "execution_count": 60,
     "metadata": {},
     "output_type": "execute_result"
    }
   ],
   "source": [
    "# What is the test-set R-squared value of lmScore?\n",
    "\n",
    "SSE = sum((pisaTest.readingScore - predictions)**2)\n",
    "SST = sum((pisaTest.readingScore - np.mean(pisaTrain.readingScore))**2)\n",
    "test_set_r_squared = 1 - (SSE/SST)\n",
    "\n",
    "SSE,SST,test_set_r_squared"
   ]
  },
  {
   "cell_type": "code",
   "execution_count": null,
   "metadata": {
    "collapsed": true
   },
   "outputs": [],
   "source": []
  },
  {
   "cell_type": "code",
   "execution_count": null,
   "metadata": {
    "collapsed": true
   },
   "outputs": [],
   "source": []
  },
  {
   "cell_type": "code",
   "execution_count": 53,
   "metadata": {
    "collapsed": false
   },
   "outputs": [
    {
     "name": "stdout",
     "output_type": "stream",
     "text": [
      "2414 obs. of 24 variables\n",
      "$ grade: [11 10  9 12  8]\n",
      "$ male: [1 0]\n",
      "$ raceeth: [White, Black, Hispanic, More than one race, American Indian/Alaska Native, Asian, Native Hawaiian/Other Pacific Islander]\n",
      "Categories (7, object): [White, Black, Hispanic, More than one race, American Indian/Alaska Native, Asian, Native Hawaiian/Other Pacific Islander]\n",
      "$ preschool: [ 0.  1.]\n",
      "$ expectBachelors: [ 0.  1.]\n",
      "$ motherHS: [ 1.  0.]\n",
      "$ motherBachelors: [ 1.  0.]\n",
      "$ motherWork: [ 1.  0.]\n",
      "$ fatherHS: [ 1.  0.]\n",
      "$ fatherBachelors: [ 0.  1.]\n",
      "$ fatherWork: [ 1.  0.]\n",
      "$ selfBornUS: [ 1.  0.]\n",
      "$ motherBornUS: [ 1.  0.]\n",
      "$ fatherBornUS: [ 1.  0.]\n",
      "$ englishAtHome: [ 1.  0.]\n",
      "$ computerForSchoolwork: [ 1.  0.]\n",
      "$ read30MinsADay: [ 1.  0.]\n",
      "$ minutesPerWeekEnglish: [  450.   200.   250.   300.   294.   232.   225.   270.   275.   315.\n",
      "   235.   600.   240.  1296.    90.   180.   290.   460.    70.    40.\n",
      "   205.    50.   190.   360.     0.   344.   285.   550.   420.   160.\n",
      "   260.   354.   255.    84.   264.    55.   258.   375.   140.   350.\n",
      "   325.   435.    45.    35.   400.   215.    54.   210.   150.   500.\n",
      "   540.   735.    30.   110.   220.   282.   630.   390.    60.   480.\n",
      "   120.   765.   440.  1200.   135.   280.   365.    80.   650.   230.\n",
      "   750.    56.   320.   330.    49.   335.   204.   348.   525.    53.\n",
      "   288.   295.   170.   100.   900.   144.    72.    75.  1540.   105.\n",
      "   265.   195.    20.   475.   172.   245.   261.    39.   176.   332.\n",
      "   385.  1100.   175.   800.   990.   425.  1680.   156.   336.  1000.\n",
      "   376.   371.  1080.   345.  1350.   640.   364.   224.    58.    46.\n",
      "   784.  1050.    88.   370.   249.   516.    47.   201.   301.   960.\n",
      "   850.   165.   252.   636.   236.    85.   700.   318.   560.   504.\n",
      "   380.   410.]\n",
      "$ studentsInEnglish: [ 25.  23.  35.  30.  24.  14.  20.  15.  12.  40.  32.  26.   6.  27.  22.\n",
      "  13.  18.  17.  16.  33.  29.  36.  28.  10.  31.   9.  21.   2.  34.  45.\n",
      "   3.  38.  19.  60.  11.  62.   1.  37.   8.  68.  67.  39.  50.   5.  74.\n",
      "   7.  43.  75.  42.  65.  70.]\n",
      "$ schoolHasLibrary: [ 1.  0.]\n",
      "$ publicSchool: [1 0]\n",
      "$ urban: [0 1]\n",
      "$ schoolSize: [ 1173.  2640.  1095.  1913.   899.  1733.   149.  1400.  1988.   915.\n",
      "   636.   854.  2999.  2748.   361.   575.  3261.  2340.  2569.  1212.\n",
      "   509.  1526.   276.  1250.  2878.   929.  1897.  1087.  2710.  1101.\n",
      "  2000.  1046.   196.  1375.  1380.   673.  3138.  1723.  1680.   868.\n",
      "  3004.  1276.  1489.  1900.  1720.  1062.   754.  2886.   820.   979.\n",
      "   247.   808.  1828.  2098.   626.  2942.   570.  3000.  2144.  3592.\n",
      "   389.  3201.   898.  2183.  1233.  2402.  1812.  1295.   539.  2966.\n",
      "   421.   356.  1734.   434.  1763.   505.   362.   712.  1610.   366.\n",
      "   502.  1317.   996.  1392.  1064.   850.  2004.  2085.   358.   774.\n",
      "  2162.  1382.  1408.   612.   926.  1411.  2361.   987.   690.   930.\n",
      "   865.  1347.  2080.   507.  1378.   308.  1619.   261.   300.   227.\n",
      "  1471.  2255.  2532.  1848.   432.  1387.   100.   914.  3164.  3009.\n",
      "   400.   762.   316.  2149.   632.  2646.  1327.   887.  1079.  2041.\n",
      "  1692.   398.   846.  1273.  1750.  1640.   347.   889.  1574.  2203.\n",
      "  1110.   331.   989.  1998.  1202.   991.  1196.  6694.]\n",
      "$ readingScore: [ 575.01  458.11  613.89 ...,  604.76  492.76  476.89]\n"
     ]
    }
   ],
   "source": [
    "def structure(df):\n",
    "    \n",
    "    print(\"{0} obs. of {1} variables\".format(df.shape[0],df.shape[1]))\n",
    "    for variable in df:\n",
    "        print(\"$ {}: {}\".format(variable,df[variable].unique()))\n"
   ]
  },
  {
   "cell_type": "code",
   "execution_count": null,
   "metadata": {
    "collapsed": true
   },
   "outputs": [],
   "source": []
  }
 ],
 "metadata": {
  "kernelspec": {
   "display_name": "Python 3",
   "language": "python",
   "name": "python3"
  },
  "language_info": {
   "codemirror_mode": {
    "name": "ipython",
    "version": 3
   },
   "file_extension": ".py",
   "mimetype": "text/x-python",
   "name": "python",
   "nbconvert_exporter": "python",
   "pygments_lexer": "ipython3",
   "version": "3.4.4"
  }
 },
 "nbformat": 4,
 "nbformat_minor": 0
}
