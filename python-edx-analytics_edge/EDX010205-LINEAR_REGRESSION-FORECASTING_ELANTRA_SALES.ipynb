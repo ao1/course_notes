{
 "cells": [
  {
   "cell_type": "code",
   "execution_count": 1,
   "metadata": {
    "collapsed": false
   },
   "outputs": [],
   "source": [
    "%matplotlib inline\n",
    "import pandas as pd\n",
    "import os\n",
    "import matplotlib as plt\n",
    "import seaborn as sns\n",
    "import numpy as np\n",
    "import statsmodels.formula.api as sm"
   ]
  },
  {
   "cell_type": "code",
   "execution_count": 2,
   "metadata": {
    "collapsed": false
   },
   "outputs": [
    {
     "data": {
      "text/html": [
       "<style>body {\n",
       "    margin: 0;\n",
       "    font-family: Helvetica;\n",
       "}\n",
       "table.dataframe {\n",
       "    border-collapse: collapse;\n",
       "    border: none;\n",
       "}\n",
       "table.dataframe tr {\n",
       "    border: none;\n",
       "}\n",
       "table.dataframe td, table.dataframe th {\n",
       "    margin: 0;\n",
       "    border: 1px solid white;\n",
       "    padding-left: 0.25em;\n",
       "    padding-right: 0.25em;\n",
       "}\n",
       "table.dataframe th:not(:empty) {\n",
       "    background-color: #fec;\n",
       "    text-align: left;\n",
       "    font-weight: normal;\n",
       "}\n",
       "table.dataframe tr:nth-child(2) th:empty {\n",
       "    border-left: none;\n",
       "    border-right: 1px dashed #888;\n",
       "}\n",
       "table.dataframe td {\n",
       "    border: 2px solid #ccf;\n",
       "    background-color: #f4f4ff;\n",
       "}\n",
       "h3 {\n",
       "    color: white;\n",
       "    background-color: black;\n",
       "    padding: 0.5em;\n",
       "}\n",
       "</style>"
      ],
      "text/plain": [
       "<IPython.core.display.HTML object>"
      ]
     },
     "execution_count": 2,
     "metadata": {},
     "output_type": "execute_result"
    }
   ],
   "source": [
    "#custom style HTML output\n",
    "\n",
    "from IPython.core.display import HTML\n",
    "\n",
    "csspath1 = r'C:\\COURSERA\\PYCON2015_TUTORIALS\\Brandon Rhodes - Pandas From The Ground Up - PyCon 2015\\style-table.css'\n",
    "csspath2 = r'C:\\COURSERA\\PYCON2015_TUTORIALS\\Brandon Rhodes - Pandas From The Ground Up - PyCon 2015\\style-notebook.css'\n",
    "\n",
    "css = open(csspath1).read() + open(csspath2).read()\n",
    "HTML('<style>{}</style>'.format(css))"
   ]
  },
  {
   "cell_type": "raw",
   "metadata": {},
   "source": [
    "An important application of linear regression is understanding sales. Consider a company that produces and sells a product. In a given period, if the company produces more units than how many consumers will buy, the company will not earn money on the unsold units and will incur additional costs due to having to store those units in inventory before they can be sold. If it produces fewer units than how many consumers will buy, the company will earn less than it potentially could have earned. Being able to predict consumer sales, therefore, is of first order importance to the company.\n",
    "\n",
    "In this problem, we will try to predict monthly sales of the Hyundai Elantra in the United States. The Hyundai Motor Company is a major automobile manufacturer based in South Korea. The Elantra is a car model that has been produced by Hyundai since 1990 and is sold all over the world, including the United States. We will build a linear regression model to predict monthly sales using economic indicators of the United States as well as Google search queries.\n",
    "\n",
    "The file elantra.csv contains data for the problem. Each observation is a month, from January 2010 to February 2014. For each month, we have the following variables:\n",
    "\n",
    "Month = the month of the year for the observation (1 = January, 2 = February, 3 = March, ...).\n",
    "\n",
    "Year = the year of the observation.\n",
    "\n",
    "ElantraSales = the number of units of the Hyundai Elantra sold in the United States in the given month.\n",
    "\n",
    "Unemployment = the estimated unemployment percentage in the United States in the given month.\n",
    "\n",
    "Queries = a (normalized) approximation of the number of Google searches for \"hyundai elantra\" in the given month.\n",
    "\n",
    "CPI_energy = the monthly consumer price index (CPI) for energy for the given month.\n",
    "\n",
    "CPI_all = the consumer price index (CPI) for all products for the given month; this is a measure of the magnitude of the prices paid by consumer households for goods and services (e.g., food, clothing, electricity, etc.)."
   ]
  },
  {
   "cell_type": "code",
   "execution_count": 3,
   "metadata": {
    "collapsed": false
   },
   "outputs": [
    {
     "data": {
      "text/html": [
       "<div>\n",
       "<table border=\"1\" class=\"dataframe\">\n",
       "  <thead>\n",
       "    <tr style=\"text-align: right;\">\n",
       "      <th></th>\n",
       "      <th>Month</th>\n",
       "      <th>Year</th>\n",
       "      <th>ElantraSales</th>\n",
       "      <th>Unemployment</th>\n",
       "      <th>Queries</th>\n",
       "      <th>CPI_energy</th>\n",
       "      <th>CPI_all</th>\n",
       "    </tr>\n",
       "  </thead>\n",
       "  <tbody>\n",
       "    <tr>\n",
       "      <th>0</th>\n",
       "      <td>1</td>\n",
       "      <td>2010</td>\n",
       "      <td>7690</td>\n",
       "      <td>9.7</td>\n",
       "      <td>153</td>\n",
       "      <td>213.377</td>\n",
       "      <td>217.466</td>\n",
       "    </tr>\n",
       "    <tr>\n",
       "      <th>1</th>\n",
       "      <td>1</td>\n",
       "      <td>2011</td>\n",
       "      <td>9659</td>\n",
       "      <td>9.1</td>\n",
       "      <td>259</td>\n",
       "      <td>229.353</td>\n",
       "      <td>221.082</td>\n",
       "    </tr>\n",
       "    <tr>\n",
       "      <th>2</th>\n",
       "      <td>1</td>\n",
       "      <td>2012</td>\n",
       "      <td>10900</td>\n",
       "      <td>8.2</td>\n",
       "      <td>354</td>\n",
       "      <td>244.178</td>\n",
       "      <td>227.666</td>\n",
       "    </tr>\n",
       "  </tbody>\n",
       "</table>\n",
       "</div>"
      ],
      "text/plain": [
       "   Month  Year  ElantraSales  Unemployment  Queries  CPI_energy  CPI_all\n",
       "0      1  2010          7690           9.7      153     213.377  217.466\n",
       "1      1  2011          9659           9.1      259     229.353  221.082\n",
       "2      1  2012         10900           8.2      354     244.178  227.666"
      ]
     },
     "execution_count": 3,
     "metadata": {},
     "output_type": "execute_result"
    }
   ],
   "source": [
    "# Load the data set. \n",
    "\n",
    "elantra = pd.read_csv('DATA/elantra.csv')\n",
    "elantra.head(3)"
   ]
  },
  {
   "cell_type": "code",
   "execution_count": 4,
   "metadata": {
    "collapsed": true
   },
   "outputs": [],
   "source": [
    "# Split the data set into training \n",
    "# and testing sets as follows: place all observations \n",
    "# for 2012 and earlier in the training set, and all \n",
    "# observations for 2013 and 2014 into the testing set.\n",
    "\n",
    "train = elantra[elantra.Year <= 2012]\n",
    "test = elantra[elantra.Year > 2012]"
   ]
  },
  {
   "cell_type": "code",
   "execution_count": 5,
   "metadata": {
    "collapsed": false
   },
   "outputs": [
    {
     "data": {
      "text/plain": [
       "((36, 7), (14, 7))"
      ]
     },
     "execution_count": 5,
     "metadata": {},
     "output_type": "execute_result"
    }
   ],
   "source": [
    "train.shape,test.shape"
   ]
  },
  {
   "cell_type": "code",
   "execution_count": 6,
   "metadata": {
    "collapsed": false
   },
   "outputs": [
    {
     "data": {
      "text/plain": [
       "Index(['Month', 'Year', 'ElantraSales', 'Unemployment', 'Queries',\n",
       "       'CPI_energy', 'CPI_all'],\n",
       "      dtype='object')"
      ]
     },
     "execution_count": 6,
     "metadata": {},
     "output_type": "execute_result"
    }
   ],
   "source": [
    "elantra.columns"
   ]
  },
  {
   "cell_type": "code",
   "execution_count": 7,
   "metadata": {
    "collapsed": false
   },
   "outputs": [
    {
     "name": "stdout",
     "output_type": "stream",
     "text": [
      "                      Results: Ordinary least squares\n",
      "===========================================================================\n",
      "Model:                  OLS                Adj. R-squared:       0.354     \n",
      "Dependent Variable:     ElantraSales       AIC:                  689.9816  \n",
      "Date:                   2016-05-03 00:03   BIC:                  697.8992  \n",
      "No. Observations:       36                 Log-Likelihood:       -339.99   \n",
      "Df Model:               4                  F-statistic:          5.803     \n",
      "Df Residuals:           31                 Prob (F-statistic):   0.00132   \n",
      "R-squared:              0.428              Scale:                1.0854e+07\n",
      "---------------------------------------------------------------------------\n",
      "               Coef.      Std.Err.     t    P>|t|     [0.025       0.975]  \n",
      "---------------------------------------------------------------------------\n",
      "Intercept    95385.3636 170663.8142  0.5589 0.5802 -252685.7802 443456.5074\n",
      "Unemployment -3179.8996   3610.2623 -0.8808 0.3852  -10543.0780   4183.2788\n",
      "CPI_all       -297.6456    704.8367 -0.4223 0.6757   -1735.1695   1139.8782\n",
      "CPI_energy      38.5060    109.6012  0.3513 0.7277    -185.0270    262.0391\n",
      "Queries         19.0297     11.2590  1.6902 0.1010      -3.9331     41.9925\n",
      "---------------------------------------------------------------------------\n",
      "Omnibus:                 1.210           Durbin-Watson:              1.190 \n",
      "Prob(Omnibus):           0.546           Jarque-Bera (JB):           0.947 \n",
      "Skew:                    0.390           Prob(JB):                   0.623 \n",
      "Kurtosis:                2.845           Condition No.:              131727\n",
      "===========================================================================\n",
      "* The condition number is large (1e+05). This might indicate\n",
      "strong multicollinearity or other numerical problems.\n"
     ]
    }
   ],
   "source": [
    "# Build a linear regression model to predict monthly \n",
    "# Elantra sales using Unemployment, CPI_all, CPI_energy\n",
    "# and Queries as the independent variables. \n",
    "# Use all of the training set data to do this.\n",
    "\n",
    "formula = \"ElantraSales ~ Unemployment + CPI_all + CPI_energy + Queries\"\n",
    "\n",
    "linreg1 = sm.ols(formula=formula,data=train).fit()\n",
    "print(linreg1.summary2())"
   ]
  },
  {
   "cell_type": "code",
   "execution_count": 8,
   "metadata": {
    "collapsed": false
   },
   "outputs": [
    {
     "data": {
      "text/plain": [
       "0"
      ]
     },
     "execution_count": 8,
     "metadata": {},
     "output_type": "execute_result"
    }
   ],
   "source": [
    "# How many variables are significant, or have levels that are significant? \n",
    "# Use 0.10 as your p-value cutoff.\n",
    "\n",
    "(linreg1.pvalues < 0.1000).sum()"
   ]
  },
  {
   "cell_type": "code",
   "execution_count": 9,
   "metadata": {
    "collapsed": false
   },
   "outputs": [
    {
     "data": {
      "text/plain": [
       "-3179.899573378636"
      ]
     },
     "execution_count": 9,
     "metadata": {},
     "output_type": "execute_result"
    }
   ],
   "source": [
    "# What is the coefficient of the Unemployment variable?\n",
    "\n",
    "linreg1.params.Unemployment"
   ]
  },
  {
   "cell_type": "raw",
   "metadata": {},
   "source": [
    "Our model R-Squared is relatively low, so we would now like to improve our model. In modeling demand and sales, it is often useful to model seasonality. Seasonality refers to the fact that demand is often cyclical/periodic in time. For example, in countries with different seasons, demand for warm outerwear (like jackets and coats) is higher in fall/autumn and winter (due to the colder weather) than in spring and summer. (In contrast, demand for swimsuits and sunscreen is higher in the summer than in the other seasons.) Another example is the \"back to school\" period in North America: demand for stationary (pencils, notebooks and so on) in late July and all of August is higher than the rest of the year due to the start of the school year in September.\n",
    "\n",
    "In our problem, since our data includes the month of the year in which the units were sold, it is feasible for us to incorporate monthly seasonality. From a modeling point of view, it may be reasonable that the month plays an effect in how many Elantra units are sold."
   ]
  },
  {
   "cell_type": "code",
   "execution_count": 14,
   "metadata": {
    "collapsed": false
   },
   "outputs": [
    {
     "name": "stdout",
     "output_type": "stream",
     "text": [
      "                      Results: Ordinary least squares\n",
      "============================================================================\n",
      "Model:                 OLS                 Adj. R-squared:        0.340     \n",
      "Dependent Variable:    ElantraSales        AIC:                   691.5836  \n",
      "Date:                  2016-05-03 00:03    BIC:                   701.0847  \n",
      "No. Observations:      36                  Log-Likelihood:        -339.79   \n",
      "Df Model:              5                   F-statistic:           4.609     \n",
      "Df Residuals:          30                  Prob (F-statistic):    0.00308   \n",
      "R-squared:             0.434               Scale:                 1.1092e+07\n",
      "----------------------------------------------------------------------------\n",
      "                Coef.      Std.Err.     t    P>|t|     [0.025       0.975]  \n",
      "----------------------------------------------------------------------------\n",
      "Intercept    148330.4877 195373.5066  0.7592 0.4536 -250675.4435 547336.4189\n",
      "Unemployment  -4137.2826   4008.5579 -1.0321 0.3103  -12323.8499   4049.2847\n",
      "CPI_all        -517.9910    808.2590 -0.6409 0.5265   -2168.6761   1132.6941\n",
      "CPI_energy       54.1833    114.0757  0.4750 0.6382    -178.7903    287.1569\n",
      "Queries          21.1855     11.9785  1.7686 0.0871      -3.2778     45.6489\n",
      "Month           110.6853    191.6574  0.5775 0.5679    -280.7313    502.1019\n",
      "----------------------------------------------------------------------------\n",
      "Omnibus:                  1.544           Durbin-Watson:              1.158 \n",
      "Prob(Omnibus):            0.462           Jarque-Bera (JB):           1.312 \n",
      "Skew:                     0.453           Prob(JB):                   0.519 \n",
      "Kurtosis:                 2.764           Condition No.:              149185\n",
      "============================================================================\n",
      "* The condition number is large (1e+05). This might indicate\n",
      "strong multicollinearity or other numerical problems.\n"
     ]
    }
   ],
   "source": [
    "# To incorporate the seasonal effect due to the month, \n",
    "# build a new linear regression model that predicts \n",
    "# monthly Elantra sales using Month as well as Unemployment, \n",
    "# CPI_all, CPI_energy and Queries. Do not modify the training \n",
    "# and testing data frames before building the model.\n",
    "\n",
    "formula = \"ElantraSales ~ Unemployment + CPI_all + CPI_energy + Queries + Month\"\n",
    "\n",
    "linreg2 = sm.ols(formula=formula,data=train).fit()\n",
    "print(linreg2.summary2())"
   ]
  },
  {
   "cell_type": "code",
   "execution_count": 11,
   "metadata": {
    "collapsed": false
   },
   "outputs": [
    {
     "data": {
      "text/plain": [
       "221.37053930261632"
      ]
     },
     "execution_count": 11,
     "metadata": {},
     "output_type": "execute_result"
    }
   ],
   "source": [
    "# In the new model, given two monthly periods that are \n",
    "# otherwise identical in Unemployment, CPI_all, \n",
    "# CPI_energy and Queries, what is the absolute \n",
    "# difference in predicted Elantra sales given \n",
    "# that one period is in January and one is in March?\n",
    "\n",
    "linreg2.params.Month*2"
   ]
  },
  {
   "cell_type": "code",
   "execution_count": 12,
   "metadata": {
    "collapsed": false
   },
   "outputs": [
    {
     "data": {
      "text/plain": [
       "442.74107860523264"
      ]
     },
     "execution_count": 12,
     "metadata": {},
     "output_type": "execute_result"
    }
   ],
   "source": [
    "# In the new model, given two monthly periods that are \n",
    "# otherwise identical in Unemployment, CPI_all, \n",
    "# CPI_energy and Queries, what is the absolute \n",
    "# difference in predicted Elantra sales given \n",
    "# that one period is in January and one is in May?\n",
    "\n",
    "linreg2.params.Month*4"
   ]
  },
  {
   "cell_type": "raw",
   "metadata": {},
   "source": [
    "You may be experiencing an uneasy feeling that there is something not quite right in how we have modeled the effect of the calendar month on the monthly sales of Elantras. If so, you are right. In particular, we added Month as a variable, but Month is an ordinary numeric variable. In fact, we must convert Month to a factor variable before adding it to the model."
   ]
  },
  {
   "cell_type": "raw",
   "metadata": {},
   "source": [
    "The previous subproblem essentially showed that for every month that we move into the future (e.g, from January to February, from February to March, etc.), our predicted sales go up by 110.69. This isn't right, because the effect of the month should not be affected by the numerical coding, and by modeling Month as a numeric variable, we cannot capture more complex effects. For example, suppose that when the other variables are fixed, an additional 500 units are sold from June to December, relative to the other months. This type of relationship between the boost to the sales and the Month variable would look like a step function at Month = 6, which cannot be modeled as a linear function of Month."
   ]
  },
  {
   "cell_type": "code",
   "execution_count": 18,
   "metadata": {
    "collapsed": false
   },
   "outputs": [
    {
     "name": "stdout",
     "output_type": "stream",
     "text": [
      "                       Results: Ordinary least squares\n",
      "=============================================================================\n",
      "Model:                  OLS                 Adj. R-squared:        0.684     \n",
      "Dependent Variable:     ElantraSales        AIC:                   670.5157  \n",
      "Date:                   2016-05-03 00:07    BIC:                   695.8521  \n",
      "No. Observations:       36                  Log-Likelihood:        -319.26   \n",
      "Df Model:               15                  F-statistic:           6.044     \n",
      "Df Residuals:           20                  Prob (F-statistic):    0.000147  \n",
      "R-squared:              0.819               Scale:                 5.3172e+06\n",
      "-----------------------------------------------------------------------------\n",
      "                  Coef.      Std.Err.     t    P>|t|     [0.025      0.975]  \n",
      "-----------------------------------------------------------------------------\n",
      "Intercept      312509.2802 144061.8671  2.1693 0.0423  12001.4913 613017.0690\n",
      "C(Month)[T.2]    2254.9978   1943.2486  1.1604 0.2595  -1798.5477   6308.5433\n",
      "C(Month)[T.3]    6696.5568   1991.6347  3.3623 0.0031   2542.0795  10851.0340\n",
      "C(Month)[T.4]    7556.6074   2038.0219  3.7078 0.0014   3305.3681  11807.8466\n",
      "C(Month)[T.5]    7420.2490   1950.1389  3.8050 0.0011   3352.3305  11488.1674\n",
      "C(Month)[T.6]    9215.8326   1995.2297  4.6189 0.0002   5053.8563  13377.8089\n",
      "C(Month)[T.7]    9929.4644   2238.8004  4.4352 0.0003   5259.4087  14599.5202\n",
      "C(Month)[T.8]    7939.4474   2064.6293  3.8455 0.0010   3632.7061  12246.1887\n",
      "C(Month)[T.9]    5013.2866   2010.7449  2.4932 0.0215    818.9463   9207.6270\n",
      "C(Month)[T.10]   2500.1838   2084.0572  1.1997 0.2443  -1847.0834   6847.4509\n",
      "C(Month)[T.11]   3238.9315   2397.2312  1.3511 0.1917  -1761.6051   8239.4681\n",
      "C(Month)[T.12]   5293.9107   2228.3097  2.3758 0.0276    645.7382   9942.0832\n",
      "Unemployment    -7739.3814   2968.7472 -2.6070 0.0169 -13932.0797  -1546.6832\n",
      "CPI_all         -1343.3068    592.9188 -2.2656 0.0347  -2580.1138   -106.4999\n",
      "CPI_energy        288.6314     97.9736  2.9460 0.0080     84.2620    493.0009\n",
      "Queries            -4.7636     12.9379 -0.3682 0.7166    -31.7517     22.2244\n",
      "-----------------------------------------------------------------------------\n",
      "Omnibus:                  0.047            Durbin-Watson:              2.795 \n",
      "Prob(Omnibus):            0.977            Jarque-Bera (JB):           0.246 \n",
      "Skew:                     -0.032           Prob(JB):                   0.884 \n",
      "Kurtosis:                 2.600            Condition No.:              158887\n",
      "=============================================================================\n",
      "* The condition number is large (2e+05). This might indicate\n",
      "strong multicollinearity or other numerical problems.\n"
     ]
    }
   ],
   "source": [
    "# Re-run the regression with the Month variable modeled as \n",
    "# a factor variable. (Create a new variable that models \n",
    "# the Month as a factor (using the as.factor function) \n",
    "# instead of overwriting the current Month variable. \n",
    "# We'll still use the numeric version of Month later in \n",
    "#  the problem.)\n",
    "\n",
    "# What is the model R-Squared?\n",
    "\n",
    "formula = \"ElantraSales ~ Unemployment + CPI_all + CPI_energy + Queries + C(Month)\"\n",
    "\n",
    "linreg3 = sm.ols(formula=formula,data=train).fit()\n",
    "print(linreg3.summary2())"
   ]
  },
  {
   "cell_type": "code",
   "execution_count": 19,
   "metadata": {
    "collapsed": false
   },
   "outputs": [
    {
     "data": {
      "text/plain": [
       "Intercept          True\n",
       "C(Month)[T.2]     False\n",
       "C(Month)[T.3]      True\n",
       "C(Month)[T.4]      True\n",
       "C(Month)[T.5]      True\n",
       "C(Month)[T.6]      True\n",
       "C(Month)[T.7]      True\n",
       "C(Month)[T.8]      True\n",
       "C(Month)[T.9]      True\n",
       "C(Month)[T.10]    False\n",
       "C(Month)[T.11]    False\n",
       "C(Month)[T.12]     True\n",
       "Unemployment       True\n",
       "CPI_all            True\n",
       "CPI_energy         True\n",
       "Queries           False\n",
       "dtype: bool"
      ]
     },
     "execution_count": 19,
     "metadata": {},
     "output_type": "execute_result"
    }
   ],
   "source": [
    "# Which variables are significant, or have \n",
    "# levels that are significant? Use 0.10 as \n",
    "# your p-value cutoff.\n",
    "\n",
    "linreg3.pvalues < 0.1000"
   ]
  },
  {
   "cell_type": "raw",
   "metadata": {},
   "source": [
    "Another peculiar observation about the regression is that the sign of the Queries variable has changed. In particular, when we naively modeled Month as a numeric variable, Queries had a positive coefficient. Now, Queries has a negative coefficient. Furthermore, CPI_energy has a positive coefficient -- as the overall price of energy increases, we expect Elantra sales to increase, which seems counter-intuitive (if the price of energy increases, we'd expect consumers to have less funds to purchase automobiles, leading to lower Elantra sales).\n",
    "\n",
    "As we have seen before, changes in coefficient signs and signs that are counter to our intuition may be due to a multicolinearity problem. To check, compute the correlations of the variables in the training set."
   ]
  },
  {
   "cell_type": "code",
   "execution_count": 31,
   "metadata": {
    "collapsed": false
   },
   "outputs": [
    {
     "name": "stdout",
     "output_type": "stream",
     "text": [
      "Correlation of CPI_energy and Month 0.17601982066\n",
      "Correlation of CPI_energy and Unemployment 0.800718807452\n",
      "Correlation of CPI_energy and Queries 0.832838105861\n",
      "Correlation of CPI_energy and CPI_all 0.913225909008\n"
     ]
    }
   ],
   "source": [
    "# Which variables is CPI_energy highly correlated with? \n",
    "# (Include only variables where the absolute value of \n",
    "# the correlation exceeds 0.6. For the purpose of this question, \n",
    "# treat Month as a numeric variable, not a factor variable.)\n",
    "\n",
    "for var in ['Month', 'Unemployment', 'Queries', 'CPI_all']:\n",
    "        print('Correlation of CPI_energy and',var,abs(np.corrcoef(train.CPI_energy,train[var])[0][1]))"
   ]
  },
  {
   "cell_type": "code",
   "execution_count": 33,
   "metadata": {
    "collapsed": false
   },
   "outputs": [
    {
     "name": "stdout",
     "output_type": "stream",
     "text": [
      "Correlation of Queries and Month 0.0158442958745\n",
      "Correlation of Queries and Unemployment 0.641109291034\n",
      "Correlation of Queries and CPI_energy 0.832838105861\n",
      "Correlation of Queries and CPI_all 0.75367323625\n"
     ]
    }
   ],
   "source": [
    "# Which variables is Queries highly correlated with? \n",
    "# (Include only variables where the absolute value of \n",
    "# the correlation exceeds 0.6. For the purpose of this question, \n",
    "# treat Month as a numeric variable, not a factor variable.)\n",
    "\n",
    "for var in ['Month', 'Unemployment', 'CPI_energy', 'CPI_all']:\n",
    "        print('Correlation of Queries and',var,abs(np.corrcoef(train.Queries,train[var])[0][1]))"
   ]
  },
  {
   "cell_type": "raw",
   "metadata": {},
   "source": [
    "Let us now simplify our model (the model using the factor version of the Month variable). We will do this by iteratively removing variables, one at a time. Remove the variable with the highest p-value (i.e., the least statistically significant variable) from the model. Repeat this until there are no variables that are insignificant or variables for which all of the factor levels are insignificant. Use a threshold of 0.10 to determine whether a variable is significant."
   ]
  },
  {
   "cell_type": "code",
   "execution_count": 42,
   "metadata": {
    "collapsed": false
   },
   "outputs": [
    {
     "name": "stdout",
     "output_type": "stream",
     "text": [
      "C(Month)[T.2]     False\n",
      "C(Month)[T.10]    False\n",
      "C(Month)[T.11]     True\n",
      "Intercept          True\n",
      "CPI_all            True\n",
      "C(Month)[T.9]      True\n",
      "Unemployment       True\n",
      "C(Month)[T.12]     True\n",
      "CPI_energy         True\n",
      "C(Month)[T.3]      True\n",
      "C(Month)[T.5]      True\n",
      "C(Month)[T.8]      True\n",
      "C(Month)[T.4]      True\n",
      "C(Month)[T.6]      True\n",
      "C(Month)[T.7]      True\n",
      "dtype: bool\n"
     ]
    }
   ],
   "source": [
    "# Which variables, and in what order, are removed by this process?\n",
    "\n",
    "formula = \"ElantraSales ~ Unemployment + CPI_all + CPI_energy + C(Month)\"\n",
    "\n",
    "linreg4 = sm.ols(formula=formula,data=train).fit()\n",
    "print(linreg4.pvalues.sort_values(ascending=False) < 0.1000)\n",
    "\n",
    "# The variable with the highest p-value is \"Queries\". After removing \n",
    "# it and looking at the model summary again, we can see that there \n",
    "# are no variables that are insignificant, at the 0.10 p-level. \n",
    "# Note that Month has a few values that are insignificant, but we \n",
    "# don't want to remove it because many values are very significant."
   ]
  },
  {
   "cell_type": "code",
   "execution_count": 43,
   "metadata": {
    "collapsed": true
   },
   "outputs": [],
   "source": [
    "# Using the model from above, make predictions on the \n",
    "# test set. \n",
    "\n",
    "predictions = linreg4.predict(test)"
   ]
  },
  {
   "cell_type": "code",
   "execution_count": 50,
   "metadata": {
    "collapsed": false
   },
   "outputs": [
    {
     "data": {
      "text/plain": [
       "190757747.44427505"
      ]
     },
     "execution_count": 50,
     "metadata": {},
     "output_type": "execute_result"
    }
   ],
   "source": [
    "# What is the sum of squared errors of the model on the test set?\n",
    "\n",
    "sum((predictions - test.ElantraSales)**2)"
   ]
  },
  {
   "cell_type": "code",
   "execution_count": 55,
   "metadata": {
    "collapsed": false
   },
   "outputs": [
    {
     "data": {
      "text/plain": [
       "14462.25"
      ]
     },
     "execution_count": 55,
     "metadata": {},
     "output_type": "execute_result"
    }
   ],
   "source": [
    "# What would the baseline method predict for all observations \n",
    "# in the test set? Remember that the baseline method we use predicts \n",
    "# the average outcome of all observations in the training set.\n",
    "\n",
    "train.ElantraSales.mean()\n",
    "\n",
    "# The baseline method that is used in the R-Squared calculation \n",
    "# (to compute SST, the total sum of squares) simply predicts the \n",
    "# mean of ElantraSales in the training set for every observation \n",
    "# (i.e., without regard to any of the independent variables)."
   ]
  },
  {
   "cell_type": "code",
   "execution_count": 125,
   "metadata": {
    "collapsed": false
   },
   "outputs": [
    {
     "data": {
      "text/plain": [
       "(190757747.44427505, 701375142.375, 0.72802322762918248)"
      ]
     },
     "execution_count": 125,
     "metadata": {},
     "output_type": "execute_result"
    }
   ],
   "source": [
    "# What is the test set R-Squared?\n",
    "\n",
    "SSE = sum((test.ElantraSales - predictions)**2)\n",
    "SST = sum((test.ElantraSales - np.mean(train.ElantraSales))**2)\n",
    "test_set_r_squared = 1 - (SSE/SST)\n",
    "\n",
    "SSE,SST,test_set_r_squared"
   ]
  },
  {
   "cell_type": "code",
   "execution_count": 62,
   "metadata": {
    "collapsed": false
   },
   "outputs": [
    {
     "data": {
      "text/plain": [
       "7491.4876927105215"
      ]
     },
     "execution_count": 62,
     "metadata": {},
     "output_type": "execute_result"
    }
   ],
   "source": [
    "# What is the largest absolute error that we make in our test set predictions?\n",
    "\n",
    "abs(predictions - test.ElantraSales).max()"
   ]
  },
  {
   "cell_type": "code",
   "execution_count": 109,
   "metadata": {
    "collapsed": false
   },
   "outputs": [
    {
     "data": {
      "text/plain": [
       "13    7491.487693\n",
       "Name: ElantraSales, dtype: float64"
      ]
     },
     "execution_count": 109,
     "metadata": {},
     "output_type": "execute_result"
    }
   ],
   "source": [
    "# In which period (Month,Year pair) do we make the largest \n",
    "# absolute error in our prediction?\n",
    "\n",
    "a = abs(predictions - test.ElantraSales)\n",
    "a.sort_values(ascending=False).head(1)"
   ]
  },
  {
   "cell_type": "code",
   "execution_count": 107,
   "metadata": {
    "collapsed": false
   },
   "outputs": [
    {
     "data": {
      "text/plain": [
       "Month       3\n",
       "Year     2013\n",
       "Name: 13, dtype: int64"
      ]
     },
     "execution_count": 107,
     "metadata": {},
     "output_type": "execute_result"
    }
   ],
   "source": [
    "test[['Month','Year']].loc[13]"
   ]
  },
  {
   "cell_type": "code",
   "execution_count": null,
   "metadata": {
    "collapsed": true
   },
   "outputs": [],
   "source": []
  }
 ],
 "metadata": {
  "kernelspec": {
   "display_name": "Python 3",
   "language": "python",
   "name": "python3"
  },
  "language_info": {
   "codemirror_mode": {
    "name": "ipython",
    "version": 3
   },
   "file_extension": ".py",
   "mimetype": "text/x-python",
   "name": "python",
   "nbconvert_exporter": "python",
   "pygments_lexer": "ipython3",
   "version": "3.4.4"
  }
 },
 "nbformat": 4,
 "nbformat_minor": 0
}
