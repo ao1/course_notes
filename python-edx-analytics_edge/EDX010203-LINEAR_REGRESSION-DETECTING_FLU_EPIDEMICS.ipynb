{
 "cells": [
  {
   "cell_type": "code",
   "execution_count": 1,
   "metadata": {
    "collapsed": false
   },
   "outputs": [
    {
     "name": "stderr",
     "output_type": "stream",
     "text": [
      "C:\\Anaconda3\\lib\\site-packages\\matplotlib\\__init__.py:872: UserWarning: axes.color_cycle is deprecated and replaced with axes.prop_cycle; please use the latter.\n",
      "  warnings.warn(self.msg_depr % (key, alt_key))\n"
     ]
    }
   ],
   "source": [
    "%matplotlib inline\n",
    "import pandas as pd\n",
    "import os\n",
    "import matplotlib as plt\n",
    "import seaborn as sns\n",
    "import numpy as np\n",
    "import statsmodels.formula.api as sm"
   ]
  },
  {
   "cell_type": "code",
   "execution_count": 2,
   "metadata": {
    "collapsed": false
   },
   "outputs": [
    {
     "data": {
      "text/html": [
       "<style>body {\n",
       "    margin: 0;\n",
       "    font-family: Helvetica;\n",
       "}\n",
       "table.dataframe {\n",
       "    border-collapse: collapse;\n",
       "    border: none;\n",
       "}\n",
       "table.dataframe tr {\n",
       "    border: none;\n",
       "}\n",
       "table.dataframe td, table.dataframe th {\n",
       "    margin: 0;\n",
       "    border: 1px solid white;\n",
       "    padding-left: 0.25em;\n",
       "    padding-right: 0.25em;\n",
       "}\n",
       "table.dataframe th:not(:empty) {\n",
       "    background-color: #fec;\n",
       "    text-align: left;\n",
       "    font-weight: normal;\n",
       "}\n",
       "table.dataframe tr:nth-child(2) th:empty {\n",
       "    border-left: none;\n",
       "    border-right: 1px dashed #888;\n",
       "}\n",
       "table.dataframe td {\n",
       "    border: 2px solid #ccf;\n",
       "    background-color: #f4f4ff;\n",
       "}\n",
       "h3 {\n",
       "    color: white;\n",
       "    background-color: black;\n",
       "    padding: 0.5em;\n",
       "}\n",
       "</style>"
      ],
      "text/plain": [
       "<IPython.core.display.HTML object>"
      ]
     },
     "execution_count": 2,
     "metadata": {},
     "output_type": "execute_result"
    }
   ],
   "source": [
    "#custom style HTML output\n",
    "\n",
    "from IPython.core.display import HTML\n",
    "\n",
    "csspath1 = r'C:\\COURSERA\\PYCON2015_TUTORIALS\\Brandon Rhodes - Pandas From The Ground Up - PyCon 2015\\style-table.css'\n",
    "csspath2 = r'C:\\COURSERA\\PYCON2015_TUTORIALS\\Brandon Rhodes - Pandas From The Ground Up - PyCon 2015\\style-notebook.css'\n",
    "\n",
    "css = open(csspath1).read() + open(csspath2).read()\n",
    "HTML('<style>{}</style>'.format(css))"
   ]
  },
  {
   "cell_type": "raw",
   "metadata": {},
   "source": [
    "Flu epidemics constitute a major public health concern causing respiratory illnesses, hospitalizations, and deaths. According to the National Vital Statistics Reports published in October 2012, influenza ranked as the eighth leading cause of death in 2011 in the United States. Each year, 250,000 to 500,000 deaths are attributed to influenza related diseases throughout the world.\n",
    "\n",
    "The U.S. Centers for Disease Control and Prevention (CDC) and the European Influenza Surveillance Scheme (EISS) detect influenza activity through virologic and clinical data, including Influenza-like Illness (ILI) physician visits. Reporting national and regional data, however, are published with a 1-2 week lag.\n",
    "\n",
    "The Google Flu Trends project was initiated to see if faster reporting can be made possible by considering flu-related online search queries -- data that is available almost immediately.\n",
    "\n",
    "We would like to estimate influenza-like illness (ILI) activity using Google web search logs. Fortunately, one can easily access this data online:\n",
    "\n",
    "ILI Data - The CDC publishes on its website the official regional and state-level percentage of patient visits to healthcare providers for ILI purposes on a weekly basis.\n",
    "\n",
    "Google Search Queries - Google Trends allows public retrieval of weekly counts for every query searched by users around the world. For each location, the counts are normalized by dividing the count for each query in a particular week by the total number of online search queries submitted in that location during the week. Then, the values are adjusted to be between 0 and 1.\n",
    "\n",
    "The csv file FluTrain.csv aggregates this data from January 1, 2004 until December 31, 2011 as follows:\n",
    "\n",
    "\"Week\" - The range of dates represented by this observation, in year/month/day format.\n",
    "\n",
    "\"ILI\" - This column lists the percentage of ILI-related physician visits for the corresponding week.\n",
    "\n",
    "\"Queries\" - This column lists the fraction of queries that are ILI-related for the corresponding week, adjusted to be between 0 and 1 (higher values correspond to more ILI-related search queries)."
   ]
  },
  {
   "cell_type": "code",
   "execution_count": 3,
   "metadata": {
    "collapsed": false
   },
   "outputs": [],
   "source": [
    "# Load \"FluTrain.csv\" into a data frame called FluTrain\n",
    "\n",
    "FluTrain = pd.read_csv('DATA\\FluTrain.csv')"
   ]
  },
  {
   "cell_type": "code",
   "execution_count": 4,
   "metadata": {
    "collapsed": false
   },
   "outputs": [
    {
     "data": {
      "text/html": [
       "<div>\n",
       "<table border=\"1\" class=\"dataframe\">\n",
       "  <thead>\n",
       "    <tr style=\"text-align: right;\">\n",
       "      <th></th>\n",
       "      <th>Week</th>\n",
       "      <th>ILI</th>\n",
       "      <th>Queries</th>\n",
       "    </tr>\n",
       "  </thead>\n",
       "  <tbody>\n",
       "    <tr>\n",
       "      <th>0</th>\n",
       "      <td>2004-01-04 - 2004-01-10</td>\n",
       "      <td>2.418331</td>\n",
       "      <td>0.237716</td>\n",
       "    </tr>\n",
       "    <tr>\n",
       "      <th>1</th>\n",
       "      <td>2004-01-11 - 2004-01-17</td>\n",
       "      <td>1.809056</td>\n",
       "      <td>0.220452</td>\n",
       "    </tr>\n",
       "    <tr>\n",
       "      <th>2</th>\n",
       "      <td>2004-01-18 - 2004-01-24</td>\n",
       "      <td>1.712024</td>\n",
       "      <td>0.225764</td>\n",
       "    </tr>\n",
       "    <tr>\n",
       "      <th>3</th>\n",
       "      <td>2004-01-25 - 2004-01-31</td>\n",
       "      <td>1.542495</td>\n",
       "      <td>0.237716</td>\n",
       "    </tr>\n",
       "    <tr>\n",
       "      <th>4</th>\n",
       "      <td>2004-02-01 - 2004-02-07</td>\n",
       "      <td>1.437868</td>\n",
       "      <td>0.224436</td>\n",
       "    </tr>\n",
       "  </tbody>\n",
       "</table>\n",
       "</div>"
      ],
      "text/plain": [
       "                      Week       ILI   Queries\n",
       "0  2004-01-04 - 2004-01-10  2.418331  0.237716\n",
       "1  2004-01-11 - 2004-01-17  1.809056  0.220452\n",
       "2  2004-01-18 - 2004-01-24  1.712024  0.225764\n",
       "3  2004-01-25 - 2004-01-31  1.542495  0.237716\n",
       "4  2004-02-01 - 2004-02-07  1.437868  0.224436"
      ]
     },
     "execution_count": 4,
     "metadata": {},
     "output_type": "execute_result"
    }
   ],
   "source": [
    "FluTrain.head()"
   ]
  },
  {
   "cell_type": "code",
   "execution_count": 5,
   "metadata": {
    "collapsed": false
   },
   "outputs": [
    {
     "data": {
      "text/plain": [
       "Week       2009-10-18 - 2009-10-24\n",
       "ILI                        7.61889\n",
       "Queries                          1\n",
       "Name: 302, dtype: object"
      ]
     },
     "execution_count": 5,
     "metadata": {},
     "output_type": "execute_result"
    }
   ],
   "source": [
    "# Looking at the time period 2004-2011, which week \n",
    "# corresponds to the highest percentage of ILI-related \n",
    "# physician visits?\n",
    "\n",
    "FluTrain.iloc[FluTrain['ILI'].idxmax()]"
   ]
  },
  {
   "cell_type": "code",
   "execution_count": 6,
   "metadata": {
    "collapsed": false
   },
   "outputs": [
    {
     "data": {
      "text/plain": [
       "Week       2009-10-18 - 2009-10-24\n",
       "ILI                        7.61889\n",
       "Queries                          1\n",
       "Name: 302, dtype: object"
      ]
     },
     "execution_count": 6,
     "metadata": {},
     "output_type": "execute_result"
    }
   ],
   "source": [
    "# Which week corresponds to the highest percentage \n",
    "# of ILI-related query fraction?\n",
    "\n",
    "FluTrain.iloc[FluTrain['Queries'].idxmax()]"
   ]
  },
  {
   "cell_type": "code",
   "execution_count": 7,
   "metadata": {
    "collapsed": false
   },
   "outputs": [
    {
     "data": {
      "text/plain": [
       "<matplotlib.axes._subplots.AxesSubplot at 0xa56a7b8>"
      ]
     },
     "execution_count": 7,
     "metadata": {},
     "output_type": "execute_result"
    },
    {
     "data": {
      "image/png": "[encoded data removed]",
      "text/plain": [
       "<matplotlib.figure.Figure at 0xa50ab70>"
      ]
     },
     "metadata": {},
     "output_type": "display_data"
    }
   ],
   "source": [
    "# Let us now understand the data at an aggregate level. \n",
    "# Plot the histogram of the dependent variable, ILI.\n",
    "\n",
    "# A histogram represents the distribution of data by \n",
    "# forming bins along the range of the data and then \n",
    "# drawing bars to show the number of observations \n",
    "# that fall in each bin.\n",
    "\n",
    "sns.distplot(FluTrain.ILI,kde=False)"
   ]
  },
  {
   "cell_type": "code",
   "execution_count": 8,
   "metadata": {
    "collapsed": false
   },
   "outputs": [],
   "source": [
    "# Most of the ILI values are small, with a relatively \n",
    "# small number of much larger values (in statistics, \n",
    "# this sort of data is called \"skew right\")."
   ]
  },
  {
   "cell_type": "code",
   "execution_count": 9,
   "metadata": {
    "collapsed": false
   },
   "outputs": [
    {
     "data": {
      "text/plain": [
       "<matplotlib.axes._subplots.AxesSubplot at 0xa980128>"
      ]
     },
     "execution_count": 9,
     "metadata": {},
     "output_type": "execute_result"
    },
    {
     "data": {
      "image/png": "[encoded data removed]",
      "text/plain": [
       "<matplotlib.figure.Figure at 0xa50add8>"
      ]
     },
     "metadata": {},
     "output_type": "display_data"
    }
   ],
   "source": [
    "# When handling a skewed dependent variable, it is\n",
    "# often useful to predict the logarithm of the \n",
    "# dependent variable instead of the dependent \n",
    "# variable itself -- this prevents the small number \n",
    "# of unusually large or small observations from \n",
    "# having an undue influence on the sum of \n",
    "# squared errors of predictive models.\n",
    "\n",
    "# Plot the natural logarithm of ILI versus Queries. \n",
    "# What does the plot suggest?.\n",
    "\n",
    "# regplot() accepts the x and y variables in a variety \n",
    "# of formats including simple numpy arrays, pandas Series \n",
    "# objects, or as references to variables in a pandas \n",
    "# DataFrame object passed to data. In contrast, lmplot()\n",
    "# has data as a required parameter and the x and y variables \n",
    "# must be specified as strings. This data format is called \n",
    "# “long-form” or “tidy” data. Other than this input \n",
    "# flexibility, regplot() possesses a subset of lmplot()‘s \n",
    "# features, so we will demonstrate them using the latter.\n",
    "\n",
    "sns.regplot(np.log(FluTrain.ILI),FluTrain.Queries)"
   ]
  },
  {
   "cell_type": "code",
   "execution_count": 10,
   "metadata": {
    "collapsed": false
   },
   "outputs": [
    {
     "data": {
      "text/plain": [
       "Index(['Week', 'ILI', 'Queries'], dtype='object')"
      ]
     },
     "execution_count": 10,
     "metadata": {},
     "output_type": "execute_result"
    }
   ],
   "source": [
    "FluTrain.columns"
   ]
  },
  {
   "cell_type": "code",
   "execution_count": 11,
   "metadata": {
    "collapsed": false
   },
   "outputs": [
    {
     "name": "stdout",
     "output_type": "stream",
     "text": [
      "                 Results: Ordinary least squares\n",
      "==================================================================\n",
      "Model:              OLS              Adj. R-squared:     0.708    \n",
      "Dependent Variable: np.log(ILI)      AIC:                179.9482 \n",
      "Date:               2016-05-01 17:18 BIC:                188.0144 \n",
      "No. Observations:   417              Log-Likelihood:     -87.974  \n",
      "Df Model:           1                F-statistic:        1011.    \n",
      "Df Residuals:       415              Prob (F-statistic): 2.62e-113\n",
      "R-squared:          0.709            Scale:              0.089714 \n",
      "-------------------------------------------------------------------\n",
      "               Coef.   Std.Err.     t      P>|t|    [0.025   0.975]\n",
      "-------------------------------------------------------------------\n",
      "Intercept     -0.4993    0.0304  -16.4217  0.0000  -0.5591  -0.4396\n",
      "Queries        2.9613    0.0931   31.7996  0.0000   2.7782   3.1443\n",
      "------------------------------------------------------------------\n",
      "Omnibus:               9.797        Durbin-Watson:           0.283\n",
      "Prob(Omnibus):         0.007        Jarque-Bera (JB):        9.884\n",
      "Skew:                  0.373        Prob(JB):                0.007\n",
      "Kurtosis:              3.112        Condition No.:           7    \n",
      "==================================================================\n",
      "\n"
     ]
    }
   ],
   "source": [
    "# Let's create the regression model from the previous problem \n",
    "\n",
    "formula = \"np.log(ILI) ~ Queries\"\n",
    "\n",
    "linreg_model1 = sm.ols(formula=formula, data=FluTrain).fit()\n",
    "print(linreg_model1.summary2())"
   ]
  },
  {
   "cell_type": "code",
   "execution_count": 12,
   "metadata": {
    "collapsed": false
   },
   "outputs": [
    {
     "data": {
      "text/plain": [
       "0.70902005534818646"
      ]
     },
     "execution_count": 12,
     "metadata": {},
     "output_type": "execute_result"
    }
   ],
   "source": [
    "# What is the training set R-squared value for \n",
    "# FluTrend1 model (the \"Multiple R-squared\")?\n",
    "\n",
    "linreg_model1.rsquared"
   ]
  },
  {
   "cell_type": "code",
   "execution_count": 13,
   "metadata": {
    "collapsed": false
   },
   "outputs": [
    {
     "data": {
      "text/plain": [
       "0.84203328636591701"
      ]
     },
     "execution_count": 13,
     "metadata": {},
     "output_type": "execute_result"
    }
   ],
   "source": [
    "# For a single variable linear regression model, \n",
    "# there is a direct relationship between the R-squared \n",
    "# and the correlation between the independent and the \n",
    "# dependent variables. What is the relationship we \n",
    "# infer from our problem? (Don't forget that you \n",
    "# can use the corr() function to compute the \n",
    "# correlation between two series.)\n",
    "\n",
    "cor = np.log(FluTrain.ILI).corr(FluTrain.Queries)\n",
    "cor"
   ]
  },
  {
   "cell_type": "code",
   "execution_count": 14,
   "metadata": {
    "collapsed": false
   },
   "outputs": [
    {
     "data": {
      "text/plain": [
       "0.70902005534818635"
      ]
     },
     "execution_count": 14,
     "metadata": {},
     "output_type": "execute_result"
    }
   ],
   "source": [
    "cor**2"
   ]
  },
  {
   "cell_type": "code",
   "execution_count": 15,
   "metadata": {
    "collapsed": false
   },
   "outputs": [
    {
     "data": {
      "text/html": [
       "<div>\n",
       "<table border=\"1\" class=\"dataframe\">\n",
       "  <thead>\n",
       "    <tr style=\"text-align: right;\">\n",
       "      <th></th>\n",
       "      <th>Week</th>\n",
       "      <th>ILI</th>\n",
       "      <th>Queries</th>\n",
       "    </tr>\n",
       "  </thead>\n",
       "  <tbody>\n",
       "    <tr>\n",
       "      <th>0</th>\n",
       "      <td>2012-01-01 - 2012-01-07</td>\n",
       "      <td>1.766707</td>\n",
       "      <td>0.593625</td>\n",
       "    </tr>\n",
       "  </tbody>\n",
       "</table>\n",
       "</div>"
      ],
      "text/plain": [
       "                      Week       ILI   Queries\n",
       "0  2012-01-01 - 2012-01-07  1.766707  0.593625"
      ]
     },
     "execution_count": 15,
     "metadata": {},
     "output_type": "execute_result"
    }
   ],
   "source": [
    "# The csv file FluTest.csv provides the 2012 weekly data \n",
    "# of the ILI-related search queries and the observed weekly \n",
    "# percentage of ILI-related physician visits. Load this \n",
    "# data into a data frame called FluTest.\n",
    "\n",
    "FluTest = pd.read_csv('DATA/FluTest.csv')\n",
    "FluTest.head(1)"
   ]
  },
  {
   "cell_type": "code",
   "execution_count": 16,
   "metadata": {
    "collapsed": false
   },
   "outputs": [],
   "source": [
    "# However, the dependent variable in our model is np.log(FluTrain.ILI), \n",
    "# so PredTest1 would contain predictions of the np.log(FluTrain.ILI) value. \n",
    "# We are instead interested in obtaining predictions of the ILI \n",
    "# value. We can convert from predictions of log(ILI) to \n",
    "# predictions of ILI via exponentiation.\n",
    "\n",
    "linreg_model1_predictions = np.exp(linreg_model1.predict(FluTest))"
   ]
  },
  {
   "cell_type": "code",
   "execution_count": 17,
   "metadata": {
    "collapsed": false
   },
   "outputs": [
    {
     "data": {
      "text/plain": [
       "2.1873777211145455"
      ]
     },
     "execution_count": 17,
     "metadata": {},
     "output_type": "execute_result"
    }
   ],
   "source": [
    "# What is our estimate for the percentage of ILI-related \n",
    "# physician visits for the week of March 11, 2012?\n",
    "\n",
    "index = FluTest[FluTest.Week.str.startswith('2012-03-11')].index[0]\n",
    "\n",
    "linreg_model1_predictions[index]"
   ]
  },
  {
   "cell_type": "code",
   "execution_count": 18,
   "metadata": {
    "collapsed": false
   },
   "outputs": [
    {
     "data": {
      "text/plain": [
       "0.046238266364745831"
      ]
     },
     "execution_count": 18,
     "metadata": {},
     "output_type": "execute_result"
    }
   ],
   "source": [
    "# What is the relative error betweeen the estimate \n",
    "# (our prediction) and the observed value for the \n",
    "# week of March 11, 2012? \n",
    "\n",
    "# Note that the relative error is calculated as \n",
    "# (Observed ILI - Estimated ILI)/Observed ILI\n",
    "\n",
    "index = FluTest[FluTest.Week.str.startswith('2012-03-11')].index[0]\n",
    "\n",
    "(FluTest.ILI[index] - linreg_model1_predictions[index])/FluTest.ILI[index]"
   ]
  },
  {
   "cell_type": "code",
   "execution_count": 19,
   "metadata": {
    "collapsed": false
   },
   "outputs": [
    {
     "data": {
      "text/plain": [
       "0.74906452710196625"
      ]
     },
     "execution_count": 19,
     "metadata": {},
     "output_type": "execute_result"
    }
   ],
   "source": [
    "# What is the Root Mean Square Error (RMSE) between our estimates \n",
    "# and the actual observations for the percentage of ILI-related \n",
    "# physician visits, on the test set?\n",
    "\n",
    "np.sqrt(np.mean((linreg_model1_predictions - FluTest.ILI)**2))"
   ]
  },
  {
   "cell_type": "raw",
   "metadata": {},
   "source": [
    "The observations in this dataset are consecutive weekly measurements of the dependent and independent variables. This sort of dataset is called a \"time series.\" Often, statistical models can be improved by predicting the current value of the dependent variable using the value of the dependent variable from earlier weeks. In our models, this means we will predict the ILI variable in the current week using values of the ILI variable from previous weeks."
   ]
  },
  {
   "cell_type": "code",
   "execution_count": 20,
   "metadata": {
    "collapsed": false
   },
   "outputs": [
    {
     "data": {
      "text/html": [
       "<div>\n",
       "<table border=\"1\" class=\"dataframe\">\n",
       "  <thead>\n",
       "    <tr style=\"text-align: right;\">\n",
       "      <th></th>\n",
       "      <th>Week</th>\n",
       "      <th>ILI</th>\n",
       "      <th>Queries</th>\n",
       "      <th>ILILag2</th>\n",
       "    </tr>\n",
       "  </thead>\n",
       "  <tbody>\n",
       "    <tr>\n",
       "      <th>0</th>\n",
       "      <td>2004-01-04 - 2004-01-10</td>\n",
       "      <td>2.418331</td>\n",
       "      <td>0.237716</td>\n",
       "      <td>NaN</td>\n",
       "    </tr>\n",
       "    <tr>\n",
       "      <th>1</th>\n",
       "      <td>2004-01-11 - 2004-01-17</td>\n",
       "      <td>1.809056</td>\n",
       "      <td>0.220452</td>\n",
       "      <td>NaN</td>\n",
       "    </tr>\n",
       "    <tr>\n",
       "      <th>2</th>\n",
       "      <td>2004-01-18 - 2004-01-24</td>\n",
       "      <td>1.712024</td>\n",
       "      <td>0.225764</td>\n",
       "      <td>2.418331</td>\n",
       "    </tr>\n",
       "    <tr>\n",
       "      <th>3</th>\n",
       "      <td>2004-01-25 - 2004-01-31</td>\n",
       "      <td>1.542495</td>\n",
       "      <td>0.237716</td>\n",
       "      <td>1.809056</td>\n",
       "    </tr>\n",
       "    <tr>\n",
       "      <th>4</th>\n",
       "      <td>2004-02-01 - 2004-02-07</td>\n",
       "      <td>1.437868</td>\n",
       "      <td>0.224436</td>\n",
       "      <td>1.712024</td>\n",
       "    </tr>\n",
       "  </tbody>\n",
       "</table>\n",
       "</div>"
      ],
      "text/plain": [
       "                      Week       ILI   Queries   ILILag2\n",
       "0  2004-01-04 - 2004-01-10  2.418331  0.237716       NaN\n",
       "1  2004-01-11 - 2004-01-17  1.809056  0.220452       NaN\n",
       "2  2004-01-18 - 2004-01-24  1.712024  0.225764  2.418331\n",
       "3  2004-01-25 - 2004-01-31  1.542495  0.237716  1.809056\n",
       "4  2004-02-01 - 2004-02-07  1.437868  0.224436  1.712024"
      ]
     },
     "execution_count": 20,
     "metadata": {},
     "output_type": "execute_result"
    }
   ],
   "source": [
    "# First, we need to decide the amount of time to lag the observations. \n",
    "# Because the ILI variable is reported with a 1- or 2-week lag, a \n",
    "# decision maker cannot rely on the previous week's ILI value to \n",
    "# predict the current week's value. Instead, the decision maker \n",
    "# will only have data available from 2 or more weeks ago. We \n",
    "# will build a variable called ILILag2 that contains the ILI \n",
    "# value from 2 weeks before the current observation.\n",
    "\n",
    "# Create the ILILag2 variable in the training set\n",
    "\n",
    "FluTrain['ILILag2'] = FluTrain['ILI'].shift(2)\n",
    "FluTrain.head()"
   ]
  },
  {
   "cell_type": "code",
   "execution_count": 21,
   "metadata": {
    "collapsed": false
   },
   "outputs": [
    {
     "data": {
      "text/plain": [
       "2"
      ]
     },
     "execution_count": 21,
     "metadata": {},
     "output_type": "execute_result"
    }
   ],
   "source": [
    "# How many values are missing in the new ILILag2 variable?\n",
    "\n",
    "FluTrain.ILILag2.isnull().sum()"
   ]
  },
  {
   "cell_type": "code",
   "execution_count": 22,
   "metadata": {
    "collapsed": false
   },
   "outputs": [
    {
     "data": {
      "text/plain": [
       "<matplotlib.axes._subplots.AxesSubplot at 0xaa49ef0>"
      ]
     },
     "execution_count": 22,
     "metadata": {},
     "output_type": "execute_result"
    },
    {
     "data": {
      "image/png": "[encoded data removed]",
      "text/plain": [
       "<matplotlib.figure.Figure at 0xaa49860>"
      ]
     },
     "metadata": {},
     "output_type": "display_data"
    }
   ],
   "source": [
    "# Use the plot() function to plot the log of ILILag2 against \n",
    "# the log of ILI.There is a strong positive relationship \n",
    "# between log(ILILag2) and log(ILI).\n",
    "\n",
    "sns.regplot(np.log(FluTrain.ILI),np.log(FluTrain.ILILag2))"
   ]
  },
  {
   "cell_type": "code",
   "execution_count": 23,
   "metadata": {
    "collapsed": false
   },
   "outputs": [
    {
     "name": "stdout",
     "output_type": "stream",
     "text": [
      "                            OLS Regression Results                            \n",
      "==============================================================================\n",
      "Dep. Variable:            np.log(ILI)   R-squared:                       0.906\n",
      "Model:                            OLS   Adj. R-squared:                  0.906\n",
      "Method:                 Least Squares   F-statistic:                     1993.\n",
      "Date:                Sun, 01 May 2016   Prob (F-statistic):          1.38e-212\n",
      "Time:                        17:18:34   Log-Likelihood:                 147.24\n",
      "No. Observations:                 415   AIC:                            -288.5\n",
      "Df Residuals:                     412   BIC:                            -276.4\n",
      "Df Model:                           2                                         \n",
      "Covariance Type:            nonrobust                                         \n",
      "===================================================================================\n",
      "                      coef    std err          t      P>|t|      [95.0% Conf. Int.]\n",
      "-----------------------------------------------------------------------------------\n",
      "Intercept          -0.2406      0.020    -12.321      0.000        -0.279    -0.202\n",
      "Queries             1.2558      0.079     15.876      0.000         1.100     1.411\n",
      "np.log(ILILag2)     0.6557      0.023     29.135      0.000         0.611     0.700\n",
      "==============================================================================\n",
      "Omnibus:                       74.791   Durbin-Watson:                   0.764\n",
      "Prob(Omnibus):                  0.000   Jarque-Bera (JB):              159.402\n",
      "Skew:                           0.950   Prob(JB):                     2.43e-35\n",
      "Kurtosis:                       5.368   Cond. No.                         11.1\n",
      "==============================================================================\n",
      "\n",
      "Warnings:\n",
      "[1] Standard Errors assume that the covariance matrix of the errors is correctly specified.\n"
     ]
    }
   ],
   "source": [
    "# Train a linear regression model on the FluTrain dataset to predict \n",
    "# the log of the ILI variable using the Queries variable as well as \n",
    "# the log of the ILILag2 variable.\n",
    "\n",
    "formula = \"np.log(ILI) ~ Queries + np.log(ILILag2)\"\n",
    "\n",
    "linreg_model2 = sm.ols(formula=formula,data=FluTrain,missing='drop').fit()\n",
    "\n",
    "print(linreg_model2.summary())"
   ]
  },
  {
   "cell_type": "code",
   "execution_count": 24,
   "metadata": {
    "collapsed": false
   },
   "outputs": [
    {
     "data": {
      "text/plain": [
       "Intercept          True\n",
       "Queries            True\n",
       "np.log(ILILag2)    True\n",
       "dtype: bool"
      ]
     },
     "execution_count": 24,
     "metadata": {},
     "output_type": "execute_result"
    }
   ],
   "source": [
    "# Which coefficients are significant at the p=0.05 level in this \n",
    "# regression model?\n",
    "\n",
    "# Signif. codes:  0 ‘***’ / 0.001 ‘**’ / 0.01 ‘*’ / 0.05 ‘.’ / 0.1 ‘ ’\n",
    "\n",
    "linreg_model2.pvalues < 0.05"
   ]
  },
  {
   "cell_type": "code",
   "execution_count": 25,
   "metadata": {
    "collapsed": false
   },
   "outputs": [
    {
     "data": {
      "text/plain": [
       "0.90634144454906762"
      ]
     },
     "execution_count": 25,
     "metadata": {},
     "output_type": "execute_result"
    }
   ],
   "source": [
    "# What is the R^2 value of linreg_model2?\n",
    "\n",
    "linreg_model2.rsquared"
   ]
  },
  {
   "cell_type": "raw",
   "metadata": {},
   "source": [
    "Moving from FluTrend1 to FluTrend2, in-sample R squared improved from 0.709 to 0.9063, and the new variable is highly significant. As a result, there is no sign of overfitting, and FluTrend2 is superior to FluTrend1 on the training set."
   ]
  },
  {
   "cell_type": "code",
   "execution_count": 26,
   "metadata": {
    "collapsed": false
   },
   "outputs": [
    {
     "data": {
      "text/html": [
       "<div>\n",
       "<table border=\"1\" class=\"dataframe\">\n",
       "  <thead>\n",
       "    <tr style=\"text-align: right;\">\n",
       "      <th></th>\n",
       "      <th>Week</th>\n",
       "      <th>ILI</th>\n",
       "      <th>Queries</th>\n",
       "      <th>ILILag2</th>\n",
       "    </tr>\n",
       "  </thead>\n",
       "  <tbody>\n",
       "    <tr>\n",
       "      <th>0</th>\n",
       "      <td>2012-01-01 - 2012-01-07</td>\n",
       "      <td>1.766707</td>\n",
       "      <td>0.593625</td>\n",
       "      <td>NaN</td>\n",
       "    </tr>\n",
       "    <tr>\n",
       "      <th>1</th>\n",
       "      <td>2012-01-08 - 2012-01-14</td>\n",
       "      <td>1.543401</td>\n",
       "      <td>0.499336</td>\n",
       "      <td>NaN</td>\n",
       "    </tr>\n",
       "    <tr>\n",
       "      <th>2</th>\n",
       "      <td>2012-01-15 - 2012-01-21</td>\n",
       "      <td>1.647615</td>\n",
       "      <td>0.500664</td>\n",
       "      <td>1.766707</td>\n",
       "    </tr>\n",
       "  </tbody>\n",
       "</table>\n",
       "</div>"
      ],
      "text/plain": [
       "                      Week       ILI   Queries   ILILag2\n",
       "0  2012-01-01 - 2012-01-07  1.766707  0.593625       NaN\n",
       "1  2012-01-08 - 2012-01-14  1.543401  0.499336       NaN\n",
       "2  2012-01-15 - 2012-01-21  1.647615  0.500664  1.766707"
      ]
     },
     "execution_count": 26,
     "metadata": {},
     "output_type": "execute_result"
    }
   ],
   "source": [
    "# So far, we have only added the ILILag2 variable to the \n",
    "# FluTrain data frame. To make predictions with our \n",
    "# linreg_model2 model, we will also need to add ILILag2 \n",
    "# to the FluTest data frame (note that adding variables \n",
    "# before splitting into a training and testing set \n",
    "# can prevent this duplication of effort).\n",
    "\n",
    "FluTest['ILILag2'] = FluTest['ILI'].shift(2)\n",
    "FluTest.head(3)"
   ]
  },
  {
   "cell_type": "code",
   "execution_count": 27,
   "metadata": {
    "collapsed": false
   },
   "outputs": [
    {
     "data": {
      "text/plain": [
       "2"
      ]
     },
     "execution_count": 27,
     "metadata": {},
     "output_type": "execute_result"
    }
   ],
   "source": [
    "# How many missing values are there in this new variable?\n",
    "\n",
    "FluTest.ILILag2.isnull().sum()"
   ]
  },
  {
   "cell_type": "raw",
   "metadata": {},
   "source": [
    "In this problem, the training and testing sets are split sequentially -- the training set contains all observations from 2004-2011 and the testing set contains all observations from 2012. There is no time gap between the two datasets, meaning the first observation in FluTest was recorded one week after the last observation in FluTrain. From this, we can identify how to fill in the missing values for the ILILag2 variable in FluTest."
   ]
  },
  {
   "cell_type": "code",
   "execution_count": 28,
   "metadata": {
    "collapsed": false
   },
   "outputs": [
    {
     "data": {
      "text/plain": [
       "415    1.852736\n",
       "416    2.124130\n",
       "Name: ILI, dtype: float64"
      ]
     },
     "execution_count": 28,
     "metadata": {},
     "output_type": "execute_result"
    }
   ],
   "source": [
    "FluTrain.ILI[-2:]"
   ]
  },
  {
   "cell_type": "code",
   "execution_count": 29,
   "metadata": {
    "collapsed": false
   },
   "outputs": [
    {
     "data": {
      "text/plain": [
       "0   NaN\n",
       "1   NaN\n",
       "Name: ILILag2, dtype: float64"
      ]
     },
     "execution_count": 29,
     "metadata": {},
     "output_type": "execute_result"
    }
   ],
   "source": [
    "FluTest.ILILag2[:2]"
   ]
  },
  {
   "cell_type": "code",
   "execution_count": 30,
   "metadata": {
    "collapsed": false
   },
   "outputs": [
    {
     "name": "stderr",
     "output_type": "stream",
     "text": [
      "C:\\Anaconda3\\lib\\site-packages\\ipykernel\\__main__.py:1: SettingWithCopyWarning: \n",
      "A value is trying to be set on a copy of a slice from a DataFrame\n",
      "\n",
      "See the caveats in the documentation: http://pandas.pydata.org/pandas-docs/stable/indexing.html#indexing-view-versus-copy\n",
      "  if __name__ == '__main__':\n"
     ]
    }
   ],
   "source": [
    "FluTest.ILILag2[:2] = FluTrain.ILI[-2:]"
   ]
  },
  {
   "cell_type": "code",
   "execution_count": 31,
   "metadata": {
    "collapsed": false
   },
   "outputs": [
    {
     "data": {
      "text/plain": [
       "0    1.852736\n",
       "1    2.124130\n",
       "2    1.766707\n",
       "3    1.543401\n",
       "4    1.647615\n",
       "Name: ILILag2, dtype: float64"
      ]
     },
     "execution_count": 31,
     "metadata": {},
     "output_type": "execute_result"
    }
   ],
   "source": [
    "# What are the new values of the ILILag2 variable in the first rows of FluTest?\n",
    "\n",
    "FluTest.ILILag2.head()"
   ]
  },
  {
   "cell_type": "code",
   "execution_count": 35,
   "metadata": {
    "collapsed": false
   },
   "outputs": [],
   "source": [
    "# Obtain test set predictions of the ILI variable from the FluTrend2 model, \n",
    "# again remembering to call the exp() function on the result of the predict() \n",
    "# function to obtain predictions for ILI instead of log(ILI).\n",
    "\n",
    "#linreg_model2_predictions = np.exp(linreg_model2.predict(FluTest))\n",
    "\n",
    "# Note: The statsmodels library has a bug with predicting on NaNs"
   ]
  },
  {
   "cell_type": "code",
   "execution_count": null,
   "metadata": {
    "collapsed": true
   },
   "outputs": [],
   "source": []
  }
 ],
 "metadata": {
  "kernelspec": {
   "display_name": "Python 3",
   "language": "python",
   "name": "python3"
  },
  "language_info": {
   "codemirror_mode": {
    "name": "ipython",
    "version": 3
   },
   "file_extension": ".py",
   "mimetype": "text/x-python",
   "name": "python",
   "nbconvert_exporter": "python",
   "pygments_lexer": "ipython3",
   "version": "3.4.4"
  }
 },
 "nbformat": 4,
 "nbformat_minor": 0
}
