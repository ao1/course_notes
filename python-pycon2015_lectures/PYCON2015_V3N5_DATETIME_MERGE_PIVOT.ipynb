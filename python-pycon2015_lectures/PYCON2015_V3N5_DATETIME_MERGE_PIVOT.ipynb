{
 "cells": [
  {
   "cell_type": "markdown",
   "metadata": {},
   "source": [
    "### Read in data"
   ]
  },
  {
   "cell_type": "code",
   "execution_count": 1,
   "metadata": {
    "collapsed": false
   },
   "outputs": [],
   "source": [
    "%matplotlib inline\n",
    "import pandas as pd"
   ]
  },
  {
   "cell_type": "code",
   "execution_count": 2,
   "metadata": {
    "collapsed": false
   },
   "outputs": [
    {
     "data": {
      "text/html": [
       "<style>body {\n",
       "    margin: 0;\n",
       "    font-family: Helvetica;\n",
       "}\n",
       "table.dataframe {\n",
       "    border-collapse: collapse;\n",
       "    border: none;\n",
       "}\n",
       "table.dataframe tr {\n",
       "    border: none;\n",
       "}\n",
       "table.dataframe td, table.dataframe th {\n",
       "    margin: 0;\n",
       "    border: 1px solid white;\n",
       "    padding-left: 0.25em;\n",
       "    padding-right: 0.25em;\n",
       "}\n",
       "table.dataframe th:not(:empty) {\n",
       "    background-color: #fec;\n",
       "    text-align: left;\n",
       "    font-weight: normal;\n",
       "}\n",
       "table.dataframe tr:nth-child(2) th:empty {\n",
       "    border-left: none;\n",
       "    border-right: 1px dashed #888;\n",
       "}\n",
       "table.dataframe td {\n",
       "    border: 2px solid #ccf;\n",
       "    background-color: #f4f4ff;\n",
       "}\n",
       "h3 {\n",
       "    color: white;\n",
       "    background-color: black;\n",
       "    padding: 0.5em;\n",
       "}\n",
       "</style>"
      ],
      "text/plain": [
       "<IPython.core.display.HTML object>"
      ]
     },
     "execution_count": 2,
     "metadata": {},
     "output_type": "execute_result"
    }
   ],
   "source": [
    "#custom style HTML output\n",
    "\n",
    "from IPython.core.display import HTML\n",
    "\n",
    "csspath1 = r'C:\\COURSERA\\PYCON2015_TUTORIALS\\Brandon Rhodes - Pandas From The Ground Up - PyCon 2015\\style-table.css'\n",
    "csspath2 = r'C:\\COURSERA\\PYCON2015_TUTORIALS\\Brandon Rhodes - Pandas From The Ground Up - PyCon 2015\\style-notebook.css'\n",
    "\n",
    "css = open(csspath1).read() + open(csspath2).read()\n",
    "HTML('<style>{}</style>'.format(css))"
   ]
  },
  {
   "cell_type": "code",
   "execution_count": 3,
   "metadata": {
    "collapsed": true
   },
   "outputs": [],
   "source": [
    "path1 = r'C:\\COURSERA\\PYCON2015_TUTORIALS\\Brandon Rhodes - Pandas From The Ground Up - PyCon 2015\\data\\titles.csv'\n",
    "path2 = r'C:\\COURSERA\\PYCON2015_TUTORIALS\\Brandon Rhodes - Pandas From The Ground Up - PyCon 2015\\data\\cast.csv'\n",
    "path3 = r'C:\\COURSERA\\PYCON2015_TUTORIALS\\Brandon Rhodes - Pandas From The Ground Up - PyCon 2015\\data\\release_dates.csv'\n",
    "\n",
    "titles = pd.DataFrame.from_csv(path1 , index_col=None)\n",
    "cast = pd.DataFrame.from_csv(path2, index_col=None)\n",
    "release_dates = pd.DataFrame.from_csv(path3, index_col=None)"
   ]
  },
  {
   "cell_type": "raw",
   "metadata": {},
   "source": [
    "(Press H for a list of shortcuts)\n",
    "\n",
    "Basic commands for dataframes and series:\n",
    "\n",
    "len(df) \n",
    "\n",
    "df.head()          \n",
    "df.tail()\n",
    "df[df.c == value]             \n",
    "df[(df.c >= value) & (df.d < value)]\n",
    "df[(df.c < value) | (df.d != value)]\n",
    "df.COLUMN           \n",
    "df['COLUMN']\n",
    "df[['col1','col2']]\n",
    "df.sort_values('column')\n",
    "df.sort_values(['column1','column2'])\n",
    "\n",
    "series1 + series2\n",
    "series.notnull()\n",
    "series.isnull()\n",
    "series.sort_values()\n",
    "series + value\n",
    "\n",
    "s.str.len()\n",
    "s.str.conatins()\n",
    "s.str.startswith()\n",
    "s.value_counts()\n",
    "s.sort_index()\n",
    "s.plot()\n",
    "\n",
    "df.set_index('a').sort_index()\n",
    "df.set_index(['a','b']).sort_index()\n",
    "df.groupby('column')    .size() .mean() .min() .max()\n",
    "df.groupby(['column1','column2'])    .agg(['min','max'])\n",
    "\n",
    "df.loc['value']\n",
    "df.loc[('v','u')]\n",
    "df.unstack()\n",
    "df.stack()\n",
    "\n",
    "dataframe.date = pd.to_datetime(pd.Series(dataframe.date))"
   ]
  },
  {
   "cell_type": "raw",
   "metadata": {
    "collapsed": true
   },
   "source": [
    "Using set_index and reset_index you can shuffle data left and right\n",
    "no good way to compare unlike things\n",
    "\n",
    "stack and unstack lets you do those harder comparisons"
   ]
  },
  {
   "cell_type": "code",
   "execution_count": 4,
   "metadata": {
    "collapsed": false
   },
   "outputs": [
    {
     "data": {
      "text/html": [
       "<div>\n",
       "<table border=\"1\" class=\"dataframe\">\n",
       "  <thead>\n",
       "    <tr style=\"text-align: right;\">\n",
       "      <th></th>\n",
       "      <th>title</th>\n",
       "      <th>year</th>\n",
       "      <th>country</th>\n",
       "      <th>date</th>\n",
       "    </tr>\n",
       "  </thead>\n",
       "  <tbody>\n",
       "    <tr>\n",
       "      <th>0</th>\n",
       "      <td>#73, Shaanthi Nivaasa</td>\n",
       "      <td>2007</td>\n",
       "      <td>India</td>\n",
       "      <td>2007-06-15</td>\n",
       "    </tr>\n",
       "    <tr>\n",
       "      <th>1</th>\n",
       "      <td>#AnonOccupy: Bio of a Villain</td>\n",
       "      <td>2015</td>\n",
       "      <td>USA</td>\n",
       "      <td>2015-11-05</td>\n",
       "    </tr>\n",
       "    <tr>\n",
       "      <th>2</th>\n",
       "      <td>#Beings</td>\n",
       "      <td>2015</td>\n",
       "      <td>Romania</td>\n",
       "      <td>2015-01-29</td>\n",
       "    </tr>\n",
       "  </tbody>\n",
       "</table>\n",
       "</div>"
      ],
      "text/plain": [
       "                           title  year  country        date\n",
       "0          #73, Shaanthi Nivaasa  2007    India  2007-06-15\n",
       "1  #AnonOccupy: Bio of a Villain  2015      USA  2015-11-05\n",
       "2                        #Beings  2015  Romania  2015-01-29"
      ]
     },
     "execution_count": 4,
     "metadata": {},
     "output_type": "execute_result"
    }
   ],
   "source": [
    "release_dates.head(3)"
   ]
  },
  {
   "cell_type": "markdown",
   "metadata": {},
   "source": [
    "### Date and Time"
   ]
  },
  {
   "cell_type": "code",
   "execution_count": 5,
   "metadata": {
    "collapsed": false
   },
   "outputs": [],
   "source": [
    "r = release_dates"
   ]
  },
  {
   "cell_type": "code",
   "execution_count": 6,
   "metadata": {
    "collapsed": false
   },
   "outputs": [],
   "source": [
    "r.date = pd.to_datetime(pd.Series(r.date))"
   ]
  },
  {
   "cell_type": "code",
   "execution_count": 7,
   "metadata": {
    "collapsed": false
   },
   "outputs": [
    {
     "data": {
      "text/html": [
       "<div>\n",
       "<table border=\"1\" class=\"dataframe\">\n",
       "  <thead>\n",
       "    <tr style=\"text-align: right;\">\n",
       "      <th></th>\n",
       "      <th>title</th>\n",
       "      <th>year</th>\n",
       "      <th>country</th>\n",
       "      <th>date</th>\n",
       "    </tr>\n",
       "  </thead>\n",
       "  <tbody>\n",
       "    <tr>\n",
       "      <th>0</th>\n",
       "      <td>#73, Shaanthi Nivaasa</td>\n",
       "      <td>2007</td>\n",
       "      <td>India</td>\n",
       "      <td>2007-06-15</td>\n",
       "    </tr>\n",
       "    <tr>\n",
       "      <th>1</th>\n",
       "      <td>#AnonOccupy: Bio of a Villain</td>\n",
       "      <td>2015</td>\n",
       "      <td>USA</td>\n",
       "      <td>2015-11-05</td>\n",
       "    </tr>\n",
       "    <tr>\n",
       "      <th>2</th>\n",
       "      <td>#Beings</td>\n",
       "      <td>2015</td>\n",
       "      <td>Romania</td>\n",
       "      <td>2015-01-29</td>\n",
       "    </tr>\n",
       "  </tbody>\n",
       "</table>\n",
       "</div>"
      ],
      "text/plain": [
       "                           title  year  country       date\n",
       "0          #73, Shaanthi Nivaasa  2007    India 2007-06-15\n",
       "1  #AnonOccupy: Bio of a Villain  2015      USA 2015-11-05\n",
       "2                        #Beings  2015  Romania 2015-01-29"
      ]
     },
     "execution_count": 7,
     "metadata": {},
     "output_type": "execute_result"
    }
   ],
   "source": [
    "r.head(3)"
   ]
  },
  {
   "cell_type": "code",
   "execution_count": 8,
   "metadata": {
    "collapsed": false
   },
   "outputs": [
    {
     "data": {
      "text/plain": [
       "0    15\n",
       "1     5\n",
       "2    29\n",
       "Name: date, dtype: int64"
      ]
     },
     "execution_count": 8,
     "metadata": {},
     "output_type": "execute_result"
    }
   ],
   "source": [
    "r.date.dt.day.head(3)  # show as day of year"
   ]
  },
  {
   "cell_type": "markdown",
   "metadata": {},
   "source": [
    "### Merging dataframes"
   ]
  },
  {
   "cell_type": "code",
   "execution_count": 9,
   "metadata": {
    "collapsed": false
   },
   "outputs": [
    {
     "data": {
      "text/html": [
       "<div>\n",
       "<table border=\"1\" class=\"dataframe\">\n",
       "  <thead>\n",
       "    <tr style=\"text-align: right;\">\n",
       "      <th></th>\n",
       "      <th>title</th>\n",
       "      <th>year</th>\n",
       "      <th>name</th>\n",
       "      <th>type</th>\n",
       "      <th>character</th>\n",
       "      <th>n</th>\n",
       "      <th>country</th>\n",
       "      <th>date</th>\n",
       "    </tr>\n",
       "  </thead>\n",
       "  <tbody>\n",
       "    <tr>\n",
       "      <th>0</th>\n",
       "      <td>An American Crime</td>\n",
       "      <td>2007</td>\n",
       "      <td>Ellen Page</td>\n",
       "      <td>actress</td>\n",
       "      <td>Sylvia Likens</td>\n",
       "      <td>1</td>\n",
       "      <td>Sweden</td>\n",
       "      <td>2007-12-07</td>\n",
       "    </tr>\n",
       "    <tr>\n",
       "      <th>1</th>\n",
       "      <td>An American Crime</td>\n",
       "      <td>2007</td>\n",
       "      <td>Ellen Page</td>\n",
       "      <td>actress</td>\n",
       "      <td>Sylvia Likens</td>\n",
       "      <td>1</td>\n",
       "      <td>Greece</td>\n",
       "      <td>2008-05-15</td>\n",
       "    </tr>\n",
       "    <tr>\n",
       "      <th>2</th>\n",
       "      <td>An American Crime</td>\n",
       "      <td>2007</td>\n",
       "      <td>Ellen Page</td>\n",
       "      <td>actress</td>\n",
       "      <td>Sylvia Likens</td>\n",
       "      <td>1</td>\n",
       "      <td>Spain</td>\n",
       "      <td>2008-06-13</td>\n",
       "    </tr>\n",
       "    <tr>\n",
       "      <th>3</th>\n",
       "      <td>An American Crime</td>\n",
       "      <td>2007</td>\n",
       "      <td>Ellen Page</td>\n",
       "      <td>actress</td>\n",
       "      <td>Sylvia Likens</td>\n",
       "      <td>1</td>\n",
       "      <td>Finland</td>\n",
       "      <td>2008-07-18</td>\n",
       "    </tr>\n",
       "    <tr>\n",
       "      <th>4</th>\n",
       "      <td>An American Crime</td>\n",
       "      <td>2007</td>\n",
       "      <td>Ellen Page</td>\n",
       "      <td>actress</td>\n",
       "      <td>Sylvia Likens</td>\n",
       "      <td>1</td>\n",
       "      <td>Mexico</td>\n",
       "      <td>2008-08-08</td>\n",
       "    </tr>\n",
       "  </tbody>\n",
       "</table>\n",
       "</div>"
      ],
      "text/plain": [
       "               title  year        name     type      character  n  country  \\\n",
       "0  An American Crime  2007  Ellen Page  actress  Sylvia Likens  1   Sweden   \n",
       "1  An American Crime  2007  Ellen Page  actress  Sylvia Likens  1   Greece   \n",
       "2  An American Crime  2007  Ellen Page  actress  Sylvia Likens  1    Spain   \n",
       "3  An American Crime  2007  Ellen Page  actress  Sylvia Likens  1  Finland   \n",
       "4  An American Crime  2007  Ellen Page  actress  Sylvia Likens  1   Mexico   \n",
       "\n",
       "        date  \n",
       "0 2007-12-07  \n",
       "1 2008-05-15  \n",
       "2 2008-06-13  \n",
       "3 2008-07-18  \n",
       "4 2008-08-08  "
      ]
     },
     "execution_count": 9,
     "metadata": {},
     "output_type": "execute_result"
    }
   ],
   "source": [
    "c = cast\n",
    "c = c[c.name == 'Ellen Page']\n",
    "c.merge(release_dates).head(5)\n",
    "# merge is the most general function for putting together data\n",
    "# only use join if you are very comfortable with merge"
   ]
  },
  {
   "cell_type": "markdown",
   "metadata": {},
   "source": [
    "### Merging with the same dataframe"
   ]
  },
  {
   "cell_type": "code",
   "execution_count": 10,
   "metadata": {
    "collapsed": false
   },
   "outputs": [
    {
     "data": {
      "text/html": [
       "<div>\n",
       "<table border=\"1\" class=\"dataframe\">\n",
       "  <thead>\n",
       "    <tr style=\"text-align: right;\">\n",
       "      <th></th>\n",
       "      <th>title</th>\n",
       "      <th>year</th>\n",
       "      <th>name</th>\n",
       "      <th>type</th>\n",
       "      <th>character</th>\n",
       "      <th>n</th>\n",
       "    </tr>\n",
       "  </thead>\n",
       "  <tbody>\n",
       "    <tr>\n",
       "      <th>763036</th>\n",
       "      <td>An Affair to Remember</td>\n",
       "      <td>1957</td>\n",
       "      <td>Cary Grant</td>\n",
       "      <td>actor</td>\n",
       "      <td>Nickie Ferrante</td>\n",
       "      <td>1</td>\n",
       "    </tr>\n",
       "    <tr>\n",
       "      <th>763037</th>\n",
       "      <td>Arsenic and Old Lace</td>\n",
       "      <td>1944</td>\n",
       "      <td>Cary Grant</td>\n",
       "      <td>actor</td>\n",
       "      <td>Mortimer Brewster</td>\n",
       "      <td>1</td>\n",
       "    </tr>\n",
       "  </tbody>\n",
       "</table>\n",
       "</div>"
      ],
      "text/plain": [
       "                        title  year        name   type          character  n\n",
       "763036  An Affair to Remember  1957  Cary Grant  actor    Nickie Ferrante  1\n",
       "763037   Arsenic and Old Lace  1944  Cary Grant  actor  Mortimer Brewster  1"
      ]
     },
     "execution_count": 10,
     "metadata": {},
     "output_type": "execute_result"
    }
   ],
   "source": [
    "#who co-stars with Cary Grant?\n",
    "#you can marge a table with itself\n",
    "g = cast[(cast.n <= 2) & (cast.name == 'Cary Grant')]\n",
    "g.head(2)"
   ]
  },
  {
   "cell_type": "code",
   "execution_count": 11,
   "metadata": {
    "collapsed": false
   },
   "outputs": [
    {
     "data": {
      "text/html": [
       "<div>\n",
       "<table border=\"1\" class=\"dataframe\">\n",
       "  <thead>\n",
       "    <tr style=\"text-align: right;\">\n",
       "      <th></th>\n",
       "      <th>title</th>\n",
       "      <th>year</th>\n",
       "      <th>name_x</th>\n",
       "      <th>type_x</th>\n",
       "      <th>character_x</th>\n",
       "      <th>n_x</th>\n",
       "      <th>name_y</th>\n",
       "      <th>type_y</th>\n",
       "      <th>character_y</th>\n",
       "      <th>n_y</th>\n",
       "    </tr>\n",
       "  </thead>\n",
       "  <tbody>\n",
       "    <tr>\n",
       "      <th>0</th>\n",
       "      <td>An Affair to Remember</td>\n",
       "      <td>1957</td>\n",
       "      <td>Cary Grant</td>\n",
       "      <td>actor</td>\n",
       "      <td>Nickie Ferrante</td>\n",
       "      <td>1</td>\n",
       "      <td>Richard (V) Allen</td>\n",
       "      <td>actor</td>\n",
       "      <td>Orphan</td>\n",
       "      <td>NaN</td>\n",
       "    </tr>\n",
       "    <tr>\n",
       "      <th>1</th>\n",
       "      <td>An Affair to Remember</td>\n",
       "      <td>1957</td>\n",
       "      <td>Cary Grant</td>\n",
       "      <td>actor</td>\n",
       "      <td>Nickie Ferrante</td>\n",
       "      <td>1</td>\n",
       "      <td>Dino Bolognese</td>\n",
       "      <td>actor</td>\n",
       "      <td>Italian TV Commentator</td>\n",
       "      <td>NaN</td>\n",
       "    </tr>\n",
       "    <tr>\n",
       "      <th>2</th>\n",
       "      <td>An Affair to Remember</td>\n",
       "      <td>1957</td>\n",
       "      <td>Cary Grant</td>\n",
       "      <td>actor</td>\n",
       "      <td>Nickie Ferrante</td>\n",
       "      <td>1</td>\n",
       "      <td>Fortunio Bonanova</td>\n",
       "      <td>actor</td>\n",
       "      <td>Courbet</td>\n",
       "      <td>8</td>\n",
       "    </tr>\n",
       "  </tbody>\n",
       "</table>\n",
       "</div>"
      ],
      "text/plain": [
       "                   title  year      name_x type_x      character_x  n_x  \\\n",
       "0  An Affair to Remember  1957  Cary Grant  actor  Nickie Ferrante    1   \n",
       "1  An Affair to Remember  1957  Cary Grant  actor  Nickie Ferrante    1   \n",
       "2  An Affair to Remember  1957  Cary Grant  actor  Nickie Ferrante    1   \n",
       "\n",
       "              name_y type_y             character_y  n_y  \n",
       "0  Richard (V) Allen  actor                  Orphan  NaN  \n",
       "1     Dino Bolognese  actor  Italian TV Commentator  NaN  \n",
       "2  Fortunio Bonanova  actor                 Courbet    8  "
      ]
     },
     "execution_count": 11,
     "metadata": {},
     "output_type": "execute_result"
    }
   ],
   "source": [
    "g = g.merge(cast , on=['title','year'])\n",
    "g.head(3)"
   ]
  },
  {
   "cell_type": "markdown",
   "metadata": {},
   "source": [
    "### Pivot table"
   ]
  },
  {
   "cell_type": "code",
   "execution_count": 12,
   "metadata": {
    "collapsed": true
   },
   "outputs": [],
   "source": [
    "p = release_dates[release_dates.title.str.startswith('Star Wars: Episode')]"
   ]
  },
  {
   "cell_type": "code",
   "execution_count": 13,
   "metadata": {
    "collapsed": true
   },
   "outputs": [],
   "source": [
    "p = p[p.country.str.startswith('U')]"
   ]
  },
  {
   "cell_type": "code",
   "execution_count": 14,
   "metadata": {
    "collapsed": false
   },
   "outputs": [
    {
     "data": {
      "text/html": [
       "<div>\n",
       "<table border=\"1\" class=\"dataframe\">\n",
       "  <thead>\n",
       "    <tr style=\"text-align: right;\">\n",
       "      <th></th>\n",
       "      <th>title</th>\n",
       "      <th>year</th>\n",
       "      <th>country</th>\n",
       "      <th>date</th>\n",
       "    </tr>\n",
       "  </thead>\n",
       "  <tbody>\n",
       "    <tr>\n",
       "      <th>285672</th>\n",
       "      <td>Star Wars: Episode I - The Phantom Menace</td>\n",
       "      <td>1999</td>\n",
       "      <td>USA</td>\n",
       "      <td>1999-05-19</td>\n",
       "    </tr>\n",
       "    <tr>\n",
       "      <th>285693</th>\n",
       "      <td>Star Wars: Episode I - The Phantom Menace</td>\n",
       "      <td>1999</td>\n",
       "      <td>Uruguay</td>\n",
       "      <td>1999-07-02</td>\n",
       "    </tr>\n",
       "    <tr>\n",
       "      <th>285705</th>\n",
       "      <td>Star Wars: Episode I - The Phantom Menace</td>\n",
       "      <td>1999</td>\n",
       "      <td>UK</td>\n",
       "      <td>1999-07-16</td>\n",
       "    </tr>\n",
       "    <tr>\n",
       "      <th>285719</th>\n",
       "      <td>Star Wars: Episode I - The Phantom Menace</td>\n",
       "      <td>1999</td>\n",
       "      <td>United Arab Emirates</td>\n",
       "      <td>1999-08-25</td>\n",
       "    </tr>\n",
       "    <tr>\n",
       "      <th>285781</th>\n",
       "      <td>Star Wars: Episode II - Attack of the Clones</td>\n",
       "      <td>2002</td>\n",
       "      <td>UK</td>\n",
       "      <td>2002-05-16</td>\n",
       "    </tr>\n",
       "  </tbody>\n",
       "</table>\n",
       "</div>"
      ],
      "text/plain": [
       "                                               title  year  \\\n",
       "285672     Star Wars: Episode I - The Phantom Menace  1999   \n",
       "285693     Star Wars: Episode I - The Phantom Menace  1999   \n",
       "285705     Star Wars: Episode I - The Phantom Menace  1999   \n",
       "285719     Star Wars: Episode I - The Phantom Menace  1999   \n",
       "285781  Star Wars: Episode II - Attack of the Clones  2002   \n",
       "\n",
       "                     country       date  \n",
       "285672                   USA 1999-05-19  \n",
       "285693               Uruguay 1999-07-02  \n",
       "285705                    UK 1999-07-16  \n",
       "285719  United Arab Emirates 1999-08-25  \n",
       "285781                    UK 2002-05-16  "
      ]
     },
     "execution_count": 14,
     "metadata": {},
     "output_type": "execute_result"
    }
   ],
   "source": [
    "p.head(5)"
   ]
  },
  {
   "cell_type": "code",
   "execution_count": 15,
   "metadata": {
    "collapsed": false
   },
   "outputs": [
    {
     "data": {
      "text/html": [
       "<div>\n",
       "<table border=\"1\" class=\"dataframe\">\n",
       "  <thead>\n",
       "    <tr style=\"text-align: right;\">\n",
       "      <th>country</th>\n",
       "      <th>UK</th>\n",
       "      <th>USA</th>\n",
       "      <th>Ukraine</th>\n",
       "      <th>United Arab Emirates</th>\n",
       "      <th>Uruguay</th>\n",
       "    </tr>\n",
       "    <tr>\n",
       "      <th>title</th>\n",
       "      <th></th>\n",
       "      <th></th>\n",
       "      <th></th>\n",
       "      <th></th>\n",
       "      <th></th>\n",
       "    </tr>\n",
       "  </thead>\n",
       "  <tbody>\n",
       "    <tr>\n",
       "      <th>Star Wars: Episode I - The Phantom Menace</th>\n",
       "      <td>1999-07-16</td>\n",
       "      <td>1999-05-19</td>\n",
       "      <td>NaT</td>\n",
       "      <td>1999-08-25</td>\n",
       "      <td>1999-07-02</td>\n",
       "    </tr>\n",
       "    <tr>\n",
       "      <th>Star Wars: Episode II - Attack of the Clones</th>\n",
       "      <td>2002-05-16</td>\n",
       "      <td>2002-05-16</td>\n",
       "      <td>2002-06-08</td>\n",
       "      <td>2002-05-16</td>\n",
       "      <td>2002-07-05</td>\n",
       "    </tr>\n",
       "    <tr>\n",
       "      <th>Star Wars: Episode III - Revenge of the Sith</th>\n",
       "      <td>2005-05-19</td>\n",
       "      <td>2005-05-19</td>\n",
       "      <td>NaT</td>\n",
       "      <td>2005-05-19</td>\n",
       "      <td>NaT</td>\n",
       "    </tr>\n",
       "    <tr>\n",
       "      <th>Star Wars: Episode V - The Empire Strikes Back</th>\n",
       "      <td>1980-05-21</td>\n",
       "      <td>1980-06-20</td>\n",
       "      <td>NaT</td>\n",
       "      <td>NaT</td>\n",
       "      <td>1981-01-15</td>\n",
       "    </tr>\n",
       "    <tr>\n",
       "      <th>Star Wars: Episode VI - Return of the Jedi</th>\n",
       "      <td>1983-06-02</td>\n",
       "      <td>1983-05-25</td>\n",
       "      <td>NaT</td>\n",
       "      <td>NaT</td>\n",
       "      <td>NaT</td>\n",
       "    </tr>\n",
       "  </tbody>\n",
       "</table>\n",
       "</div>"
      ],
      "text/plain": [
       "country                                                UK        USA  \\\n",
       "title                                                                  \n",
       "Star Wars: Episode I - The Phantom Menace      1999-07-16 1999-05-19   \n",
       "Star Wars: Episode II - Attack of the Clones   2002-05-16 2002-05-16   \n",
       "Star Wars: Episode III - Revenge of the Sith   2005-05-19 2005-05-19   \n",
       "Star Wars: Episode V - The Empire Strikes Back 1980-05-21 1980-06-20   \n",
       "Star Wars: Episode VI - Return of the Jedi     1983-06-02 1983-05-25   \n",
       "\n",
       "country                                           Ukraine  \\\n",
       "title                                                       \n",
       "Star Wars: Episode I - The Phantom Menace             NaT   \n",
       "Star Wars: Episode II - Attack of the Clones   2002-06-08   \n",
       "Star Wars: Episode III - Revenge of the Sith          NaT   \n",
       "Star Wars: Episode V - The Empire Strikes Back        NaT   \n",
       "Star Wars: Episode VI - Return of the Jedi            NaT   \n",
       "\n",
       "country                                        United Arab Emirates    Uruguay  \n",
       "title                                                                           \n",
       "Star Wars: Episode I - The Phantom Menace                1999-08-25 1999-07-02  \n",
       "Star Wars: Episode II - Attack of the Clones             2002-05-16 2002-07-05  \n",
       "Star Wars: Episode III - Revenge of the Sith             2005-05-19        NaT  \n",
       "Star Wars: Episode V - The Empire Strikes Back                  NaT 1981-01-15  \n",
       "Star Wars: Episode VI - Return of the Jedi                      NaT        NaT  "
      ]
     },
     "execution_count": 15,
     "metadata": {},
     "output_type": "execute_result"
    }
   ],
   "source": [
    "p.pivot('title','country','date').head(5)\n",
    "#does a set index, a sort index and an unstack in a row\n",
    "#this is a frequent operation\n",
    "#but only works on 1 circumstance, so better to know set_index/sort_index/unstack\n",
    "#initially the index is the line number"
   ]
  },
  {
   "cell_type": "code",
   "execution_count": null,
   "metadata": {
    "collapsed": true
   },
   "outputs": [],
   "source": []
  },
  {
   "cell_type": "code",
   "execution_count": null,
   "metadata": {
    "collapsed": true
   },
   "outputs": [],
   "source": []
  },
  {
   "cell_type": "code",
   "execution_count": null,
   "metadata": {
    "collapsed": true
   },
   "outputs": [],
   "source": []
  },
  {
   "cell_type": "code",
   "execution_count": null,
   "metadata": {
    "collapsed": true
   },
   "outputs": [],
   "source": []
  },
  {
   "cell_type": "code",
   "execution_count": null,
   "metadata": {
    "collapsed": true
   },
   "outputs": [],
   "source": []
  },
  {
   "cell_type": "code",
   "execution_count": null,
   "metadata": {
    "collapsed": true
   },
   "outputs": [],
   "source": []
  },
  {
   "cell_type": "code",
   "execution_count": null,
   "metadata": {
    "collapsed": true
   },
   "outputs": [],
   "source": []
  },
  {
   "cell_type": "markdown",
   "metadata": {
    "collapsed": true
   },
   "source": [
    "### Make a bar plot of the months in which movies with \"Christmas\" in their title tend to be released in the USA."
   ]
  },
  {
   "cell_type": "code",
   "execution_count": 16,
   "metadata": {
    "collapsed": false
   },
   "outputs": [
    {
     "data": {
      "text/html": [
       "<div>\n",
       "<table border=\"1\" class=\"dataframe\">\n",
       "  <thead>\n",
       "    <tr style=\"text-align: right;\">\n",
       "      <th></th>\n",
       "      <th>title</th>\n",
       "      <th>year</th>\n",
       "      <th>country</th>\n",
       "      <th>date</th>\n",
       "    </tr>\n",
       "  </thead>\n",
       "  <tbody>\n",
       "    <tr>\n",
       "      <th>1003</th>\n",
       "      <td>12 Dog Days of Christmas</td>\n",
       "      <td>2014</td>\n",
       "      <td>USA</td>\n",
       "      <td>2014-11-28</td>\n",
       "    </tr>\n",
       "    <tr>\n",
       "      <th>1004</th>\n",
       "      <td>12 Dogs of Christmas: Great Puppy Rescue</td>\n",
       "      <td>2012</td>\n",
       "      <td>USA</td>\n",
       "      <td>2012-10-09</td>\n",
       "    </tr>\n",
       "    <tr>\n",
       "      <th>5247</th>\n",
       "      <td>A Belle for Christmas</td>\n",
       "      <td>2014</td>\n",
       "      <td>USA</td>\n",
       "      <td>2014-11-04</td>\n",
       "    </tr>\n",
       "  </tbody>\n",
       "</table>\n",
       "</div>"
      ],
      "text/plain": [
       "                                         title  year country       date\n",
       "1003                  12 Dog Days of Christmas  2014     USA 2014-11-28\n",
       "1004  12 Dogs of Christmas: Great Puppy Rescue  2012     USA 2012-10-09\n",
       "5247                     A Belle for Christmas  2014     USA 2014-11-04"
      ]
     },
     "execution_count": 16,
     "metadata": {},
     "output_type": "execute_result"
    }
   ],
   "source": [
    "xmas = release_dates[release_dates.title.str.contains('Christmas')]\n",
    "xmas.head(3)"
   ]
  },
  {
   "cell_type": "code",
   "execution_count": 17,
   "metadata": {
    "collapsed": false
   },
   "outputs": [
    {
     "name": "stderr",
     "output_type": "stream",
     "text": [
      "C:\\Anaconda3\\lib\\site-packages\\ipykernel\\__main__.py:1: SettingWithCopyWarning: \n",
      "A value is trying to be set on a copy of a slice from a DataFrame.\n",
      "Try using .loc[row_indexer,col_indexer] = value instead\n",
      "\n",
      "See the caveats in the documentation: http://pandas.pydata.org/pandas-docs/stable/indexing.html#indexing-view-versus-copy\n",
      "  if __name__ == '__main__':\n"
     ]
    }
   ],
   "source": [
    "xmas['month_of_year'] = xmas.date.dt.month"
   ]
  },
  {
   "cell_type": "code",
   "execution_count": 18,
   "metadata": {
    "collapsed": false
   },
   "outputs": [
    {
     "data": {
      "text/html": [
       "<div>\n",
       "<table border=\"1\" class=\"dataframe\">\n",
       "  <thead>\n",
       "    <tr style=\"text-align: right;\">\n",
       "      <th></th>\n",
       "      <th>title</th>\n",
       "      <th>year</th>\n",
       "      <th>country</th>\n",
       "      <th>date</th>\n",
       "      <th>month_of_year</th>\n",
       "    </tr>\n",
       "  </thead>\n",
       "  <tbody>\n",
       "    <tr>\n",
       "      <th>1003</th>\n",
       "      <td>12 Dog Days of Christmas</td>\n",
       "      <td>2014</td>\n",
       "      <td>USA</td>\n",
       "      <td>2014-11-28</td>\n",
       "      <td>11</td>\n",
       "    </tr>\n",
       "    <tr>\n",
       "      <th>1004</th>\n",
       "      <td>12 Dogs of Christmas: Great Puppy Rescue</td>\n",
       "      <td>2012</td>\n",
       "      <td>USA</td>\n",
       "      <td>2012-10-09</td>\n",
       "      <td>10</td>\n",
       "    </tr>\n",
       "    <tr>\n",
       "      <th>5247</th>\n",
       "      <td>A Belle for Christmas</td>\n",
       "      <td>2014</td>\n",
       "      <td>USA</td>\n",
       "      <td>2014-11-04</td>\n",
       "      <td>11</td>\n",
       "    </tr>\n",
       "  </tbody>\n",
       "</table>\n",
       "</div>"
      ],
      "text/plain": [
       "                                         title  year country       date  \\\n",
       "1003                  12 Dog Days of Christmas  2014     USA 2014-11-28   \n",
       "1004  12 Dogs of Christmas: Great Puppy Rescue  2012     USA 2012-10-09   \n",
       "5247                     A Belle for Christmas  2014     USA 2014-11-04   \n",
       "\n",
       "      month_of_year  \n",
       "1003             11  \n",
       "1004             10  \n",
       "5247             11  "
      ]
     },
     "execution_count": 18,
     "metadata": {},
     "output_type": "execute_result"
    }
   ],
   "source": [
    "xmas.head(3)"
   ]
  },
  {
   "cell_type": "code",
   "execution_count": 19,
   "metadata": {
    "collapsed": false
   },
   "outputs": [
    {
     "data": {
      "text/plain": [
       "month_of_year\n",
       "1      14\n",
       "2       5\n",
       "3       4\n",
       "4       5\n",
       "5       8\n",
       "6       8\n",
       "7       2\n",
       "8       7\n",
       "9       7\n",
       "10     22\n",
       "11    175\n",
       "12    321\n",
       "dtype: int64"
      ]
     },
     "execution_count": 19,
     "metadata": {},
     "output_type": "execute_result"
    }
   ],
   "source": [
    "xmas.groupby(xmas.month_of_year).size()"
   ]
  },
  {
   "cell_type": "code",
   "execution_count": 84,
   "metadata": {
    "collapsed": false
   },
   "outputs": [
    {
     "data": {
      "text/plain": [
       "<matplotlib.axes._subplots.AxesSubplot at 0xc452748>"
      ]
     },
     "execution_count": 84,
     "metadata": {},
     "output_type": "execute_result"
    },
    {
     "data": {
      "image/png": "[encoded data removed]",
      "text/plain": [
       "<matplotlib.figure.Figure at 0xc459668>"
      ]
     },
     "metadata": {},
     "output_type": "display_data"
    }
   ],
   "source": [
    "xmas.groupby(xmas.month_of_year).size().plot(kind='bar') #my solution"
   ]
  },
  {
   "cell_type": "code",
   "execution_count": 85,
   "metadata": {
    "collapsed": false
   },
   "outputs": [
    {
     "data": {
      "text/plain": [
       "<matplotlib.axes._subplots.AxesSubplot at 0xc4c0978>"
      ]
     },
     "execution_count": 85,
     "metadata": {},
     "output_type": "execute_result"
    },
    {
     "data": {
      "image/png": "[encoded data removed]",
      "text/plain": [
       "<matplotlib.figure.Figure at 0xc4f9ba8>"
      ]
     },
     "metadata": {},
     "output_type": "display_data"
    }
   ],
   "source": [
    "xmas.date.dt.month.value_counts().sort_index().plot(kind='bar')  #suggested solution"
   ]
  },
  {
   "cell_type": "code",
   "execution_count": null,
   "metadata": {
    "collapsed": true
   },
   "outputs": [],
   "source": []
  },
  {
   "cell_type": "markdown",
   "metadata": {
    "collapsed": true
   },
   "source": [
    "### Make a bar plot of the months in which movies whose titles start with \"The Hobbit\" are released in the USA."
   ]
  },
  {
   "cell_type": "code",
   "execution_count": 21,
   "metadata": {
    "collapsed": false
   },
   "outputs": [
    {
     "data": {
      "text/html": [
       "<div>\n",
       "<table border=\"1\" class=\"dataframe\">\n",
       "  <thead>\n",
       "    <tr style=\"text-align: right;\">\n",
       "      <th></th>\n",
       "      <th>title</th>\n",
       "      <th>year</th>\n",
       "      <th>country</th>\n",
       "      <th>date</th>\n",
       "    </tr>\n",
       "  </thead>\n",
       "  <tbody>\n",
       "    <tr>\n",
       "      <th>323642</th>\n",
       "      <td>The Hobbit: An Unexpected Journey</td>\n",
       "      <td>2012</td>\n",
       "      <td>USA</td>\n",
       "      <td>2012-12-14</td>\n",
       "    </tr>\n",
       "    <tr>\n",
       "      <th>323707</th>\n",
       "      <td>The Hobbit: The Battle of the Five Armies</td>\n",
       "      <td>2014</td>\n",
       "      <td>USA</td>\n",
       "      <td>2014-12-17</td>\n",
       "    </tr>\n",
       "    <tr>\n",
       "      <th>323776</th>\n",
       "      <td>The Hobbit: The Desolation of Smaug</td>\n",
       "      <td>2013</td>\n",
       "      <td>USA</td>\n",
       "      <td>2013-12-13</td>\n",
       "    </tr>\n",
       "  </tbody>\n",
       "</table>\n",
       "</div>"
      ],
      "text/plain": [
       "                                            title  year country       date\n",
       "323642          The Hobbit: An Unexpected Journey  2012     USA 2012-12-14\n",
       "323707  The Hobbit: The Battle of the Five Armies  2014     USA 2014-12-17\n",
       "323776        The Hobbit: The Desolation of Smaug  2013     USA 2013-12-13"
      ]
     },
     "execution_count": 21,
     "metadata": {},
     "output_type": "execute_result"
    }
   ],
   "source": [
    "hobbit = release_dates[release_dates.title.str.startswith('The Hobbit') & (release_dates.country == 'USA')]\n",
    "hobbit.head(3)"
   ]
  },
  {
   "cell_type": "code",
   "execution_count": 47,
   "metadata": {
    "collapsed": false
   },
   "outputs": [
    {
     "data": {
      "text/html": [
       "<div>\n",
       "<table border=\"1\" class=\"dataframe\">\n",
       "  <thead>\n",
       "    <tr style=\"text-align: right;\">\n",
       "      <th></th>\n",
       "      <th>title</th>\n",
       "      <th>year</th>\n",
       "      <th>country</th>\n",
       "      <th>date</th>\n",
       "      <th>month_of_year</th>\n",
       "    </tr>\n",
       "  </thead>\n",
       "  <tbody>\n",
       "    <tr>\n",
       "      <th>323642</th>\n",
       "      <td>The Hobbit: An Unexpected Journey</td>\n",
       "      <td>2012</td>\n",
       "      <td>USA</td>\n",
       "      <td>2012-12-14</td>\n",
       "      <td>12</td>\n",
       "    </tr>\n",
       "    <tr>\n",
       "      <th>323707</th>\n",
       "      <td>The Hobbit: The Battle of the Five Armies</td>\n",
       "      <td>2014</td>\n",
       "      <td>USA</td>\n",
       "      <td>2014-12-17</td>\n",
       "      <td>12</td>\n",
       "    </tr>\n",
       "    <tr>\n",
       "      <th>323776</th>\n",
       "      <td>The Hobbit: The Desolation of Smaug</td>\n",
       "      <td>2013</td>\n",
       "      <td>USA</td>\n",
       "      <td>2013-12-13</td>\n",
       "      <td>12</td>\n",
       "    </tr>\n",
       "  </tbody>\n",
       "</table>\n",
       "</div>"
      ],
      "text/plain": [
       "                                            title  year country       date  \\\n",
       "323642          The Hobbit: An Unexpected Journey  2012     USA 2012-12-14   \n",
       "323707  The Hobbit: The Battle of the Five Armies  2014     USA 2014-12-17   \n",
       "323776        The Hobbit: The Desolation of Smaug  2013     USA 2013-12-13   \n",
       "\n",
       "        month_of_year  \n",
       "323642             12  \n",
       "323707             12  \n",
       "323776             12  "
      ]
     },
     "execution_count": 47,
     "metadata": {},
     "output_type": "execute_result"
    }
   ],
   "source": [
    "hobbit.month = hobbit.date.dt.month\n",
    "hobbit.head(3)"
   ]
  },
  {
   "cell_type": "code",
   "execution_count": 77,
   "metadata": {
    "collapsed": false
   },
   "outputs": [
    {
     "data": {
      "text/plain": [
       "<matplotlib.axes._subplots.AxesSubplot at 0xc2c6b00>"
      ]
     },
     "execution_count": 77,
     "metadata": {},
     "output_type": "execute_result"
    },
    {
     "data": {
      "image/png": "[encoded data removed]",
      "text/plain": [
       "<matplotlib.figure.Figure at 0xc2fd6d8>"
      ]
     },
     "metadata": {},
     "output_type": "display_data"
    }
   ],
   "source": [
    "hobbit.month_of_year.value_counts().plot(kind='bar')"
   ]
  },
  {
   "cell_type": "markdown",
   "metadata": {
    "collapsed": true
   },
   "source": [
    "### Make a bar plot of the day of the week on which movies with \"Romance\" in their title tend to be released in the USA."
   ]
  },
  {
   "cell_type": "code",
   "execution_count": 25,
   "metadata": {
    "collapsed": false
   },
   "outputs": [
    {
     "data": {
      "text/html": [
       "<div>\n",
       "<table border=\"1\" class=\"dataframe\">\n",
       "  <thead>\n",
       "    <tr style=\"text-align: right;\">\n",
       "      <th></th>\n",
       "      <th>title</th>\n",
       "      <th>year</th>\n",
       "      <th>country</th>\n",
       "      <th>date</th>\n",
       "    </tr>\n",
       "  </thead>\n",
       "  <tbody>\n",
       "    <tr>\n",
       "      <th>0</th>\n",
       "      <td>#73, Shaanthi Nivaasa</td>\n",
       "      <td>2007</td>\n",
       "      <td>India</td>\n",
       "      <td>2007-06-15</td>\n",
       "    </tr>\n",
       "    <tr>\n",
       "      <th>1</th>\n",
       "      <td>#AnonOccupy: Bio of a Villain</td>\n",
       "      <td>2015</td>\n",
       "      <td>USA</td>\n",
       "      <td>2015-11-05</td>\n",
       "    </tr>\n",
       "  </tbody>\n",
       "</table>\n",
       "</div>"
      ],
      "text/plain": [
       "                           title  year country       date\n",
       "0          #73, Shaanthi Nivaasa  2007   India 2007-06-15\n",
       "1  #AnonOccupy: Bio of a Villain  2015     USA 2015-11-05"
      ]
     },
     "execution_count": 25,
     "metadata": {},
     "output_type": "execute_result"
    }
   ],
   "source": [
    "release_dates.head(2)"
   ]
  },
  {
   "cell_type": "code",
   "execution_count": 26,
   "metadata": {
    "collapsed": false
   },
   "outputs": [],
   "source": [
    "r1 = release_dates[release_dates.title.str.contains('Romance')]"
   ]
  },
  {
   "cell_type": "code",
   "execution_count": 27,
   "metadata": {
    "collapsed": false
   },
   "outputs": [
    {
     "name": "stderr",
     "output_type": "stream",
     "text": [
      "C:\\Anaconda3\\lib\\site-packages\\ipykernel\\__main__.py:1: SettingWithCopyWarning: \n",
      "A value is trying to be set on a copy of a slice from a DataFrame.\n",
      "Try using .loc[row_indexer,col_indexer] = value instead\n",
      "\n",
      "See the caveats in the documentation: http://pandas.pydata.org/pandas-docs/stable/indexing.html#indexing-view-versus-copy\n",
      "  if __name__ == '__main__':\n"
     ]
    }
   ],
   "source": [
    "r1['day'] = r1.date.dt.dayofweek"
   ]
  },
  {
   "cell_type": "code",
   "execution_count": 28,
   "metadata": {
    "collapsed": false
   },
   "outputs": [
    {
     "data": {
      "text/html": [
       "<div>\n",
       "<table border=\"1\" class=\"dataframe\">\n",
       "  <thead>\n",
       "    <tr style=\"text-align: right;\">\n",
       "      <th></th>\n",
       "      <th>title</th>\n",
       "      <th>year</th>\n",
       "      <th>country</th>\n",
       "      <th>date</th>\n",
       "      <th>day</th>\n",
       "    </tr>\n",
       "  </thead>\n",
       "  <tbody>\n",
       "    <tr>\n",
       "      <th>765</th>\n",
       "      <td>100% OFF: A Recession-Era Romance</td>\n",
       "      <td>2012</td>\n",
       "      <td>USA</td>\n",
       "      <td>2012-07-04</td>\n",
       "      <td>2</td>\n",
       "    </tr>\n",
       "    <tr>\n",
       "      <th>5291</th>\n",
       "      <td>A Blue Gum Romance</td>\n",
       "      <td>1913</td>\n",
       "      <td>Australia</td>\n",
       "      <td>1913-09-20</td>\n",
       "      <td>5</td>\n",
       "    </tr>\n",
       "    <tr>\n",
       "      <th>5460</th>\n",
       "      <td>A California Romance</td>\n",
       "      <td>1922</td>\n",
       "      <td>USA</td>\n",
       "      <td>1922-12-24</td>\n",
       "      <td>6</td>\n",
       "    </tr>\n",
       "    <tr>\n",
       "      <th>5671</th>\n",
       "      <td>A Circus Romance</td>\n",
       "      <td>1916</td>\n",
       "      <td>USA</td>\n",
       "      <td>1916-01-24</td>\n",
       "      <td>0</td>\n",
       "    </tr>\n",
       "    <tr>\n",
       "      <th>5794</th>\n",
       "      <td>A Crooked Romance</td>\n",
       "      <td>1917</td>\n",
       "      <td>USA</td>\n",
       "      <td>1917-09-30</td>\n",
       "      <td>6</td>\n",
       "    </tr>\n",
       "  </tbody>\n",
       "</table>\n",
       "</div>"
      ],
      "text/plain": [
       "                                  title  year    country       date  day\n",
       "765   100% OFF: A Recession-Era Romance  2012        USA 2012-07-04    2\n",
       "5291                 A Blue Gum Romance  1913  Australia 1913-09-20    5\n",
       "5460               A California Romance  1922        USA 1922-12-24    6\n",
       "5671                   A Circus Romance  1916        USA 1916-01-24    0\n",
       "5794                  A Crooked Romance  1917        USA 1917-09-30    6"
      ]
     },
     "execution_count": 28,
     "metadata": {},
     "output_type": "execute_result"
    }
   ],
   "source": [
    "r1.head()"
   ]
  },
  {
   "cell_type": "code",
   "execution_count": 29,
   "metadata": {
    "collapsed": true
   },
   "outputs": [],
   "source": [
    "import calendar"
   ]
  },
  {
   "cell_type": "code",
   "execution_count": 30,
   "metadata": {
    "collapsed": false
   },
   "outputs": [
    {
     "data": {
      "text/plain": [
       "day\n",
       "0    56\n",
       "1    13\n",
       "2    32\n",
       "3    48\n",
       "4    88\n",
       "5    16\n",
       "6    44\n",
       "dtype: int64"
      ]
     },
     "execution_count": 30,
     "metadata": {},
     "output_type": "execute_result"
    }
   ],
   "source": [
    "r1.groupby('day').size()"
   ]
  },
  {
   "cell_type": "code",
   "execution_count": 31,
   "metadata": {
    "collapsed": false
   },
   "outputs": [
    {
     "data": {
      "text/plain": [
       "<matplotlib.axes._subplots.AxesSubplot at 0x94342b0>"
      ]
     },
     "execution_count": 31,
     "metadata": {},
     "output_type": "execute_result"
    },
    {
     "data": {
      "image/png": "[encoded data removed]",
      "text/plain": [
       "<matplotlib.figure.Figure at 0x873bb00>"
      ]
     },
     "metadata": {},
     "output_type": "display_data"
    }
   ],
   "source": [
    "r1.groupby('day').size().plot(kind='bar')  #way 1"
   ]
  },
  {
   "cell_type": "code",
   "execution_count": 107,
   "metadata": {
    "collapsed": false
   },
   "outputs": [
    {
     "data": {
      "text/plain": [
       "<matplotlib.axes._subplots.AxesSubplot at 0xcbcbd30>"
      ]
     },
     "execution_count": 107,
     "metadata": {},
     "output_type": "execute_result"
    },
    {
     "data": {
      "image/png": "[encoded data removed]",
      "text/plain": [
       "<matplotlib.figure.Figure at 0xcc46b38>"
      ]
     },
     "metadata": {},
     "output_type": "display_data"
    }
   ],
   "source": [
    "r1.day.value_counts().sort_index().plot(kind='bar') #way 2"
   ]
  },
  {
   "cell_type": "markdown",
   "metadata": {
    "collapsed": true
   },
   "source": [
    "### Make a bar plot of the day of the week on which movies with \"Action\" in their title tend to be released in the USA."
   ]
  },
  {
   "cell_type": "code",
   "execution_count": 32,
   "metadata": {
    "collapsed": false
   },
   "outputs": [
    {
     "data": {
      "text/html": [
       "<div>\n",
       "<table border=\"1\" class=\"dataframe\">\n",
       "  <thead>\n",
       "    <tr style=\"text-align: right;\">\n",
       "      <th></th>\n",
       "      <th>title</th>\n",
       "      <th>year</th>\n",
       "      <th>country</th>\n",
       "      <th>date</th>\n",
       "    </tr>\n",
       "  </thead>\n",
       "  <tbody>\n",
       "    <tr>\n",
       "      <th>5674</th>\n",
       "      <td>A Civil Action</td>\n",
       "      <td>1998</td>\n",
       "      <td>USA</td>\n",
       "      <td>1999-01-08</td>\n",
       "    </tr>\n",
       "    <tr>\n",
       "      <th>7477</th>\n",
       "      <td>A Man of Action</td>\n",
       "      <td>1923</td>\n",
       "      <td>USA</td>\n",
       "      <td>1923-06-03</td>\n",
       "    </tr>\n",
       "    <tr>\n",
       "      <th>11535</th>\n",
       "      <td>Ace of Action</td>\n",
       "      <td>1926</td>\n",
       "      <td>USA</td>\n",
       "      <td>1926-11-28</td>\n",
       "    </tr>\n",
       "    <tr>\n",
       "      <th>11768</th>\n",
       "      <td>Action</td>\n",
       "      <td>1921</td>\n",
       "      <td>USA</td>\n",
       "      <td>1921-09-12</td>\n",
       "    </tr>\n",
       "    <tr>\n",
       "      <th>11774</th>\n",
       "      <td>Action Galore</td>\n",
       "      <td>1925</td>\n",
       "      <td>USA</td>\n",
       "      <td>1925-11-03</td>\n",
       "    </tr>\n",
       "  </tbody>\n",
       "</table>\n",
       "</div>"
      ],
      "text/plain": [
       "                 title  year country       date\n",
       "5674    A Civil Action  1998     USA 1999-01-08\n",
       "7477   A Man of Action  1923     USA 1923-06-03\n",
       "11535    Ace of Action  1926     USA 1926-11-28\n",
       "11768           Action  1921     USA 1921-09-12\n",
       "11774    Action Galore  1925     USA 1925-11-03"
      ]
     },
     "execution_count": 32,
     "metadata": {},
     "output_type": "execute_result"
    }
   ],
   "source": [
    "action = release_dates[(release_dates.title.str.contains('Action')) & (release_dates.country == 'USA')]\n",
    "action.head(5)"
   ]
  },
  {
   "cell_type": "code",
   "execution_count": 110,
   "metadata": {
    "collapsed": false
   },
   "outputs": [
    {
     "data": {
      "text/plain": [
       "<matplotlib.axes._subplots.AxesSubplot at 0xccbbe48>"
      ]
     },
     "execution_count": 110,
     "metadata": {},
     "output_type": "execute_result"
    },
    {
     "data": {
      "image/png": "[encoded data removed]",
      "text/plain": [
       "<matplotlib.figure.Figure at 0xc4cc518>"
      ]
     },
     "metadata": {},
     "output_type": "display_data"
    }
   ],
   "source": [
    "action.date.dt.dayofweek.value_counts().sort_index().plot(kind='bar')"
   ]
  },
  {
   "cell_type": "markdown",
   "metadata": {
    "collapsed": true
   },
   "source": [
    "### On which date was each Judi Dench movie from the 1990s released in the USA?"
   ]
  },
  {
   "cell_type": "code",
   "execution_count": 38,
   "metadata": {
    "collapsed": false
   },
   "outputs": [
    {
     "data": {
      "text/html": [
       "<div>\n",
       "<table border=\"1\" class=\"dataframe\">\n",
       "  <thead>\n",
       "    <tr style=\"text-align: right;\">\n",
       "      <th></th>\n",
       "      <th>title</th>\n",
       "      <th>year</th>\n",
       "      <th>country</th>\n",
       "      <th>date</th>\n",
       "    </tr>\n",
       "  </thead>\n",
       "  <tbody>\n",
       "    <tr>\n",
       "      <th>0</th>\n",
       "      <td>#73, Shaanthi Nivaasa</td>\n",
       "      <td>2007</td>\n",
       "      <td>India</td>\n",
       "      <td>2007-06-15</td>\n",
       "    </tr>\n",
       "    <tr>\n",
       "      <th>1</th>\n",
       "      <td>#AnonOccupy: Bio of a Villain</td>\n",
       "      <td>2015</td>\n",
       "      <td>USA</td>\n",
       "      <td>2015-11-05</td>\n",
       "    </tr>\n",
       "    <tr>\n",
       "      <th>2</th>\n",
       "      <td>#Beings</td>\n",
       "      <td>2015</td>\n",
       "      <td>Romania</td>\n",
       "      <td>2015-01-29</td>\n",
       "    </tr>\n",
       "  </tbody>\n",
       "</table>\n",
       "</div>"
      ],
      "text/plain": [
       "                           title  year  country       date\n",
       "0          #73, Shaanthi Nivaasa  2007    India 2007-06-15\n",
       "1  #AnonOccupy: Bio of a Villain  2015      USA 2015-11-05\n",
       "2                        #Beings  2015  Romania 2015-01-29"
      ]
     },
     "execution_count": 38,
     "metadata": {},
     "output_type": "execute_result"
    }
   ],
   "source": [
    "release_dates.head(3)"
   ]
  },
  {
   "cell_type": "code",
   "execution_count": 114,
   "metadata": {
    "collapsed": false
   },
   "outputs": [
    {
     "data": {
      "text/html": [
       "<div>\n",
       "<table border=\"1\" class=\"dataframe\">\n",
       "  <thead>\n",
       "    <tr style=\"text-align: right;\">\n",
       "      <th></th>\n",
       "      <th>title</th>\n",
       "      <th>year</th>\n",
       "      <th>name</th>\n",
       "      <th>type</th>\n",
       "      <th>character</th>\n",
       "      <th>n</th>\n",
       "    </tr>\n",
       "  </thead>\n",
       "  <tbody>\n",
       "    <tr>\n",
       "      <th>2449996</th>\n",
       "      <td>GoldenEye</td>\n",
       "      <td>1995</td>\n",
       "      <td>Judi Dench</td>\n",
       "      <td>actress</td>\n",
       "      <td>M</td>\n",
       "      <td>6</td>\n",
       "    </tr>\n",
       "    <tr>\n",
       "      <th>2449997</th>\n",
       "      <td>Hamlet</td>\n",
       "      <td>1996</td>\n",
       "      <td>Judi Dench</td>\n",
       "      <td>actress</td>\n",
       "      <td>Hecuba</td>\n",
       "      <td>12</td>\n",
       "    </tr>\n",
       "    <tr>\n",
       "      <th>2450003</th>\n",
       "      <td>Jack &amp; Sarah</td>\n",
       "      <td>1995</td>\n",
       "      <td>Judi Dench</td>\n",
       "      <td>actress</td>\n",
       "      <td>Margaret</td>\n",
       "      <td>3</td>\n",
       "    </tr>\n",
       "    <tr>\n",
       "      <th>2450008</th>\n",
       "      <td>Mrs Brown</td>\n",
       "      <td>1997</td>\n",
       "      <td>Judi Dench</td>\n",
       "      <td>actress</td>\n",
       "      <td>Queen Victoria</td>\n",
       "      <td>1</td>\n",
       "    </tr>\n",
       "    <tr>\n",
       "      <th>2450020</th>\n",
       "      <td>Shakespeare in Love</td>\n",
       "      <td>1998</td>\n",
       "      <td>Judi Dench</td>\n",
       "      <td>actress</td>\n",
       "      <td>Queen Elizabeth</td>\n",
       "      <td>12</td>\n",
       "    </tr>\n",
       "    <tr>\n",
       "      <th>2450023</th>\n",
       "      <td>Tea with Mussolini</td>\n",
       "      <td>1999</td>\n",
       "      <td>Judi Dench</td>\n",
       "      <td>actress</td>\n",
       "      <td>Arabella</td>\n",
       "      <td>2</td>\n",
       "    </tr>\n",
       "    <tr>\n",
       "      <th>2450031</th>\n",
       "      <td>The World Is Not Enough</td>\n",
       "      <td>1999</td>\n",
       "      <td>Judi Dench</td>\n",
       "      <td>actress</td>\n",
       "      <td>M</td>\n",
       "      <td>6</td>\n",
       "    </tr>\n",
       "    <tr>\n",
       "      <th>2450032</th>\n",
       "      <td>Tomorrow Never Dies</td>\n",
       "      <td>1997</td>\n",
       "      <td>Judi Dench</td>\n",
       "      <td>actress</td>\n",
       "      <td>M</td>\n",
       "      <td>9</td>\n",
       "    </tr>\n",
       "  </tbody>\n",
       "</table>\n",
       "</div>"
      ],
      "text/plain": [
       "                           title  year        name     type        character  \\\n",
       "2449996                GoldenEye  1995  Judi Dench  actress                M   \n",
       "2449997                   Hamlet  1996  Judi Dench  actress           Hecuba   \n",
       "2450003             Jack & Sarah  1995  Judi Dench  actress         Margaret   \n",
       "2450008                Mrs Brown  1997  Judi Dench  actress   Queen Victoria   \n",
       "2450020      Shakespeare in Love  1998  Judi Dench  actress  Queen Elizabeth   \n",
       "2450023       Tea with Mussolini  1999  Judi Dench  actress         Arabella   \n",
       "2450031  The World Is Not Enough  1999  Judi Dench  actress                M   \n",
       "2450032      Tomorrow Never Dies  1997  Judi Dench  actress                M   \n",
       "\n",
       "          n  \n",
       "2449996   6  \n",
       "2449997  12  \n",
       "2450003   3  \n",
       "2450008   1  \n",
       "2450020  12  \n",
       "2450023   2  \n",
       "2450031   6  \n",
       "2450032   9  "
      ]
     },
     "execution_count": 114,
     "metadata": {},
     "output_type": "execute_result"
    }
   ],
   "source": [
    "judi = cast[ (cast.name == 'Judi Dench') & (cast.year >= 1990) & (cast.year < 2000) ]\n",
    "judi.head(10)"
   ]
  },
  {
   "cell_type": "code",
   "execution_count": 133,
   "metadata": {
    "collapsed": false
   },
   "outputs": [
    {
     "data": {
      "text/html": [
       "<div>\n",
       "<table border=\"1\" class=\"dataframe\">\n",
       "  <thead>\n",
       "    <tr style=\"text-align: right;\">\n",
       "      <th></th>\n",
       "      <th>title</th>\n",
       "      <th>year</th>\n",
       "      <th>name</th>\n",
       "      <th>type</th>\n",
       "      <th>character</th>\n",
       "      <th>n</th>\n",
       "      <th>country</th>\n",
       "      <th>date</th>\n",
       "    </tr>\n",
       "  </thead>\n",
       "  <tbody>\n",
       "    <tr>\n",
       "      <th>0</th>\n",
       "      <td>GoldenEye</td>\n",
       "      <td>1995</td>\n",
       "      <td>Judi Dench</td>\n",
       "      <td>actress</td>\n",
       "      <td>M</td>\n",
       "      <td>6</td>\n",
       "      <td>USA</td>\n",
       "      <td>1995-11-17</td>\n",
       "    </tr>\n",
       "    <tr>\n",
       "      <th>1</th>\n",
       "      <td>Hamlet</td>\n",
       "      <td>1996</td>\n",
       "      <td>Judi Dench</td>\n",
       "      <td>actress</td>\n",
       "      <td>Hecuba</td>\n",
       "      <td>12</td>\n",
       "      <td>USA</td>\n",
       "      <td>1996-12-25</td>\n",
       "    </tr>\n",
       "    <tr>\n",
       "      <th>2</th>\n",
       "      <td>Jack &amp; Sarah</td>\n",
       "      <td>1995</td>\n",
       "      <td>Judi Dench</td>\n",
       "      <td>actress</td>\n",
       "      <td>Margaret</td>\n",
       "      <td>3</td>\n",
       "      <td>USA</td>\n",
       "      <td>1996-03-22</td>\n",
       "    </tr>\n",
       "    <tr>\n",
       "      <th>3</th>\n",
       "      <td>Mrs Brown</td>\n",
       "      <td>1997</td>\n",
       "      <td>Judi Dench</td>\n",
       "      <td>actress</td>\n",
       "      <td>Queen Victoria</td>\n",
       "      <td>1</td>\n",
       "      <td>USA</td>\n",
       "      <td>1997-07-18</td>\n",
       "    </tr>\n",
       "    <tr>\n",
       "      <th>4</th>\n",
       "      <td>Shakespeare in Love</td>\n",
       "      <td>1998</td>\n",
       "      <td>Judi Dench</td>\n",
       "      <td>actress</td>\n",
       "      <td>Queen Elizabeth</td>\n",
       "      <td>12</td>\n",
       "      <td>USA</td>\n",
       "      <td>1999-01-08</td>\n",
       "    </tr>\n",
       "  </tbody>\n",
       "</table>\n",
       "</div>"
      ],
      "text/plain": [
       "                 title  year        name     type        character   n  \\\n",
       "0            GoldenEye  1995  Judi Dench  actress                M   6   \n",
       "1               Hamlet  1996  Judi Dench  actress           Hecuba  12   \n",
       "2         Jack & Sarah  1995  Judi Dench  actress         Margaret   3   \n",
       "3            Mrs Brown  1997  Judi Dench  actress   Queen Victoria   1   \n",
       "4  Shakespeare in Love  1998  Judi Dench  actress  Queen Elizabeth  12   \n",
       "\n",
       "  country       date  \n",
       "0     USA 1995-11-17  \n",
       "1     USA 1996-12-25  \n",
       "2     USA 1996-03-22  \n",
       "3     USA 1997-07-18  \n",
       "4     USA 1999-01-08  "
      ]
     },
     "execution_count": 133,
     "metadata": {},
     "output_type": "execute_result"
    }
   ],
   "source": [
    "judi = judi.merge(release_dates[release_dates.country == 'USA'])\n",
    "judi.head(5)"
   ]
  },
  {
   "cell_type": "code",
   "execution_count": 134,
   "metadata": {
    "collapsed": false
   },
   "outputs": [
    {
     "data": {
      "text/html": [
       "<div>\n",
       "<table border=\"1\" class=\"dataframe\">\n",
       "  <thead>\n",
       "    <tr style=\"text-align: right;\">\n",
       "      <th></th>\n",
       "      <th>title</th>\n",
       "      <th>date</th>\n",
       "    </tr>\n",
       "  </thead>\n",
       "  <tbody>\n",
       "    <tr>\n",
       "      <th>0</th>\n",
       "      <td>GoldenEye</td>\n",
       "      <td>1995-11-17</td>\n",
       "    </tr>\n",
       "    <tr>\n",
       "      <th>2</th>\n",
       "      <td>Jack &amp; Sarah</td>\n",
       "      <td>1996-03-22</td>\n",
       "    </tr>\n",
       "    <tr>\n",
       "      <th>1</th>\n",
       "      <td>Hamlet</td>\n",
       "      <td>1996-12-25</td>\n",
       "    </tr>\n",
       "    <tr>\n",
       "      <th>3</th>\n",
       "      <td>Mrs Brown</td>\n",
       "      <td>1997-07-18</td>\n",
       "    </tr>\n",
       "    <tr>\n",
       "      <th>7</th>\n",
       "      <td>Tomorrow Never Dies</td>\n",
       "      <td>1997-12-19</td>\n",
       "    </tr>\n",
       "    <tr>\n",
       "      <th>4</th>\n",
       "      <td>Shakespeare in Love</td>\n",
       "      <td>1999-01-08</td>\n",
       "    </tr>\n",
       "    <tr>\n",
       "      <th>5</th>\n",
       "      <td>Tea with Mussolini</td>\n",
       "      <td>1999-05-14</td>\n",
       "    </tr>\n",
       "    <tr>\n",
       "      <th>6</th>\n",
       "      <td>The World Is Not Enough</td>\n",
       "      <td>1999-11-19</td>\n",
       "    </tr>\n",
       "  </tbody>\n",
       "</table>\n",
       "</div>"
      ],
      "text/plain": [
       "                     title       date\n",
       "0                GoldenEye 1995-11-17\n",
       "2             Jack & Sarah 1996-03-22\n",
       "1                   Hamlet 1996-12-25\n",
       "3                Mrs Brown 1997-07-18\n",
       "7      Tomorrow Never Dies 1997-12-19\n",
       "4      Shakespeare in Love 1999-01-08\n",
       "5       Tea with Mussolini 1999-05-14\n",
       "6  The World Is Not Enough 1999-11-19"
      ]
     },
     "execution_count": 134,
     "metadata": {},
     "output_type": "execute_result"
    }
   ],
   "source": [
    "judi.sort_values('date')[['title','date']]"
   ]
  },
  {
   "cell_type": "markdown",
   "metadata": {
    "collapsed": true
   },
   "source": [
    "### In which months do films with Judi Dench tend to be released in the USA?"
   ]
  },
  {
   "cell_type": "code",
   "execution_count": 156,
   "metadata": {
    "collapsed": false
   },
   "outputs": [
    {
     "data": {
      "text/plain": [
       "51"
      ]
     },
     "execution_count": 156,
     "metadata": {},
     "output_type": "execute_result"
    }
   ],
   "source": [
    "judi2 = cast[(cast.name == 'Judi Dench')]\n",
    "len(judi2)"
   ]
  },
  {
   "cell_type": "code",
   "execution_count": 161,
   "metadata": {
    "collapsed": false
   },
   "outputs": [
    {
     "data": {
      "text/plain": [
       "32"
      ]
     },
     "execution_count": 161,
     "metadata": {},
     "output_type": "execute_result"
    }
   ],
   "source": [
    "judi2 = judi2.merge(release_dates[release_dates.country == 'USA'])\n",
    "len(judi2)"
   ]
  },
  {
   "cell_type": "code",
   "execution_count": 167,
   "metadata": {
    "collapsed": false
   },
   "outputs": [
    {
     "data": {
      "text/plain": [
       "<matplotlib.axes._subplots.AxesSubplot at 0xea1c400>"
      ]
     },
     "execution_count": 167,
     "metadata": {},
     "output_type": "execute_result"
    },
    {
     "data": {
      "image/png": "[encoded data removed]",
      "text/plain": [
       "<matplotlib.figure.Figure at 0xea24400>"
      ]
     },
     "metadata": {},
     "output_type": "display_data"
    }
   ],
   "source": [
    "judi2.date.dt.month.value_counts().sort_index().plot(kind='bar')"
   ]
  },
  {
   "cell_type": "code",
   "execution_count": null,
   "metadata": {
    "collapsed": true
   },
   "outputs": [],
   "source": []
  },
  {
   "cell_type": "markdown",
   "metadata": {
    "collapsed": true
   },
   "source": [
    "### In which months do films with Tom Cruise tend to be released in the USA?"
   ]
  },
  {
   "cell_type": "code",
   "execution_count": 168,
   "metadata": {
    "collapsed": false
   },
   "outputs": [
    {
     "data": {
      "text/html": [
       "<div>\n",
       "<table border=\"1\" class=\"dataframe\">\n",
       "  <thead>\n",
       "    <tr style=\"text-align: right;\">\n",
       "      <th></th>\n",
       "      <th>title</th>\n",
       "      <th>year</th>\n",
       "      <th>name</th>\n",
       "      <th>type</th>\n",
       "      <th>character</th>\n",
       "      <th>n</th>\n",
       "    </tr>\n",
       "  </thead>\n",
       "  <tbody>\n",
       "    <tr>\n",
       "      <th>436527</th>\n",
       "      <td>A Few Good Men</td>\n",
       "      <td>1992</td>\n",
       "      <td>Tom Cruise</td>\n",
       "      <td>actor</td>\n",
       "      <td>Lt. Daniel Kaffee</td>\n",
       "      <td>1</td>\n",
       "    </tr>\n",
       "    <tr>\n",
       "      <th>436528</th>\n",
       "      <td>All the Right Moves</td>\n",
       "      <td>1983</td>\n",
       "      <td>Tom Cruise</td>\n",
       "      <td>actor</td>\n",
       "      <td>Stefen Djordjevic</td>\n",
       "      <td>1</td>\n",
       "    </tr>\n",
       "    <tr>\n",
       "      <th>436529</th>\n",
       "      <td>August</td>\n",
       "      <td>2008</td>\n",
       "      <td>Tom Cruise</td>\n",
       "      <td>actor</td>\n",
       "      <td>Himself</td>\n",
       "      <td>NaN</td>\n",
       "    </tr>\n",
       "    <tr>\n",
       "      <th>436530</th>\n",
       "      <td>Austin Powers in Goldmember</td>\n",
       "      <td>2002</td>\n",
       "      <td>Tom Cruise</td>\n",
       "      <td>actor</td>\n",
       "      <td>Himself</td>\n",
       "      <td>81</td>\n",
       "    </tr>\n",
       "    <tr>\n",
       "      <th>436531</th>\n",
       "      <td>Austin Powers in Goldmember</td>\n",
       "      <td>2002</td>\n",
       "      <td>Tom Cruise</td>\n",
       "      <td>actor</td>\n",
       "      <td>Famous Austin ('Austinpussy')</td>\n",
       "      <td>81</td>\n",
       "    </tr>\n",
       "  </tbody>\n",
       "</table>\n",
       "</div>"
      ],
      "text/plain": [
       "                              title  year        name   type  \\\n",
       "436527               A Few Good Men  1992  Tom Cruise  actor   \n",
       "436528          All the Right Moves  1983  Tom Cruise  actor   \n",
       "436529                       August  2008  Tom Cruise  actor   \n",
       "436530  Austin Powers in Goldmember  2002  Tom Cruise  actor   \n",
       "436531  Austin Powers in Goldmember  2002  Tom Cruise  actor   \n",
       "\n",
       "                            character   n  \n",
       "436527              Lt. Daniel Kaffee   1  \n",
       "436528              Stefen Djordjevic   1  \n",
       "436529                        Himself NaN  \n",
       "436530                        Himself  81  \n",
       "436531  Famous Austin ('Austinpussy')  81  "
      ]
     },
     "execution_count": 168,
     "metadata": {},
     "output_type": "execute_result"
    }
   ],
   "source": [
    "tom = cast[cast.name == 'Tom Cruise']\n",
    "tom.head(5)"
   ]
  },
  {
   "cell_type": "code",
   "execution_count": 169,
   "metadata": {
    "collapsed": false
   },
   "outputs": [
    {
     "data": {
      "text/html": [
       "<div>\n",
       "<table border=\"1\" class=\"dataframe\">\n",
       "  <thead>\n",
       "    <tr style=\"text-align: right;\">\n",
       "      <th></th>\n",
       "      <th>title</th>\n",
       "      <th>year</th>\n",
       "      <th>name</th>\n",
       "      <th>type</th>\n",
       "      <th>character</th>\n",
       "      <th>n</th>\n",
       "      <th>country</th>\n",
       "      <th>date</th>\n",
       "    </tr>\n",
       "  </thead>\n",
       "  <tbody>\n",
       "    <tr>\n",
       "      <th>0</th>\n",
       "      <td>A Few Good Men</td>\n",
       "      <td>1992</td>\n",
       "      <td>Tom Cruise</td>\n",
       "      <td>actor</td>\n",
       "      <td>Lt. Daniel Kaffee</td>\n",
       "      <td>1</td>\n",
       "      <td>USA</td>\n",
       "      <td>1992-12-11</td>\n",
       "    </tr>\n",
       "    <tr>\n",
       "      <th>1</th>\n",
       "      <td>All the Right Moves</td>\n",
       "      <td>1983</td>\n",
       "      <td>Tom Cruise</td>\n",
       "      <td>actor</td>\n",
       "      <td>Stefen Djordjevic</td>\n",
       "      <td>1</td>\n",
       "      <td>USA</td>\n",
       "      <td>1983-10-21</td>\n",
       "    </tr>\n",
       "    <tr>\n",
       "      <th>2</th>\n",
       "      <td>Austin Powers in Goldmember</td>\n",
       "      <td>2002</td>\n",
       "      <td>Tom Cruise</td>\n",
       "      <td>actor</td>\n",
       "      <td>Himself</td>\n",
       "      <td>81</td>\n",
       "      <td>USA</td>\n",
       "      <td>2002-07-26</td>\n",
       "    </tr>\n",
       "  </tbody>\n",
       "</table>\n",
       "</div>"
      ],
      "text/plain": [
       "                         title  year        name   type          character  \\\n",
       "0               A Few Good Men  1992  Tom Cruise  actor  Lt. Daniel Kaffee   \n",
       "1          All the Right Moves  1983  Tom Cruise  actor  Stefen Djordjevic   \n",
       "2  Austin Powers in Goldmember  2002  Tom Cruise  actor            Himself   \n",
       "\n",
       "    n country       date  \n",
       "0   1     USA 1992-12-11  \n",
       "1   1     USA 1983-10-21  \n",
       "2  81     USA 2002-07-26  "
      ]
     },
     "execution_count": 169,
     "metadata": {},
     "output_type": "execute_result"
    }
   ],
   "source": [
    "tom = tom.merge(release_dates[release_dates.country == 'USA'])\n",
    "tom.head(3)"
   ]
  },
  {
   "cell_type": "code",
   "execution_count": 174,
   "metadata": {
    "collapsed": false
   },
   "outputs": [
    {
     "data": {
      "text/plain": [
       "<matplotlib.axes._subplots.AxesSubplot at 0xeb20b70>"
      ]
     },
     "execution_count": 174,
     "metadata": {},
     "output_type": "execute_result"
    },
    {
     "data": {
      "image/png": "[encoded data removed]",
      "text/plain": [
       "<matplotlib.figure.Figure at 0xeb552e8>"
      ]
     },
     "metadata": {},
     "output_type": "display_data"
    }
   ],
   "source": [
    "tom.date.dt.month.value_counts().sort_index().plot(kind='bar')"
   ]
  },
  {
   "cell_type": "code",
   "execution_count": null,
   "metadata": {
    "collapsed": true
   },
   "outputs": [],
   "source": []
  },
  {
   "cell_type": "code",
   "execution_count": null,
   "metadata": {
    "collapsed": true
   },
   "outputs": [],
   "source": []
  },
  {
   "cell_type": "code",
   "execution_count": null,
   "metadata": {
    "collapsed": true
   },
   "outputs": [],
   "source": []
  },
  {
   "cell_type": "code",
   "execution_count": null,
   "metadata": {
    "collapsed": true
   },
   "outputs": [],
   "source": []
  },
  {
   "cell_type": "code",
   "execution_count": null,
   "metadata": {
    "collapsed": true
   },
   "outputs": [],
   "source": []
  },
  {
   "cell_type": "code",
   "execution_count": null,
   "metadata": {
    "collapsed": true
   },
   "outputs": [],
   "source": []
  },
  {
   "cell_type": "markdown",
   "metadata": {
    "collapsed": true
   },
   "source": [
    "### Extra queries"
   ]
  },
  {
   "cell_type": "code",
   "execution_count": 42,
   "metadata": {
    "collapsed": false
   },
   "outputs": [
    {
     "data": {
      "text/plain": [
       "country\n",
       "USA         40908\n",
       "France      22406\n",
       "Finland     18518\n",
       "Portugal    18151\n",
       "Sweden      16655\n",
       "dtype: int64"
      ]
     },
     "execution_count": 42,
     "metadata": {},
     "output_type": "execute_result"
    }
   ],
   "source": [
    "release_dates.groupby('country').size().sort_values(ascending=False).head()"
   ]
  },
  {
   "cell_type": "code",
   "execution_count": 43,
   "metadata": {
    "collapsed": false
   },
   "outputs": [
    {
     "name": "stderr",
     "output_type": "stream",
     "text": [
      "C:\\Anaconda3\\lib\\site-packages\\ipykernel\\__main__.py:2: SettingWithCopyWarning: \n",
      "A value is trying to be set on a copy of a slice from a DataFrame.\n",
      "Try using .loc[row_indexer,col_indexer] = value instead\n",
      "\n",
      "See the caveats in the documentation: http://pandas.pydata.org/pandas-docs/stable/indexing.html#indexing-view-versus-copy\n",
      "  from ipykernel import kernelapp as app\n"
     ]
    },
    {
     "data": {
      "text/html": [
       "<div>\n",
       "<table border=\"1\" class=\"dataframe\">\n",
       "  <thead>\n",
       "    <tr style=\"text-align: right;\">\n",
       "      <th></th>\n",
       "      <th>title</th>\n",
       "      <th>year</th>\n",
       "      <th>country</th>\n",
       "      <th>date</th>\n",
       "      <th>month_of_year</th>\n",
       "      <th>day_of_month</th>\n",
       "    </tr>\n",
       "  </thead>\n",
       "  <tbody>\n",
       "    <tr>\n",
       "      <th>57547</th>\n",
       "      <td>Christmas in July</td>\n",
       "      <td>1940</td>\n",
       "      <td>USA</td>\n",
       "      <td>1940-10-18</td>\n",
       "      <td>10</td>\n",
       "      <td>18</td>\n",
       "    </tr>\n",
       "    <tr>\n",
       "      <th>57506</th>\n",
       "      <td>Christmas Eve</td>\n",
       "      <td>1947</td>\n",
       "      <td>USA</td>\n",
       "      <td>1947-10-31</td>\n",
       "      <td>10</td>\n",
       "      <td>31</td>\n",
       "    </tr>\n",
       "    <tr>\n",
       "      <th>47876</th>\n",
       "      <td>Bush Christmas</td>\n",
       "      <td>1947</td>\n",
       "      <td>Finland</td>\n",
       "      <td>1948-10-22</td>\n",
       "      <td>10</td>\n",
       "      <td>22</td>\n",
       "    </tr>\n",
       "    <tr>\n",
       "      <th>388206</th>\n",
       "      <td>White Christmas</td>\n",
       "      <td>1954</td>\n",
       "      <td>USA</td>\n",
       "      <td>1954-10-14</td>\n",
       "      <td>10</td>\n",
       "      <td>14</td>\n",
       "    </tr>\n",
       "    <tr>\n",
       "      <th>38523</th>\n",
       "      <td>Black Christmas</td>\n",
       "      <td>1974</td>\n",
       "      <td>Canada</td>\n",
       "      <td>1974-10-11</td>\n",
       "      <td>10</td>\n",
       "      <td>11</td>\n",
       "    </tr>\n",
       "    <tr>\n",
       "      <th>38525</th>\n",
       "      <td>Black Christmas</td>\n",
       "      <td>1974</td>\n",
       "      <td>UK</td>\n",
       "      <td>1975-10-12</td>\n",
       "      <td>10</td>\n",
       "      <td>12</td>\n",
       "    </tr>\n",
       "    <tr>\n",
       "      <th>38526</th>\n",
       "      <td>Black Christmas</td>\n",
       "      <td>1974</td>\n",
       "      <td>West Germany</td>\n",
       "      <td>1975-10-24</td>\n",
       "      <td>10</td>\n",
       "      <td>24</td>\n",
       "    </tr>\n",
       "    <tr>\n",
       "      <th>202356</th>\n",
       "      <td>Merry Christmas Mr. Lawrence</td>\n",
       "      <td>1983</td>\n",
       "      <td>Finland</td>\n",
       "      <td>1983-10-14</td>\n",
       "      <td>10</td>\n",
       "      <td>14</td>\n",
       "    </tr>\n",
       "    <tr>\n",
       "      <th>338722</th>\n",
       "      <td>The Nightmare Before Christmas</td>\n",
       "      <td>1993</td>\n",
       "      <td>USA</td>\n",
       "      <td>1993-10-29</td>\n",
       "      <td>10</td>\n",
       "      <td>29</td>\n",
       "    </tr>\n",
       "    <tr>\n",
       "      <th>338724</th>\n",
       "      <td>The Nightmare Before Christmas</td>\n",
       "      <td>1993</td>\n",
       "      <td>Japan</td>\n",
       "      <td>1994-10-15</td>\n",
       "      <td>10</td>\n",
       "      <td>15</td>\n",
       "    </tr>\n",
       "    <tr>\n",
       "      <th>338725</th>\n",
       "      <td>The Nightmare Before Christmas</td>\n",
       "      <td>1993</td>\n",
       "      <td>Argentina</td>\n",
       "      <td>1994-10-27</td>\n",
       "      <td>10</td>\n",
       "      <td>27</td>\n",
       "    </tr>\n",
       "    <tr>\n",
       "      <th>291651</th>\n",
       "      <td>Surviving Christmas</td>\n",
       "      <td>2004</td>\n",
       "      <td>USA</td>\n",
       "      <td>2004-10-22</td>\n",
       "      <td>10</td>\n",
       "      <td>22</td>\n",
       "    </tr>\n",
       "    <tr>\n",
       "      <th>1004</th>\n",
       "      <td>12 Dogs of Christmas: Great Puppy Rescue</td>\n",
       "      <td>2012</td>\n",
       "      <td>USA</td>\n",
       "      <td>2012-10-09</td>\n",
       "      <td>10</td>\n",
       "      <td>9</td>\n",
       "    </tr>\n",
       "    <tr>\n",
       "      <th>57519</th>\n",
       "      <td>Christmas Miracle</td>\n",
       "      <td>2012</td>\n",
       "      <td>Canada</td>\n",
       "      <td>2012-10-12</td>\n",
       "      <td>10</td>\n",
       "      <td>12</td>\n",
       "    </tr>\n",
       "    <tr>\n",
       "      <th>57561</th>\n",
       "      <td>Christmas with a Capital C</td>\n",
       "      <td>2011</td>\n",
       "      <td>Germany</td>\n",
       "      <td>2012-10-15</td>\n",
       "      <td>10</td>\n",
       "      <td>15</td>\n",
       "    </tr>\n",
       "    <tr>\n",
       "      <th>202362</th>\n",
       "      <td>Merry F@#$ing Christmas</td>\n",
       "      <td>2012</td>\n",
       "      <td>USA</td>\n",
       "      <td>2012-10-31</td>\n",
       "      <td>10</td>\n",
       "      <td>31</td>\n",
       "    </tr>\n",
       "    <tr>\n",
       "      <th>279421</th>\n",
       "      <td>So This Is Christmas</td>\n",
       "      <td>2013</td>\n",
       "      <td>USA</td>\n",
       "      <td>2013-10-01</td>\n",
       "      <td>10</td>\n",
       "      <td>1</td>\n",
       "    </tr>\n",
       "    <tr>\n",
       "      <th>147625</th>\n",
       "      <td>Ira Finkelstein's Christmas</td>\n",
       "      <td>2012</td>\n",
       "      <td>USA</td>\n",
       "      <td>2013-10-29</td>\n",
       "      <td>10</td>\n",
       "      <td>29</td>\n",
       "    </tr>\n",
       "    <tr>\n",
       "      <th>7358</th>\n",
       "      <td>A Magic Christmas</td>\n",
       "      <td>2014</td>\n",
       "      <td>USA</td>\n",
       "      <td>2014-10-28</td>\n",
       "      <td>10</td>\n",
       "      <td>28</td>\n",
       "    </tr>\n",
       "    <tr>\n",
       "      <th>308486</th>\n",
       "      <td>The Christmas Pearl</td>\n",
       "      <td>2015</td>\n",
       "      <td>USA</td>\n",
       "      <td>2015-10-01</td>\n",
       "      <td>10</td>\n",
       "      <td>1</td>\n",
       "    </tr>\n",
       "    <tr>\n",
       "      <th>358882</th>\n",
       "      <td>The Wizard's Christmas II: Return of the Snow ...</td>\n",
       "      <td>2015</td>\n",
       "      <td>Canada</td>\n",
       "      <td>2015-10-16</td>\n",
       "      <td>10</td>\n",
       "      <td>16</td>\n",
       "    </tr>\n",
       "    <tr>\n",
       "      <th>80944</th>\n",
       "      <td>Dismembering Christmas</td>\n",
       "      <td>2015</td>\n",
       "      <td>USA</td>\n",
       "      <td>2015-10-31</td>\n",
       "      <td>10</td>\n",
       "      <td>31</td>\n",
       "    </tr>\n",
       "  </tbody>\n",
       "</table>\n",
       "</div>"
      ],
      "text/plain": [
       "                                                    title  year       country  \\\n",
       "57547                                   Christmas in July  1940           USA   \n",
       "57506                                       Christmas Eve  1947           USA   \n",
       "47876                                      Bush Christmas  1947       Finland   \n",
       "388206                                    White Christmas  1954           USA   \n",
       "38523                                     Black Christmas  1974        Canada   \n",
       "38525                                     Black Christmas  1974            UK   \n",
       "38526                                     Black Christmas  1974  West Germany   \n",
       "202356                       Merry Christmas Mr. Lawrence  1983       Finland   \n",
       "338722                     The Nightmare Before Christmas  1993           USA   \n",
       "338724                     The Nightmare Before Christmas  1993         Japan   \n",
       "338725                     The Nightmare Before Christmas  1993     Argentina   \n",
       "291651                                Surviving Christmas  2004           USA   \n",
       "1004             12 Dogs of Christmas: Great Puppy Rescue  2012           USA   \n",
       "57519                                   Christmas Miracle  2012        Canada   \n",
       "57561                          Christmas with a Capital C  2011       Germany   \n",
       "202362                            Merry F@#$ing Christmas  2012           USA   \n",
       "279421                               So This Is Christmas  2013           USA   \n",
       "147625                        Ira Finkelstein's Christmas  2012           USA   \n",
       "7358                                    A Magic Christmas  2014           USA   \n",
       "308486                                The Christmas Pearl  2015           USA   \n",
       "358882  The Wizard's Christmas II: Return of the Snow ...  2015        Canada   \n",
       "80944                              Dismembering Christmas  2015           USA   \n",
       "\n",
       "             date  month_of_year  day_of_month  \n",
       "57547  1940-10-18             10            18  \n",
       "57506  1947-10-31             10            31  \n",
       "47876  1948-10-22             10            22  \n",
       "388206 1954-10-14             10            14  \n",
       "38523  1974-10-11             10            11  \n",
       "38525  1975-10-12             10            12  \n",
       "38526  1975-10-24             10            24  \n",
       "202356 1983-10-14             10            14  \n",
       "338722 1993-10-29             10            29  \n",
       "338724 1994-10-15             10            15  \n",
       "338725 1994-10-27             10            27  \n",
       "291651 2004-10-22             10            22  \n",
       "1004   2012-10-09             10             9  \n",
       "57519  2012-10-12             10            12  \n",
       "57561  2012-10-15             10            15  \n",
       "202362 2012-10-31             10            31  \n",
       "279421 2013-10-01             10             1  \n",
       "147625 2013-10-29             10            29  \n",
       "7358   2014-10-28             10            28  \n",
       "308486 2015-10-01             10             1  \n",
       "358882 2015-10-16             10            16  \n",
       "80944  2015-10-31             10            31  "
      ]
     },
     "execution_count": 43,
     "metadata": {},
     "output_type": "execute_result"
    }
   ],
   "source": [
    "#show names of all movies with christmas in title released in october\n",
    "xmas['day_of_month'] = xmas.date.dt.day\n",
    "xmas[xmas.month_of_year == 10].sort_values('date')"
   ]
  },
  {
   "cell_type": "code",
   "execution_count": 44,
   "metadata": {
    "collapsed": false
   },
   "outputs": [
    {
     "data": {
      "text/html": [
       "<div>\n",
       "<table border=\"1\" class=\"dataframe\">\n",
       "  <thead>\n",
       "    <tr style=\"text-align: right;\">\n",
       "      <th></th>\n",
       "      <th>title</th>\n",
       "      <th>year</th>\n",
       "      <th>country</th>\n",
       "      <th>date</th>\n",
       "      <th>month_of_year</th>\n",
       "      <th>day_of_month</th>\n",
       "    </tr>\n",
       "  </thead>\n",
       "  <tbody>\n",
       "    <tr>\n",
       "      <th>57511</th>\n",
       "      <td>Christmas Holiday</td>\n",
       "      <td>1944</td>\n",
       "      <td>USA</td>\n",
       "      <td>1944-06-30</td>\n",
       "      <td>6</td>\n",
       "      <td>30</td>\n",
       "    </tr>\n",
       "    <tr>\n",
       "      <th>57542</th>\n",
       "      <td>Christmas in Connecticut</td>\n",
       "      <td>1945</td>\n",
       "      <td>USA</td>\n",
       "      <td>1945-08-11</td>\n",
       "      <td>8</td>\n",
       "      <td>11</td>\n",
       "    </tr>\n",
       "    <tr>\n",
       "      <th>202354</th>\n",
       "      <td>Merry Christmas Mr. Lawrence</td>\n",
       "      <td>1983</td>\n",
       "      <td>USA</td>\n",
       "      <td>1983-09-02</td>\n",
       "      <td>9</td>\n",
       "      <td>2</td>\n",
       "    </tr>\n",
       "    <tr>\n",
       "      <th>57520</th>\n",
       "      <td>Christmas Nightmare</td>\n",
       "      <td>2001</td>\n",
       "      <td>USA</td>\n",
       "      <td>2001-05-01</td>\n",
       "      <td>5</td>\n",
       "      <td>1</td>\n",
       "    </tr>\n",
       "    <tr>\n",
       "      <th>222474</th>\n",
       "      <td>Nothing for Christmas</td>\n",
       "      <td>2011</td>\n",
       "      <td>USA</td>\n",
       "      <td>2011-02-02</td>\n",
       "      <td>2</td>\n",
       "      <td>2</td>\n",
       "    </tr>\n",
       "    <tr>\n",
       "      <th>5452</th>\n",
       "      <td>A Cadaver Christmas</td>\n",
       "      <td>2011</td>\n",
       "      <td>USA</td>\n",
       "      <td>2011-04-02</td>\n",
       "      <td>4</td>\n",
       "      <td>2</td>\n",
       "    </tr>\n",
       "    <tr>\n",
       "      <th>164202</th>\n",
       "      <td>Krampus: The Christmas Devil</td>\n",
       "      <td>2013</td>\n",
       "      <td>USA</td>\n",
       "      <td>2013-08-17</td>\n",
       "      <td>8</td>\n",
       "      <td>17</td>\n",
       "    </tr>\n",
       "    <tr>\n",
       "      <th>190762</th>\n",
       "      <td>Love, Guns &amp; Christmas</td>\n",
       "      <td>2015</td>\n",
       "      <td>USA</td>\n",
       "      <td>2015-07-04</td>\n",
       "      <td>7</td>\n",
       "      <td>4</td>\n",
       "    </tr>\n",
       "  </tbody>\n",
       "</table>\n",
       "</div>"
      ],
      "text/plain": [
       "                               title  year country       date  month_of_year  \\\n",
       "57511              Christmas Holiday  1944     USA 1944-06-30              6   \n",
       "57542       Christmas in Connecticut  1945     USA 1945-08-11              8   \n",
       "202354  Merry Christmas Mr. Lawrence  1983     USA 1983-09-02              9   \n",
       "57520            Christmas Nightmare  2001     USA 2001-05-01              5   \n",
       "222474         Nothing for Christmas  2011     USA 2011-02-02              2   \n",
       "5452             A Cadaver Christmas  2011     USA 2011-04-02              4   \n",
       "164202  Krampus: The Christmas Devil  2013     USA 2013-08-17              8   \n",
       "190762        Love, Guns & Christmas  2015     USA 2015-07-04              7   \n",
       "\n",
       "        day_of_month  \n",
       "57511             30  \n",
       "57542             11  \n",
       "202354             2  \n",
       "57520              1  \n",
       "222474             2  \n",
       "5452               2  \n",
       "164202            17  \n",
       "190762             4  "
      ]
     },
     "execution_count": 44,
     "metadata": {},
     "output_type": "execute_result"
    }
   ],
   "source": [
    "# movies with Christmas in title, released in USA between February and September\n",
    "xmas[(xmas.title.str.contains('Christmas')) & (xmas.month_of_year > 1) & (xmas.month_of_year < 10) & (xmas.country == 'USA')].sort_values('date')"
   ]
  },
  {
   "cell_type": "code",
   "execution_count": 45,
   "metadata": {
    "collapsed": false
   },
   "outputs": [
    {
     "ename": "SyntaxError",
     "evalue": "invalid syntax (<ipython-input-45-99032521c94e>, line 2)",
     "output_type": "error",
     "traceback": [
      "\u001b[1;36m  File \u001b[1;32m\"<ipython-input-45-99032521c94e>\"\u001b[1;36m, line \u001b[1;32m2\u001b[0m\n\u001b[1;33m    xmas.month_of_year = xmas.month_of_year.dt.\u001b[0m\n\u001b[1;37m                                               ^\u001b[0m\n\u001b[1;31mSyntaxError\u001b[0m\u001b[1;31m:\u001b[0m invalid syntax\n"
     ]
    }
   ],
   "source": [
    "#change month_of_year from number to name\n",
    "xmas.month_of_year = xmas.month_of_year.dt."
   ]
  },
  {
   "cell_type": "code",
   "execution_count": null,
   "metadata": {
    "collapsed": true
   },
   "outputs": [],
   "source": []
  }
 ],
 "metadata": {
  "kernelspec": {
   "display_name": "Python 3",
   "language": "python",
   "name": "python3"
  },
  "language_info": {
   "codemirror_mode": {
    "name": "ipython",
    "version": 3
   },
   "file_extension": ".py",
   "mimetype": "text/x-python",
   "name": "python",
   "nbconvert_exporter": "python",
   "pygments_lexer": "ipython3",
   "version": "3.4.3"
  }
 },
 "nbformat": 4,
 "nbformat_minor": 0
}
